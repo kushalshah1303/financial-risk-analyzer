{
 "cells": [
  {
   "cell_type": "code",
   "execution_count": 2,
   "id": "97b67413-8493-4ef1-a0f2-b6676644252e",
   "metadata": {},
   "outputs": [],
   "source": [
    "#importing libraries, including langchain libraries\n",
    "#langchain explanation:\n",
    "#LangChain is a high-level framework designed to simplify interaction with LLMs by abstracting prompts,\n",
    "#memory, tool usage, and chaining steps together. It’s especially useful for building LLM-powered applications.\n",
    "\n",
    "import os\n",
    "import pandas as pd\n",
    "from dotenv import load_dotenv\n",
    "\n",
    "# PromptTemplate allows us to define and manage prompt strings dynamically with variable placeholders.\n",
    "# This is better than manually formatting strings.\n",
    "from langchain.prompts import PromptTemplate\n",
    "\n",
    "#this import is used to split text into chunks to improve natural language processing\n",
    "from langchain.text_splitter import RecursiveCharacterTextSplitter\n",
    "\n",
    "# This is a LangChain-compatible wrapper that allows calling Groq-hosted LLMs - we used Mistral\n",
    "from langchain_groq import ChatGroq\n",
    "\n",
    "from tqdm import tqdm\n",
    "import json\n",
    "import re"
   ]
  },
  {
   "cell_type": "code",
   "execution_count": 3,
   "id": "1efe07c7-507f-419b-a8ae-986b51ec6b9f",
   "metadata": {},
   "outputs": [],
   "source": [
    "#here we are loading our environment variables - we generated an API Key by creating an account on Groq\n",
    "#we will not upload this to Git to maintain privacy and misuse\n",
    "\n",
    "load_dotenv()\n",
    "api_key = os.getenv(\"GROQ_API_KEY\")"
   ]
  },
  {
   "cell_type": "code",
   "execution_count": 4,
   "id": "87488a76-3db2-4a7f-8faf-f1ec150ed137",
   "metadata": {},
   "outputs": [],
   "source": [
    "#using pandas dataframe to load the parquet file from our previous step\n",
    "df = pd.read_parquet(r\"C:\\Users\\kusha\\Desktop\\financial-risk-analyzer\\data\\10K_extracted_sections.parquet\")"
   ]
  },
  {
   "cell_type": "code",
   "execution_count": 5,
   "id": "a2ed8519-5603-4bd7-a5d3-fe31535d4ae1",
   "metadata": {},
   "outputs": [],
   "source": [
    "#creating a list of 5 set risk categories that we want our LLM to classify\n",
    "narrative_list = [\n",
    "    \"Legal & Regulatory\",\n",
    "    \"Financial Distress\",\n",
    "    \"Supply Chain\",\n",
    "    \"Executive Turnover\",\n",
    "    \"Market Dependency\"\n",
    "]"
   ]
  },
  {
   "cell_type": "code",
   "execution_count": 6,
   "id": "5708be18-afdc-4eff-88e6-e666adbcb71e",
   "metadata": {},
   "outputs": [],
   "source": [
    "#here we are creating a prompt template that will be used by our LLM model\n",
    "#this essentially are instructions to our model telling it what it should be doing\n",
    "#here we add explicit conditions to ensure that the output only contains the json format and not any other explanation\n",
    "#this ensures the next steps of our code work correctly, and receive expected input\n",
    "\n",
    "prompt_template = PromptTemplate.from_template(\"\"\"\n",
    "You are a financial risk analyst.\n",
    "\n",
    "Given the following 10-K sections:\n",
    "- Item 1A (Risk Factors)\n",
    "- Item 7 (Management Discussion & Analysis)\n",
    "\n",
    "Your task is to:\n",
    "1. Classify the overall risk into ONE of the following categories:\n",
    "{narratives}\n",
    "\n",
    "2. Assign a risk score from 1 to 5, where 5 is the highest risk.\n",
    "\n",
    "Only return valid JSON. Do not include explanations, reasoning, or any non-JSON text.\n",
    "\n",
    "JSON format:\n",
    "{{\n",
    "  \"narrative_category\": \"...\",\n",
    "  \"risk_score\": 3\n",
    "}}\n",
    "\n",
    "Text:\n",
    "{content}\n",
    "\"\"\")"
   ]
  },
  {
   "cell_type": "code",
   "execution_count": 7,
   "id": "2ccfd60d-d528-4e16-8f14-012c13ac57d9",
   "metadata": {},
   "outputs": [],
   "source": [
    "# Combining our extracted Item 1A and Item 7 sections into a single string for input to the LLM\n",
    "\n",
    "def chunk_text(text1, text2):\n",
    "    combined = (text1 or \"\") + \"\\n\\n\" + (text2 or \"\")\n",
    "    return [combined[:4000]]  # we're splitting our text to maximum 4k characters since our LLM has a limit of 8000\n",
    "\n",
    "#this essentially just sends our data in chunks to the LLM"
   ]
  },
  {
   "cell_type": "code",
   "execution_count": 8,
   "id": "9e4914ad-3abf-4c38-80fe-7df18398beb1",
   "metadata": {},
   "outputs": [],
   "source": [
    "#here we are initializing our model with no randomness, to ensure reproducibility\n",
    "llm = ChatGroq(temperature=0, model_name=\"llama3-70b-8192\")"
   ]
  },
  {
   "cell_type": "code",
   "execution_count": 9,
   "id": "989a4b27-87f2-46db-a487-3bb82a71fb91",
   "metadata": {},
   "outputs": [],
   "source": [
    "#here we are defining a function that will extract information from our json response\n",
    "#if we dont find any response, it will respond with an error\n",
    "def extract_json_from_response(text):\n",
    "    match = re.search(r\"```(?:json)?\\s*(\\{.*?\\})\\s*```\", text, re.DOTALL)\n",
    "    if match:\n",
    "        return json.loads(match.group(1))\n",
    "    match = re.search(r\"(\\{.*\\})\", text, re.DOTALL)\n",
    "    if match:\n",
    "        return json.loads(match.group(1))\n",
    "    raise ValueError(\"No valid JSON found in response\")\n"
   ]
  },
  {
   "cell_type": "code",
   "execution_count": 10,
   "id": "d210ed1e-8655-498a-a23e-ceda6f3fd53f",
   "metadata": {},
   "outputs": [
    {
     "name": "stdout",
     "output_type": "stream",
     "text": [
      "✅ Total rows with valid Item 1A or 7: 970\n"
     ]
    },
    {
     "name": "stderr",
     "output_type": "stream",
     "text": [
      "  0%|          | 0/970 [00:00<?, ?it/s]"
     ]
    },
    {
     "name": "stdout",
     "output_type": "stream",
     "text": [
      "\n",
      "🔍 Processing row 0 | Ticker: A, Year: 2024\n",
      "🔹 1 chunk(s) generated\n",
      "🧠 Invoking LLM on chunk 1/1...\n"
     ]
    },
    {
     "name": "stderr",
     "output_type": "stream",
     "text": [
      "C:\\Users\\kusha\\AppData\\Local\\Temp\\ipykernel_23048\\3080012028.py:47: LangChainDeprecationWarning: The method `BaseChatModel.predict` was deprecated in langchain-core 0.1.7 and will be removed in 1.0. Use :meth:`~invoke` instead.\n",
      "  response = llm.predict(prompt)\n",
      "  0%|          | 1/970 [00:00<14:43,  1.10it/s]"
     ]
    },
    {
     "name": "stdout",
     "output_type": "stream",
     "text": [
      "✅ Completed row 0 | Risk Score: 4, Narrative: Legal & Regulatory\n",
      "\n",
      "🔍 Processing row 2 | Ticker: AAL, Year: 2025\n",
      "🔹 1 chunk(s) generated\n",
      "🧠 Invoking LLM on chunk 1/1...\n"
     ]
    },
    {
     "name": "stderr",
     "output_type": "stream",
     "text": [
      "  0%|          | 2/970 [00:01<11:03,  1.46it/s]"
     ]
    },
    {
     "name": "stdout",
     "output_type": "stream",
     "text": [
      "✅ Completed row 2 | Risk Score: 4, Narrative: Financial Distress\n",
      "\n",
      "🔍 Processing row 4 | Ticker: AAP, Year: 2025\n",
      "🔹 1 chunk(s) generated\n",
      "🧠 Invoking LLM on chunk 1/1...\n"
     ]
    },
    {
     "name": "stderr",
     "output_type": "stream",
     "text": [
      "  0%|          | 3/970 [00:01<09:52,  1.63it/s]"
     ]
    },
    {
     "name": "stdout",
     "output_type": "stream",
     "text": [
      "✅ Completed row 4 | Risk Score: 4, Narrative: Financial Distress\n",
      "\n",
      "🔍 Processing row 6 | Ticker: AAT, Year: 2025\n",
      "🔹 1 chunk(s) generated\n",
      "🧠 Invoking LLM on chunk 1/1...\n"
     ]
    },
    {
     "name": "stderr",
     "output_type": "stream",
     "text": [
      "  0%|          | 4/970 [00:02<09:15,  1.74it/s]"
     ]
    },
    {
     "name": "stdout",
     "output_type": "stream",
     "text": [
      "✅ Completed row 6 | Risk Score: 4, Narrative: Financial Distress\n",
      "\n",
      "🔍 Processing row 9 | Ticker: ABG, Year: 2025\n",
      "🔹 1 chunk(s) generated\n",
      "🧠 Invoking LLM on chunk 1/1...\n"
     ]
    },
    {
     "name": "stderr",
     "output_type": "stream",
     "text": [
      "  1%|          | 5/970 [00:02<08:50,  1.82it/s]"
     ]
    },
    {
     "name": "stdout",
     "output_type": "stream",
     "text": [
      "✅ Completed row 9 | Risk Score: 4, Narrative: Legal & Regulatory\n",
      "\n",
      "🔍 Processing row 10 | Ticker: ABM, Year: 2024\n",
      "🔹 1 chunk(s) generated\n",
      "🧠 Invoking LLM on chunk 1/1...\n"
     ]
    },
    {
     "name": "stderr",
     "output_type": "stream",
     "text": [
      "  1%|          | 6/970 [00:13<1:03:44,  3.97s/it]"
     ]
    },
    {
     "name": "stdout",
     "output_type": "stream",
     "text": [
      "✅ Completed row 10 | Risk Score: 5, Narrative: Legal & Regulatory\n",
      "\n",
      "🔍 Processing row 11 | Ticker: ABNB, Year: 2025\n",
      "🔹 1 chunk(s) generated\n",
      "🧠 Invoking LLM on chunk 1/1...\n"
     ]
    },
    {
     "name": "stderr",
     "output_type": "stream",
     "text": [
      "  1%|          | 7/970 [00:23<1:33:22,  5.82s/it]"
     ]
    },
    {
     "name": "stdout",
     "output_type": "stream",
     "text": [
      "✅ Completed row 11 | Risk Score: 4, Narrative: Legal & Regulatory\n",
      "\n",
      "🔍 Processing row 12 | Ticker: ABR, Year: 2025\n",
      "🔹 1 chunk(s) generated\n",
      "🧠 Invoking LLM on chunk 1/1...\n"
     ]
    },
    {
     "name": "stderr",
     "output_type": "stream",
     "text": [
      "  1%|          | 8/970 [00:32<1:52:27,  7.01s/it]"
     ]
    },
    {
     "name": "stdout",
     "output_type": "stream",
     "text": [
      "✅ Completed row 12 | Risk Score: 5, Narrative: Financial Distress\n",
      "\n",
      "🔍 Processing row 13 | Ticker: ABT, Year: 2025\n",
      "🔹 1 chunk(s) generated\n",
      "🧠 Invoking LLM on chunk 1/1...\n"
     ]
    },
    {
     "name": "stderr",
     "output_type": "stream",
     "text": [
      "  1%|          | 9/970 [00:43<2:10:23,  8.14s/it]"
     ]
    },
    {
     "name": "stdout",
     "output_type": "stream",
     "text": [
      "✅ Completed row 13 | Risk Score: 4, Narrative: Supply Chain\n",
      "\n",
      "🔍 Processing row 14 | Ticker: ACA, Year: 2025\n",
      "🔹 1 chunk(s) generated\n",
      "🧠 Invoking LLM on chunk 1/1...\n"
     ]
    },
    {
     "name": "stderr",
     "output_type": "stream",
     "text": [
      "  1%|          | 10/970 [00:47<1:52:30,  7.03s/it]"
     ]
    },
    {
     "name": "stdout",
     "output_type": "stream",
     "text": [
      "✅ Completed row 14 | Risk Score: 4, Narrative: Financial Distress\n",
      "\n",
      "🔍 Processing row 15 | Ticker: ACAD, Year: 2025\n",
      "🔹 1 chunk(s) generated\n",
      "🧠 Invoking LLM on chunk 1/1...\n"
     ]
    },
    {
     "name": "stderr",
     "output_type": "stream",
     "text": [
      "  1%|          | 11/970 [01:00<2:20:34,  8.80s/it]"
     ]
    },
    {
     "name": "stdout",
     "output_type": "stream",
     "text": [
      "✅ Completed row 15 | Risk Score: 5, Narrative: Legal & Regulatory\n",
      "\n",
      "🔍 Processing row 16 | Ticker: ACGL, Year: 2025\n",
      "🔹 1 chunk(s) generated\n",
      "🧠 Invoking LLM on chunk 1/1...\n"
     ]
    },
    {
     "name": "stderr",
     "output_type": "stream",
     "text": [
      "  1%|          | 12/970 [01:13<2:38:54,  9.95s/it]"
     ]
    },
    {
     "name": "stdout",
     "output_type": "stream",
     "text": [
      "✅ Completed row 16 | Risk Score: 4, Narrative: Market Dependency\n",
      "\n",
      "🔍 Processing row 17 | Ticker: ACHC, Year: 2025\n",
      "🔹 1 chunk(s) generated\n",
      "🧠 Invoking LLM on chunk 1/1...\n"
     ]
    },
    {
     "name": "stderr",
     "output_type": "stream",
     "text": [
      "  1%|▏         | 13/970 [01:18<2:17:21,  8.61s/it]"
     ]
    },
    {
     "name": "stdout",
     "output_type": "stream",
     "text": [
      "✅ Completed row 17 | Risk Score: 4, Narrative: Legal & Regulatory\n",
      "\n",
      "🔍 Processing row 18 | Ticker: ACI, Year: 2025\n",
      "🔹 1 chunk(s) generated\n",
      "🧠 Invoking LLM on chunk 1/1...\n"
     ]
    },
    {
     "name": "stderr",
     "output_type": "stream",
     "text": [
      "  1%|▏         | 14/970 [01:30<2:31:58,  9.54s/it]"
     ]
    },
    {
     "name": "stdout",
     "output_type": "stream",
     "text": [
      "✅ Completed row 18 | Risk Score: 4, Narrative: Financial Distress\n",
      "\n",
      "🔍 Processing row 21 | Ticker: ACM, Year: 2024\n",
      "🔹 1 chunk(s) generated\n",
      "🧠 Invoking LLM on chunk 1/1...\n"
     ]
    },
    {
     "name": "stderr",
     "output_type": "stream",
     "text": [
      "  2%|▏         | 15/970 [01:41<2:37:05,  9.87s/it]"
     ]
    },
    {
     "name": "stdout",
     "output_type": "stream",
     "text": [
      "✅ Completed row 21 | Risk Score: 4, Narrative: Market Dependency\n",
      "\n",
      "🔍 Processing row 22 | Ticker: ACN, Year: 2024\n",
      "🔹 1 chunk(s) generated\n",
      "🧠 Invoking LLM on chunk 1/1...\n"
     ]
    },
    {
     "name": "stderr",
     "output_type": "stream",
     "text": [
      "  2%|▏         | 16/970 [01:52<2:41:41, 10.17s/it]"
     ]
    },
    {
     "name": "stdout",
     "output_type": "stream",
     "text": [
      "✅ Completed row 22 | Risk Score: 5, Narrative: Legal & Regulatory\n",
      "\n",
      "🔍 Processing row 23 | Ticker: ACT, Year: 2025\n",
      "🔹 1 chunk(s) generated\n",
      "🧠 Invoking LLM on chunk 1/1...\n"
     ]
    },
    {
     "name": "stderr",
     "output_type": "stream",
     "text": [
      "  2%|▏         | 17/970 [02:03<2:48:41, 10.62s/it]"
     ]
    },
    {
     "name": "stdout",
     "output_type": "stream",
     "text": [
      "✅ Completed row 23 | Risk Score: 4, Narrative: Financial Distress\n",
      "\n",
      "🔍 Processing row 26 | Ticker: ADEA, Year: 2025\n",
      "🔹 1 chunk(s) generated\n",
      "🧠 Invoking LLM on chunk 1/1...\n"
     ]
    },
    {
     "name": "stderr",
     "output_type": "stream",
     "text": [
      "  2%|▏         | 18/970 [02:15<2:53:17, 10.92s/it]"
     ]
    },
    {
     "name": "stdout",
     "output_type": "stream",
     "text": [
      "✅ Completed row 26 | Risk Score: 5, Narrative: Legal & Regulatory\n",
      "\n",
      "🔍 Processing row 27 | Ticker: ADI, Year: 2024\n",
      "🔹 1 chunk(s) generated\n",
      "🧠 Invoking LLM on chunk 1/1...\n"
     ]
    },
    {
     "name": "stderr",
     "output_type": "stream",
     "text": [
      "  2%|▏         | 19/970 [02:18<2:17:56,  8.70s/it]"
     ]
    },
    {
     "name": "stdout",
     "output_type": "stream",
     "text": [
      "✅ Completed row 27 | Risk Score: 4, Narrative: Legal & Regulatory\n",
      "\n",
      "🔍 Processing row 28 | Ticker: ADM, Year: 2025\n",
      "🔹 1 chunk(s) generated\n",
      "🧠 Invoking LLM on chunk 1/1...\n"
     ]
    },
    {
     "name": "stderr",
     "output_type": "stream",
     "text": [
      "  2%|▏         | 20/970 [02:31<2:36:15,  9.87s/it]"
     ]
    },
    {
     "name": "stdout",
     "output_type": "stream",
     "text": [
      "✅ Completed row 28 | Risk Score: 4, Narrative: Legal & Regulatory\n",
      "\n",
      "🔍 Processing row 30 | Ticker: ADNT, Year: 2024\n",
      "🔹 1 chunk(s) generated\n",
      "🧠 Invoking LLM on chunk 1/1...\n"
     ]
    },
    {
     "name": "stderr",
     "output_type": "stream",
     "text": [
      "  2%|▏         | 21/970 [02:43<2:44:41, 10.41s/it]"
     ]
    },
    {
     "name": "stdout",
     "output_type": "stream",
     "text": [
      "✅ Completed row 30 | Risk Score: 5, Narrative: Financial Distress\n",
      "\n",
      "🔍 Processing row 31 | Ticker: ADP, Year: 2024\n",
      "🔹 1 chunk(s) generated\n",
      "🧠 Invoking LLM on chunk 1/1...\n"
     ]
    },
    {
     "name": "stderr",
     "output_type": "stream",
     "text": [
      "  2%|▏         | 22/970 [02:52<2:40:47, 10.18s/it]"
     ]
    },
    {
     "name": "stdout",
     "output_type": "stream",
     "text": [
      "✅ Completed row 31 | Risk Score: 5, Narrative: Legal & Regulatory\n",
      "\n",
      "🔍 Processing row 36 | Ticker: AEO, Year: 2025\n",
      "🔹 1 chunk(s) generated\n",
      "🧠 Invoking LLM on chunk 1/1...\n"
     ]
    },
    {
     "name": "stderr",
     "output_type": "stream",
     "text": [
      "  2%|▏         | 23/970 [02:55<2:04:32,  7.89s/it]"
     ]
    },
    {
     "name": "stdout",
     "output_type": "stream",
     "text": [
      "✅ Completed row 36 | Risk Score: 4, Narrative: Legal & Regulatory\n",
      "\n",
      "🔍 Processing row 38 | Ticker: AES, Year: 2025\n",
      "🔹 1 chunk(s) generated\n",
      "🧠 Invoking LLM on chunk 1/1...\n"
     ]
    },
    {
     "name": "stderr",
     "output_type": "stream",
     "text": [
      "  2%|▏         | 24/970 [03:07<2:22:23,  9.03s/it]"
     ]
    },
    {
     "name": "stdout",
     "output_type": "stream",
     "text": [
      "✅ Completed row 38 | Risk Score: 4, Narrative: Financial Distress\n",
      "\n",
      "🔍 Processing row 39 | Ticker: AESI, Year: 2025\n",
      "🔹 1 chunk(s) generated\n",
      "🧠 Invoking LLM on chunk 1/1...\n"
     ]
    },
    {
     "name": "stderr",
     "output_type": "stream",
     "text": [
      "  3%|▎         | 25/970 [03:18<2:35:06,  9.85s/it]"
     ]
    },
    {
     "name": "stdout",
     "output_type": "stream",
     "text": [
      "✅ Completed row 39 | Risk Score: 5, Narrative: Market Dependency\n",
      "\n",
      "🔍 Processing row 40 | Ticker: AFG, Year: 2025\n",
      "🔹 1 chunk(s) generated\n",
      "🧠 Invoking LLM on chunk 1/1...\n"
     ]
    },
    {
     "name": "stderr",
     "output_type": "stream",
     "text": [
      "  3%|▎         | 26/970 [03:29<2:38:43, 10.09s/it]"
     ]
    },
    {
     "name": "stdout",
     "output_type": "stream",
     "text": [
      "✅ Completed row 40 | Risk Score: 5, Narrative: Financial Distress\n",
      "\n",
      "🔍 Processing row 41 | Ticker: AFL, Year: 2025\n",
      "🔹 1 chunk(s) generated\n",
      "🧠 Invoking LLM on chunk 1/1...\n"
     ]
    },
    {
     "name": "stderr",
     "output_type": "stream",
     "text": [
      "  3%|▎         | 27/970 [03:39<2:40:48, 10.23s/it]"
     ]
    },
    {
     "name": "stdout",
     "output_type": "stream",
     "text": [
      "✅ Completed row 41 | Risk Score: 5, Narrative: Legal & Regulatory\n",
      "\n",
      "🔍 Processing row 42 | Ticker: AGCO, Year: 2025\n",
      "🔹 1 chunk(s) generated\n",
      "🧠 Invoking LLM on chunk 1/1...\n"
     ]
    },
    {
     "name": "stderr",
     "output_type": "stream",
     "text": [
      "  3%|▎         | 28/970 [03:43<2:09:15,  8.23s/it]"
     ]
    },
    {
     "name": "stdout",
     "output_type": "stream",
     "text": [
      "✅ Completed row 42 | Risk Score: 4, Narrative: Legal & Regulatory\n",
      "\n",
      "🔍 Processing row 43 | Ticker: AGO, Year: 2025\n",
      "🔹 1 chunk(s) generated\n",
      "🧠 Invoking LLM on chunk 1/1...\n"
     ]
    },
    {
     "name": "stderr",
     "output_type": "stream",
     "text": [
      "  3%|▎         | 29/970 [03:55<2:25:19,  9.27s/it]"
     ]
    },
    {
     "name": "stdout",
     "output_type": "stream",
     "text": [
      "✅ Completed row 43 | Risk Score: 4, Narrative: Financial Distress\n",
      "\n",
      "🔍 Processing row 44 | Ticker: AGYS, Year: 2025\n",
      "🔹 1 chunk(s) generated\n",
      "🧠 Invoking LLM on chunk 1/1...\n"
     ]
    },
    {
     "name": "stderr",
     "output_type": "stream",
     "text": [
      "  3%|▎         | 30/970 [04:05<2:31:40,  9.68s/it]"
     ]
    },
    {
     "name": "stdout",
     "output_type": "stream",
     "text": [
      "✅ Completed row 44 | Risk Score: 4, Narrative: Market Dependency\n",
      "\n",
      "🔍 Processing row 45 | Ticker: AHCO, Year: 2025\n",
      "🔹 1 chunk(s) generated\n",
      "🧠 Invoking LLM on chunk 1/1...\n"
     ]
    },
    {
     "name": "stderr",
     "output_type": "stream",
     "text": [
      "  3%|▎         | 31/970 [04:17<2:40:51, 10.28s/it]"
     ]
    },
    {
     "name": "stdout",
     "output_type": "stream",
     "text": [
      "✅ Completed row 45 | Risk Score: 4, Narrative: Legal & Regulatory\n",
      "\n",
      "🔍 Processing row 46 | Ticker: AHH, Year: 2025\n",
      "🔹 1 chunk(s) generated\n",
      "🧠 Invoking LLM on chunk 1/1...\n"
     ]
    },
    {
     "name": "stderr",
     "output_type": "stream",
     "text": [
      "  3%|▎         | 32/970 [04:30<2:52:01, 11.00s/it]"
     ]
    },
    {
     "name": "stdout",
     "output_type": "stream",
     "text": [
      "✅ Completed row 46 | Risk Score: 5, Narrative: Financial Distress\n",
      "\n",
      "🔍 Processing row 47 | Ticker: AIG, Year: 2025\n",
      "🔹 1 chunk(s) generated\n",
      "🧠 Invoking LLM on chunk 1/1...\n"
     ]
    },
    {
     "name": "stderr",
     "output_type": "stream",
     "text": [
      "  3%|▎         | 33/970 [04:42<2:55:26, 11.23s/it]"
     ]
    },
    {
     "name": "stdout",
     "output_type": "stream",
     "text": [
      "✅ Completed row 47 | Risk Score: 5, Narrative: Legal & Regulatory\n",
      "\n",
      "🔍 Processing row 49 | Ticker: AIR, Year: 2024\n",
      "🔹 1 chunk(s) generated\n",
      "🧠 Invoking LLM on chunk 1/1...\n"
     ]
    },
    {
     "name": "stderr",
     "output_type": "stream",
     "text": [
      "  4%|▎         | 34/970 [04:53<2:56:49, 11.34s/it]"
     ]
    },
    {
     "name": "stdout",
     "output_type": "stream",
     "text": [
      "✅ Completed row 49 | Risk Score: 5, Narrative: Legal & Regulatory\n",
      "\n",
      "🔍 Processing row 52 | Ticker: AJG, Year: 2025\n",
      "🔹 1 chunk(s) generated\n",
      "🧠 Invoking LLM on chunk 1/1...\n"
     ]
    },
    {
     "name": "stderr",
     "output_type": "stream",
     "text": [
      "  4%|▎         | 35/970 [05:04<2:53:27, 11.13s/it]"
     ]
    },
    {
     "name": "stdout",
     "output_type": "stream",
     "text": [
      "✅ Completed row 52 | Risk Score: 4, Narrative: Financial Distress\n",
      "\n",
      "🔍 Processing row 53 | Ticker: AKAM, Year: 2025\n",
      "🔹 1 chunk(s) generated\n",
      "🧠 Invoking LLM on chunk 1/1...\n"
     ]
    },
    {
     "name": "stderr",
     "output_type": "stream",
     "text": [
      "  4%|▎         | 36/970 [05:16<3:00:36, 11.60s/it]"
     ]
    },
    {
     "name": "stdout",
     "output_type": "stream",
     "text": [
      "✅ Completed row 53 | Risk Score: 4, Narrative: Legal & Regulatory\n",
      "\n",
      "🔍 Processing row 54 | Ticker: AKR, Year: 2025\n",
      "🔹 1 chunk(s) generated\n",
      "🧠 Invoking LLM on chunk 1/1...\n"
     ]
    },
    {
     "name": "stderr",
     "output_type": "stream",
     "text": [
      "  4%|▍         | 37/970 [05:28<3:00:42, 11.62s/it]"
     ]
    },
    {
     "name": "stdout",
     "output_type": "stream",
     "text": [
      "✅ Completed row 54 | Risk Score: 4, Narrative: Financial Distress\n",
      "\n",
      "🔍 Processing row 55 | Ticker: AL, Year: 2025\n",
      "🔹 1 chunk(s) generated\n",
      "🧠 Invoking LLM on chunk 1/1...\n"
     ]
    },
    {
     "name": "stderr",
     "output_type": "stream",
     "text": [
      "  4%|▍         | 38/970 [05:40<3:01:16, 11.67s/it]"
     ]
    },
    {
     "name": "stdout",
     "output_type": "stream",
     "text": [
      "✅ Completed row 55 | Risk Score: 4, Narrative: Financial Distress\n",
      "\n",
      "🔍 Processing row 56 | Ticker: ALB, Year: 2025\n",
      "🔹 1 chunk(s) generated\n",
      "🧠 Invoking LLM on chunk 1/1...\n"
     ]
    },
    {
     "name": "stderr",
     "output_type": "stream",
     "text": [
      "  4%|▍         | 39/970 [05:51<2:56:16, 11.36s/it]"
     ]
    },
    {
     "name": "stdout",
     "output_type": "stream",
     "text": [
      "✅ Completed row 56 | Risk Score: 4, Narrative: Legal & Regulatory\n",
      "\n",
      "🔍 Processing row 57 | Ticker: ALE, Year: 2025\n",
      "🔹 1 chunk(s) generated\n",
      "🧠 Invoking LLM on chunk 1/1...\n"
     ]
    },
    {
     "name": "stderr",
     "output_type": "stream",
     "text": [
      "  4%|▍         | 40/970 [05:54<2:19:57,  9.03s/it]"
     ]
    },
    {
     "name": "stdout",
     "output_type": "stream",
     "text": [
      "✅ Completed row 57 | Risk Score: 2, Narrative: Legal & Regulatory\n",
      "\n",
      "🔍 Processing row 58 | Ticker: ALEX, Year: 2025\n",
      "🔹 1 chunk(s) generated\n",
      "🧠 Invoking LLM on chunk 1/1...\n"
     ]
    },
    {
     "name": "stderr",
     "output_type": "stream",
     "text": [
      "  4%|▍         | 41/970 [06:07<2:36:53, 10.13s/it]"
     ]
    },
    {
     "name": "stdout",
     "output_type": "stream",
     "text": [
      "✅ Completed row 58 | Risk Score: 4, Narrative: Financial Distress\n",
      "\n",
      "🔍 Processing row 59 | Ticker: ALG, Year: 2025\n",
      "🔹 1 chunk(s) generated\n",
      "🧠 Invoking LLM on chunk 1/1...\n"
     ]
    },
    {
     "name": "stderr",
     "output_type": "stream",
     "text": [
      "  4%|▍         | 42/970 [06:18<2:39:34, 10.32s/it]"
     ]
    },
    {
     "name": "stdout",
     "output_type": "stream",
     "text": [
      "✅ Completed row 59 | Risk Score: 5, Narrative: Market Dependency\n",
      "\n",
      "🔍 Processing row 61 | Ticker: ALGN, Year: 2025\n",
      "🔹 1 chunk(s) generated\n",
      "🧠 Invoking LLM on chunk 1/1...\n"
     ]
    },
    {
     "name": "stderr",
     "output_type": "stream",
     "text": [
      "  4%|▍         | 43/970 [06:28<2:40:48, 10.41s/it]"
     ]
    },
    {
     "name": "stdout",
     "output_type": "stream",
     "text": [
      "✅ Completed row 61 | Risk Score: 5, Narrative: Market Dependency\n",
      "\n",
      "🔍 Processing row 62 | Ticker: ALGT, Year: 2025\n",
      "🔹 1 chunk(s) generated\n",
      "🧠 Invoking LLM on chunk 1/1...\n"
     ]
    },
    {
     "name": "stderr",
     "output_type": "stream",
     "text": [
      "  5%|▍         | 44/970 [06:38<2:37:07, 10.18s/it]"
     ]
    },
    {
     "name": "stdout",
     "output_type": "stream",
     "text": [
      "✅ Completed row 62 | Risk Score: 5, Narrative: Legal & Regulatory\n",
      "\n",
      "🔍 Processing row 65 | Ticker: ALL, Year: 2025\n",
      "🔹 1 chunk(s) generated\n",
      "🧠 Invoking LLM on chunk 1/1...\n"
     ]
    },
    {
     "name": "stderr",
     "output_type": "stream",
     "text": [
      "  5%|▍         | 45/970 [06:49<2:39:37, 10.35s/it]"
     ]
    },
    {
     "name": "stdout",
     "output_type": "stream",
     "text": [
      "✅ Completed row 65 | Risk Score: 4, Narrative: Financial Distress\n",
      "\n",
      "🔍 Processing row 68 | Ticker: ALRM, Year: 2025\n",
      "🔹 1 chunk(s) generated\n",
      "🧠 Invoking LLM on chunk 1/1...\n"
     ]
    },
    {
     "name": "stderr",
     "output_type": "stream",
     "text": [
      "  5%|▍         | 46/970 [07:03<2:56:46, 11.48s/it]"
     ]
    },
    {
     "name": "stdout",
     "output_type": "stream",
     "text": [
      "✅ Completed row 68 | Risk Score: 2, Narrative: Financial Distress\n",
      "\n",
      "🔍 Processing row 69 | Ticker: ALV, Year: 2025\n",
      "🔹 1 chunk(s) generated\n",
      "🧠 Invoking LLM on chunk 1/1...\n"
     ]
    },
    {
     "name": "stderr",
     "output_type": "stream",
     "text": [
      "  5%|▍         | 47/970 [07:13<2:52:23, 11.21s/it]"
     ]
    },
    {
     "name": "stdout",
     "output_type": "stream",
     "text": [
      "✅ Completed row 69 | Risk Score: 4, Narrative: Financial Distress\n",
      "\n",
      "🔍 Processing row 70 | Ticker: AM, Year: 2025\n",
      "🔹 1 chunk(s) generated\n",
      "🧠 Invoking LLM on chunk 1/1...\n"
     ]
    },
    {
     "name": "stderr",
     "output_type": "stream",
     "text": [
      "  5%|▍         | 48/970 [07:26<2:58:36, 11.62s/it]"
     ]
    },
    {
     "name": "stdout",
     "output_type": "stream",
     "text": [
      "✅ Completed row 70 | Risk Score: 4, Narrative: Supply Chain\n",
      "\n",
      "🔍 Processing row 73 | Ticker: AMD, Year: 2025\n",
      "🔹 1 chunk(s) generated\n",
      "🧠 Invoking LLM on chunk 1/1...\n"
     ]
    },
    {
     "name": "stderr",
     "output_type": "stream",
     "text": [
      "  5%|▌         | 49/970 [07:37<2:53:55, 11.33s/it]"
     ]
    },
    {
     "name": "stdout",
     "output_type": "stream",
     "text": [
      "✅ Completed row 73 | Risk Score: 5, Narrative: Market Dependency\n",
      "\n",
      "🔍 Processing row 74 | Ticker: AME, Year: 2025\n",
      "🔹 1 chunk(s) generated\n",
      "🧠 Invoking LLM on chunk 1/1...\n"
     ]
    },
    {
     "name": "stderr",
     "output_type": "stream",
     "text": [
      "  5%|▌         | 50/970 [07:48<2:55:48, 11.47s/it]"
     ]
    },
    {
     "name": "stdout",
     "output_type": "stream",
     "text": [
      "✅ Completed row 74 | Risk Score: 2, Narrative: Financial Distress\n",
      "\n",
      "🔍 Processing row 75 | Ticker: AMED, Year: 2025\n",
      "🔹 1 chunk(s) generated\n",
      "🧠 Invoking LLM on chunk 1/1...\n"
     ]
    },
    {
     "name": "stderr",
     "output_type": "stream",
     "text": [
      "  5%|▌         | 51/970 [08:00<2:56:31, 11.52s/it]"
     ]
    },
    {
     "name": "stdout",
     "output_type": "stream",
     "text": [
      "✅ Completed row 75 | Risk Score: 4, Narrative: Legal & Regulatory\n",
      "\n",
      "🔍 Processing row 76 | Ticker: AMG, Year: 2025\n",
      "🔹 1 chunk(s) generated\n",
      "🧠 Invoking LLM on chunk 1/1...\n"
     ]
    },
    {
     "name": "stderr",
     "output_type": "stream",
     "text": [
      "  5%|▌         | 52/970 [08:11<2:52:18, 11.26s/it]"
     ]
    },
    {
     "name": "stdout",
     "output_type": "stream",
     "text": [
      "✅ Completed row 76 | Risk Score: 4, Narrative: Financial Distress\n",
      "\n",
      "🔍 Processing row 77 | Ticker: AMGN, Year: 2025\n",
      "🔹 1 chunk(s) generated\n",
      "🧠 Invoking LLM on chunk 1/1...\n"
     ]
    },
    {
     "name": "stderr",
     "output_type": "stream",
     "text": [
      "  5%|▌         | 53/970 [08:23<2:58:21, 11.67s/it]"
     ]
    },
    {
     "name": "stdout",
     "output_type": "stream",
     "text": [
      "✅ Completed row 77 | Risk Score: 5, Narrative: Market Dependency\n",
      "\n",
      "🔍 Processing row 78 | Ticker: AMH, Year: 2025\n",
      "🔹 1 chunk(s) generated\n",
      "🧠 Invoking LLM on chunk 1/1...\n"
     ]
    },
    {
     "name": "stderr",
     "output_type": "stream",
     "text": [
      "  6%|▌         | 54/970 [08:37<3:07:26, 12.28s/it]"
     ]
    },
    {
     "name": "stdout",
     "output_type": "stream",
     "text": [
      "✅ Completed row 78 | Risk Score: 4, Narrative: Legal & Regulatory\n",
      "\n",
      "🔍 Processing row 83 | Ticker: AMR, Year: 2025\n",
      "🔹 1 chunk(s) generated\n",
      "🧠 Invoking LLM on chunk 1/1...\n"
     ]
    },
    {
     "name": "stderr",
     "output_type": "stream",
     "text": [
      "  6%|▌         | 55/970 [08:49<3:04:29, 12.10s/it]"
     ]
    },
    {
     "name": "stdout",
     "output_type": "stream",
     "text": [
      "✅ Completed row 83 | Risk Score: 2, Narrative: Financial Distress\n",
      "\n",
      "🔍 Processing row 86 | Ticker: AMTM, Year: 2024\n",
      "🔹 1 chunk(s) generated\n",
      "🧠 Invoking LLM on chunk 1/1...\n"
     ]
    },
    {
     "name": "stderr",
     "output_type": "stream",
     "text": [
      "  6%|▌         | 56/970 [08:59<2:57:38, 11.66s/it]"
     ]
    },
    {
     "name": "stdout",
     "output_type": "stream",
     "text": [
      "✅ Completed row 86 | Risk Score: 5, Narrative: Legal & Regulatory\n",
      "\n",
      "🔍 Processing row 90 | Ticker: ANDE, Year: 2025\n",
      "🔹 1 chunk(s) generated\n",
      "🧠 Invoking LLM on chunk 1/1...\n"
     ]
    },
    {
     "name": "stderr",
     "output_type": "stream",
     "text": [
      "  6%|▌         | 57/970 [09:05<2:29:43,  9.84s/it]"
     ]
    },
    {
     "name": "stdout",
     "output_type": "stream",
     "text": [
      "✅ Completed row 90 | Risk Score: 4, Narrative: Financial Distress\n",
      "\n",
      "🔍 Processing row 91 | Ticker: ANET, Year: 2025\n",
      "🔹 1 chunk(s) generated\n",
      "🧠 Invoking LLM on chunk 1/1...\n"
     ]
    },
    {
     "name": "stderr",
     "output_type": "stream",
     "text": [
      "  6%|▌         | 58/970 [09:18<2:42:23, 10.68s/it]"
     ]
    },
    {
     "name": "stdout",
     "output_type": "stream",
     "text": [
      "✅ Completed row 91 | Risk Score: 4, Narrative: Financial Distress\n",
      "\n",
      "🔍 Processing row 92 | Ticker: ANF, Year: 2025\n",
      "🔹 1 chunk(s) generated\n",
      "🧠 Invoking LLM on chunk 1/1...\n"
     ]
    },
    {
     "name": "stderr",
     "output_type": "stream",
     "text": [
      "  6%|▌         | 59/970 [09:28<2:42:00, 10.67s/it]"
     ]
    },
    {
     "name": "stdout",
     "output_type": "stream",
     "text": [
      "✅ Completed row 92 | Risk Score: 4, Narrative: Financial Distress\n",
      "\n",
      "🔍 Processing row 93 | Ticker: ANGI, Year: 2025\n",
      "🔹 1 chunk(s) generated\n",
      "🧠 Invoking LLM on chunk 1/1...\n"
     ]
    },
    {
     "name": "stderr",
     "output_type": "stream",
     "text": [
      "  6%|▌         | 60/970 [09:40<2:46:26, 10.97s/it]"
     ]
    },
    {
     "name": "stdout",
     "output_type": "stream",
     "text": [
      "✅ Completed row 93 | Risk Score: 5, Narrative: Legal & Regulatory\n",
      "\n",
      "🔍 Processing row 94 | Ticker: ANIP, Year: 2025\n",
      "🔹 1 chunk(s) generated\n",
      "🧠 Invoking LLM on chunk 1/1...\n"
     ]
    },
    {
     "name": "stderr",
     "output_type": "stream",
     "text": [
      "  6%|▋         | 61/970 [09:52<2:49:25, 11.18s/it]"
     ]
    },
    {
     "name": "stdout",
     "output_type": "stream",
     "text": [
      "✅ Completed row 94 | Risk Score: 4, Narrative: Market Dependency\n",
      "\n",
      "🔍 Processing row 95 | Ticker: ANSS, Year: 2025\n",
      "🔹 1 chunk(s) generated\n",
      "🧠 Invoking LLM on chunk 1/1...\n"
     ]
    },
    {
     "name": "stderr",
     "output_type": "stream",
     "text": [
      "  6%|▋         | 62/970 [10:02<2:46:50, 11.02s/it]"
     ]
    },
    {
     "name": "stdout",
     "output_type": "stream",
     "text": [
      "✅ Completed row 95 | Risk Score: 4, Narrative: Legal & Regulatory\n",
      "\n",
      "🔍 Processing row 96 | Ticker: AON, Year: 2025\n",
      "🔹 1 chunk(s) generated\n",
      "🧠 Invoking LLM on chunk 1/1...\n"
     ]
    },
    {
     "name": "stderr",
     "output_type": "stream",
     "text": [
      "  6%|▋         | 63/970 [10:06<2:12:52,  8.79s/it]"
     ]
    },
    {
     "name": "stdout",
     "output_type": "stream",
     "text": [
      "✅ Completed row 96 | Risk Score: 4, Narrative: Financial Distress\n",
      "\n",
      "🔍 Processing row 97 | Ticker: AORT, Year: 2025\n",
      "🔹 1 chunk(s) generated\n",
      "🧠 Invoking LLM on chunk 1/1...\n"
     ]
    },
    {
     "name": "stderr",
     "output_type": "stream",
     "text": [
      "  7%|▋         | 64/970 [10:17<2:25:48,  9.66s/it]"
     ]
    },
    {
     "name": "stdout",
     "output_type": "stream",
     "text": [
      "✅ Completed row 97 | Risk Score: 4, Narrative: Legal & Regulatory\n",
      "\n",
      "🔍 Processing row 101 | Ticker: APAM, Year: 2025\n",
      "🔹 1 chunk(s) generated\n",
      "🧠 Invoking LLM on chunk 1/1...\n"
     ]
    },
    {
     "name": "stderr",
     "output_type": "stream",
     "text": [
      "  7%|▋         | 65/970 [10:29<2:34:18, 10.23s/it]"
     ]
    },
    {
     "name": "stdout",
     "output_type": "stream",
     "text": [
      "✅ Completed row 101 | Risk Score: 5, Narrative: Executive Turnover\n",
      "\n",
      "🔍 Processing row 102 | Ticker: APD, Year: 2024\n",
      "🔹 1 chunk(s) generated\n",
      "🧠 Invoking LLM on chunk 1/1...\n"
     ]
    },
    {
     "name": "stderr",
     "output_type": "stream",
     "text": [
      "  7%|▋         | 66/970 [10:39<2:31:24, 10.05s/it]"
     ]
    },
    {
     "name": "stdout",
     "output_type": "stream",
     "text": [
      "✅ Completed row 102 | Risk Score: 5, Narrative: Market Dependency\n",
      "\n",
      "🔍 Processing row 103 | Ticker: APG, Year: 2025\n",
      "🔹 1 chunk(s) generated\n",
      "🧠 Invoking LLM on chunk 1/1...\n"
     ]
    },
    {
     "name": "stderr",
     "output_type": "stream",
     "text": [
      "  7%|▋         | 67/970 [10:48<2:29:17,  9.92s/it]"
     ]
    },
    {
     "name": "stdout",
     "output_type": "stream",
     "text": [
      "✅ Completed row 103 | Risk Score: 4, Narrative: Legal & Regulatory\n",
      "\n",
      "🔍 Processing row 104 | Ticker: APH, Year: 2025\n",
      "🔹 1 chunk(s) generated\n",
      "🧠 Invoking LLM on chunk 1/1...\n"
     ]
    },
    {
     "name": "stderr",
     "output_type": "stream",
     "text": [
      "  7%|▋         | 68/970 [11:01<2:41:06, 10.72s/it]"
     ]
    },
    {
     "name": "stdout",
     "output_type": "stream",
     "text": [
      "✅ Completed row 104 | Risk Score: 5, Narrative: Market Dependency\n",
      "\n",
      "🔍 Processing row 106 | Ticker: APO, Year: 2025\n",
      "🔹 1 chunk(s) generated\n",
      "🧠 Invoking LLM on chunk 1/1...\n"
     ]
    },
    {
     "name": "stderr",
     "output_type": "stream",
     "text": [
      "  7%|▋         | 69/970 [11:12<2:45:08, 11.00s/it]"
     ]
    },
    {
     "name": "stdout",
     "output_type": "stream",
     "text": [
      "✅ Completed row 106 | Risk Score: 4, Narrative: Market Dependency\n",
      "\n",
      "🔍 Processing row 107 | Ticker: APOG, Year: 2025\n",
      "🔹 1 chunk(s) generated\n",
      "🧠 Invoking LLM on chunk 1/1...\n"
     ]
    },
    {
     "name": "stderr",
     "output_type": "stream",
     "text": [
      "  7%|▋         | 70/970 [11:23<2:43:21, 10.89s/it]"
     ]
    },
    {
     "name": "stdout",
     "output_type": "stream",
     "text": [
      "✅ Completed row 107 | Risk Score: 5, Narrative: Market Dependency\n",
      "\n",
      "🔍 Processing row 109 | Ticker: APTV, Year: 2025\n",
      "🔹 1 chunk(s) generated\n",
      "🧠 Invoking LLM on chunk 1/1...\n"
     ]
    },
    {
     "name": "stderr",
     "output_type": "stream",
     "text": [
      "  7%|▋         | 71/970 [11:34<2:41:56, 10.81s/it]"
     ]
    },
    {
     "name": "stdout",
     "output_type": "stream",
     "text": [
      "✅ Completed row 109 | Risk Score: 4, Narrative: Legal & Regulatory\n",
      "\n",
      "🔍 Processing row 110 | Ticker: AR, Year: 2025\n",
      "🔹 1 chunk(s) generated\n",
      "🧠 Invoking LLM on chunk 1/1...\n"
     ]
    },
    {
     "name": "stderr",
     "output_type": "stream",
     "text": [
      "  7%|▋         | 72/970 [11:47<2:54:20, 11.65s/it]"
     ]
    },
    {
     "name": "stdout",
     "output_type": "stream",
     "text": [
      "✅ Completed row 110 | Risk Score: 4, Narrative: Financial Distress\n",
      "\n",
      "🔍 Processing row 112 | Ticker: ARE, Year: 2025\n",
      "🔹 1 chunk(s) generated\n",
      "🧠 Invoking LLM on chunk 1/1...\n"
     ]
    },
    {
     "name": "stderr",
     "output_type": "stream",
     "text": [
      "  8%|▊         | 73/970 [12:00<2:58:22, 11.93s/it]"
     ]
    },
    {
     "name": "stdout",
     "output_type": "stream",
     "text": [
      "✅ Completed row 112 | Risk Score: 4, Narrative: Legal & Regulatory\n",
      "\n",
      "🔍 Processing row 113 | Ticker: ARI, Year: 2025\n",
      "🔹 1 chunk(s) generated\n",
      "🧠 Invoking LLM on chunk 1/1...\n"
     ]
    },
    {
     "name": "stderr",
     "output_type": "stream",
     "text": [
      "  8%|▊         | 74/970 [12:14<3:05:34, 12.43s/it]"
     ]
    },
    {
     "name": "stdout",
     "output_type": "stream",
     "text": [
      "✅ Completed row 113 | Risk Score: 4, Narrative: Market Dependency\n",
      "\n",
      "🔍 Processing row 114 | Ticker: ARLO, Year: 2025\n",
      "🔹 1 chunk(s) generated\n",
      "🧠 Invoking LLM on chunk 1/1...\n"
     ]
    },
    {
     "name": "stderr",
     "output_type": "stream",
     "text": [
      "  8%|▊         | 75/970 [12:24<2:57:09, 11.88s/it]"
     ]
    },
    {
     "name": "stdout",
     "output_type": "stream",
     "text": [
      "✅ Completed row 114 | Risk Score: 5, Narrative: Supply Chain\n",
      "\n",
      "🔍 Processing row 117 | Ticker: ARR, Year: 2025\n",
      "🔹 1 chunk(s) generated\n",
      "🧠 Invoking LLM on chunk 1/1...\n"
     ]
    },
    {
     "name": "stderr",
     "output_type": "stream",
     "text": [
      "  8%|▊         | 76/970 [12:26<2:10:27,  8.76s/it]"
     ]
    },
    {
     "name": "stdout",
     "output_type": "stream",
     "text": [
      "✅ Completed row 117 | Risk Score: 4, Narrative: Legal & Regulatory\n",
      "\n",
      "🔍 Processing row 119 | Ticker: ARWR, Year: 2024\n",
      "🔹 1 chunk(s) generated\n",
      "🧠 Invoking LLM on chunk 1/1...\n"
     ]
    },
    {
     "name": "stderr",
     "output_type": "stream",
     "text": [
      "  8%|▊         | 77/970 [12:38<2:27:27,  9.91s/it]"
     ]
    },
    {
     "name": "stdout",
     "output_type": "stream",
     "text": [
      "✅ Completed row 119 | Risk Score: 2, Narrative: Legal & Regulatory\n",
      "\n",
      "🔍 Processing row 121 | Ticker: ASGN, Year: 2025\n",
      "🔹 1 chunk(s) generated\n",
      "🧠 Invoking LLM on chunk 1/1...\n"
     ]
    },
    {
     "name": "stderr",
     "output_type": "stream",
     "text": [
      "  8%|▊         | 78/970 [12:51<2:39:34, 10.73s/it]"
     ]
    },
    {
     "name": "stdout",
     "output_type": "stream",
     "text": [
      "✅ Completed row 121 | Risk Score: 4, Narrative: Legal & Regulatory\n",
      "\n",
      "🔍 Processing row 122 | Ticker: ASH, Year: 2024\n",
      "🔹 1 chunk(s) generated\n",
      "🧠 Invoking LLM on chunk 1/1...\n"
     ]
    },
    {
     "name": "stderr",
     "output_type": "stream",
     "text": [
      "  8%|▊         | 79/970 [13:01<2:38:50, 10.70s/it]"
     ]
    },
    {
     "name": "stdout",
     "output_type": "stream",
     "text": [
      "✅ Completed row 122 | Risk Score: 4, Narrative: Financial Distress\n",
      "\n",
      "🔍 Processing row 123 | Ticker: ASIX, Year: 2025\n",
      "🔹 1 chunk(s) generated\n",
      "🧠 Invoking LLM on chunk 1/1...\n"
     ]
    },
    {
     "name": "stderr",
     "output_type": "stream",
     "text": [
      "  8%|▊         | 80/970 [13:05<2:06:34,  8.53s/it]"
     ]
    },
    {
     "name": "stdout",
     "output_type": "stream",
     "text": [
      "✅ Completed row 123 | Risk Score: 4, Narrative: Legal & Regulatory\n",
      "\n",
      "🔍 Processing row 124 | Ticker: ASO, Year: 2025\n",
      "🔹 1 chunk(s) generated\n",
      "🧠 Invoking LLM on chunk 1/1...\n"
     ]
    },
    {
     "name": "stderr",
     "output_type": "stream",
     "text": [
      "  8%|▊         | 81/970 [13:10<1:52:52,  7.62s/it]"
     ]
    },
    {
     "name": "stdout",
     "output_type": "stream",
     "text": [
      "✅ Completed row 124 | Risk Score: 3, Narrative: Financial Distress\n",
      "\n",
      "🔍 Processing row 125 | Ticker: ASTE, Year: 2025\n",
      "🔹 1 chunk(s) generated\n",
      "🧠 Invoking LLM on chunk 1/1...\n"
     ]
    },
    {
     "name": "stderr",
     "output_type": "stream",
     "text": [
      "  8%|▊         | 82/970 [13:23<2:14:42,  9.10s/it]"
     ]
    },
    {
     "name": "stdout",
     "output_type": "stream",
     "text": [
      "✅ Completed row 125 | Risk Score: 4, Narrative: Legal & Regulatory\n",
      "\n",
      "🔍 Processing row 127 | Ticker: ATEN, Year: 2025\n",
      "🔹 1 chunk(s) generated\n",
      "🧠 Invoking LLM on chunk 1/1...\n"
     ]
    },
    {
     "name": "stderr",
     "output_type": "stream",
     "text": [
      "  9%|▊         | 83/970 [13:35<2:25:52,  9.87s/it]"
     ]
    },
    {
     "name": "stdout",
     "output_type": "stream",
     "text": [
      "✅ Completed row 127 | Risk Score: 4, Narrative: Legal & Regulatory\n",
      "\n",
      "🔍 Processing row 128 | Ticker: ATGE, Year: 2024\n",
      "🔹 1 chunk(s) generated\n",
      "🧠 Invoking LLM on chunk 1/1...\n"
     ]
    },
    {
     "name": "stderr",
     "output_type": "stream",
     "text": [
      "  9%|▊         | 84/970 [13:45<2:28:35, 10.06s/it]"
     ]
    },
    {
     "name": "stdout",
     "output_type": "stream",
     "text": [
      "✅ Completed row 128 | Risk Score: 5, Narrative: Legal & Regulatory\n",
      "\n",
      "🔍 Processing row 129 | Ticker: ATI, Year: 2025\n",
      "🔹 1 chunk(s) generated\n",
      "🧠 Invoking LLM on chunk 1/1...\n"
     ]
    },
    {
     "name": "stderr",
     "output_type": "stream",
     "text": [
      "  9%|▉         | 85/970 [13:56<2:30:56, 10.23s/it]"
     ]
    },
    {
     "name": "stdout",
     "output_type": "stream",
     "text": [
      "✅ Completed row 129 | Risk Score: 4, Narrative: Market Dependency\n",
      "\n",
      "🔍 Processing row 131 | Ticker: ATR, Year: 2025\n",
      "🔹 1 chunk(s) generated\n",
      "🧠 Invoking LLM on chunk 1/1...\n"
     ]
    },
    {
     "name": "stderr",
     "output_type": "stream",
     "text": [
      "  9%|▉         | 86/970 [14:06<2:32:27, 10.35s/it]"
     ]
    },
    {
     "name": "stdout",
     "output_type": "stream",
     "text": [
      "✅ Completed row 131 | Risk Score: 5, Narrative: Financial Distress\n",
      "\n",
      "🔍 Processing row 132 | Ticker: AUB, Year: 2025\n",
      "🔹 1 chunk(s) generated\n",
      "🧠 Invoking LLM on chunk 1/1...\n"
     ]
    },
    {
     "name": "stderr",
     "output_type": "stream",
     "text": [
      "  9%|▉         | 87/970 [14:16<2:28:58, 10.12s/it]"
     ]
    },
    {
     "name": "stdout",
     "output_type": "stream",
     "text": [
      "✅ Completed row 132 | Risk Score: 5, Narrative: Financial Distress\n",
      "\n",
      "🔍 Processing row 133 | Ticker: AVA, Year: 2025\n",
      "🔹 1 chunk(s) generated\n",
      "🧠 Invoking LLM on chunk 1/1...\n"
     ]
    },
    {
     "name": "stderr",
     "output_type": "stream",
     "text": [
      "  9%|▉         | 88/970 [14:27<2:30:42, 10.25s/it]"
     ]
    },
    {
     "name": "stdout",
     "output_type": "stream",
     "text": [
      "✅ Completed row 133 | Risk Score: 4, Narrative: Legal & Regulatory\n",
      "\n",
      "🔍 Processing row 134 | Ticker: AVAV, Year: 2025\n",
      "🔹 1 chunk(s) generated\n",
      "🧠 Invoking LLM on chunk 1/1...\n"
     ]
    },
    {
     "name": "stderr",
     "output_type": "stream",
     "text": [
      "  9%|▉         | 89/970 [14:39<2:41:01, 10.97s/it]"
     ]
    },
    {
     "name": "stdout",
     "output_type": "stream",
     "text": [
      "✅ Completed row 134 | Risk Score: 2, Narrative: Legal & Regulatory\n",
      "\n",
      "🔍 Processing row 136 | Ticker: AVGO, Year: 2024\n",
      "🔹 1 chunk(s) generated\n",
      "🧠 Invoking LLM on chunk 1/1...\n"
     ]
    },
    {
     "name": "stderr",
     "output_type": "stream",
     "text": [
      "  9%|▉         | 90/970 [14:51<2:43:23, 11.14s/it]"
     ]
    },
    {
     "name": "stdout",
     "output_type": "stream",
     "text": [
      "✅ Completed row 136 | Risk Score: 5, Narrative: Legal & Regulatory\n",
      "\n",
      "🔍 Processing row 139 | Ticker: AVT, Year: 2024\n",
      "🔹 1 chunk(s) generated\n",
      "🧠 Invoking LLM on chunk 1/1...\n"
     ]
    },
    {
     "name": "stderr",
     "output_type": "stream",
     "text": [
      "  9%|▉         | 91/970 [14:55<2:13:55,  9.14s/it]"
     ]
    },
    {
     "name": "stdout",
     "output_type": "stream",
     "text": [
      "✅ Completed row 139 | Risk Score: 4, Narrative: Legal & Regulatory\n",
      "\n",
      "🔍 Processing row 140 | Ticker: AVTR, Year: 2025\n",
      "🔹 1 chunk(s) generated\n",
      "🧠 Invoking LLM on chunk 1/1...\n"
     ]
    },
    {
     "name": "stderr",
     "output_type": "stream",
     "text": [
      "  9%|▉         | 92/970 [15:08<2:29:05, 10.19s/it]"
     ]
    },
    {
     "name": "stdout",
     "output_type": "stream",
     "text": [
      "✅ Completed row 140 | Risk Score: 5, Narrative: Supply Chain\n",
      "\n",
      "🔍 Processing row 141 | Ticker: AVY, Year: 2025\n",
      "🔹 1 chunk(s) generated\n",
      "🧠 Invoking LLM on chunk 1/1...\n"
     ]
    },
    {
     "name": "stderr",
     "output_type": "stream",
     "text": [
      " 10%|▉         | 93/970 [15:18<2:30:41, 10.31s/it]"
     ]
    },
    {
     "name": "stdout",
     "output_type": "stream",
     "text": [
      "✅ Completed row 141 | Risk Score: 5, Narrative: Market Dependency\n",
      "\n",
      "🔍 Processing row 142 | Ticker: AWI, Year: 2025\n",
      "🔹 1 chunk(s) generated\n",
      "🧠 Invoking LLM on chunk 1/1...\n"
     ]
    },
    {
     "name": "stderr",
     "output_type": "stream",
     "text": [
      " 10%|▉         | 94/970 [15:28<2:27:22, 10.09s/it]"
     ]
    },
    {
     "name": "stdout",
     "output_type": "stream",
     "text": [
      "✅ Completed row 142 | Risk Score: 5, Narrative: Legal & Regulatory\n",
      "\n",
      "🔍 Processing row 144 | Ticker: AWR, Year: 2025\n",
      "🔹 1 chunk(s) generated\n",
      "🧠 Invoking LLM on chunk 1/1...\n"
     ]
    },
    {
     "name": "stderr",
     "output_type": "stream",
     "text": [
      " 10%|▉         | 95/970 [15:42<2:42:48, 11.16s/it]"
     ]
    },
    {
     "name": "stdout",
     "output_type": "stream",
     "text": [
      "✅ Completed row 144 | Risk Score: 4, Narrative: Financial Distress\n",
      "\n",
      "🔍 Processing row 145 | Ticker: AX, Year: 2024\n",
      "🔹 1 chunk(s) generated\n",
      "🧠 Invoking LLM on chunk 1/1...\n"
     ]
    },
    {
     "name": "stderr",
     "output_type": "stream",
     "text": [
      " 10%|▉         | 96/970 [15:53<2:44:28, 11.29s/it]"
     ]
    },
    {
     "name": "stdout",
     "output_type": "stream",
     "text": [
      "✅ Completed row 145 | Risk Score: 5, Narrative: Financial Distress\n",
      "\n",
      "🔍 Processing row 146 | Ticker: AXL, Year: 2025\n",
      "🔹 1 chunk(s) generated\n",
      "🧠 Invoking LLM on chunk 1/1...\n"
     ]
    },
    {
     "name": "stderr",
     "output_type": "stream",
     "text": [
      " 10%|█         | 97/970 [16:05<2:45:25, 11.37s/it]"
     ]
    },
    {
     "name": "stdout",
     "output_type": "stream",
     "text": [
      "✅ Completed row 146 | Risk Score: 5, Narrative: Market Dependency\n",
      "\n",
      "🔍 Processing row 147 | Ticker: AXON, Year: 2025\n",
      "🔹 1 chunk(s) generated\n",
      "🧠 Invoking LLM on chunk 1/1...\n"
     ]
    },
    {
     "name": "stderr",
     "output_type": "stream",
     "text": [
      " 10%|█         | 98/970 [16:16<2:46:26, 11.45s/it]"
     ]
    },
    {
     "name": "stdout",
     "output_type": "stream",
     "text": [
      "✅ Completed row 147 | Risk Score: 5, Narrative: Legal & Regulatory\n",
      "\n",
      "🔍 Processing row 150 | Ticker: AYI, Year: 2024\n",
      "🔹 1 chunk(s) generated\n",
      "🧠 Invoking LLM on chunk 1/1...\n"
     ]
    },
    {
     "name": "stderr",
     "output_type": "stream",
     "text": [
      " 10%|█         | 99/970 [16:27<2:42:14, 11.18s/it]"
     ]
    },
    {
     "name": "stdout",
     "output_type": "stream",
     "text": [
      "✅ Completed row 150 | Risk Score: 4, Narrative: Supply Chain\n",
      "\n",
      "🔍 Processing row 153 | Ticker: AZZ, Year: 2025\n",
      "🔹 1 chunk(s) generated\n",
      "🧠 Invoking LLM on chunk 1/1...\n"
     ]
    },
    {
     "name": "stderr",
     "output_type": "stream",
     "text": [
      " 10%|█         | 100/970 [16:38<2:39:19, 10.99s/it]"
     ]
    },
    {
     "name": "stdout",
     "output_type": "stream",
     "text": [
      "✅ Completed row 153 | Risk Score: 4, Narrative: Financial Distress\n",
      "\n",
      "🔍 Processing row 154 | Ticker: BA, Year: 2025\n",
      "🔹 1 chunk(s) generated\n",
      "🧠 Invoking LLM on chunk 1/1...\n"
     ]
    },
    {
     "name": "stderr",
     "output_type": "stream",
     "text": [
      " 10%|█         | 101/970 [16:48<2:37:32, 10.88s/it]"
     ]
    },
    {
     "name": "stdout",
     "output_type": "stream",
     "text": [
      "✅ Completed row 154 | Risk Score: 4, Narrative: Market Dependency\n",
      "\n",
      "🔍 Processing row 155 | Ticker: BAC, Year: 2025\n",
      "🔹 1 chunk(s) generated\n",
      "🧠 Invoking LLM on chunk 1/1...\n"
     ]
    },
    {
     "name": "stderr",
     "output_type": "stream",
     "text": [
      " 11%|█         | 102/970 [16:59<2:36:00, 10.78s/it]"
     ]
    },
    {
     "name": "stdout",
     "output_type": "stream",
     "text": [
      "✅ Completed row 155 | Risk Score: 5, Narrative: Legal & Regulatory\n",
      "\n",
      "🔍 Processing row 156 | Ticker: BALL, Year: 2025\n",
      "🔹 1 chunk(s) generated\n",
      "🧠 Invoking LLM on chunk 1/1...\n"
     ]
    },
    {
     "name": "stderr",
     "output_type": "stream",
     "text": [
      " 11%|█         | 103/970 [17:09<2:34:51, 10.72s/it]"
     ]
    },
    {
     "name": "stdout",
     "output_type": "stream",
     "text": [
      "✅ Completed row 156 | Risk Score: 4, Narrative: Financial Distress\n",
      "\n",
      "🔍 Processing row 157 | Ticker: BANC, Year: 2025\n",
      "🔹 1 chunk(s) generated\n",
      "🧠 Invoking LLM on chunk 1/1...\n"
     ]
    },
    {
     "name": "stderr",
     "output_type": "stream",
     "text": [
      " 11%|█         | 104/970 [17:21<2:38:29, 10.98s/it]"
     ]
    },
    {
     "name": "stdout",
     "output_type": "stream",
     "text": [
      "✅ Completed row 157 | Risk Score: 4, Narrative: Legal & Regulatory\n",
      "\n",
      "🔍 Processing row 158 | Ticker: BANF, Year: 2025\n",
      "🔹 1 chunk(s) generated\n",
      "🧠 Invoking LLM on chunk 1/1...\n"
     ]
    },
    {
     "name": "stderr",
     "output_type": "stream",
     "text": [
      " 11%|█         | 105/970 [17:32<2:40:52, 11.16s/it]"
     ]
    },
    {
     "name": "stdout",
     "output_type": "stream",
     "text": [
      "✅ Completed row 158 | Risk Score: 4, Narrative: Legal & Regulatory\n",
      "\n",
      "🔍 Processing row 159 | Ticker: BANR, Year: 2025\n",
      "🔹 1 chunk(s) generated\n",
      "🧠 Invoking LLM on chunk 1/1...\n"
     ]
    },
    {
     "name": "stderr",
     "output_type": "stream",
     "text": [
      " 11%|█         | 106/970 [17:36<2:07:25,  8.85s/it]"
     ]
    },
    {
     "name": "stdout",
     "output_type": "stream",
     "text": [
      "✅ Completed row 159 | Risk Score: 4, Narrative: Legal & Regulatory\n",
      "\n",
      "🔍 Processing row 160 | Ticker: BAX, Year: 2025\n",
      "🔹 1 chunk(s) generated\n",
      "🧠 Invoking LLM on chunk 1/1...\n"
     ]
    },
    {
     "name": "stderr",
     "output_type": "stream",
     "text": [
      " 11%|█         | 107/970 [17:48<2:19:15,  9.68s/it]"
     ]
    },
    {
     "name": "stdout",
     "output_type": "stream",
     "text": [
      "✅ Completed row 160 | Risk Score: 5, Narrative: Supply Chain\n",
      "\n",
      "🔍 Processing row 161 | Ticker: BBWI, Year: 2025\n",
      "🔹 1 chunk(s) generated\n",
      "🧠 Invoking LLM on chunk 1/1...\n"
     ]
    },
    {
     "name": "stderr",
     "output_type": "stream",
     "text": [
      " 11%|█         | 108/970 [17:58<2:23:04,  9.96s/it]"
     ]
    },
    {
     "name": "stdout",
     "output_type": "stream",
     "text": [
      "✅ Completed row 161 | Risk Score: 4, Narrative: Market Dependency\n",
      "\n",
      "🔍 Processing row 164 | Ticker: BCC, Year: 2025\n",
      "🔹 1 chunk(s) generated\n",
      "🧠 Invoking LLM on chunk 1/1...\n"
     ]
    },
    {
     "name": "stderr",
     "output_type": "stream",
     "text": [
      " 11%|█         | 109/970 [18:10<2:29:43, 10.43s/it]"
     ]
    },
    {
     "name": "stdout",
     "output_type": "stream",
     "text": [
      "✅ Completed row 164 | Risk Score: 4, Narrative: Market Dependency\n",
      "\n",
      "🔍 Processing row 165 | Ticker: BCO, Year: 2025\n",
      "🔹 1 chunk(s) generated\n",
      "🧠 Invoking LLM on chunk 1/1...\n"
     ]
    },
    {
     "name": "stderr",
     "output_type": "stream",
     "text": [
      " 11%|█▏        | 110/970 [18:20<2:30:02, 10.47s/it]"
     ]
    },
    {
     "name": "stdout",
     "output_type": "stream",
     "text": [
      "✅ Completed row 165 | Risk Score: 4, Narrative: Financial Distress\n",
      "\n",
      "🔍 Processing row 168 | Ticker: BDN, Year: 2025\n",
      "🔹 1 chunk(s) generated\n",
      "🧠 Invoking LLM on chunk 1/1...\n"
     ]
    },
    {
     "name": "stderr",
     "output_type": "stream",
     "text": [
      " 11%|█▏        | 111/970 [18:33<2:39:05, 11.11s/it]"
     ]
    },
    {
     "name": "stdout",
     "output_type": "stream",
     "text": [
      "✅ Completed row 168 | Risk Score: 4, Narrative: Legal & Regulatory\n",
      "\n",
      "🔍 Processing row 169 | Ticker: BDX, Year: 2024\n",
      "🔹 1 chunk(s) generated\n",
      "🧠 Invoking LLM on chunk 1/1...\n"
     ]
    },
    {
     "name": "stderr",
     "output_type": "stream",
     "text": [
      " 12%|█▏        | 112/970 [18:42<2:32:16, 10.65s/it]"
     ]
    },
    {
     "name": "stdout",
     "output_type": "stream",
     "text": [
      "✅ Completed row 169 | Risk Score: 4, Narrative: Supply Chain\n",
      "\n",
      "🔍 Processing row 171 | Ticker: BF-B, Year: 2025\n",
      "🔹 1 chunk(s) generated\n",
      "🧠 Invoking LLM on chunk 1/1...\n"
     ]
    },
    {
     "name": "stderr",
     "output_type": "stream",
     "text": [
      " 12%|█▏        | 113/970 [18:53<2:32:08, 10.65s/it]"
     ]
    },
    {
     "name": "stdout",
     "output_type": "stream",
     "text": [
      "✅ Completed row 171 | Risk Score: 4, Narrative: Legal & Regulatory\n",
      "\n",
      "🔍 Processing row 172 | Ticker: BFH, Year: 2025\n",
      "🔹 1 chunk(s) generated\n",
      "🧠 Invoking LLM on chunk 1/1...\n"
     ]
    },
    {
     "name": "stderr",
     "output_type": "stream",
     "text": [
      " 12%|█▏        | 114/970 [19:05<2:36:10, 10.95s/it]"
     ]
    },
    {
     "name": "stdout",
     "output_type": "stream",
     "text": [
      "✅ Completed row 172 | Risk Score: 4, Narrative: Legal & Regulatory\n",
      "\n",
      "🔍 Processing row 173 | Ticker: BFS, Year: 2025\n",
      "🔹 1 chunk(s) generated\n",
      "🧠 Invoking LLM on chunk 1/1...\n"
     ]
    },
    {
     "name": "stderr",
     "output_type": "stream",
     "text": [
      " 12%|█▏        | 115/970 [19:15<2:34:39, 10.85s/it]"
     ]
    },
    {
     "name": "stdout",
     "output_type": "stream",
     "text": [
      "✅ Completed row 173 | Risk Score: 5, Narrative: Financial Distress\n",
      "\n",
      "🔍 Processing row 174 | Ticker: BG, Year: 2025\n",
      "🔹 1 chunk(s) generated\n",
      "🧠 Invoking LLM on chunk 1/1...\n"
     ]
    },
    {
     "name": "stderr",
     "output_type": "stream",
     "text": [
      " 12%|█▏        | 116/970 [19:27<2:37:53, 11.09s/it]"
     ]
    },
    {
     "name": "stdout",
     "output_type": "stream",
     "text": [
      "✅ Completed row 174 | Risk Score: 4, Narrative: Market Dependency\n",
      "\n",
      "🔍 Processing row 179 | Ticker: BHLB, Year: 2025\n",
      "🔹 1 chunk(s) generated\n",
      "🧠 Invoking LLM on chunk 1/1...\n"
     ]
    },
    {
     "name": "stderr",
     "output_type": "stream",
     "text": [
      " 12%|█▏        | 117/970 [19:40<2:44:47, 11.59s/it]"
     ]
    },
    {
     "name": "stdout",
     "output_type": "stream",
     "text": [
      "✅ Completed row 179 | Risk Score: 4, Narrative: Legal & Regulatory\n",
      "\n",
      "🔍 Processing row 180 | Ticker: BIIB, Year: 2025\n",
      "🔹 1 chunk(s) generated\n",
      "🧠 Invoking LLM on chunk 1/1...\n"
     ]
    },
    {
     "name": "stderr",
     "output_type": "stream",
     "text": [
      " 12%|█▏        | 118/970 [19:51<2:45:13, 11.64s/it]"
     ]
    },
    {
     "name": "stdout",
     "output_type": "stream",
     "text": [
      "✅ Completed row 180 | Risk Score: 4, Narrative: Legal & Regulatory\n",
      "\n",
      "🔍 Processing row 181 | Ticker: BILL, Year: 2024\n",
      "🔹 1 chunk(s) generated\n",
      "🧠 Invoking LLM on chunk 1/1...\n"
     ]
    },
    {
     "name": "stderr",
     "output_type": "stream",
     "text": [
      " 12%|█▏        | 119/970 [20:03<2:45:02, 11.64s/it]"
     ]
    },
    {
     "name": "stdout",
     "output_type": "stream",
     "text": [
      "✅ Completed row 181 | Risk Score: 4, Narrative: Financial Distress\n",
      "\n",
      "🔍 Processing row 182 | Ticker: BIO, Year: 2025\n",
      "🔹 1 chunk(s) generated\n",
      "🧠 Invoking LLM on chunk 1/1...\n"
     ]
    },
    {
     "name": "stderr",
     "output_type": "stream",
     "text": [
      " 12%|█▏        | 120/970 [20:09<2:18:53,  9.80s/it]"
     ]
    },
    {
     "name": "stdout",
     "output_type": "stream",
     "text": [
      "✅ Completed row 182 | Risk Score: 4, Narrative: Financial Distress\n",
      "\n",
      "🔍 Processing row 183 | Ticker: BJ, Year: 2025\n",
      "🔹 1 chunk(s) generated\n",
      "🧠 Invoking LLM on chunk 1/1...\n"
     ]
    },
    {
     "name": "stderr",
     "output_type": "stream",
     "text": [
      " 12%|█▏        | 121/970 [20:21<2:30:46, 10.65s/it]"
     ]
    },
    {
     "name": "stdout",
     "output_type": "stream",
     "text": [
      "✅ Completed row 183 | Risk Score: 4, Narrative: Legal & Regulatory\n",
      "\n",
      "🔍 Processing row 184 | Ticker: BJRI, Year: 2025\n",
      "🔹 1 chunk(s) generated\n",
      "🧠 Invoking LLM on chunk 1/1...\n"
     ]
    },
    {
     "name": "stderr",
     "output_type": "stream",
     "text": [
      " 13%|█▎        | 122/970 [20:34<2:38:39, 11.23s/it]"
     ]
    },
    {
     "name": "stdout",
     "output_type": "stream",
     "text": [
      "✅ Completed row 184 | Risk Score: 2, Narrative: Financial Distress\n",
      "\n",
      "🔍 Processing row 185 | Ticker: BK, Year: 2025\n",
      "🔹 1 chunk(s) generated\n",
      "🧠 Invoking LLM on chunk 1/1...\n"
     ]
    },
    {
     "name": "stderr",
     "output_type": "stream",
     "text": [
      " 13%|█▎        | 123/970 [20:37<2:05:33,  8.89s/it]"
     ]
    },
    {
     "name": "stdout",
     "output_type": "stream",
     "text": [
      "✅ Completed row 185 | Risk Score: 4, Narrative: Legal & Regulatory\n",
      "\n",
      "🔍 Processing row 187 | Ticker: BKH, Year: 2025\n",
      "🔹 1 chunk(s) generated\n",
      "🧠 Invoking LLM on chunk 1/1...\n"
     ]
    },
    {
     "name": "stderr",
     "output_type": "stream",
     "text": [
      " 13%|█▎        | 124/970 [20:50<2:21:18, 10.02s/it]"
     ]
    },
    {
     "name": "stdout",
     "output_type": "stream",
     "text": [
      "✅ Completed row 187 | Risk Score: 4, Narrative: Financial Distress\n",
      "\n",
      "🔍 Processing row 188 | Ticker: BKNG, Year: 2025\n",
      "🔹 1 chunk(s) generated\n",
      "🧠 Invoking LLM on chunk 1/1...\n"
     ]
    },
    {
     "name": "stderr",
     "output_type": "stream",
     "text": [
      " 13%|█▎        | 125/970 [21:02<2:27:41, 10.49s/it]"
     ]
    },
    {
     "name": "stdout",
     "output_type": "stream",
     "text": [
      "✅ Completed row 188 | Risk Score: 4, Narrative: Market Dependency\n",
      "\n",
      "🔍 Processing row 189 | Ticker: BKR, Year: 2025\n",
      "🔹 1 chunk(s) generated\n",
      "🧠 Invoking LLM on chunk 1/1...\n"
     ]
    },
    {
     "name": "stderr",
     "output_type": "stream",
     "text": [
      " 13%|█▎        | 126/970 [21:12<2:27:47, 10.51s/it]"
     ]
    },
    {
     "name": "stdout",
     "output_type": "stream",
     "text": [
      "✅ Completed row 189 | Risk Score: 4, Narrative: Market Dependency\n",
      "\n",
      "🔍 Processing row 191 | Ticker: BL, Year: 2025\n",
      "🔹 1 chunk(s) generated\n",
      "🧠 Invoking LLM on chunk 1/1...\n"
     ]
    },
    {
     "name": "stderr",
     "output_type": "stream",
     "text": [
      " 13%|█▎        | 127/970 [21:23<2:28:00, 10.53s/it]"
     ]
    },
    {
     "name": "stdout",
     "output_type": "stream",
     "text": [
      "✅ Completed row 191 | Risk Score: 3, Narrative: Financial Distress\n",
      "\n",
      "🔍 Processing row 192 | Ticker: BLD, Year: 2025\n",
      "🔹 1 chunk(s) generated\n",
      "🧠 Invoking LLM on chunk 1/1...\n"
     ]
    },
    {
     "name": "stderr",
     "output_type": "stream",
     "text": [
      " 13%|█▎        | 128/970 [21:34<2:32:05, 10.84s/it]"
     ]
    },
    {
     "name": "stdout",
     "output_type": "stream",
     "text": [
      "✅ Completed row 192 | Risk Score: 5, Narrative: Supply Chain\n",
      "\n",
      "🔍 Processing row 193 | Ticker: BLDR, Year: 2025\n",
      "🔹 1 chunk(s) generated\n",
      "🧠 Invoking LLM on chunk 1/1...\n"
     ]
    },
    {
     "name": "stderr",
     "output_type": "stream",
     "text": [
      " 13%|█▎        | 129/970 [21:45<2:31:30, 10.81s/it]"
     ]
    },
    {
     "name": "stdout",
     "output_type": "stream",
     "text": [
      "✅ Completed row 193 | Risk Score: 4, Narrative: Legal & Regulatory\n",
      "\n",
      "🔍 Processing row 194 | Ticker: BLFS, Year: 2025\n",
      "🔹 1 chunk(s) generated\n",
      "🧠 Invoking LLM on chunk 1/1...\n"
     ]
    },
    {
     "name": "stderr",
     "output_type": "stream",
     "text": [
      " 13%|█▎        | 130/970 [22:00<2:47:35, 11.97s/it]"
     ]
    },
    {
     "name": "stdout",
     "output_type": "stream",
     "text": [
      "✅ Completed row 194 | Risk Score: 4, Narrative: Market Dependency\n",
      "\n",
      "🔍 Processing row 196 | Ticker: BLKB, Year: 2025\n",
      "🔹 1 chunk(s) generated\n",
      "🧠 Invoking LLM on chunk 1/1...\n"
     ]
    },
    {
     "name": "stderr",
     "output_type": "stream",
     "text": [
      " 14%|█▎        | 131/970 [22:11<2:46:09, 11.88s/it]"
     ]
    },
    {
     "name": "stdout",
     "output_type": "stream",
     "text": [
      "✅ Completed row 196 | Risk Score: 4, Narrative: Financial Distress\n",
      "\n",
      "🔍 Processing row 197 | Ticker: BLMN, Year: 2025\n",
      "🔹 1 chunk(s) generated\n",
      "🧠 Invoking LLM on chunk 1/1...\n"
     ]
    },
    {
     "name": "stderr",
     "output_type": "stream",
     "text": [
      " 14%|█▎        | 132/970 [22:17<2:19:28,  9.99s/it]"
     ]
    },
    {
     "name": "stdout",
     "output_type": "stream",
     "text": [
      "✅ Completed row 197 | Risk Score: 4, Narrative: Legal & Regulatory\n",
      "\n",
      "🔍 Processing row 198 | Ticker: BMI, Year: 2025\n",
      "🔹 1 chunk(s) generated\n",
      "🧠 Invoking LLM on chunk 1/1...\n"
     ]
    },
    {
     "name": "stderr",
     "output_type": "stream",
     "text": [
      " 14%|█▎        | 133/970 [22:28<2:25:57, 10.46s/it]"
     ]
    },
    {
     "name": "stdout",
     "output_type": "stream",
     "text": [
      "✅ Completed row 198 | Risk Score: 4, Narrative: Financial Distress\n",
      "\n",
      "🔍 Processing row 199 | Ticker: BMRN, Year: 2025\n",
      "🔹 1 chunk(s) generated\n",
      "🧠 Invoking LLM on chunk 1/1...\n"
     ]
    },
    {
     "name": "stderr",
     "output_type": "stream",
     "text": [
      " 14%|█▍        | 134/970 [22:39<2:26:33, 10.52s/it]"
     ]
    },
    {
     "name": "stdout",
     "output_type": "stream",
     "text": [
      "✅ Completed row 199 | Risk Score: 5, Narrative: Legal & Regulatory\n",
      "\n",
      "🔍 Processing row 200 | Ticker: BMY, Year: 2025\n",
      "🔹 1 chunk(s) generated\n",
      "🧠 Invoking LLM on chunk 1/1...\n"
     ]
    },
    {
     "name": "stderr",
     "output_type": "stream",
     "text": [
      " 14%|█▍        | 135/970 [22:50<2:26:58, 10.56s/it]"
     ]
    },
    {
     "name": "stdout",
     "output_type": "stream",
     "text": [
      "✅ Completed row 200 | Risk Score: 5, Narrative: Market Dependency\n",
      "\n",
      "🔍 Processing row 202 | Ticker: BOOT, Year: 2025\n",
      "🔹 1 chunk(s) generated\n",
      "🧠 Invoking LLM on chunk 1/1...\n"
     ]
    },
    {
     "name": "stderr",
     "output_type": "stream",
     "text": [
      " 14%|█▍        | 136/970 [22:59<2:23:05, 10.29s/it]"
     ]
    },
    {
     "name": "stdout",
     "output_type": "stream",
     "text": [
      "✅ Completed row 202 | Risk Score: 4, Narrative: Financial Distress\n",
      "\n",
      "🔍 Processing row 204 | Ticker: BR, Year: 2024\n",
      "🔹 1 chunk(s) generated\n",
      "🧠 Invoking LLM on chunk 1/1...\n"
     ]
    },
    {
     "name": "stderr",
     "output_type": "stream",
     "text": [
      " 14%|█▍        | 137/970 [23:11<2:28:28, 10.69s/it]"
     ]
    },
    {
     "name": "stdout",
     "output_type": "stream",
     "text": [
      "✅ Completed row 204 | Risk Score: 5, Narrative: Legal & Regulatory\n",
      "\n",
      "🔍 Processing row 209 | Ticker: BRKR, Year: 2025\n",
      "🔹 1 chunk(s) generated\n",
      "🧠 Invoking LLM on chunk 1/1...\n"
     ]
    },
    {
     "name": "stderr",
     "output_type": "stream",
     "text": [
      " 14%|█▍        | 138/970 [23:22<2:27:52, 10.66s/it]"
     ]
    },
    {
     "name": "stdout",
     "output_type": "stream",
     "text": [
      "✅ Completed row 209 | Risk Score: 5, Narrative: Supply Chain\n",
      "\n",
      "🔍 Processing row 211 | Ticker: BRX, Year: 2025\n",
      "🔹 1 chunk(s) generated\n",
      "🧠 Invoking LLM on chunk 1/1...\n"
     ]
    },
    {
     "name": "stderr",
     "output_type": "stream",
     "text": [
      " 14%|█▍        | 139/970 [23:33<2:31:25, 10.93s/it]"
     ]
    },
    {
     "name": "stdout",
     "output_type": "stream",
     "text": [
      "✅ Completed row 211 | Risk Score: 5, Narrative: Market Dependency\n",
      "\n",
      "🔍 Processing row 212 | Ticker: BSX, Year: 2025\n",
      "🔹 1 chunk(s) generated\n",
      "🧠 Invoking LLM on chunk 1/1...\n"
     ]
    },
    {
     "name": "stderr",
     "output_type": "stream",
     "text": [
      " 14%|█▍        | 140/970 [23:44<2:29:57, 10.84s/it]"
     ]
    },
    {
     "name": "stdout",
     "output_type": "stream",
     "text": [
      "✅ Completed row 212 | Risk Score: 5, Narrative: Financial Distress\n",
      "\n",
      "🔍 Processing row 217 | Ticker: BX, Year: 2025\n",
      "🔹 1 chunk(s) generated\n",
      "🧠 Invoking LLM on chunk 1/1...\n"
     ]
    },
    {
     "name": "stderr",
     "output_type": "stream",
     "text": [
      " 15%|█▍        | 141/970 [23:55<2:30:43, 10.91s/it]"
     ]
    },
    {
     "name": "stdout",
     "output_type": "stream",
     "text": [
      "✅ Completed row 217 | Risk Score: 4, Narrative: Financial Distress\n",
      "\n",
      "🔍 Processing row 218 | Ticker: BXMT, Year: 2025\n",
      "🔹 1 chunk(s) generated\n",
      "🧠 Invoking LLM on chunk 1/1...\n"
     ]
    },
    {
     "name": "stderr",
     "output_type": "stream",
     "text": [
      " 15%|█▍        | 142/970 [24:07<2:37:12, 11.39s/it]"
     ]
    },
    {
     "name": "stdout",
     "output_type": "stream",
     "text": [
      "✅ Completed row 218 | Risk Score: 4, Narrative: Legal & Regulatory\n",
      "\n",
      "🔍 Processing row 220 | Ticker: BYD, Year: 2025\n",
      "🔹 1 chunk(s) generated\n",
      "🧠 Invoking LLM on chunk 1/1...\n"
     ]
    },
    {
     "name": "stderr",
     "output_type": "stream",
     "text": [
      " 15%|█▍        | 143/970 [24:12<2:08:18,  9.31s/it]"
     ]
    },
    {
     "name": "stdout",
     "output_type": "stream",
     "text": [
      "✅ Completed row 220 | Risk Score: 4, Narrative: Legal & Regulatory\n",
      "\n",
      "🔍 Processing row 223 | Ticker: CACI, Year: 2024\n",
      "🔹 1 chunk(s) generated\n",
      "🧠 Invoking LLM on chunk 1/1...\n"
     ]
    },
    {
     "name": "stderr",
     "output_type": "stream",
     "text": [
      " 15%|█▍        | 144/970 [24:24<2:21:43, 10.30s/it]"
     ]
    },
    {
     "name": "stdout",
     "output_type": "stream",
     "text": [
      "✅ Completed row 223 | Risk Score: 5, Narrative: Market Dependency\n",
      "\n",
      "🔍 Processing row 228 | Ticker: CALM, Year: 2024\n",
      "🔹 1 chunk(s) generated\n",
      "🧠 Invoking LLM on chunk 1/1...\n"
     ]
    },
    {
     "name": "stderr",
     "output_type": "stream",
     "text": [
      " 15%|█▍        | 145/970 [24:35<2:22:41, 10.38s/it]"
     ]
    },
    {
     "name": "stdout",
     "output_type": "stream",
     "text": [
      "✅ Completed row 228 | Risk Score: 4, Narrative: Legal & Regulatory\n",
      "\n",
      "🔍 Processing row 230 | Ticker: CAR, Year: 2025\n",
      "🔹 1 chunk(s) generated\n",
      "🧠 Invoking LLM on chunk 1/1...\n"
     ]
    },
    {
     "name": "stderr",
     "output_type": "stream",
     "text": [
      " 15%|█▌        | 146/970 [24:48<2:31:22, 11.02s/it]"
     ]
    },
    {
     "name": "stdout",
     "output_type": "stream",
     "text": [
      "✅ Completed row 230 | Risk Score: 5, Narrative: Market Dependency\n",
      "\n",
      "🔍 Processing row 232 | Ticker: CARR, Year: 2025\n",
      "🔹 1 chunk(s) generated\n",
      "🧠 Invoking LLM on chunk 1/1...\n"
     ]
    },
    {
     "name": "stderr",
     "output_type": "stream",
     "text": [
      " 15%|█▌        | 147/970 [24:52<2:04:23,  9.07s/it]"
     ]
    },
    {
     "name": "stdout",
     "output_type": "stream",
     "text": [
      "✅ Completed row 232 | Risk Score: 4, Narrative: Financial Distress\n",
      "\n",
      "🔍 Processing row 233 | Ticker: CARS, Year: 2025\n",
      "🔹 1 chunk(s) generated\n",
      "🧠 Invoking LLM on chunk 1/1...\n"
     ]
    },
    {
     "name": "stderr",
     "output_type": "stream",
     "text": [
      " 15%|█▌        | 148/970 [25:06<2:22:39, 10.41s/it]"
     ]
    },
    {
     "name": "stdout",
     "output_type": "stream",
     "text": [
      "✅ Completed row 233 | Risk Score: 4, Narrative: Market Dependency\n",
      "\n",
      "🔍 Processing row 234 | Ticker: CART, Year: 2025\n",
      "🔹 1 chunk(s) generated\n",
      "🧠 Invoking LLM on chunk 1/1...\n"
     ]
    },
    {
     "name": "stderr",
     "output_type": "stream",
     "text": [
      " 15%|█▌        | 149/970 [25:16<2:23:04, 10.46s/it]"
     ]
    },
    {
     "name": "stdout",
     "output_type": "stream",
     "text": [
      "✅ Completed row 234 | Risk Score: 5, Narrative: Financial Distress\n",
      "\n",
      "🔍 Processing row 235 | Ticker: CASH, Year: 2024\n",
      "🔹 1 chunk(s) generated\n",
      "🧠 Invoking LLM on chunk 1/1...\n"
     ]
    },
    {
     "name": "stderr",
     "output_type": "stream",
     "text": [
      " 15%|█▌        | 150/970 [25:27<2:23:24, 10.49s/it]"
     ]
    },
    {
     "name": "stdout",
     "output_type": "stream",
     "text": [
      "✅ Completed row 235 | Risk Score: 4, Narrative: Financial Distress\n",
      "\n",
      "🔍 Processing row 237 | Ticker: CAT, Year: 2025\n",
      "🔹 1 chunk(s) generated\n",
      "🧠 Invoking LLM on chunk 1/1...\n"
     ]
    },
    {
     "name": "stderr",
     "output_type": "stream",
     "text": [
      " 16%|█▌        | 151/970 [25:39<2:28:30, 10.88s/it]"
     ]
    },
    {
     "name": "stdout",
     "output_type": "stream",
     "text": [
      "✅ Completed row 237 | Risk Score: 4, Narrative: Financial Distress\n",
      "\n",
      "🔍 Processing row 238 | Ticker: CATY, Year: 2025\n",
      "🔹 1 chunk(s) generated\n",
      "🧠 Invoking LLM on chunk 1/1...\n"
     ]
    },
    {
     "name": "stderr",
     "output_type": "stream",
     "text": [
      " 16%|█▌        | 152/970 [25:51<2:35:14, 11.39s/it]"
     ]
    },
    {
     "name": "stdout",
     "output_type": "stream",
     "text": [
      "✅ Completed row 238 | Risk Score: 5, Narrative: Legal & Regulatory\n",
      "\n",
      "🔍 Processing row 239 | Ticker: CAVA, Year: 2025\n",
      "🔹 1 chunk(s) generated\n",
      "🧠 Invoking LLM on chunk 1/1...\n"
     ]
    },
    {
     "name": "stderr",
     "output_type": "stream",
     "text": [
      " 16%|█▌        | 153/970 [26:02<2:31:33, 11.13s/it]"
     ]
    },
    {
     "name": "stdout",
     "output_type": "stream",
     "text": [
      "✅ Completed row 239 | Risk Score: 4, Narrative: Market Dependency\n",
      "\n",
      "🔍 Processing row 240 | Ticker: CB, Year: 2025\n",
      "🔹 1 chunk(s) generated\n",
      "🧠 Invoking LLM on chunk 1/1...\n"
     ]
    },
    {
     "name": "stderr",
     "output_type": "stream",
     "text": [
      " 16%|█▌        | 154/970 [26:04<1:56:02,  8.53s/it]"
     ]
    },
    {
     "name": "stdout",
     "output_type": "stream",
     "text": [
      "✅ Completed row 240 | Risk Score: 3, Narrative: Financial Distress\n",
      "\n",
      "🔍 Processing row 242 | Ticker: CBRE, Year: 2025\n",
      "🔹 1 chunk(s) generated\n",
      "🧠 Invoking LLM on chunk 1/1...\n"
     ]
    },
    {
     "name": "stderr",
     "output_type": "stream",
     "text": [
      " 16%|█▌        | 155/970 [26:16<2:08:16,  9.44s/it]"
     ]
    },
    {
     "name": "stdout",
     "output_type": "stream",
     "text": [
      "✅ Completed row 242 | Risk Score: 4, Narrative: Legal & Regulatory\n",
      "\n",
      "🔍 Processing row 243 | Ticker: CBRL, Year: 2024\n",
      "🔹 1 chunk(s) generated\n",
      "🧠 Invoking LLM on chunk 1/1...\n"
     ]
    },
    {
     "name": "stderr",
     "output_type": "stream",
     "text": [
      " 16%|█▌        | 156/970 [26:27<2:16:47, 10.08s/it]"
     ]
    },
    {
     "name": "stdout",
     "output_type": "stream",
     "text": [
      "✅ Completed row 243 | Risk Score: 5, Narrative: Legal & Regulatory\n",
      "\n",
      "🔍 Processing row 244 | Ticker: CBSH, Year: 2025\n",
      "🔹 1 chunk(s) generated\n",
      "🧠 Invoking LLM on chunk 1/1...\n"
     ]
    },
    {
     "name": "stderr",
     "output_type": "stream",
     "text": [
      " 16%|█▌        | 157/970 [26:37<2:15:40, 10.01s/it]"
     ]
    },
    {
     "name": "stdout",
     "output_type": "stream",
     "text": [
      "✅ Completed row 244 | Risk Score: 4, Narrative: Financial Distress\n",
      "\n",
      "🔍 Processing row 246 | Ticker: CBU, Year: 2025\n",
      "🔹 1 chunk(s) generated\n",
      "🧠 Invoking LLM on chunk 1/1...\n"
     ]
    },
    {
     "name": "stderr",
     "output_type": "stream",
     "text": [
      " 16%|█▋        | 158/970 [26:48<2:19:10, 10.28s/it]"
     ]
    },
    {
     "name": "stdout",
     "output_type": "stream",
     "text": [
      "✅ Completed row 246 | Risk Score: 2, Narrative: Financial Distress\n",
      "\n",
      "🔍 Processing row 248 | Ticker: CCI, Year: 2025\n",
      "🔹 1 chunk(s) generated\n",
      "🧠 Invoking LLM on chunk 1/1...\n"
     ]
    },
    {
     "name": "stderr",
     "output_type": "stream",
     "text": [
      " 16%|█▋        | 159/970 [27:02<2:32:17, 11.27s/it]"
     ]
    },
    {
     "name": "stdout",
     "output_type": "stream",
     "text": [
      "✅ Completed row 248 | Risk Score: 4, Narrative: Financial Distress\n",
      "\n",
      "🔍 Processing row 249 | Ticker: CCK, Year: 2025\n",
      "🔹 1 chunk(s) generated\n",
      "🧠 Invoking LLM on chunk 1/1...\n"
     ]
    },
    {
     "name": "stderr",
     "output_type": "stream",
     "text": [
      " 16%|█▋        | 160/970 [27:07<2:08:59,  9.55s/it]"
     ]
    },
    {
     "name": "stdout",
     "output_type": "stream",
     "text": [
      "✅ Completed row 249 | Risk Score: 4, Narrative: Financial Distress\n",
      "\n",
      "🔍 Processing row 250 | Ticker: CCL, Year: 2025\n",
      "🔹 1 chunk(s) generated\n",
      "🧠 Invoking LLM on chunk 1/1...\n"
     ]
    },
    {
     "name": "stderr",
     "output_type": "stream",
     "text": [
      " 17%|█▋        | 161/970 [27:20<2:20:55, 10.45s/it]"
     ]
    },
    {
     "name": "stdout",
     "output_type": "stream",
     "text": [
      "✅ Completed row 250 | Risk Score: 5, Narrative: Financial Distress\n",
      "\n",
      "🔍 Processing row 251 | Ticker: CCOI, Year: 2025\n",
      "🔹 1 chunk(s) generated\n",
      "🧠 Invoking LLM on chunk 1/1...\n"
     ]
    },
    {
     "name": "stderr",
     "output_type": "stream",
     "text": [
      " 17%|█▋        | 162/970 [27:30<2:21:42, 10.52s/it]"
     ]
    },
    {
     "name": "stdout",
     "output_type": "stream",
     "text": [
      "✅ Completed row 251 | Risk Score: 4, Narrative: Financial Distress\n",
      "\n",
      "🔍 Processing row 252 | Ticker: CCS, Year: 2025\n",
      "🔹 1 chunk(s) generated\n",
      "🧠 Invoking LLM on chunk 1/1...\n"
     ]
    },
    {
     "name": "stderr",
     "output_type": "stream",
     "text": [
      " 17%|█▋        | 163/970 [27:41<2:21:52, 10.55s/it]"
     ]
    },
    {
     "name": "stdout",
     "output_type": "stream",
     "text": [
      "✅ Completed row 252 | Risk Score: 4, Narrative: Financial Distress\n",
      "\n",
      "🔍 Processing row 253 | Ticker: CDNS, Year: 2025\n",
      "🔹 1 chunk(s) generated\n",
      "🧠 Invoking LLM on chunk 1/1...\n"
     ]
    },
    {
     "name": "stderr",
     "output_type": "stream",
     "text": [
      " 17%|█▋        | 164/970 [27:55<2:36:54, 11.68s/it]"
     ]
    },
    {
     "name": "stdout",
     "output_type": "stream",
     "text": [
      "✅ Completed row 253 | Risk Score: 4, Narrative: Legal & Regulatory\n",
      "\n",
      "🔍 Processing row 254 | Ticker: CDP, Year: 2025\n",
      "🔹 1 chunk(s) generated\n",
      "🧠 Invoking LLM on chunk 1/1...\n"
     ]
    },
    {
     "name": "stderr",
     "output_type": "stream",
     "text": [
      " 17%|█▋        | 165/970 [28:05<2:30:22, 11.21s/it]"
     ]
    },
    {
     "name": "stdout",
     "output_type": "stream",
     "text": [
      "✅ Completed row 254 | Risk Score: 4, Narrative: Legal & Regulatory\n",
      "\n",
      "🔍 Processing row 255 | Ticker: CDW, Year: 2025\n",
      "🔹 1 chunk(s) generated\n",
      "🧠 Invoking LLM on chunk 1/1...\n"
     ]
    },
    {
     "name": "stderr",
     "output_type": "stream",
     "text": [
      " 17%|█▋        | 166/970 [28:18<2:35:45, 11.62s/it]"
     ]
    },
    {
     "name": "stdout",
     "output_type": "stream",
     "text": [
      "✅ Completed row 255 | Risk Score: 4, Narrative: Market Dependency\n",
      "\n",
      "🔍 Processing row 256 | Ticker: CE, Year: 2025\n",
      "🔹 1 chunk(s) generated\n",
      "🧠 Invoking LLM on chunk 1/1...\n"
     ]
    },
    {
     "name": "stderr",
     "output_type": "stream",
     "text": [
      " 17%|█▋        | 167/970 [28:27<2:23:25, 10.72s/it]"
     ]
    },
    {
     "name": "stdout",
     "output_type": "stream",
     "text": [
      "✅ Completed row 256 | Risk Score: 4, Narrative: Legal & Regulatory\n",
      "\n",
      "🔍 Processing row 257 | Ticker: CEG, Year: 2025\n",
      "🔹 1 chunk(s) generated\n",
      "🧠 Invoking LLM on chunk 1/1...\n"
     ]
    },
    {
     "name": "stderr",
     "output_type": "stream",
     "text": [
      " 17%|█▋        | 168/970 [28:39<2:30:57, 11.29s/it]"
     ]
    },
    {
     "name": "stdout",
     "output_type": "stream",
     "text": [
      "✅ Completed row 257 | Risk Score: 4, Narrative: Legal & Regulatory\n",
      "\n",
      "🔍 Processing row 258 | Ticker: CELH, Year: 2025\n",
      "🔹 1 chunk(s) generated\n",
      "🧠 Invoking LLM on chunk 1/1...\n"
     ]
    },
    {
     "name": "stderr",
     "output_type": "stream",
     "text": [
      " 17%|█▋        | 169/970 [28:52<2:35:44, 11.67s/it]"
     ]
    },
    {
     "name": "stdout",
     "output_type": "stream",
     "text": [
      "✅ Completed row 258 | Risk Score: 5, Narrative: Supply Chain\n",
      "\n",
      "🔍 Processing row 261 | Ticker: CENX, Year: 2025\n",
      "🔹 1 chunk(s) generated\n",
      "🧠 Invoking LLM on chunk 1/1...\n"
     ]
    },
    {
     "name": "stderr",
     "output_type": "stream",
     "text": [
      " 18%|█▊        | 170/970 [29:01<2:27:05, 11.03s/it]"
     ]
    },
    {
     "name": "stdout",
     "output_type": "stream",
     "text": [
      "✅ Completed row 261 | Risk Score: 4, Narrative: Market Dependency\n",
      "\n",
      "🔍 Processing row 262 | Ticker: CERT, Year: 2025\n",
      "🔹 1 chunk(s) generated\n",
      "🧠 Invoking LLM on chunk 1/1...\n"
     ]
    },
    {
     "name": "stderr",
     "output_type": "stream",
     "text": [
      " 18%|█▊        | 171/970 [29:06<2:00:44,  9.07s/it]"
     ]
    },
    {
     "name": "stdout",
     "output_type": "stream",
     "text": [
      "✅ Completed row 262 | Risk Score: 4, Narrative: Legal & Regulatory\n",
      "\n",
      "🔍 Processing row 263 | Ticker: CEVA, Year: 2025\n",
      "🔹 1 chunk(s) generated\n",
      "🧠 Invoking LLM on chunk 1/1...\n"
     ]
    },
    {
     "name": "stderr",
     "output_type": "stream",
     "text": [
      " 18%|█▊        | 172/970 [29:17<2:10:45,  9.83s/it]"
     ]
    },
    {
     "name": "stdout",
     "output_type": "stream",
     "text": [
      "✅ Completed row 263 | Risk Score: 4, Narrative: Market Dependency\n",
      "\n",
      "🔍 Processing row 264 | Ticker: CF, Year: 2025\n",
      "🔹 1 chunk(s) generated\n",
      "🧠 Invoking LLM on chunk 1/1...\n"
     ]
    },
    {
     "name": "stderr",
     "output_type": "stream",
     "text": [
      " 18%|█▊        | 173/970 [29:21<1:45:14,  7.92s/it]"
     ]
    },
    {
     "name": "stdout",
     "output_type": "stream",
     "text": [
      "✅ Completed row 264 | Risk Score: 4, Narrative: Legal & Regulatory\n",
      "\n",
      "🔍 Processing row 265 | Ticker: CFFN, Year: 2024\n",
      "🔹 1 chunk(s) generated\n",
      "🧠 Invoking LLM on chunk 1/1...\n"
     ]
    },
    {
     "name": "stderr",
     "output_type": "stream",
     "text": [
      " 18%|█▊        | 174/970 [29:34<2:03:39,  9.32s/it]"
     ]
    },
    {
     "name": "stdout",
     "output_type": "stream",
     "text": [
      "✅ Completed row 265 | Risk Score: 4, Narrative: Financial Distress\n",
      "\n",
      "🔍 Processing row 266 | Ticker: CFG, Year: 2025\n",
      "🔹 1 chunk(s) generated\n",
      "🧠 Invoking LLM on chunk 1/1...\n"
     ]
    },
    {
     "name": "stderr",
     "output_type": "stream",
     "text": [
      " 18%|█▊        | 175/970 [29:36<1:36:21,  7.27s/it]"
     ]
    },
    {
     "name": "stdout",
     "output_type": "stream",
     "text": [
      "✅ Completed row 266 | Risk Score: 4, Narrative: Legal & Regulatory\n",
      "\n",
      "🔍 Processing row 267 | Ticker: CFR, Year: 2025\n",
      "🔹 1 chunk(s) generated\n",
      "🧠 Invoking LLM on chunk 1/1...\n"
     ]
    },
    {
     "name": "stderr",
     "output_type": "stream",
     "text": [
      " 18%|█▊        | 176/970 [29:49<1:57:56,  8.91s/it]"
     ]
    },
    {
     "name": "stdout",
     "output_type": "stream",
     "text": [
      "✅ Completed row 267 | Risk Score: 5, Narrative: Legal & Regulatory\n",
      "\n",
      "🔍 Processing row 269 | Ticker: CGNX, Year: 2025\n",
      "🔹 1 chunk(s) generated\n",
      "🧠 Invoking LLM on chunk 1/1...\n"
     ]
    },
    {
     "name": "stderr",
     "output_type": "stream",
     "text": [
      " 18%|█▊        | 177/970 [30:00<2:08:17,  9.71s/it]"
     ]
    },
    {
     "name": "stdout",
     "output_type": "stream",
     "text": [
      "✅ Completed row 269 | Risk Score: 5, Narrative: Market Dependency\n",
      "\n",
      "🔍 Processing row 270 | Ticker: CHCO, Year: 2025\n",
      "🔹 1 chunk(s) generated\n",
      "🧠 Invoking LLM on chunk 1/1...\n"
     ]
    },
    {
     "name": "stderr",
     "output_type": "stream",
     "text": [
      " 18%|█▊        | 178/970 [30:10<2:07:20,  9.65s/it]"
     ]
    },
    {
     "name": "stdout",
     "output_type": "stream",
     "text": [
      "✅ Completed row 270 | Risk Score: 5, Narrative: Financial Distress\n",
      "\n",
      "🔍 Processing row 272 | Ticker: CHDN, Year: 2025\n",
      "🔹 1 chunk(s) generated\n",
      "🧠 Invoking LLM on chunk 1/1...\n"
     ]
    },
    {
     "name": "stderr",
     "output_type": "stream",
     "text": [
      " 18%|█▊        | 179/970 [30:20<2:10:53,  9.93s/it]"
     ]
    },
    {
     "name": "stdout",
     "output_type": "stream",
     "text": [
      "✅ Completed row 272 | Risk Score: 3, Narrative: Legal & Regulatory\n",
      "\n",
      "🔍 Processing row 273 | Ticker: CHE, Year: 2025\n",
      "🔹 1 chunk(s) generated\n",
      "🧠 Invoking LLM on chunk 1/1...\n"
     ]
    },
    {
     "name": "stderr",
     "output_type": "stream",
     "text": [
      " 19%|█▊        | 180/970 [30:32<2:17:12, 10.42s/it]"
     ]
    },
    {
     "name": "stdout",
     "output_type": "stream",
     "text": [
      "✅ Completed row 273 | Risk Score: 4, Narrative: Market Dependency\n",
      "\n",
      "🔍 Processing row 275 | Ticker: CHH, Year: 2025\n",
      "🔹 1 chunk(s) generated\n",
      "🧠 Invoking LLM on chunk 1/1...\n"
     ]
    },
    {
     "name": "stderr",
     "output_type": "stream",
     "text": [
      " 19%|█▊        | 181/970 [30:45<2:25:33, 11.07s/it]"
     ]
    },
    {
     "name": "stdout",
     "output_type": "stream",
     "text": [
      "✅ Completed row 275 | Risk Score: 2, Narrative: Legal & Regulatory\n",
      "\n",
      "🔍 Processing row 276 | Ticker: CHRD, Year: 2025\n",
      "🔹 1 chunk(s) generated\n",
      "🧠 Invoking LLM on chunk 1/1...\n"
     ]
    },
    {
     "name": "stderr",
     "output_type": "stream",
     "text": [
      " 19%|█▉        | 182/970 [30:56<2:27:39, 11.24s/it]"
     ]
    },
    {
     "name": "stdout",
     "output_type": "stream",
     "text": [
      "✅ Completed row 276 | Risk Score: 5, Narrative: Market Dependency\n",
      "\n",
      "🔍 Processing row 277 | Ticker: CHRW, Year: 2025\n",
      "🔹 1 chunk(s) generated\n",
      "🧠 Invoking LLM on chunk 1/1...\n"
     ]
    },
    {
     "name": "stderr",
     "output_type": "stream",
     "text": [
      " 19%|█▉        | 183/970 [31:08<2:28:37, 11.33s/it]"
     ]
    },
    {
     "name": "stdout",
     "output_type": "stream",
     "text": [
      "✅ Completed row 277 | Risk Score: 5, Narrative: Financial Distress\n",
      "\n",
      "🔍 Processing row 278 | Ticker: CHTR, Year: 2025\n",
      "🔹 1 chunk(s) generated\n",
      "🧠 Invoking LLM on chunk 1/1...\n"
     ]
    },
    {
     "name": "stderr",
     "output_type": "stream",
     "text": [
      " 19%|█▉        | 184/970 [31:18<2:25:39, 11.12s/it]"
     ]
    },
    {
     "name": "stdout",
     "output_type": "stream",
     "text": [
      "✅ Completed row 278 | Risk Score: 5, Narrative: Legal & Regulatory\n",
      "\n",
      "🔍 Processing row 279 | Ticker: CHWY, Year: 2025\n",
      "🔹 1 chunk(s) generated\n",
      "🧠 Invoking LLM on chunk 1/1...\n"
     ]
    },
    {
     "name": "stderr",
     "output_type": "stream",
     "text": [
      " 19%|█▉        | 185/970 [31:30<2:27:11, 11.25s/it]"
     ]
    },
    {
     "name": "stdout",
     "output_type": "stream",
     "text": [
      "✅ Completed row 279 | Risk Score: 4, Narrative: Financial Distress\n",
      "\n",
      "🔍 Processing row 280 | Ticker: CHX, Year: 2025\n",
      "🔹 1 chunk(s) generated\n",
      "🧠 Invoking LLM on chunk 1/1...\n"
     ]
    },
    {
     "name": "stderr",
     "output_type": "stream",
     "text": [
      " 19%|█▉        | 186/970 [31:32<1:52:38,  8.62s/it]"
     ]
    },
    {
     "name": "stdout",
     "output_type": "stream",
     "text": [
      "✅ Completed row 280 | Risk Score: 4, Narrative: Legal & Regulatory\n",
      "\n",
      "🔍 Processing row 284 | Ticker: CIVI, Year: 2025\n",
      "🔹 1 chunk(s) generated\n",
      "🧠 Invoking LLM on chunk 1/1...\n"
     ]
    },
    {
     "name": "stderr",
     "output_type": "stream",
     "text": [
      " 19%|█▉        | 187/970 [31:45<2:08:04,  9.81s/it]"
     ]
    },
    {
     "name": "stdout",
     "output_type": "stream",
     "text": [
      "✅ Completed row 284 | Risk Score: 4, Narrative: Legal & Regulatory\n",
      "\n",
      "🔍 Processing row 286 | Ticker: CLB, Year: 2025\n",
      "🔹 1 chunk(s) generated\n",
      "🧠 Invoking LLM on chunk 1/1...\n"
     ]
    },
    {
     "name": "stderr",
     "output_type": "stream",
     "text": [
      " 19%|█▉        | 188/970 [31:56<2:11:08, 10.06s/it]"
     ]
    },
    {
     "name": "stdout",
     "output_type": "stream",
     "text": [
      "✅ Completed row 286 | Risk Score: 4, Narrative: Legal & Regulatory\n",
      "\n",
      "🔍 Processing row 287 | Ticker: CLF, Year: 2025\n",
      "🔹 1 chunk(s) generated\n",
      "🧠 Invoking LLM on chunk 1/1...\n"
     ]
    },
    {
     "name": "stderr",
     "output_type": "stream",
     "text": [
      " 19%|█▉        | 189/970 [32:07<2:16:48, 10.51s/it]"
     ]
    },
    {
     "name": "stdout",
     "output_type": "stream",
     "text": [
      "✅ Completed row 287 | Risk Score: 4, Narrative: Supply Chain\n",
      "\n",
      "🔍 Processing row 289 | Ticker: CLSK, Year: 2024\n",
      "🔹 1 chunk(s) generated\n",
      "🧠 Invoking LLM on chunk 1/1...\n"
     ]
    },
    {
     "name": "stderr",
     "output_type": "stream",
     "text": [
      " 20%|█▉        | 190/970 [32:19<2:20:43, 10.83s/it]"
     ]
    },
    {
     "name": "stdout",
     "output_type": "stream",
     "text": [
      "✅ Completed row 289 | Risk Score: 5, Narrative: Market Dependency\n",
      "\n",
      "🔍 Processing row 291 | Ticker: CMA, Year: 2025\n",
      "🔹 1 chunk(s) generated\n",
      "🧠 Invoking LLM on chunk 1/1...\n"
     ]
    },
    {
     "name": "stderr",
     "output_type": "stream",
     "text": [
      " 20%|█▉        | 191/970 [32:29<2:20:01, 10.78s/it]"
     ]
    },
    {
     "name": "stdout",
     "output_type": "stream",
     "text": [
      "✅ Completed row 291 | Risk Score: 1, Narrative: Legal & Regulatory\n",
      "\n",
      "🔍 Processing row 292 | Ticker: CMC, Year: 2024\n",
      "🔹 1 chunk(s) generated\n",
      "🧠 Invoking LLM on chunk 1/1...\n"
     ]
    },
    {
     "name": "stderr",
     "output_type": "stream",
     "text": [
      " 20%|█▉        | 192/970 [32:41<2:23:07, 11.04s/it]"
     ]
    },
    {
     "name": "stdout",
     "output_type": "stream",
     "text": [
      "✅ Completed row 292 | Risk Score: 5, Narrative: Supply Chain\n",
      "\n",
      "🔍 Processing row 293 | Ticker: CMCSA, Year: 2025\n",
      "🔹 1 chunk(s) generated\n",
      "🧠 Invoking LLM on chunk 1/1...\n"
     ]
    },
    {
     "name": "stderr",
     "output_type": "stream",
     "text": [
      " 20%|█▉        | 193/970 [32:51<2:17:20, 10.61s/it]"
     ]
    },
    {
     "name": "stdout",
     "output_type": "stream",
     "text": [
      "✅ Completed row 293 | Risk Score: 4, Narrative: Legal & Regulatory\n",
      "\n",
      "🔍 Processing row 295 | Ticker: CMG, Year: 2025\n",
      "🔹 1 chunk(s) generated\n",
      "🧠 Invoking LLM on chunk 1/1...\n"
     ]
    },
    {
     "name": "stderr",
     "output_type": "stream",
     "text": [
      " 20%|██        | 194/970 [33:02<2:21:01, 10.90s/it]"
     ]
    },
    {
     "name": "stdout",
     "output_type": "stream",
     "text": [
      "✅ Completed row 295 | Risk Score: 5, Narrative: Supply Chain\n",
      "\n",
      "🔍 Processing row 296 | Ticker: CMI, Year: 2025\n",
      "🔹 1 chunk(s) generated\n",
      "🧠 Invoking LLM on chunk 1/1...\n"
     ]
    },
    {
     "name": "stderr",
     "output_type": "stream",
     "text": [
      " 20%|██        | 195/970 [33:12<2:15:49, 10.52s/it]"
     ]
    },
    {
     "name": "stdout",
     "output_type": "stream",
     "text": [
      "✅ Completed row 296 | Risk Score: 5, Narrative: Legal & Regulatory\n",
      "\n",
      "🔍 Processing row 298 | Ticker: CNC, Year: 2025\n",
      "🔹 1 chunk(s) generated\n",
      "🧠 Invoking LLM on chunk 1/1...\n"
     ]
    },
    {
     "name": "stderr",
     "output_type": "stream",
     "text": [
      " 20%|██        | 196/970 [33:21<2:12:10, 10.25s/it]"
     ]
    },
    {
     "name": "stdout",
     "output_type": "stream",
     "text": [
      "✅ Completed row 298 | Risk Score: 4, Narrative: Financial Distress\n",
      "\n",
      "🔍 Processing row 299 | Ticker: CNH, Year: 2025\n",
      "🔹 1 chunk(s) generated\n",
      "🧠 Invoking LLM on chunk 1/1...\n"
     ]
    },
    {
     "name": "stderr",
     "output_type": "stream",
     "text": [
      " 20%|██        | 197/970 [33:32<2:13:26, 10.36s/it]"
     ]
    },
    {
     "name": "stdout",
     "output_type": "stream",
     "text": [
      "✅ Completed row 299 | Risk Score: 4, Narrative: Legal & Regulatory\n",
      "\n",
      "🔍 Processing row 301 | Ticker: CNM, Year: 2025\n",
      "🔹 1 chunk(s) generated\n",
      "🧠 Invoking LLM on chunk 1/1...\n"
     ]
    },
    {
     "name": "stderr",
     "output_type": "stream",
     "text": [
      " 20%|██        | 198/970 [33:38<1:54:44,  8.92s/it]"
     ]
    },
    {
     "name": "stdout",
     "output_type": "stream",
     "text": [
      "✅ Completed row 301 | Risk Score: 4, Narrative: Financial Distress\n",
      "\n",
      "🔍 Processing row 302 | Ticker: CNMD, Year: 2025\n",
      "🔹 1 chunk(s) generated\n",
      "🧠 Invoking LLM on chunk 1/1...\n"
     ]
    },
    {
     "name": "stderr",
     "output_type": "stream",
     "text": [
      " 21%|██        | 199/970 [33:41<1:33:28,  7.27s/it]"
     ]
    },
    {
     "name": "stdout",
     "output_type": "stream",
     "text": [
      "✅ Completed row 302 | Risk Score: 4, Narrative: Legal & Regulatory\n",
      "\n",
      "🔍 Processing row 303 | Ticker: CNO, Year: 2025\n",
      "🔹 1 chunk(s) generated\n",
      "🧠 Invoking LLM on chunk 1/1...\n"
     ]
    },
    {
     "name": "stderr",
     "output_type": "stream",
     "text": [
      " 21%|██        | 200/970 [33:53<1:50:16,  8.59s/it]"
     ]
    },
    {
     "name": "stdout",
     "output_type": "stream",
     "text": [
      "✅ Completed row 303 | Risk Score: 4, Narrative: Financial Distress\n",
      "\n",
      "🔍 Processing row 304 | Ticker: CNP, Year: 2025\n",
      "🔹 1 chunk(s) generated\n",
      "🧠 Invoking LLM on chunk 1/1...\n"
     ]
    },
    {
     "name": "stderr",
     "output_type": "stream",
     "text": [
      " 21%|██        | 201/970 [34:03<1:55:17,  9.00s/it]"
     ]
    },
    {
     "name": "stdout",
     "output_type": "stream",
     "text": [
      "✅ Completed row 304 | Risk Score: 4, Narrative: Legal & Regulatory\n",
      "\n",
      "🔍 Processing row 306 | Ticker: CNS, Year: 2025\n",
      "🔹 1 chunk(s) generated\n",
      "🧠 Invoking LLM on chunk 1/1...\n"
     ]
    },
    {
     "name": "stderr",
     "output_type": "stream",
     "text": [
      " 21%|██        | 202/970 [34:14<2:05:13,  9.78s/it]"
     ]
    },
    {
     "name": "stdout",
     "output_type": "stream",
     "text": [
      "✅ Completed row 306 | Risk Score: 5, Narrative: Legal & Regulatory\n",
      "\n",
      "🔍 Processing row 307 | Ticker: CNX, Year: 2025\n",
      "🔹 1 chunk(s) generated\n",
      "🧠 Invoking LLM on chunk 1/1...\n"
     ]
    },
    {
     "name": "stderr",
     "output_type": "stream",
     "text": [
      " 21%|██        | 203/970 [34:17<1:36:58,  7.59s/it]"
     ]
    },
    {
     "name": "stdout",
     "output_type": "stream",
     "text": [
      "✅ Completed row 307 | Risk Score: 4, Narrative: Legal & Regulatory\n",
      "\n",
      "🔍 Processing row 308 | Ticker: CNXC, Year: 2025\n",
      "🔹 1 chunk(s) generated\n",
      "🧠 Invoking LLM on chunk 1/1...\n"
     ]
    },
    {
     "name": "stderr",
     "output_type": "stream",
     "text": [
      " 21%|██        | 204/970 [34:20<1:21:04,  6.35s/it]"
     ]
    },
    {
     "name": "stdout",
     "output_type": "stream",
     "text": [
      "✅ Completed row 308 | Risk Score: 4, Narrative: Legal & Regulatory\n",
      "\n",
      "🔍 Processing row 309 | Ticker: CNXN, Year: 2025\n",
      "🔹 1 chunk(s) generated\n",
      "🧠 Invoking LLM on chunk 1/1...\n"
     ]
    },
    {
     "name": "stderr",
     "output_type": "stream",
     "text": [
      " 21%|██        | 205/970 [34:33<1:44:53,  8.23s/it]"
     ]
    },
    {
     "name": "stdout",
     "output_type": "stream",
     "text": [
      "✅ Completed row 309 | Risk Score: 4, Narrative: Financial Distress\n",
      "\n",
      "🔍 Processing row 310 | Ticker: COF, Year: 2025\n",
      "🔹 1 chunk(s) generated\n",
      "🧠 Invoking LLM on chunk 1/1...\n"
     ]
    },
    {
     "name": "stderr",
     "output_type": "stream",
     "text": [
      " 21%|██        | 206/970 [34:44<1:57:28,  9.23s/it]"
     ]
    },
    {
     "name": "stdout",
     "output_type": "stream",
     "text": [
      "✅ Completed row 310 | Risk Score: 5, Narrative: Legal & Regulatory\n",
      "\n",
      "🔍 Processing row 312 | Ticker: COHU, Year: 2025\n",
      "🔹 1 chunk(s) generated\n",
      "🧠 Invoking LLM on chunk 1/1...\n"
     ]
    },
    {
     "name": "stderr",
     "output_type": "stream",
     "text": [
      " 21%|██▏       | 207/970 [34:56<2:06:22,  9.94s/it]"
     ]
    },
    {
     "name": "stdout",
     "output_type": "stream",
     "text": [
      "✅ Completed row 312 | Risk Score: 4, Narrative: Market Dependency\n",
      "\n",
      "🔍 Processing row 313 | Ticker: COIN, Year: 2025\n",
      "🔹 1 chunk(s) generated\n",
      "🧠 Invoking LLM on chunk 1/1...\n"
     ]
    },
    {
     "name": "stderr",
     "output_type": "stream",
     "text": [
      " 21%|██▏       | 208/970 [35:08<2:12:34, 10.44s/it]"
     ]
    },
    {
     "name": "stdout",
     "output_type": "stream",
     "text": [
      "✅ Completed row 313 | Risk Score: 4, Narrative: Legal & Regulatory\n",
      "\n",
      "🔍 Processing row 314 | Ticker: COKE, Year: 2025\n",
      "🔹 1 chunk(s) generated\n",
      "🧠 Invoking LLM on chunk 1/1...\n"
     ]
    },
    {
     "name": "stderr",
     "output_type": "stream",
     "text": [
      " 22%|██▏       | 209/970 [35:19<2:17:17, 10.82s/it]"
     ]
    },
    {
     "name": "stdout",
     "output_type": "stream",
     "text": [
      "✅ Completed row 314 | Risk Score: 4, Narrative: Legal & Regulatory\n",
      "\n",
      "🔍 Processing row 315 | Ticker: COLB, Year: 2025\n",
      "🔹 1 chunk(s) generated\n",
      "🧠 Invoking LLM on chunk 1/1...\n"
     ]
    },
    {
     "name": "stderr",
     "output_type": "stream",
     "text": [
      " 22%|██▏       | 210/970 [35:26<2:01:08,  9.56s/it]"
     ]
    },
    {
     "name": "stdout",
     "output_type": "stream",
     "text": [
      "✅ Completed row 315 | Risk Score: 4, Narrative: Financial Distress\n",
      "\n",
      "🔍 Processing row 316 | Ticker: COLL, Year: 2025\n",
      "🔹 1 chunk(s) generated\n",
      "🧠 Invoking LLM on chunk 1/1...\n"
     ]
    },
    {
     "name": "stderr",
     "output_type": "stream",
     "text": [
      " 22%|██▏       | 211/970 [35:39<2:12:58, 10.51s/it]"
     ]
    },
    {
     "name": "stdout",
     "output_type": "stream",
     "text": [
      "✅ Completed row 316 | Risk Score: 5, Narrative: Financial Distress\n",
      "\n",
      "🔍 Processing row 320 | Ticker: COOP, Year: 2025\n",
      "🔹 1 chunk(s) generated\n",
      "🧠 Invoking LLM on chunk 1/1...\n"
     ]
    },
    {
     "name": "stderr",
     "output_type": "stream",
     "text": [
      " 22%|██▏       | 212/970 [35:50<2:16:23, 10.80s/it]"
     ]
    },
    {
     "name": "stdout",
     "output_type": "stream",
     "text": [
      "✅ Completed row 320 | Risk Score: 4, Narrative: Legal & Regulatory\n",
      "\n",
      "🔍 Processing row 321 | Ticker: COP, Year: 2025\n",
      "🔹 1 chunk(s) generated\n",
      "🧠 Invoking LLM on chunk 1/1...\n"
     ]
    },
    {
     "name": "stderr",
     "output_type": "stream",
     "text": [
      " 22%|██▏       | 213/970 [36:02<2:19:20, 11.04s/it]"
     ]
    },
    {
     "name": "stdout",
     "output_type": "stream",
     "text": [
      "✅ Completed row 321 | Risk Score: 5, Narrative: Market Dependency\n",
      "\n",
      "🔍 Processing row 322 | Ticker: COR, Year: 2024\n",
      "🔹 1 chunk(s) generated\n",
      "🧠 Invoking LLM on chunk 1/1...\n"
     ]
    },
    {
     "name": "stderr",
     "output_type": "stream",
     "text": [
      " 22%|██▏       | 214/970 [36:11<2:13:40, 10.61s/it]"
     ]
    },
    {
     "name": "stdout",
     "output_type": "stream",
     "text": [
      "✅ Completed row 322 | Risk Score: 4, Narrative: Market Dependency\n",
      "\n",
      "🔍 Processing row 323 | Ticker: CORT, Year: 2025\n",
      "🔹 1 chunk(s) generated\n",
      "🧠 Invoking LLM on chunk 1/1...\n"
     ]
    },
    {
     "name": "stderr",
     "output_type": "stream",
     "text": [
      " 22%|██▏       | 215/970 [36:22<2:13:38, 10.62s/it]"
     ]
    },
    {
     "name": "stdout",
     "output_type": "stream",
     "text": [
      "✅ Completed row 323 | Risk Score: 4, Narrative: Legal & Regulatory\n",
      "\n",
      "🔍 Processing row 325 | Ticker: COTY, Year: 2024\n",
      "🔹 1 chunk(s) generated\n",
      "🧠 Invoking LLM on chunk 1/1...\n"
     ]
    },
    {
     "name": "stderr",
     "output_type": "stream",
     "text": [
      " 22%|██▏       | 216/970 [36:32<2:09:31, 10.31s/it]"
     ]
    },
    {
     "name": "stdout",
     "output_type": "stream",
     "text": [
      "✅ Completed row 325 | Risk Score: 4, Narrative: Legal & Regulatory\n",
      "\n",
      "🔍 Processing row 326 | Ticker: CPAY, Year: 2025\n",
      "🔹 1 chunk(s) generated\n",
      "🧠 Invoking LLM on chunk 1/1...\n"
     ]
    },
    {
     "name": "stderr",
     "output_type": "stream",
     "text": [
      " 22%|██▏       | 217/970 [36:42<2:11:07, 10.45s/it]"
     ]
    },
    {
     "name": "stdout",
     "output_type": "stream",
     "text": [
      "✅ Completed row 326 | Risk Score: 5, Narrative: Legal & Regulatory\n",
      "\n",
      "🔍 Processing row 327 | Ticker: CPB, Year: 2024\n",
      "🔹 1 chunk(s) generated\n",
      "🧠 Invoking LLM on chunk 1/1...\n"
     ]
    },
    {
     "name": "stderr",
     "output_type": "stream",
     "text": [
      " 22%|██▏       | 218/970 [36:50<2:00:12,  9.59s/it]"
     ]
    },
    {
     "name": "stdout",
     "output_type": "stream",
     "text": [
      "✅ Completed row 327 | Risk Score: 4, Narrative: Financial Distress\n",
      "\n",
      "🔍 Processing row 328 | Ticker: CPF, Year: 2025\n",
      "🔹 1 chunk(s) generated\n",
      "🧠 Invoking LLM on chunk 1/1...\n"
     ]
    },
    {
     "name": "stderr",
     "output_type": "stream",
     "text": [
      " 23%|██▎       | 219/970 [37:03<2:11:27, 10.50s/it]"
     ]
    },
    {
     "name": "stdout",
     "output_type": "stream",
     "text": [
      "✅ Completed row 328 | Risk Score: 2, Narrative: Legal & Regulatory\n",
      "\n",
      "🔍 Processing row 330 | Ticker: CPRI, Year: 2025\n",
      "🔹 1 chunk(s) generated\n",
      "🧠 Invoking LLM on chunk 1/1...\n"
     ]
    },
    {
     "name": "stderr",
     "output_type": "stream",
     "text": [
      " 23%|██▎       | 220/970 [37:15<2:19:05, 11.13s/it]"
     ]
    },
    {
     "name": "stdout",
     "output_type": "stream",
     "text": [
      "✅ Completed row 330 | Risk Score: 4, Narrative: Financial Distress\n",
      "\n",
      "🔍 Processing row 333 | Ticker: CPT, Year: 2025\n",
      "🔹 1 chunk(s) generated\n",
      "🧠 Invoking LLM on chunk 1/1...\n"
     ]
    },
    {
     "name": "stderr",
     "output_type": "stream",
     "text": [
      " 23%|██▎       | 221/970 [37:25<2:14:02, 10.74s/it]"
     ]
    },
    {
     "name": "stdout",
     "output_type": "stream",
     "text": [
      "✅ Completed row 333 | Risk Score: 4, Narrative: Financial Distress\n",
      "\n",
      "🔍 Processing row 336 | Ticker: CRGY, Year: 2025\n",
      "🔹 1 chunk(s) generated\n",
      "🧠 Invoking LLM on chunk 1/1...\n"
     ]
    },
    {
     "name": "stderr",
     "output_type": "stream",
     "text": [
      " 23%|██▎       | 222/970 [37:31<1:54:30,  9.19s/it]"
     ]
    },
    {
     "name": "stdout",
     "output_type": "stream",
     "text": [
      "✅ Completed row 336 | Risk Score: 4, Narrative: Financial Distress\n",
      "\n",
      "🔍 Processing row 337 | Ticker: CRI, Year: 2025\n",
      "🔹 1 chunk(s) generated\n",
      "🧠 Invoking LLM on chunk 1/1...\n"
     ]
    },
    {
     "name": "stderr",
     "output_type": "stream",
     "text": [
      " 23%|██▎       | 223/970 [37:43<2:07:12, 10.22s/it]"
     ]
    },
    {
     "name": "stdout",
     "output_type": "stream",
     "text": [
      "✅ Completed row 337 | Risk Score: 4, Narrative: Market Dependency\n",
      "\n",
      "🔍 Processing row 338 | Ticker: CRK, Year: 2025\n",
      "🔹 1 chunk(s) generated\n",
      "🧠 Invoking LLM on chunk 1/1...\n"
     ]
    },
    {
     "name": "stderr",
     "output_type": "stream",
     "text": [
      " 23%|██▎       | 224/970 [37:55<2:12:14, 10.64s/it]"
     ]
    },
    {
     "name": "stdout",
     "output_type": "stream",
     "text": [
      "✅ Completed row 338 | Risk Score: 4, Narrative: Legal & Regulatory\n",
      "\n",
      "🔍 Processing row 339 | Ticker: CRL, Year: 2025\n",
      "🔹 1 chunk(s) generated\n",
      "🧠 Invoking LLM on chunk 1/1...\n"
     ]
    },
    {
     "name": "stderr",
     "output_type": "stream",
     "text": [
      " 23%|██▎       | 225/970 [38:09<2:26:45, 11.82s/it]"
     ]
    },
    {
     "name": "stdout",
     "output_type": "stream",
     "text": [
      "✅ Completed row 339 | Risk Score: 4, Narrative: Supply Chain\n",
      "\n",
      "🔍 Processing row 340 | Ticker: CRM, Year: 2025\n",
      "🔹 1 chunk(s) generated\n",
      "🧠 Invoking LLM on chunk 1/1...\n"
     ]
    },
    {
     "name": "stderr",
     "output_type": "stream",
     "text": [
      " 23%|██▎       | 226/970 [38:20<2:22:01, 11.45s/it]"
     ]
    },
    {
     "name": "stdout",
     "output_type": "stream",
     "text": [
      "✅ Completed row 340 | Risk Score: 4, Narrative: Legal & Regulatory\n",
      "\n",
      "🔍 Processing row 341 | Ticker: CROX, Year: 2025\n",
      "🔹 1 chunk(s) generated\n",
      "🧠 Invoking LLM on chunk 1/1...\n"
     ]
    },
    {
     "name": "stderr",
     "output_type": "stream",
     "text": [
      " 23%|██▎       | 227/970 [38:31<2:18:38, 11.20s/it]"
     ]
    },
    {
     "name": "stdout",
     "output_type": "stream",
     "text": [
      "✅ Completed row 341 | Risk Score: 4, Narrative: Market Dependency\n",
      "\n",
      "🔍 Processing row 342 | Ticker: CRS, Year: 2024\n",
      "🔹 1 chunk(s) generated\n",
      "🧠 Invoking LLM on chunk 1/1...\n"
     ]
    },
    {
     "name": "stderr",
     "output_type": "stream",
     "text": [
      " 24%|██▎       | 228/970 [38:41<2:16:12, 11.01s/it]"
     ]
    },
    {
     "name": "stdout",
     "output_type": "stream",
     "text": [
      "✅ Completed row 342 | Risk Score: 4, Narrative: Legal & Regulatory\n",
      "\n",
      "🔍 Processing row 344 | Ticker: CRUS, Year: 2025\n",
      "🔹 1 chunk(s) generated\n",
      "🧠 Invoking LLM on chunk 1/1...\n"
     ]
    },
    {
     "name": "stderr",
     "output_type": "stream",
     "text": [
      " 24%|██▎       | 229/970 [38:52<2:14:59, 10.93s/it]"
     ]
    },
    {
     "name": "stdout",
     "output_type": "stream",
     "text": [
      "✅ Completed row 344 | Risk Score: 1, Narrative: Financial Distress\n",
      "\n",
      "🔍 Processing row 347 | Ticker: CSCO, Year: 2024\n",
      "🔹 1 chunk(s) generated\n",
      "🧠 Invoking LLM on chunk 1/1...\n"
     ]
    },
    {
     "name": "stderr",
     "output_type": "stream",
     "text": [
      " 24%|██▎       | 230/970 [39:03<2:14:01, 10.87s/it]"
     ]
    },
    {
     "name": "stdout",
     "output_type": "stream",
     "text": [
      "✅ Completed row 347 | Risk Score: 4, Narrative: Market Dependency\n",
      "\n",
      "🔍 Processing row 348 | Ticker: CSGP, Year: 2025\n",
      "🔹 1 chunk(s) generated\n",
      "🧠 Invoking LLM on chunk 1/1...\n"
     ]
    },
    {
     "name": "stderr",
     "output_type": "stream",
     "text": [
      " 24%|██▍       | 231/970 [39:13<2:12:41, 10.77s/it]"
     ]
    },
    {
     "name": "stdout",
     "output_type": "stream",
     "text": [
      "✅ Completed row 348 | Risk Score: 4, Narrative: Market Dependency\n",
      "\n",
      "🔍 Processing row 349 | Ticker: CSGS, Year: 2025\n",
      "🔹 1 chunk(s) generated\n",
      "🧠 Invoking LLM on chunk 1/1...\n"
     ]
    },
    {
     "name": "stderr",
     "output_type": "stream",
     "text": [
      " 24%|██▍       | 232/970 [39:25<2:16:08, 11.07s/it]"
     ]
    },
    {
     "name": "stdout",
     "output_type": "stream",
     "text": [
      "✅ Completed row 349 | Risk Score: 4, Narrative: Financial Distress\n",
      "\n",
      "🔍 Processing row 350 | Ticker: CSL, Year: 2025\n",
      "🔹 1 chunk(s) generated\n",
      "🧠 Invoking LLM on chunk 1/1...\n"
     ]
    },
    {
     "name": "stderr",
     "output_type": "stream",
     "text": [
      " 24%|██▍       | 233/970 [39:38<2:21:43, 11.54s/it]"
     ]
    },
    {
     "name": "stdout",
     "output_type": "stream",
     "text": [
      "✅ Completed row 350 | Risk Score: 4, Narrative: Financial Distress\n",
      "\n",
      "🔍 Processing row 351 | Ticker: CSR, Year: 2025\n",
      "🔹 1 chunk(s) generated\n",
      "🧠 Invoking LLM on chunk 1/1...\n"
     ]
    },
    {
     "name": "stderr",
     "output_type": "stream",
     "text": [
      " 24%|██▍       | 234/970 [39:49<2:21:40, 11.55s/it]"
     ]
    },
    {
     "name": "stdout",
     "output_type": "stream",
     "text": [
      "✅ Completed row 351 | Risk Score: 4, Narrative: Legal & Regulatory\n",
      "\n",
      "🔍 Processing row 353 | Ticker: CTAS, Year: 2024\n",
      "🔹 1 chunk(s) generated\n",
      "🧠 Invoking LLM on chunk 1/1...\n"
     ]
    },
    {
     "name": "stderr",
     "output_type": "stream",
     "text": [
      " 24%|██▍       | 235/970 [40:00<2:18:12, 11.28s/it]"
     ]
    },
    {
     "name": "stdout",
     "output_type": "stream",
     "text": [
      "✅ Completed row 353 | Risk Score: 4, Narrative: Legal & Regulatory\n",
      "\n",
      "🔍 Processing row 354 | Ticker: CTKB, Year: 2025\n",
      "🔹 1 chunk(s) generated\n",
      "🧠 Invoking LLM on chunk 1/1...\n"
     ]
    },
    {
     "name": "stderr",
     "output_type": "stream",
     "text": [
      " 24%|██▍       | 236/970 [40:09<2:11:45, 10.77s/it]"
     ]
    },
    {
     "name": "stdout",
     "output_type": "stream",
     "text": [
      "✅ Completed row 354 | Risk Score: 4, Narrative: Financial Distress\n",
      "\n",
      "🔍 Processing row 358 | Ticker: CTSH, Year: 2025\n",
      "🔹 1 chunk(s) generated\n",
      "🧠 Invoking LLM on chunk 1/1...\n"
     ]
    },
    {
     "name": "stderr",
     "output_type": "stream",
     "text": [
      " 24%|██▍       | 237/970 [40:20<2:10:53, 10.71s/it]"
     ]
    },
    {
     "name": "stdout",
     "output_type": "stream",
     "text": [
      "✅ Completed row 358 | Risk Score: 4, Narrative: Legal & Regulatory\n",
      "\n",
      "🔍 Processing row 362 | Ticker: CURB, Year: 2025\n",
      "🔹 1 chunk(s) generated\n",
      "🧠 Invoking LLM on chunk 1/1...\n"
     ]
    },
    {
     "name": "stderr",
     "output_type": "stream",
     "text": [
      " 25%|██▍       | 238/970 [40:34<2:21:31, 11.60s/it]"
     ]
    },
    {
     "name": "stdout",
     "output_type": "stream",
     "text": [
      "✅ Completed row 362 | Risk Score: 5, Narrative: Financial Distress\n",
      "\n",
      "🔍 Processing row 363 | Ticker: CUZ, Year: 2025\n",
      "🔹 1 chunk(s) generated\n",
      "🧠 Invoking LLM on chunk 1/1...\n"
     ]
    },
    {
     "name": "stderr",
     "output_type": "stream",
     "text": [
      " 25%|██▍       | 239/970 [40:43<2:14:02, 11.00s/it]"
     ]
    },
    {
     "name": "stdout",
     "output_type": "stream",
     "text": [
      "✅ Completed row 363 | Risk Score: 4, Narrative: Financial Distress\n",
      "\n",
      "🔍 Processing row 364 | Ticker: CVBF, Year: 2025\n",
      "🔹 1 chunk(s) generated\n",
      "🧠 Invoking LLM on chunk 1/1...\n"
     ]
    },
    {
     "name": "stderr",
     "output_type": "stream",
     "text": [
      " 25%|██▍       | 240/970 [40:56<2:19:47, 11.49s/it]"
     ]
    },
    {
     "name": "stdout",
     "output_type": "stream",
     "text": [
      "✅ Completed row 364 | Risk Score: 5, Narrative: Legal & Regulatory\n",
      "\n",
      "🔍 Processing row 365 | Ticker: CVCO, Year: 2025\n",
      "🔹 1 chunk(s) generated\n",
      "🧠 Invoking LLM on chunk 1/1...\n"
     ]
    },
    {
     "name": "stderr",
     "output_type": "stream",
     "text": [
      " 25%|██▍       | 241/970 [41:02<2:01:46, 10.02s/it]"
     ]
    },
    {
     "name": "stdout",
     "output_type": "stream",
     "text": [
      "✅ Completed row 365 | Risk Score: 4, Narrative: Financial Distress\n",
      "\n",
      "🔍 Processing row 368 | Ticker: CVS, Year: 2025\n",
      "🔹 1 chunk(s) generated\n",
      "🧠 Invoking LLM on chunk 1/1...\n"
     ]
    },
    {
     "name": "stderr",
     "output_type": "stream",
     "text": [
      " 25%|██▍       | 242/970 [41:15<2:10:52, 10.79s/it]"
     ]
    },
    {
     "name": "stdout",
     "output_type": "stream",
     "text": [
      "✅ Completed row 368 | Risk Score: 4, Narrative: Financial Distress\n",
      "\n",
      "🔍 Processing row 369 | Ticker: CVX, Year: 2025\n",
      "🔹 1 chunk(s) generated\n",
      "🧠 Invoking LLM on chunk 1/1...\n"
     ]
    },
    {
     "name": "stderr",
     "output_type": "stream",
     "text": [
      " 25%|██▌       | 243/970 [41:26<2:10:03, 10.73s/it]"
     ]
    },
    {
     "name": "stdout",
     "output_type": "stream",
     "text": [
      "✅ Completed row 369 | Risk Score: 5, Narrative: Legal & Regulatory\n",
      "\n",
      "🔍 Processing row 370 | Ticker: CW, Year: 2025\n",
      "🔹 1 chunk(s) generated\n",
      "🧠 Invoking LLM on chunk 1/1...\n"
     ]
    },
    {
     "name": "stderr",
     "output_type": "stream",
     "text": [
      " 25%|██▌       | 244/970 [41:38<2:16:49, 11.31s/it]"
     ]
    },
    {
     "name": "stdout",
     "output_type": "stream",
     "text": [
      "✅ Completed row 370 | Risk Score: 4, Narrative: Financial Distress\n",
      "\n",
      "🔍 Processing row 373 | Ticker: CWK, Year: 2025\n",
      "🔹 1 chunk(s) generated\n",
      "🧠 Invoking LLM on chunk 1/1...\n"
     ]
    },
    {
     "name": "stderr",
     "output_type": "stream",
     "text": [
      " 25%|██▌       | 245/970 [41:49<2:13:52, 11.08s/it]"
     ]
    },
    {
     "name": "stdout",
     "output_type": "stream",
     "text": [
      "✅ Completed row 373 | Risk Score: 5, Narrative: Market Dependency\n",
      "\n",
      "🔍 Processing row 375 | Ticker: CXM, Year: 2025\n",
      "🔹 1 chunk(s) generated\n",
      "🧠 Invoking LLM on chunk 1/1...\n"
     ]
    },
    {
     "name": "stderr",
     "output_type": "stream",
     "text": [
      " 25%|██▌       | 246/970 [41:58<2:08:15, 10.63s/it]"
     ]
    },
    {
     "name": "stdout",
     "output_type": "stream",
     "text": [
      "✅ Completed row 375 | Risk Score: 4, Narrative: Financial Distress\n",
      "\n",
      "🔍 Processing row 377 | Ticker: CXW, Year: 2025\n",
      "🔹 1 chunk(s) generated\n",
      "🧠 Invoking LLM on chunk 1/1...\n"
     ]
    },
    {
     "name": "stderr",
     "output_type": "stream",
     "text": [
      " 25%|██▌       | 247/970 [42:09<2:08:25, 10.66s/it]"
     ]
    },
    {
     "name": "stdout",
     "output_type": "stream",
     "text": [
      "✅ Completed row 377 | Risk Score: 4, Narrative: Legal & Regulatory\n",
      "\n",
      "🔍 Processing row 378 | Ticker: CYTK, Year: 2025\n",
      "🔹 1 chunk(s) generated\n",
      "🧠 Invoking LLM on chunk 1/1...\n"
     ]
    },
    {
     "name": "stderr",
     "output_type": "stream",
     "text": [
      " 26%|██▌       | 248/970 [42:21<2:11:27, 10.92s/it]"
     ]
    },
    {
     "name": "stdout",
     "output_type": "stream",
     "text": [
      "✅ Completed row 378 | Risk Score: 5, Narrative: Legal & Regulatory\n",
      "\n",
      "🔍 Processing row 380 | Ticker: D, Year: 2025\n",
      "🔹 1 chunk(s) generated\n",
      "🧠 Invoking LLM on chunk 1/1...\n"
     ]
    },
    {
     "name": "stderr",
     "output_type": "stream",
     "text": [
      " 26%|██▌       | 251/970 [42:33<1:13:25,  6.13s/it]"
     ]
    },
    {
     "name": "stdout",
     "output_type": "stream",
     "text": [
      "❌ Error at row 380 (D): Error code: 503 - {'error': {'message': 'Service unavailable. Visit https://groqstatus.com/ to see if there is an active incident.', 'type': 'internal_server_error'}}\n",
      "\n",
      "🔍 Processing row 381 | Ticker: DAL, Year: 2025\n",
      "🔹 1 chunk(s) generated\n",
      "🧠 Invoking LLM on chunk 1/1...\n",
      "❌ Error at row 381 (DAL): Error code: 503 - {'error': {'message': 'Service unavailable. Visit https://groqstatus.com/ to see if there is an active incident.', 'type': 'internal_server_error'}}\n",
      "\n",
      "🔍 Processing row 382 | Ticker: DAN, Year: 2025\n",
      "🔹 1 chunk(s) generated\n",
      "🧠 Invoking LLM on chunk 1/1...\n",
      "❌ Error at row 382 (DAN): Error code: 503 - {'error': {'message': 'Service unavailable. Visit https://groqstatus.com/ to see if there is an active incident.', 'type': 'internal_server_error'}}\n",
      "\n",
      "🔍 Processing row 383 | Ticker: DAR, Year: 2025\n",
      "🔹 1 chunk(s) generated\n",
      "🧠 Invoking LLM on chunk 1/1...\n",
      "❌ Error at row 383 (DAR): Error code: 503 - {'error': {'message': 'Service unavailable. Visit https://groqstatus.com/ to see if there is an active incident.', 'type': 'internal_server_error'}}\n",
      "\n",
      "🔍 Processing row 384 | Ticker: DASH, Year: 2025\n",
      "🔹 1 chunk(s) generated\n",
      "🧠 Invoking LLM on chunk 1/1...\n"
     ]
    },
    {
     "name": "stderr",
     "output_type": "stream",
     "text": [
      " 26%|██▋       | 255/970 [42:33<28:36,  2.40s/it]  "
     ]
    },
    {
     "name": "stdout",
     "output_type": "stream",
     "text": [
      "❌ Error at row 384 (DASH): Error code: 503 - {'error': {'message': 'Service unavailable. Visit https://groqstatus.com/ to see if there is an active incident.', 'type': 'internal_server_error'}}\n",
      "\n",
      "🔍 Processing row 386 | Ticker: DBX, Year: 2025\n",
      "🔹 1 chunk(s) generated\n",
      "🧠 Invoking LLM on chunk 1/1...\n",
      "❌ Error at row 386 (DBX): Error code: 503 - {'error': {'message': 'Service unavailable. Visit https://groqstatus.com/ to see if there is an active incident.', 'type': 'internal_server_error'}}\n",
      "\n",
      "🔍 Processing row 387 | Ticker: DCI, Year: 2024\n",
      "🔹 1 chunk(s) generated\n",
      "🧠 Invoking LLM on chunk 1/1...\n",
      "❌ Error at row 387 (DCI): Error code: 503 - {'error': {'message': 'Service unavailable. Visit https://groqstatus.com/ to see if there is an active incident.', 'type': 'internal_server_error'}}\n",
      "\n",
      "🔍 Processing row 388 | Ticker: DCOM, Year: 2025\n",
      "🔹 1 chunk(s) generated\n",
      "🧠 Invoking LLM on chunk 1/1...\n"
     ]
    },
    {
     "name": "stderr",
     "output_type": "stream",
     "text": [
      " 27%|██▋       | 258/970 [42:34<14:50,  1.25s/it]"
     ]
    },
    {
     "name": "stdout",
     "output_type": "stream",
     "text": [
      "❌ Error at row 388 (DCOM): Error code: 503 - {'error': {'message': 'Service unavailable. Visit https://groqstatus.com/ to see if there is an active incident.', 'type': 'internal_server_error'}}\n",
      "\n",
      "🔍 Processing row 389 | Ticker: DD, Year: 2025\n",
      "🔹 1 chunk(s) generated\n",
      "🧠 Invoking LLM on chunk 1/1...\n",
      "❌ Error at row 389 (DD): Error code: 503 - {'error': {'message': 'Service unavailable. Visit https://groqstatus.com/ to see if there is an active incident.', 'type': 'internal_server_error'}}\n",
      "\n",
      "🔍 Processing row 391 | Ticker: DEA, Year: 2025\n",
      "🔹 1 chunk(s) generated\n",
      "🧠 Invoking LLM on chunk 1/1...\n",
      "❌ Error at row 391 (DEA): Error code: 503 - {'error': {'message': 'Service unavailable. Visit https://groqstatus.com/ to see if there is an active incident.', 'type': 'internal_server_error'}}\n",
      "\n",
      "🔍 Processing row 392 | Ticker: DECK, Year: 2025\n",
      "🔹 1 chunk(s) generated\n",
      "🧠 Invoking LLM on chunk 1/1...\n"
     ]
    },
    {
     "name": "stderr",
     "output_type": "stream",
     "text": [
      " 27%|██▋       | 260/970 [42:34<10:01,  1.18it/s]"
     ]
    },
    {
     "name": "stdout",
     "output_type": "stream",
     "text": [
      "❌ Error at row 392 (DECK): Error code: 503 - {'error': {'message': 'Service unavailable. Visit https://groqstatus.com/ to see if there is an active incident.', 'type': 'internal_server_error'}}\n",
      "\n",
      "🔍 Processing row 393 | Ticker: DEI, Year: 2025\n",
      "🔹 1 chunk(s) generated\n",
      "🧠 Invoking LLM on chunk 1/1...\n",
      "❌ Error at row 393 (DEI): Error code: 503 - {'error': {'message': 'Service unavailable. Visit https://groqstatus.com/ to see if there is an active incident.', 'type': 'internal_server_error'}}\n",
      "\n",
      "🔍 Processing row 396 | Ticker: DFIN, Year: 2025\n",
      "🔹 1 chunk(s) generated\n",
      "🧠 Invoking LLM on chunk 1/1...\n"
     ]
    },
    {
     "name": "stderr",
     "output_type": "stream",
     "text": [
      " 27%|██▋       | 262/970 [42:34<07:05,  1.67it/s]"
     ]
    },
    {
     "name": "stdout",
     "output_type": "stream",
     "text": [
      "❌ Error at row 396 (DFIN): Error code: 503 - {'error': {'message': 'Service unavailable. Visit https://groqstatus.com/ to see if there is an active incident.', 'type': 'internal_server_error'}}\n",
      "\n",
      "🔍 Processing row 397 | Ticker: DG, Year: 2025\n",
      "🔹 1 chunk(s) generated\n",
      "🧠 Invoking LLM on chunk 1/1...\n",
      "❌ Error at row 397 (DG): Error code: 503 - {'error': {'message': 'Service unavailable. Visit https://groqstatus.com/ to see if there is an active incident.', 'type': 'internal_server_error'}}\n",
      "\n",
      "🔍 Processing row 398 | Ticker: DGII, Year: 2024\n",
      "🔹 1 chunk(s) generated\n",
      "🧠 Invoking LLM on chunk 1/1...\n",
      "❌ Error at row 398 (DGII): Error code: 503 - {'error': {'message': 'Service unavailable. Visit https://groqstatus.com/ to see if there is an active incident.', 'type': 'internal_server_error'}}\n",
      "\n",
      "🔍 Processing row 399 | Ticker: DGX, Year: 2025\n",
      "🔹 1 chunk(s) generated\n",
      "🧠 Invoking LLM on chunk 1/1...\n"
     ]
    },
    {
     "name": "stderr",
     "output_type": "stream",
     "text": [
      " 27%|██▋       | 266/970 [42:34<03:46,  3.11it/s]"
     ]
    },
    {
     "name": "stdout",
     "output_type": "stream",
     "text": [
      "❌ Error at row 399 (DGX): Error code: 503 - {'error': {'message': 'Service unavailable. Visit https://groqstatus.com/ to see if there is an active incident.', 'type': 'internal_server_error'}}\n",
      "\n",
      "🔍 Processing row 400 | Ticker: DHI, Year: 2024\n",
      "🔹 1 chunk(s) generated\n",
      "🧠 Invoking LLM on chunk 1/1...\n",
      "❌ Error at row 400 (DHI): Error code: 503 - {'error': {'message': 'Service unavailable. Visit https://groqstatus.com/ to see if there is an active incident.', 'type': 'internal_server_error'}}\n",
      "\n",
      "🔍 Processing row 401 | Ticker: DHR, Year: 2025\n",
      "🔹 1 chunk(s) generated\n",
      "🧠 Invoking LLM on chunk 1/1...\n",
      "❌ Error at row 401 (DHR): Error code: 503 - {'error': {'message': 'Service unavailable. Visit https://groqstatus.com/ to see if there is an active incident.', 'type': 'internal_server_error'}}\n",
      "\n",
      "🔍 Processing row 404 | Ticker: DIS, Year: 2024\n",
      "🔹 1 chunk(s) generated\n",
      "🧠 Invoking LLM on chunk 1/1...\n"
     ]
    },
    {
     "name": "stderr",
     "output_type": "stream",
     "text": [
      " 28%|██▊       | 268/970 [42:35<02:51,  4.09it/s]"
     ]
    },
    {
     "name": "stdout",
     "output_type": "stream",
     "text": [
      "❌ Error at row 404 (DIS): Error code: 503 - {'error': {'message': 'Service unavailable. Visit https://groqstatus.com/ to see if there is an active incident.', 'type': 'internal_server_error'}}\n",
      "\n",
      "🔍 Processing row 405 | Ticker: DKS, Year: 2025\n",
      "🔹 1 chunk(s) generated\n",
      "🧠 Invoking LLM on chunk 1/1...\n",
      "❌ Error at row 405 (DKS): Error code: 503 - {'error': {'message': 'Service unavailable. Visit https://groqstatus.com/ to see if there is an active incident.', 'type': 'internal_server_error'}}\n",
      "\n",
      "🔍 Processing row 407 | Ticker: DLR, Year: 2025\n",
      "🔹 1 chunk(s) generated\n",
      "🧠 Invoking LLM on chunk 1/1...\n"
     ]
    },
    {
     "name": "stderr",
     "output_type": "stream",
     "text": [
      " 28%|██▊       | 272/970 [42:35<01:57,  5.92it/s]"
     ]
    },
    {
     "name": "stdout",
     "output_type": "stream",
     "text": [
      "❌ Error at row 407 (DLR): Error code: 503 - {'error': {'message': 'Service unavailable. Visit https://groqstatus.com/ to see if there is an active incident.', 'type': 'internal_server_error'}}\n",
      "\n",
      "🔍 Processing row 408 | Ticker: DLTR, Year: 2025\n",
      "🔹 1 chunk(s) generated\n",
      "🧠 Invoking LLM on chunk 1/1...\n",
      "❌ Error at row 408 (DLTR): Error code: 503 - {'error': {'message': 'Service unavailable. Visit https://groqstatus.com/ to see if there is an active incident.', 'type': 'internal_server_error'}}\n",
      "\n",
      "🔍 Processing row 409 | Ticker: DLX, Year: 2025\n",
      "🔹 1 chunk(s) generated\n",
      "🧠 Invoking LLM on chunk 1/1...\n",
      "❌ Error at row 409 (DLX): Error code: 503 - {'error': {'message': 'Service unavailable. Visit https://groqstatus.com/ to see if there is an active incident.', 'type': 'internal_server_error'}}\n",
      "\n",
      "🔍 Processing row 410 | Ticker: DNOW, Year: 2025\n",
      "🔹 1 chunk(s) generated\n",
      "🧠 Invoking LLM on chunk 1/1...\n",
      "❌ Error at row 410 (DNOW): Error code: 503 - {'error': {'message': 'Service unavailable. Visit https://groqstatus.com/ to see if there is an active incident.', 'type': 'internal_server_error'}}\n",
      "\n",
      "🔍 Processing row 412 | Ticker: DOCN, Year: 2025\n",
      "🔹 1 chunk(s) generated\n",
      "🧠 Invoking LLM on chunk 1/1...\n",
      "❌ Error at row 412 (DOCN): Error code: 503 - {'error': {'message': 'Service unavailable. Visit https://groqstatus.com/ to see if there is an active incident.', 'type': 'internal_server_error'}}\n",
      "\n",
      "🔍 Processing row 413 | Ticker: DOCS, Year: 2025\n",
      "🔹 1 chunk(s) generated\n",
      "🧠 Invoking LLM on chunk 1/1...\n"
     ]
    },
    {
     "name": "stderr",
     "output_type": "stream",
     "text": [
      " 28%|██▊       | 276/970 [42:35<01:29,  7.78it/s]"
     ]
    },
    {
     "name": "stdout",
     "output_type": "stream",
     "text": [
      "❌ Error at row 413 (DOCS): Error code: 503 - {'error': {'message': 'Service unavailable. Visit https://groqstatus.com/ to see if there is an active incident.', 'type': 'internal_server_error'}}\n",
      "\n",
      "🔍 Processing row 414 | Ticker: DOCU, Year: 2025\n",
      "🔹 1 chunk(s) generated\n",
      "🧠 Invoking LLM on chunk 1/1...\n",
      "❌ Error at row 414 (DOCU): Error code: 503 - {'error': {'message': 'Service unavailable. Visit https://groqstatus.com/ to see if there is an active incident.', 'type': 'internal_server_error'}}\n",
      "\n",
      "🔍 Processing row 415 | Ticker: DORM, Year: 2025\n",
      "🔹 1 chunk(s) generated\n",
      "🧠 Invoking LLM on chunk 1/1...\n",
      "❌ Error at row 415 (DORM): Error code: 503 - {'error': {'message': 'Service unavailable. Visit https://groqstatus.com/ to see if there is an active incident.', 'type': 'internal_server_error'}}\n",
      "\n",
      "🔍 Processing row 416 | Ticker: DOV, Year: 2025\n",
      "🔹 1 chunk(s) generated\n",
      "🧠 Invoking LLM on chunk 1/1...\n"
     ]
    },
    {
     "name": "stderr",
     "output_type": "stream",
     "text": [
      " 29%|██▊       | 278/970 [42:35<01:18,  8.79it/s]"
     ]
    },
    {
     "name": "stdout",
     "output_type": "stream",
     "text": [
      "❌ Error at row 416 (DOV): Error code: 503 - {'error': {'message': 'Service unavailable. Visit https://groqstatus.com/ to see if there is an active incident.', 'type': 'internal_server_error'}}\n",
      "\n",
      "🔍 Processing row 417 | Ticker: DOW, Year: 2025\n",
      "🔹 1 chunk(s) generated\n",
      "🧠 Invoking LLM on chunk 1/1...\n",
      "❌ Error at row 417 (DOW): Error code: 503 - {'error': {'message': 'Service unavailable. Visit https://groqstatus.com/ to see if there is an active incident.', 'type': 'internal_server_error'}}\n",
      "\n",
      "🔍 Processing row 418 | Ticker: DPZ, Year: 2025\n",
      "🔹 1 chunk(s) generated\n",
      "🧠 Invoking LLM on chunk 1/1...\n",
      "❌ Error at row 418 (DPZ): Error code: 503 - {'error': {'message': 'Service unavailable. Visit https://groqstatus.com/ to see if there is an active incident.', 'type': 'internal_server_error'}}\n",
      "\n",
      "🔍 Processing row 419 | Ticker: DRH, Year: 2025\n",
      "🔹 1 chunk(s) generated\n",
      "🧠 Invoking LLM on chunk 1/1...\n"
     ]
    },
    {
     "name": "stderr",
     "output_type": "stream",
     "text": [
      " 29%|██▉       | 280/970 [42:40<08:34,  1.34it/s]"
     ]
    },
    {
     "name": "stdout",
     "output_type": "stream",
     "text": [
      "❌ Error at row 419 (DRH): Error code: 503 - {'error': {'message': 'Service unavailable. Visit https://groqstatus.com/ to see if there is an active incident.', 'type': 'internal_server_error'}}\n",
      "\n",
      "🔍 Processing row 420 | Ticker: DRI, Year: 2024\n",
      "🔹 1 chunk(s) generated\n",
      "🧠 Invoking LLM on chunk 1/1...\n"
     ]
    },
    {
     "name": "stderr",
     "output_type": "stream",
     "text": [
      " 29%|██▉       | 281/970 [42:42<11:31,  1.00s/it]"
     ]
    },
    {
     "name": "stdout",
     "output_type": "stream",
     "text": [
      "❌ Error at row 420 (DRI): Error code: 503 - {'error': {'message': 'Service unavailable. Visit https://groqstatus.com/ to see if there is an active incident.', 'type': 'internal_server_error'}}\n",
      "\n",
      "🔍 Processing row 421 | Ticker: DT, Year: 2025\n",
      "🔹 1 chunk(s) generated\n",
      "🧠 Invoking LLM on chunk 1/1...\n"
     ]
    },
    {
     "name": "stderr",
     "output_type": "stream",
     "text": [
      " 29%|██▉       | 282/970 [42:44<14:11,  1.24s/it]"
     ]
    },
    {
     "name": "stdout",
     "output_type": "stream",
     "text": [
      "❌ Error at row 421 (DT): Error code: 503 - {'error': {'message': 'Service unavailable. Visit https://groqstatus.com/ to see if there is an active incident.', 'type': 'internal_server_error'}}\n",
      "\n",
      "🔍 Processing row 424 | Ticker: DUK, Year: 2025\n",
      "🔹 1 chunk(s) generated\n",
      "🧠 Invoking LLM on chunk 1/1...\n"
     ]
    },
    {
     "name": "stderr",
     "output_type": "stream",
     "text": [
      " 29%|██▉       | 283/970 [42:46<16:33,  1.45s/it]"
     ]
    },
    {
     "name": "stdout",
     "output_type": "stream",
     "text": [
      "❌ Error at row 424 (DUK): Error code: 503 - {'error': {'message': 'Service unavailable. Visit https://groqstatus.com/ to see if there is an active incident.', 'type': 'internal_server_error'}}\n",
      "\n",
      "🔍 Processing row 425 | Ticker: DUOL, Year: 2025\n",
      "🔹 1 chunk(s) generated\n",
      "🧠 Invoking LLM on chunk 1/1...\n"
     ]
    },
    {
     "name": "stderr",
     "output_type": "stream",
     "text": [
      " 29%|██▉       | 284/970 [42:49<18:33,  1.62s/it]"
     ]
    },
    {
     "name": "stdout",
     "output_type": "stream",
     "text": [
      "❌ Error at row 425 (DUOL): Error code: 503 - {'error': {'message': 'Service unavailable. Visit https://groqstatus.com/ to see if there is an active incident.', 'type': 'internal_server_error'}}\n",
      "\n",
      "🔍 Processing row 426 | Ticker: DV, Year: 2025\n",
      "🔹 1 chunk(s) generated\n",
      "🧠 Invoking LLM on chunk 1/1...\n"
     ]
    },
    {
     "name": "stderr",
     "output_type": "stream",
     "text": [
      " 29%|██▉       | 285/970 [42:51<20:09,  1.77s/it]"
     ]
    },
    {
     "name": "stdout",
     "output_type": "stream",
     "text": [
      "❌ Error at row 426 (DV): Error code: 503 - {'error': {'message': 'Service unavailable. Visit https://groqstatus.com/ to see if there is an active incident.', 'type': 'internal_server_error'}}\n",
      "\n",
      "🔍 Processing row 428 | Ticker: DVAX, Year: 2025\n",
      "🔹 1 chunk(s) generated\n",
      "🧠 Invoking LLM on chunk 1/1...\n"
     ]
    },
    {
     "name": "stderr",
     "output_type": "stream",
     "text": [
      " 29%|██▉       | 286/970 [42:53<21:15,  1.86s/it]"
     ]
    },
    {
     "name": "stdout",
     "output_type": "stream",
     "text": [
      "❌ Error at row 428 (DVAX): Error code: 503 - {'error': {'message': 'Service unavailable. Visit https://groqstatus.com/ to see if there is an active incident.', 'type': 'internal_server_error'}}\n",
      "\n",
      "🔍 Processing row 429 | Ticker: DVN, Year: 2025\n",
      "🔹 1 chunk(s) generated\n",
      "🧠 Invoking LLM on chunk 1/1...\n"
     ]
    },
    {
     "name": "stderr",
     "output_type": "stream",
     "text": [
      " 30%|██▉       | 287/970 [42:55<22:07,  1.94s/it]"
     ]
    },
    {
     "name": "stdout",
     "output_type": "stream",
     "text": [
      "❌ Error at row 429 (DVN): Error code: 503 - {'error': {'message': 'Service unavailable. Visit https://groqstatus.com/ to see if there is an active incident.', 'type': 'internal_server_error'}}\n",
      "\n",
      "🔍 Processing row 430 | Ticker: DXC, Year: 2025\n",
      "🔹 1 chunk(s) generated\n",
      "🧠 Invoking LLM on chunk 1/1...\n"
     ]
    },
    {
     "name": "stderr",
     "output_type": "stream",
     "text": [
      " 30%|██▉       | 288/970 [42:57<22:46,  2.00s/it]"
     ]
    },
    {
     "name": "stdout",
     "output_type": "stream",
     "text": [
      "❌ Error at row 430 (DXC): Error code: 503 - {'error': {'message': 'Service unavailable. Visit https://groqstatus.com/ to see if there is an active incident.', 'type': 'internal_server_error'}}\n",
      "\n",
      "🔍 Processing row 432 | Ticker: DXPE, Year: 2025\n",
      "🔹 1 chunk(s) generated\n",
      "🧠 Invoking LLM on chunk 1/1...\n"
     ]
    },
    {
     "name": "stderr",
     "output_type": "stream",
     "text": [
      " 30%|██▉       | 289/970 [42:59<23:16,  2.05s/it]"
     ]
    },
    {
     "name": "stdout",
     "output_type": "stream",
     "text": [
      "❌ Error at row 432 (DXPE): Error code: 503 - {'error': {'message': 'Service unavailable. Visit https://groqstatus.com/ to see if there is an active incident.', 'type': 'internal_server_error'}}\n",
      "\n",
      "🔍 Processing row 435 | Ticker: EAT, Year: 2024\n",
      "🔹 1 chunk(s) generated\n",
      "🧠 Invoking LLM on chunk 1/1...\n"
     ]
    },
    {
     "name": "stderr",
     "output_type": "stream",
     "text": [
      " 30%|██▉       | 290/970 [43:02<23:31,  2.08s/it]"
     ]
    },
    {
     "name": "stdout",
     "output_type": "stream",
     "text": [
      "❌ Error at row 435 (EAT): Error code: 503 - {'error': {'message': 'Service unavailable. Visit https://groqstatus.com/ to see if there is an active incident.', 'type': 'internal_server_error'}}\n",
      "\n",
      "🔍 Processing row 436 | Ticker: EBAY, Year: 2025\n",
      "🔹 1 chunk(s) generated\n",
      "🧠 Invoking LLM on chunk 1/1...\n"
     ]
    },
    {
     "name": "stderr",
     "output_type": "stream",
     "text": [
      " 30%|███       | 291/970 [43:04<23:45,  2.10s/it]"
     ]
    },
    {
     "name": "stdout",
     "output_type": "stream",
     "text": [
      "❌ Error at row 436 (EBAY): Error code: 503 - {'error': {'message': 'Service unavailable. Visit https://groqstatus.com/ to see if there is an active incident.', 'type': 'internal_server_error'}}\n",
      "\n",
      "🔍 Processing row 437 | Ticker: ECG, Year: 2025\n",
      "🔹 1 chunk(s) generated\n",
      "🧠 Invoking LLM on chunk 1/1...\n"
     ]
    },
    {
     "name": "stderr",
     "output_type": "stream",
     "text": [
      " 30%|███       | 292/970 [43:06<23:51,  2.11s/it]"
     ]
    },
    {
     "name": "stdout",
     "output_type": "stream",
     "text": [
      "❌ Error at row 437 (ECG): Error code: 503 - {'error': {'message': 'Service unavailable. Visit https://groqstatus.com/ to see if there is an active incident.', 'type': 'internal_server_error'}}\n",
      "\n",
      "🔍 Processing row 438 | Ticker: ECL, Year: 2025\n",
      "🔹 1 chunk(s) generated\n",
      "🧠 Invoking LLM on chunk 1/1...\n"
     ]
    },
    {
     "name": "stderr",
     "output_type": "stream",
     "text": [
      " 30%|███       | 293/970 [43:08<24:04,  2.13s/it]"
     ]
    },
    {
     "name": "stdout",
     "output_type": "stream",
     "text": [
      "❌ Error at row 438 (ECL): Error code: 503 - {'error': {'message': 'Service unavailable. Visit https://groqstatus.com/ to see if there is an active incident.', 'type': 'internal_server_error'}}\n",
      "\n",
      "🔍 Processing row 440 | Ticker: ED, Year: 2025\n",
      "🔹 1 chunk(s) generated\n",
      "🧠 Invoking LLM on chunk 1/1...\n"
     ]
    },
    {
     "name": "stderr",
     "output_type": "stream",
     "text": [
      " 30%|███       | 294/970 [43:10<24:10,  2.15s/it]"
     ]
    },
    {
     "name": "stdout",
     "output_type": "stream",
     "text": [
      "❌ Error at row 440 (ED): Error code: 503 - {'error': {'message': 'Service unavailable. Visit https://groqstatus.com/ to see if there is an active incident.', 'type': 'internal_server_error'}}\n",
      "\n",
      "🔍 Processing row 442 | Ticker: EFC, Year: 2025\n",
      "🔹 1 chunk(s) generated\n",
      "🧠 Invoking LLM on chunk 1/1...\n"
     ]
    },
    {
     "name": "stderr",
     "output_type": "stream",
     "text": [
      " 30%|███       | 295/970 [43:12<24:15,  2.16s/it]"
     ]
    },
    {
     "name": "stdout",
     "output_type": "stream",
     "text": [
      "❌ Error at row 442 (EFC): Error code: 503 - {'error': {'message': 'Service unavailable. Visit https://groqstatus.com/ to see if there is an active incident.', 'type': 'internal_server_error'}}\n",
      "\n",
      "🔍 Processing row 443 | Ticker: EFX, Year: 2025\n",
      "🔹 1 chunk(s) generated\n",
      "🧠 Invoking LLM on chunk 1/1...\n"
     ]
    },
    {
     "name": "stderr",
     "output_type": "stream",
     "text": [
      " 31%|███       | 296/970 [43:15<24:13,  2.16s/it]"
     ]
    },
    {
     "name": "stdout",
     "output_type": "stream",
     "text": [
      "❌ Error at row 443 (EFX): Error code: 503 - {'error': {'message': 'Service unavailable. Visit https://groqstatus.com/ to see if there is an active incident.', 'type': 'internal_server_error'}}\n",
      "\n",
      "🔍 Processing row 445 | Ticker: EGBN, Year: 2025\n",
      "🔹 1 chunk(s) generated\n",
      "🧠 Invoking LLM on chunk 1/1...\n"
     ]
    },
    {
     "name": "stderr",
     "output_type": "stream",
     "text": [
      " 31%|███       | 297/970 [43:17<26:06,  2.33s/it]"
     ]
    },
    {
     "name": "stdout",
     "output_type": "stream",
     "text": [
      "✅ Completed row 445 | Risk Score: 4, Narrative: Financial Distress\n",
      "\n",
      "🔍 Processing row 446 | Ticker: EGP, Year: 2025\n",
      "🔹 1 chunk(s) generated\n",
      "🧠 Invoking LLM on chunk 1/1...\n"
     ]
    },
    {
     "name": "stderr",
     "output_type": "stream",
     "text": [
      " 31%|███       | 298/970 [43:20<26:56,  2.41s/it]"
     ]
    },
    {
     "name": "stdout",
     "output_type": "stream",
     "text": [
      "✅ Completed row 446 | Risk Score: 2, Narrative: Financial Distress\n",
      "\n",
      "🔍 Processing row 448 | Ticker: EIG, Year: 2025\n",
      "🔹 1 chunk(s) generated\n",
      "🧠 Invoking LLM on chunk 1/1...\n"
     ]
    },
    {
     "name": "stderr",
     "output_type": "stream",
     "text": [
      " 31%|███       | 299/970 [43:22<27:18,  2.44s/it]"
     ]
    },
    {
     "name": "stdout",
     "output_type": "stream",
     "text": [
      "✅ Completed row 448 | Risk Score: 4, Narrative: Financial Distress\n",
      "\n",
      "🔍 Processing row 449 | Ticker: EIX, Year: 2025\n",
      "🔹 1 chunk(s) generated\n",
      "🧠 Invoking LLM on chunk 1/1...\n"
     ]
    },
    {
     "name": "stderr",
     "output_type": "stream",
     "text": [
      " 31%|███       | 300/970 [43:25<27:28,  2.46s/it]"
     ]
    },
    {
     "name": "stdout",
     "output_type": "stream",
     "text": [
      "✅ Completed row 449 | Risk Score: 4, Narrative: Legal & Regulatory\n",
      "\n",
      "🔍 Processing row 450 | Ticker: EL, Year: 2024\n",
      "🔹 1 chunk(s) generated\n",
      "🧠 Invoking LLM on chunk 1/1...\n"
     ]
    },
    {
     "name": "stderr",
     "output_type": "stream",
     "text": [
      " 31%|███       | 301/970 [43:27<27:38,  2.48s/it]"
     ]
    },
    {
     "name": "stdout",
     "output_type": "stream",
     "text": [
      "✅ Completed row 450 | Risk Score: 4, Narrative: Market Dependency\n",
      "\n",
      "🔍 Processing row 451 | Ticker: ELF, Year: 2025\n",
      "🔹 1 chunk(s) generated\n",
      "🧠 Invoking LLM on chunk 1/1...\n"
     ]
    },
    {
     "name": "stderr",
     "output_type": "stream",
     "text": [
      " 31%|███       | 302/970 [43:30<27:38,  2.48s/it]"
     ]
    },
    {
     "name": "stdout",
     "output_type": "stream",
     "text": [
      "✅ Completed row 451 | Risk Score: 5, Narrative: Market Dependency\n",
      "\n",
      "🔍 Processing row 453 | Ticker: ELS, Year: 2025\n",
      "🔹 1 chunk(s) generated\n",
      "🧠 Invoking LLM on chunk 1/1...\n"
     ]
    },
    {
     "name": "stderr",
     "output_type": "stream",
     "text": [
      " 31%|███       | 303/970 [43:38<44:52,  4.04s/it]"
     ]
    },
    {
     "name": "stdout",
     "output_type": "stream",
     "text": [
      "✅ Completed row 453 | Risk Score: 4, Narrative: Legal & Regulatory\n",
      "\n",
      "🔍 Processing row 455 | Ticker: EMBC, Year: 2024\n",
      "🔹 1 chunk(s) generated\n",
      "🧠 Invoking LLM on chunk 1/1...\n"
     ]
    },
    {
     "name": "stderr",
     "output_type": "stream",
     "text": [
      " 31%|███▏      | 304/970 [43:48<1:06:44,  6.01s/it]"
     ]
    },
    {
     "name": "stdout",
     "output_type": "stream",
     "text": [
      "✅ Completed row 455 | Risk Score: 4, Narrative: Market Dependency\n",
      "\n",
      "🔍 Processing row 456 | Ticker: EME, Year: 2025\n",
      "🔹 1 chunk(s) generated\n",
      "🧠 Invoking LLM on chunk 1/1...\n"
     ]
    },
    {
     "name": "stderr",
     "output_type": "stream",
     "text": [
      " 31%|███▏      | 305/970 [44:00<1:25:18,  7.70s/it]"
     ]
    },
    {
     "name": "stdout",
     "output_type": "stream",
     "text": [
      "✅ Completed row 456 | Risk Score: 4, Narrative: Legal & Regulatory\n",
      "\n",
      "🔍 Processing row 460 | Ticker: ENPH, Year: 2025\n",
      "🔹 1 chunk(s) generated\n",
      "🧠 Invoking LLM on chunk 1/1...\n"
     ]
    },
    {
     "name": "stderr",
     "output_type": "stream",
     "text": [
      " 32%|███▏      | 306/970 [44:11<1:38:04,  8.86s/it]"
     ]
    },
    {
     "name": "stdout",
     "output_type": "stream",
     "text": [
      "✅ Completed row 460 | Risk Score: 4, Narrative: Legal & Regulatory\n",
      "\n",
      "🔍 Processing row 462 | Ticker: ENS, Year: 2025\n",
      "🔹 1 chunk(s) generated\n",
      "🧠 Invoking LLM on chunk 1/1...\n"
     ]
    },
    {
     "name": "stderr",
     "output_type": "stream",
     "text": [
      " 32%|███▏      | 307/970 [44:24<1:51:09, 10.06s/it]"
     ]
    },
    {
     "name": "stdout",
     "output_type": "stream",
     "text": [
      "✅ Completed row 462 | Risk Score: 4, Narrative: Market Dependency\n",
      "\n",
      "🔍 Processing row 463 | Ticker: ENSG, Year: 2025\n",
      "🔹 1 chunk(s) generated\n",
      "🧠 Invoking LLM on chunk 1/1...\n"
     ]
    },
    {
     "name": "stderr",
     "output_type": "stream",
     "text": [
      " 32%|███▏      | 308/970 [44:34<1:49:22,  9.91s/it]"
     ]
    },
    {
     "name": "stdout",
     "output_type": "stream",
     "text": [
      "✅ Completed row 463 | Risk Score: 5, Narrative: Legal & Regulatory\n",
      "\n",
      "🔍 Processing row 464 | Ticker: ENTG, Year: 2025\n",
      "🔹 1 chunk(s) generated\n",
      "🧠 Invoking LLM on chunk 1/1...\n"
     ]
    },
    {
     "name": "stderr",
     "output_type": "stream",
     "text": [
      " 32%|███▏      | 309/970 [44:44<1:51:38, 10.13s/it]"
     ]
    },
    {
     "name": "stdout",
     "output_type": "stream",
     "text": [
      "✅ Completed row 464 | Risk Score: 4, Narrative: Supply Chain\n",
      "\n",
      "🔍 Processing row 465 | Ticker: ENVA, Year: 2025\n",
      "🔹 1 chunk(s) generated\n",
      "🧠 Invoking LLM on chunk 1/1...\n"
     ]
    },
    {
     "name": "stderr",
     "output_type": "stream",
     "text": [
      " 32%|███▏      | 310/970 [44:56<1:56:29, 10.59s/it]"
     ]
    },
    {
     "name": "stdout",
     "output_type": "stream",
     "text": [
      "✅ Completed row 465 | Risk Score: 4, Narrative: Legal & Regulatory\n",
      "\n",
      "🔍 Processing row 466 | Ticker: EOG, Year: 2025\n",
      "🔹 1 chunk(s) generated\n",
      "🧠 Invoking LLM on chunk 1/1...\n"
     ]
    },
    {
     "name": "stderr",
     "output_type": "stream",
     "text": [
      " 32%|███▏      | 311/970 [45:08<2:00:05, 10.93s/it]"
     ]
    },
    {
     "name": "stdout",
     "output_type": "stream",
     "text": [
      "✅ Completed row 466 | Risk Score: 4, Narrative: Financial Distress\n",
      "\n",
      "🔍 Processing row 467 | Ticker: EPAC, Year: 2024\n",
      "🔹 1 chunk(s) generated\n",
      "🧠 Invoking LLM on chunk 1/1...\n"
     ]
    },
    {
     "name": "stderr",
     "output_type": "stream",
     "text": [
      " 32%|███▏      | 312/970 [45:22<2:09:03, 11.77s/it]"
     ]
    },
    {
     "name": "stdout",
     "output_type": "stream",
     "text": [
      "✅ Completed row 467 | Risk Score: 4, Narrative: Financial Distress\n",
      "\n",
      "🔍 Processing row 468 | Ticker: EPAM, Year: 2025\n",
      "🔹 1 chunk(s) generated\n",
      "🧠 Invoking LLM on chunk 1/1...\n"
     ]
    },
    {
     "name": "stderr",
     "output_type": "stream",
     "text": [
      " 32%|███▏      | 313/970 [45:25<1:41:48,  9.30s/it]"
     ]
    },
    {
     "name": "stdout",
     "output_type": "stream",
     "text": [
      "✅ Completed row 468 | Risk Score: 4, Narrative: Legal & Regulatory\n",
      "\n",
      "🔍 Processing row 469 | Ticker: EPC, Year: 2024\n",
      "🔹 1 chunk(s) generated\n",
      "🧠 Invoking LLM on chunk 1/1...\n"
     ]
    },
    {
     "name": "stderr",
     "output_type": "stream",
     "text": [
      " 32%|███▏      | 314/970 [45:37<1:49:06,  9.98s/it]"
     ]
    },
    {
     "name": "stdout",
     "output_type": "stream",
     "text": [
      "✅ Completed row 469 | Risk Score: 4, Narrative: Market Dependency\n",
      "\n",
      "🔍 Processing row 470 | Ticker: EPR, Year: 2025\n",
      "🔹 1 chunk(s) generated\n",
      "🧠 Invoking LLM on chunk 1/1...\n"
     ]
    },
    {
     "name": "stderr",
     "output_type": "stream",
     "text": [
      " 32%|███▏      | 315/970 [45:49<1:57:48, 10.79s/it]"
     ]
    },
    {
     "name": "stdout",
     "output_type": "stream",
     "text": [
      "✅ Completed row 470 | Risk Score: 5, Narrative: Financial Distress\n",
      "\n",
      "🔍 Processing row 471 | Ticker: EPRT, Year: 2025\n",
      "🔹 1 chunk(s) generated\n",
      "🧠 Invoking LLM on chunk 1/1...\n"
     ]
    },
    {
     "name": "stderr",
     "output_type": "stream",
     "text": [
      " 33%|███▎      | 316/970 [45:59<1:53:39, 10.43s/it]"
     ]
    },
    {
     "name": "stdout",
     "output_type": "stream",
     "text": [
      "✅ Completed row 471 | Risk Score: 4, Narrative: Legal & Regulatory\n",
      "\n",
      "🔍 Processing row 475 | Ticker: EQT, Year: 2025\n",
      "🔹 1 chunk(s) generated\n",
      "🧠 Invoking LLM on chunk 1/1...\n"
     ]
    },
    {
     "name": "stderr",
     "output_type": "stream",
     "text": [
      " 33%|███▎      | 317/970 [46:10<1:54:05, 10.48s/it]"
     ]
    },
    {
     "name": "stdout",
     "output_type": "stream",
     "text": [
      "✅ Completed row 475 | Risk Score: 4, Narrative: Financial Distress\n",
      "\n",
      "🔍 Processing row 480 | Ticker: ESI, Year: 2025\n",
      "🔹 1 chunk(s) generated\n",
      "🧠 Invoking LLM on chunk 1/1...\n"
     ]
    },
    {
     "name": "stderr",
     "output_type": "stream",
     "text": [
      " 33%|███▎      | 318/970 [46:20<1:54:05, 10.50s/it]"
     ]
    },
    {
     "name": "stdout",
     "output_type": "stream",
     "text": [
      "✅ Completed row 480 | Risk Score: 4, Narrative: Legal & Regulatory\n",
      "\n",
      "🔍 Processing row 481 | Ticker: ESNT, Year: 2025\n",
      "🔹 1 chunk(s) generated\n",
      "🧠 Invoking LLM on chunk 1/1...\n"
     ]
    },
    {
     "name": "stderr",
     "output_type": "stream",
     "text": [
      " 33%|███▎      | 319/970 [46:28<1:44:44,  9.65s/it]"
     ]
    },
    {
     "name": "stdout",
     "output_type": "stream",
     "text": [
      "✅ Completed row 481 | Risk Score: 4, Narrative: Financial Distress\n",
      "\n",
      "🔍 Processing row 482 | Ticker: ESS, Year: 2025\n",
      "🔹 1 chunk(s) generated\n",
      "🧠 Invoking LLM on chunk 1/1...\n"
     ]
    },
    {
     "name": "stderr",
     "output_type": "stream",
     "text": [
      " 33%|███▎      | 320/970 [46:40<1:54:03, 10.53s/it]"
     ]
    },
    {
     "name": "stdout",
     "output_type": "stream",
     "text": [
      "✅ Completed row 482 | Risk Score: 4, Narrative: Market Dependency\n",
      "\n",
      "🔍 Processing row 483 | Ticker: ETD, Year: 2024\n",
      "🔹 1 chunk(s) generated\n",
      "🧠 Invoking LLM on chunk 1/1...\n"
     ]
    },
    {
     "name": "stderr",
     "output_type": "stream",
     "text": [
      " 33%|███▎      | 321/970 [46:51<1:54:47, 10.61s/it]"
     ]
    },
    {
     "name": "stdout",
     "output_type": "stream",
     "text": [
      "✅ Completed row 483 | Risk Score: 5, Narrative: Market Dependency\n",
      "\n",
      "🔍 Processing row 484 | Ticker: ETN, Year: 2025\n",
      "🔹 1 chunk(s) generated\n",
      "🧠 Invoking LLM on chunk 1/1...\n"
     ]
    },
    {
     "name": "stderr",
     "output_type": "stream",
     "text": [
      " 33%|███▎      | 322/970 [47:01<1:51:30, 10.32s/it]"
     ]
    },
    {
     "name": "stdout",
     "output_type": "stream",
     "text": [
      "✅ Completed row 484 | Risk Score: 5, Narrative: Legal & Regulatory\n",
      "\n",
      "🔍 Processing row 485 | Ticker: ETR, Year: 2025\n",
      "🔹 1 chunk(s) generated\n",
      "🧠 Invoking LLM on chunk 1/1...\n"
     ]
    },
    {
     "name": "stderr",
     "output_type": "stream",
     "text": [
      " 33%|███▎      | 323/970 [47:11<1:52:11, 10.40s/it]"
     ]
    },
    {
     "name": "stdout",
     "output_type": "stream",
     "text": [
      "✅ Completed row 485 | Risk Score: 5, Narrative: Legal & Regulatory\n",
      "\n",
      "🔍 Processing row 488 | Ticker: EVRG, Year: 2025\n",
      "🔹 1 chunk(s) generated\n",
      "🧠 Invoking LLM on chunk 1/1...\n"
     ]
    },
    {
     "name": "stderr",
     "output_type": "stream",
     "text": [
      " 33%|███▎      | 324/970 [47:22<1:52:36, 10.46s/it]"
     ]
    },
    {
     "name": "stdout",
     "output_type": "stream",
     "text": [
      "✅ Completed row 488 | Risk Score: 4, Narrative: Market Dependency\n",
      "\n",
      "🔍 Processing row 489 | Ticker: EVTC, Year: 2025\n",
      "🔹 1 chunk(s) generated\n",
      "🧠 Invoking LLM on chunk 1/1...\n"
     ]
    },
    {
     "name": "stderr",
     "output_type": "stream",
     "text": [
      " 34%|███▎      | 325/970 [47:33<1:53:15, 10.54s/it]"
     ]
    },
    {
     "name": "stdout",
     "output_type": "stream",
     "text": [
      "✅ Completed row 489 | Risk Score: 4, Narrative: Legal & Regulatory\n",
      "\n",
      "🔍 Processing row 491 | Ticker: EWBC, Year: 2025\n",
      "🔹 1 chunk(s) generated\n",
      "🧠 Invoking LLM on chunk 1/1...\n"
     ]
    },
    {
     "name": "stderr",
     "output_type": "stream",
     "text": [
      " 34%|███▎      | 326/970 [47:44<1:56:34, 10.86s/it]"
     ]
    },
    {
     "name": "stdout",
     "output_type": "stream",
     "text": [
      "✅ Completed row 491 | Risk Score: 4, Narrative: Financial Distress\n",
      "\n",
      "🔍 Processing row 492 | Ticker: EXC, Year: 2025\n",
      "🔹 1 chunk(s) generated\n",
      "🧠 Invoking LLM on chunk 1/1...\n"
     ]
    },
    {
     "name": "stderr",
     "output_type": "stream",
     "text": [
      " 34%|███▎      | 327/970 [47:56<1:57:30, 10.97s/it]"
     ]
    },
    {
     "name": "stdout",
     "output_type": "stream",
     "text": [
      "✅ Completed row 492 | Risk Score: 4, Narrative: Legal & Regulatory\n",
      "\n",
      "🔍 Processing row 493 | Ticker: EXE, Year: 2025\n",
      "🔹 1 chunk(s) generated\n",
      "🧠 Invoking LLM on chunk 1/1...\n"
     ]
    },
    {
     "name": "stderr",
     "output_type": "stream",
     "text": [
      " 34%|███▍      | 328/970 [48:08<2:02:30, 11.45s/it]"
     ]
    },
    {
     "name": "stdout",
     "output_type": "stream",
     "text": [
      "✅ Completed row 493 | Risk Score: 4, Narrative: Legal & Regulatory\n",
      "\n",
      "🔍 Processing row 494 | Ticker: EXEL, Year: 2025\n",
      "🔹 1 chunk(s) generated\n",
      "🧠 Invoking LLM on chunk 1/1...\n"
     ]
    },
    {
     "name": "stderr",
     "output_type": "stream",
     "text": [
      " 34%|███▍      | 329/970 [48:20<2:02:44, 11.49s/it]"
     ]
    },
    {
     "name": "stdout",
     "output_type": "stream",
     "text": [
      "✅ Completed row 494 | Risk Score: 5, Narrative: Market Dependency\n",
      "\n",
      "🔍 Processing row 503 | Ticker: EYE, Year: 2025\n",
      "🔹 1 chunk(s) generated\n",
      "🧠 Invoking LLM on chunk 1/1...\n"
     ]
    },
    {
     "name": "stderr",
     "output_type": "stream",
     "text": [
      " 34%|███▍      | 330/970 [48:31<2:02:42, 11.50s/it]"
     ]
    },
    {
     "name": "stdout",
     "output_type": "stream",
     "text": [
      "✅ Completed row 503 | Risk Score: 5, Narrative: Legal & Regulatory\n",
      "\n",
      "🔍 Processing row 504 | Ticker: EZPW, Year: 2024\n",
      "🔹 1 chunk(s) generated\n",
      "🧠 Invoking LLM on chunk 1/1...\n"
     ]
    },
    {
     "name": "stderr",
     "output_type": "stream",
     "text": [
      " 34%|███▍      | 331/970 [48:42<1:59:26, 11.22s/it]"
     ]
    },
    {
     "name": "stdout",
     "output_type": "stream",
     "text": [
      "✅ Completed row 504 | Risk Score: 5, Narrative: Legal & Regulatory\n",
      "\n",
      "🔍 Processing row 505 | Ticker: F, Year: 2025\n",
      "🔹 1 chunk(s) generated\n",
      "🧠 Invoking LLM on chunk 1/1...\n"
     ]
    },
    {
     "name": "stderr",
     "output_type": "stream",
     "text": [
      " 34%|███▍      | 332/970 [48:52<1:57:06, 11.01s/it]"
     ]
    },
    {
     "name": "stdout",
     "output_type": "stream",
     "text": [
      "✅ Completed row 505 | Risk Score: 4, Narrative: Supply Chain\n",
      "\n",
      "🔍 Processing row 506 | Ticker: FAF, Year: 2025\n",
      "🔹 1 chunk(s) generated\n",
      "🧠 Invoking LLM on chunk 1/1...\n"
     ]
    },
    {
     "name": "stderr",
     "output_type": "stream",
     "text": [
      " 34%|███▍      | 333/970 [48:54<1:26:38,  8.16s/it]"
     ]
    },
    {
     "name": "stdout",
     "output_type": "stream",
     "text": [
      "✅ Completed row 506 | Risk Score: 2, Narrative: Legal & Regulatory\n",
      "\n",
      "🔍 Processing row 507 | Ticker: FANG, Year: 2025\n",
      "🔹 1 chunk(s) generated\n",
      "🧠 Invoking LLM on chunk 1/1...\n"
     ]
    },
    {
     "name": "stderr",
     "output_type": "stream",
     "text": [
      " 34%|███▍      | 334/970 [49:01<1:24:32,  7.98s/it]"
     ]
    },
    {
     "name": "stdout",
     "output_type": "stream",
     "text": [
      "✅ Completed row 507 | Risk Score: 2, Narrative: Legal & Regulatory\n",
      "\n",
      "🔍 Processing row 508 | Ticker: FAST, Year: 2025\n",
      "🔹 1 chunk(s) generated\n",
      "🧠 Invoking LLM on chunk 1/1...\n"
     ]
    },
    {
     "name": "stderr",
     "output_type": "stream",
     "text": [
      " 35%|███▍      | 335/970 [49:13<1:35:56,  9.07s/it]"
     ]
    },
    {
     "name": "stdout",
     "output_type": "stream",
     "text": [
      "✅ Completed row 508 | Risk Score: 4, Narrative: Market Dependency\n",
      "\n",
      "🔍 Processing row 509 | Ticker: FBIN, Year: 2025\n",
      "🔹 1 chunk(s) generated\n",
      "🧠 Invoking LLM on chunk 1/1...\n"
     ]
    },
    {
     "name": "stderr",
     "output_type": "stream",
     "text": [
      " 35%|███▍      | 336/970 [49:27<1:50:13, 10.43s/it]"
     ]
    },
    {
     "name": "stdout",
     "output_type": "stream",
     "text": [
      "✅ Completed row 509 | Risk Score: 4, Narrative: Legal & Regulatory\n",
      "\n",
      "🔍 Processing row 510 | Ticker: FBK, Year: 2025\n",
      "🔹 1 chunk(s) generated\n",
      "🧠 Invoking LLM on chunk 1/1...\n"
     ]
    },
    {
     "name": "stderr",
     "output_type": "stream",
     "text": [
      " 35%|███▍      | 337/970 [49:38<1:53:58, 10.80s/it]"
     ]
    },
    {
     "name": "stdout",
     "output_type": "stream",
     "text": [
      "✅ Completed row 510 | Risk Score: 5, Narrative: Legal & Regulatory\n",
      "\n",
      "🔍 Processing row 511 | Ticker: FBNC, Year: 2025\n",
      "🔹 1 chunk(s) generated\n",
      "🧠 Invoking LLM on chunk 1/1...\n"
     ]
    },
    {
     "name": "stderr",
     "output_type": "stream",
     "text": [
      " 35%|███▍      | 338/970 [49:50<1:56:11, 11.03s/it]"
     ]
    },
    {
     "name": "stdout",
     "output_type": "stream",
     "text": [
      "✅ Completed row 511 | Risk Score: 5, Narrative: Financial Distress\n",
      "\n",
      "🔍 Processing row 513 | Ticker: FBRT, Year: 2025\n",
      "🔹 1 chunk(s) generated\n",
      "🧠 Invoking LLM on chunk 1/1...\n"
     ]
    },
    {
     "name": "stderr",
     "output_type": "stream",
     "text": [
      " 35%|███▍      | 339/970 [49:59<1:51:32, 10.61s/it]"
     ]
    },
    {
     "name": "stdout",
     "output_type": "stream",
     "text": [
      "✅ Completed row 513 | Risk Score: 5, Narrative: Financial Distress\n",
      "\n",
      "🔍 Processing row 514 | Ticker: FCF, Year: 2025\n",
      "🔹 1 chunk(s) generated\n",
      "🧠 Invoking LLM on chunk 1/1...\n"
     ]
    },
    {
     "name": "stderr",
     "output_type": "stream",
     "text": [
      " 35%|███▌      | 340/970 [50:11<1:55:10, 10.97s/it]"
     ]
    },
    {
     "name": "stdout",
     "output_type": "stream",
     "text": [
      "✅ Completed row 514 | Risk Score: 5, Narrative: Legal & Regulatory\n",
      "\n",
      "🔍 Processing row 515 | Ticker: FCFS, Year: 2025\n",
      "🔹 1 chunk(s) generated\n",
      "🧠 Invoking LLM on chunk 1/1...\n"
     ]
    },
    {
     "name": "stderr",
     "output_type": "stream",
     "text": [
      " 35%|███▌      | 341/970 [50:22<1:53:41, 10.84s/it]"
     ]
    },
    {
     "name": "stdout",
     "output_type": "stream",
     "text": [
      "✅ Completed row 515 | Risk Score: 4, Narrative: Market Dependency\n",
      "\n",
      "🔍 Processing row 516 | Ticker: FCN, Year: 2025\n",
      "🔹 1 chunk(s) generated\n",
      "🧠 Invoking LLM on chunk 1/1...\n"
     ]
    },
    {
     "name": "stderr",
     "output_type": "stream",
     "text": [
      " 35%|███▌      | 342/970 [50:23<1:23:56,  8.02s/it]"
     ]
    },
    {
     "name": "stdout",
     "output_type": "stream",
     "text": [
      "✅ Completed row 516 | Risk Score: 4, Narrative: Legal & Regulatory\n",
      "\n",
      "🔍 Processing row 517 | Ticker: FCPT, Year: 2025\n",
      "🔹 1 chunk(s) generated\n",
      "🧠 Invoking LLM on chunk 1/1...\n"
     ]
    },
    {
     "name": "stderr",
     "output_type": "stream",
     "text": [
      " 35%|███▌      | 343/970 [50:35<1:35:08,  9.10s/it]"
     ]
    },
    {
     "name": "stdout",
     "output_type": "stream",
     "text": [
      "✅ Completed row 517 | Risk Score: 4, Narrative: Financial Distress\n",
      "\n",
      "🔍 Processing row 518 | Ticker: FCX, Year: 2025\n",
      "🔹 1 chunk(s) generated\n",
      "🧠 Invoking LLM on chunk 1/1...\n"
     ]
    },
    {
     "name": "stderr",
     "output_type": "stream",
     "text": [
      " 35%|███▌      | 344/970 [50:38<1:17:21,  7.41s/it]"
     ]
    },
    {
     "name": "stdout",
     "output_type": "stream",
     "text": [
      "✅ Completed row 518 | Risk Score: 4, Narrative: Legal & Regulatory\n",
      "\n",
      "🔍 Processing row 519 | Ticker: FDP, Year: 2025\n",
      "🔹 1 chunk(s) generated\n",
      "🧠 Invoking LLM on chunk 1/1...\n"
     ]
    },
    {
     "name": "stderr",
     "output_type": "stream",
     "text": [
      " 36%|███▌      | 345/970 [50:42<1:05:02,  6.24s/it]"
     ]
    },
    {
     "name": "stdout",
     "output_type": "stream",
     "text": [
      "✅ Completed row 519 | Risk Score: 4, Narrative: Legal & Regulatory\n",
      "\n",
      "🔍 Processing row 521 | Ticker: FDX, Year: 2024\n",
      "🔹 1 chunk(s) generated\n",
      "🧠 Invoking LLM on chunk 1/1...\n"
     ]
    },
    {
     "name": "stderr",
     "output_type": "stream",
     "text": [
      " 36%|███▌      | 346/970 [50:54<1:24:43,  8.15s/it]"
     ]
    },
    {
     "name": "stdout",
     "output_type": "stream",
     "text": [
      "✅ Completed row 521 | Risk Score: 4, Narrative: Legal & Regulatory\n",
      "\n",
      "🔍 Processing row 522 | Ticker: FE, Year: 2025\n",
      "🔹 1 chunk(s) generated\n",
      "🧠 Invoking LLM on chunk 1/1...\n"
     ]
    },
    {
     "name": "stderr",
     "output_type": "stream",
     "text": [
      " 36%|███▌      | 347/970 [50:58<1:10:01,  6.74s/it]"
     ]
    },
    {
     "name": "stdout",
     "output_type": "stream",
     "text": [
      "✅ Completed row 522 | Risk Score: 4, Narrative: Legal & Regulatory\n",
      "\n",
      "🔍 Processing row 523 | Ticker: FELE, Year: 2025\n",
      "🔹 1 chunk(s) generated\n",
      "🧠 Invoking LLM on chunk 1/1...\n"
     ]
    },
    {
     "name": "stderr",
     "output_type": "stream",
     "text": [
      " 36%|███▌      | 348/970 [51:10<1:25:12,  8.22s/it]"
     ]
    },
    {
     "name": "stdout",
     "output_type": "stream",
     "text": [
      "✅ Completed row 523 | Risk Score: 5, Narrative: Market Dependency\n",
      "\n",
      "🔍 Processing row 524 | Ticker: FFBC, Year: 2025\n",
      "🔹 1 chunk(s) generated\n",
      "🧠 Invoking LLM on chunk 1/1...\n"
     ]
    },
    {
     "name": "stderr",
     "output_type": "stream",
     "text": [
      " 36%|███▌      | 349/970 [51:20<1:32:21,  8.92s/it]"
     ]
    },
    {
     "name": "stdout",
     "output_type": "stream",
     "text": [
      "✅ Completed row 524 | Risk Score: 4, Narrative: Financial Distress\n",
      "\n",
      "🔍 Processing row 527 | Ticker: FHB, Year: 2025\n",
      "🔹 1 chunk(s) generated\n",
      "🧠 Invoking LLM on chunk 1/1...\n"
     ]
    },
    {
     "name": "stderr",
     "output_type": "stream",
     "text": [
      " 36%|███▌      | 350/970 [51:32<1:40:22,  9.71s/it]"
     ]
    },
    {
     "name": "stdout",
     "output_type": "stream",
     "text": [
      "✅ Completed row 527 | Risk Score: 4, Narrative: Legal & Regulatory\n",
      "\n",
      "🔍 Processing row 529 | Ticker: FHN, Year: 2025\n",
      "🔹 1 chunk(s) generated\n",
      "🧠 Invoking LLM on chunk 1/1...\n"
     ]
    },
    {
     "name": "stderr",
     "output_type": "stream",
     "text": [
      " 36%|███▌      | 351/970 [51:44<1:49:27, 10.61s/it]"
     ]
    },
    {
     "name": "stdout",
     "output_type": "stream",
     "text": [
      "✅ Completed row 529 | Risk Score: 4, Narrative: Legal & Regulatory\n",
      "\n",
      "🔍 Processing row 530 | Ticker: FI, Year: 2025\n",
      "🔹 1 chunk(s) generated\n",
      "🧠 Invoking LLM on chunk 1/1...\n"
     ]
    },
    {
     "name": "stderr",
     "output_type": "stream",
     "text": [
      " 36%|███▋      | 352/970 [51:57<1:55:50, 11.25s/it]"
     ]
    },
    {
     "name": "stdout",
     "output_type": "stream",
     "text": [
      "✅ Completed row 530 | Risk Score: 4, Narrative: Financial Distress\n",
      "\n",
      "🔍 Processing row 532 | Ticker: FIS, Year: 2025\n",
      "🔹 1 chunk(s) generated\n",
      "🧠 Invoking LLM on chunk 1/1...\n"
     ]
    },
    {
     "name": "stderr",
     "output_type": "stream",
     "text": [
      " 36%|███▋      | 353/970 [52:07<1:50:29, 10.75s/it]"
     ]
    },
    {
     "name": "stdout",
     "output_type": "stream",
     "text": [
      "✅ Completed row 532 | Risk Score: 4, Narrative: Financial Distress\n",
      "\n",
      "🔍 Processing row 534 | Ticker: FIVE, Year: 2025\n",
      "🔹 1 chunk(s) generated\n",
      "🧠 Invoking LLM on chunk 1/1...\n"
     ]
    },
    {
     "name": "stderr",
     "output_type": "stream",
     "text": [
      " 36%|███▋      | 354/970 [52:12<1:34:35,  9.21s/it]"
     ]
    },
    {
     "name": "stdout",
     "output_type": "stream",
     "text": [
      "✅ Completed row 534 | Risk Score: 4, Narrative: Financial Distress\n",
      "\n",
      "🔍 Processing row 535 | Ticker: FIX, Year: 2025\n",
      "🔹 1 chunk(s) generated\n",
      "🧠 Invoking LLM on chunk 1/1...\n"
     ]
    },
    {
     "name": "stderr",
     "output_type": "stream",
     "text": [
      " 37%|███▋      | 355/970 [52:25<1:44:43, 10.22s/it]"
     ]
    },
    {
     "name": "stdout",
     "output_type": "stream",
     "text": [
      "✅ Completed row 535 | Risk Score: 2, Narrative: Legal & Regulatory\n",
      "\n",
      "🔍 Processing row 536 | Ticker: FIZZ, Year: 2025\n",
      "🔹 1 chunk(s) generated\n",
      "🧠 Invoking LLM on chunk 1/1...\n"
     ]
    },
    {
     "name": "stderr",
     "output_type": "stream",
     "text": [
      " 37%|███▋      | 356/970 [52:32<1:36:21,  9.42s/it]"
     ]
    },
    {
     "name": "stdout",
     "output_type": "stream",
     "text": [
      "✅ Completed row 536 | Risk Score: 4, Narrative: Legal & Regulatory\n",
      "\n",
      "🔍 Processing row 537 | Ticker: FL, Year: 2025\n",
      "🔹 1 chunk(s) generated\n",
      "🧠 Invoking LLM on chunk 1/1...\n"
     ]
    },
    {
     "name": "stderr",
     "output_type": "stream",
     "text": [
      " 37%|███▋      | 357/970 [52:45<1:46:38, 10.44s/it]"
     ]
    },
    {
     "name": "stdout",
     "output_type": "stream",
     "text": [
      "✅ Completed row 537 | Risk Score: 4, Narrative: Legal & Regulatory\n",
      "\n",
      "🔍 Processing row 542 | Ticker: FLS, Year: 2025\n",
      "🔹 1 chunk(s) generated\n",
      "🧠 Invoking LLM on chunk 1/1...\n"
     ]
    },
    {
     "name": "stderr",
     "output_type": "stream",
     "text": [
      " 37%|███▋      | 358/970 [52:58<1:53:06, 11.09s/it]"
     ]
    },
    {
     "name": "stdout",
     "output_type": "stream",
     "text": [
      "✅ Completed row 542 | Risk Score: 2, Narrative: Supply Chain\n",
      "\n",
      "🔍 Processing row 543 | Ticker: FMC, Year: 2025\n",
      "🔹 1 chunk(s) generated\n",
      "🧠 Invoking LLM on chunk 1/1...\n"
     ]
    },
    {
     "name": "stderr",
     "output_type": "stream",
     "text": [
      " 37%|███▋      | 359/970 [53:01<1:29:40,  8.81s/it]"
     ]
    },
    {
     "name": "stdout",
     "output_type": "stream",
     "text": [
      "✅ Completed row 543 | Risk Score: 4, Narrative: Legal & Regulatory\n",
      "\n",
      "🔍 Processing row 545 | Ticker: FNB, Year: 2025\n",
      "🔹 1 chunk(s) generated\n",
      "🧠 Invoking LLM on chunk 1/1...\n"
     ]
    },
    {
     "name": "stderr",
     "output_type": "stream",
     "text": [
      " 37%|███▋      | 360/970 [53:13<1:39:12,  9.76s/it]"
     ]
    },
    {
     "name": "stdout",
     "output_type": "stream",
     "text": [
      "✅ Completed row 545 | Risk Score: 4, Narrative: Financial Distress\n",
      "\n",
      "🔍 Processing row 547 | Ticker: FNF, Year: 2025\n",
      "🔹 1 chunk(s) generated\n",
      "🧠 Invoking LLM on chunk 1/1...\n"
     ]
    },
    {
     "name": "stderr",
     "output_type": "stream",
     "text": [
      " 37%|███▋      | 361/970 [53:23<1:38:27,  9.70s/it]"
     ]
    },
    {
     "name": "stdout",
     "output_type": "stream",
     "text": [
      "✅ Completed row 547 | Risk Score: 4, Narrative: Financial Distress\n",
      "\n",
      "🔍 Processing row 549 | Ticker: FOUR, Year: 2025\n",
      "🔹 1 chunk(s) generated\n",
      "🧠 Invoking LLM on chunk 1/1...\n"
     ]
    },
    {
     "name": "stderr",
     "output_type": "stream",
     "text": [
      " 37%|███▋      | 362/970 [53:34<1:44:02, 10.27s/it]"
     ]
    },
    {
     "name": "stdout",
     "output_type": "stream",
     "text": [
      "✅ Completed row 549 | Risk Score: 5, Narrative: Legal & Regulatory\n",
      "\n",
      "🔍 Processing row 552 | Ticker: FOXF, Year: 2025\n",
      "🔹 1 chunk(s) generated\n",
      "🧠 Invoking LLM on chunk 1/1...\n"
     ]
    },
    {
     "name": "stderr",
     "output_type": "stream",
     "text": [
      " 37%|███▋      | 363/970 [53:45<1:44:55, 10.37s/it]"
     ]
    },
    {
     "name": "stdout",
     "output_type": "stream",
     "text": [
      "✅ Completed row 552 | Risk Score: 4, Narrative: Legal & Regulatory\n",
      "\n",
      "🔍 Processing row 554 | Ticker: FRPT, Year: 2025\n",
      "🔹 1 chunk(s) generated\n",
      "🧠 Invoking LLM on chunk 1/1...\n"
     ]
    },
    {
     "name": "stderr",
     "output_type": "stream",
     "text": [
      " 38%|███▊      | 364/970 [53:57<1:48:47, 10.77s/it]"
     ]
    },
    {
     "name": "stdout",
     "output_type": "stream",
     "text": [
      "✅ Completed row 554 | Risk Score: 4, Narrative: Financial Distress\n",
      "\n",
      "🔍 Processing row 555 | Ticker: FRT, Year: 2025\n",
      "🔹 1 chunk(s) generated\n",
      "🧠 Invoking LLM on chunk 1/1...\n"
     ]
    },
    {
     "name": "stderr",
     "output_type": "stream",
     "text": [
      " 38%|███▊      | 365/970 [54:08<1:51:14, 11.03s/it]"
     ]
    },
    {
     "name": "stdout",
     "output_type": "stream",
     "text": [
      "✅ Completed row 555 | Risk Score: 4, Narrative: Financial Distress\n",
      "\n",
      "🔍 Processing row 556 | Ticker: FSLR, Year: 2025\n",
      "🔹 1 chunk(s) generated\n",
      "🧠 Invoking LLM on chunk 1/1...\n"
     ]
    },
    {
     "name": "stderr",
     "output_type": "stream",
     "text": [
      " 38%|███▊      | 366/970 [54:19<1:50:21, 10.96s/it]"
     ]
    },
    {
     "name": "stdout",
     "output_type": "stream",
     "text": [
      "✅ Completed row 556 | Risk Score: 5, Narrative: Legal & Regulatory\n",
      "\n",
      "🔍 Processing row 558 | Ticker: FTDR, Year: 2025\n",
      "🔹 1 chunk(s) generated\n",
      "🧠 Invoking LLM on chunk 1/1...\n"
     ]
    },
    {
     "name": "stderr",
     "output_type": "stream",
     "text": [
      " 38%|███▊      | 367/970 [54:29<1:45:56, 10.54s/it]"
     ]
    },
    {
     "name": "stdout",
     "output_type": "stream",
     "text": [
      "✅ Completed row 558 | Risk Score: 4, Narrative: Market Dependency\n",
      "\n",
      "🔍 Processing row 560 | Ticker: FTRE, Year: 2025\n",
      "🔹 1 chunk(s) generated\n",
      "🧠 Invoking LLM on chunk 1/1...\n"
     ]
    },
    {
     "name": "stderr",
     "output_type": "stream",
     "text": [
      " 38%|███▊      | 368/970 [54:40<1:48:48, 10.84s/it]"
     ]
    },
    {
     "name": "stdout",
     "output_type": "stream",
     "text": [
      "✅ Completed row 560 | Risk Score: 4, Narrative: Market Dependency\n",
      "\n",
      "🔍 Processing row 561 | Ticker: FTV, Year: 2025\n",
      "🔹 1 chunk(s) generated\n",
      "🧠 Invoking LLM on chunk 1/1...\n"
     ]
    },
    {
     "name": "stderr",
     "output_type": "stream",
     "text": [
      " 38%|███▊      | 369/970 [54:52<1:50:44, 11.06s/it]"
     ]
    },
    {
     "name": "stdout",
     "output_type": "stream",
     "text": [
      "✅ Completed row 561 | Risk Score: 4, Narrative: Financial Distress\n",
      "\n",
      "🔍 Processing row 562 | Ticker: FUL, Year: 2025\n",
      "🔹 1 chunk(s) generated\n",
      "🧠 Invoking LLM on chunk 1/1...\n"
     ]
    },
    {
     "name": "stderr",
     "output_type": "stream",
     "text": [
      " 38%|███▊      | 370/970 [55:03<1:49:28, 10.95s/it]"
     ]
    },
    {
     "name": "stdout",
     "output_type": "stream",
     "text": [
      "✅ Completed row 562 | Risk Score: 4, Narrative: Supply Chain\n",
      "\n",
      "🔍 Processing row 563 | Ticker: FULT, Year: 2025\n",
      "🔹 1 chunk(s) generated\n",
      "🧠 Invoking LLM on chunk 1/1...\n"
     ]
    },
    {
     "name": "stderr",
     "output_type": "stream",
     "text": [
      " 38%|███▊      | 371/970 [55:14<1:51:32, 11.17s/it]"
     ]
    },
    {
     "name": "stdout",
     "output_type": "stream",
     "text": [
      "✅ Completed row 563 | Risk Score: 4, Narrative: Financial Distress\n",
      "\n",
      "🔍 Processing row 564 | Ticker: FUN, Year: 2025\n",
      "🔹 1 chunk(s) generated\n",
      "🧠 Invoking LLM on chunk 1/1...\n"
     ]
    },
    {
     "name": "stderr",
     "output_type": "stream",
     "text": [
      " 38%|███▊      | 372/970 [55:25<1:49:50, 11.02s/it]"
     ]
    },
    {
     "name": "stdout",
     "output_type": "stream",
     "text": [
      "✅ Completed row 564 | Risk Score: 5, Narrative: Financial Distress\n",
      "\n",
      "🔍 Processing row 565 | Ticker: FWRD, Year: 2025\n",
      "🔹 1 chunk(s) generated\n",
      "🧠 Invoking LLM on chunk 1/1...\n"
     ]
    },
    {
     "name": "stderr",
     "output_type": "stream",
     "text": [
      " 38%|███▊      | 373/970 [55:36<1:48:18, 10.89s/it]"
     ]
    },
    {
     "name": "stdout",
     "output_type": "stream",
     "text": [
      "✅ Completed row 565 | Risk Score: 4, Narrative: Financial Distress\n",
      "\n",
      "🔍 Processing row 570 | Ticker: GBCI, Year: 2025\n",
      "🔹 1 chunk(s) generated\n",
      "🧠 Invoking LLM on chunk 1/1...\n"
     ]
    },
    {
     "name": "stderr",
     "output_type": "stream",
     "text": [
      " 39%|███▊      | 374/970 [55:47<1:50:12, 11.09s/it]"
     ]
    },
    {
     "name": "stdout",
     "output_type": "stream",
     "text": [
      "✅ Completed row 570 | Risk Score: 5, Narrative: Financial Distress\n",
      "\n",
      "🔍 Processing row 571 | Ticker: GBX, Year: 2024\n",
      "🔹 1 chunk(s) generated\n",
      "🧠 Invoking LLM on chunk 1/1...\n"
     ]
    },
    {
     "name": "stderr",
     "output_type": "stream",
     "text": [
      " 39%|███▊      | 375/970 [55:59<1:51:36, 11.25s/it]"
     ]
    },
    {
     "name": "stdout",
     "output_type": "stream",
     "text": [
      "✅ Completed row 571 | Risk Score: 4, Narrative: Financial Distress\n",
      "\n",
      "🔍 Processing row 573 | Ticker: GDDY, Year: 2025\n",
      "🔹 1 chunk(s) generated\n",
      "🧠 Invoking LLM on chunk 1/1...\n"
     ]
    },
    {
     "name": "stderr",
     "output_type": "stream",
     "text": [
      " 39%|███▉      | 376/970 [56:11<1:55:28, 11.66s/it]"
     ]
    },
    {
     "name": "stdout",
     "output_type": "stream",
     "text": [
      "✅ Completed row 573 | Risk Score: 4, Narrative: Market Dependency\n",
      "\n",
      "🔍 Processing row 574 | Ticker: GDEN, Year: 2025\n",
      "🔹 1 chunk(s) generated\n",
      "🧠 Invoking LLM on chunk 1/1...\n"
     ]
    },
    {
     "name": "stderr",
     "output_type": "stream",
     "text": [
      " 39%|███▉      | 377/970 [56:23<1:55:04, 11.64s/it]"
     ]
    },
    {
     "name": "stdout",
     "output_type": "stream",
     "text": [
      "✅ Completed row 574 | Risk Score: 5, Narrative: Legal & Regulatory\n",
      "\n",
      "🔍 Processing row 575 | Ticker: GDYN, Year: 2025\n",
      "🔹 1 chunk(s) generated\n",
      "🧠 Invoking LLM on chunk 1/1...\n"
     ]
    },
    {
     "name": "stderr",
     "output_type": "stream",
     "text": [
      " 39%|███▉      | 378/970 [56:34<1:51:47, 11.33s/it]"
     ]
    },
    {
     "name": "stdout",
     "output_type": "stream",
     "text": [
      "✅ Completed row 575 | Risk Score: 4, Narrative: Financial Distress\n",
      "\n",
      "🔍 Processing row 578 | Ticker: GEHC, Year: 2025\n",
      "🔹 1 chunk(s) generated\n",
      "🧠 Invoking LLM on chunk 1/1...\n"
     ]
    },
    {
     "name": "stderr",
     "output_type": "stream",
     "text": [
      " 39%|███▉      | 379/970 [56:44<1:49:23, 11.11s/it]"
     ]
    },
    {
     "name": "stdout",
     "output_type": "stream",
     "text": [
      "✅ Completed row 578 | Risk Score: 4, Narrative: Legal & Regulatory\n",
      "\n",
      "🔍 Processing row 580 | Ticker: GEO, Year: 2025\n",
      "🔹 1 chunk(s) generated\n",
      "🧠 Invoking LLM on chunk 1/1...\n"
     ]
    },
    {
     "name": "stderr",
     "output_type": "stream",
     "text": [
      " 39%|███▉      | 380/970 [56:56<1:51:27, 11.34s/it]"
     ]
    },
    {
     "name": "stdout",
     "output_type": "stream",
     "text": [
      "✅ Completed row 580 | Risk Score: 4, Narrative: Legal & Regulatory\n",
      "\n",
      "🔍 Processing row 581 | Ticker: GES, Year: 2025\n",
      "🔹 1 chunk(s) generated\n",
      "🧠 Invoking LLM on chunk 1/1...\n"
     ]
    },
    {
     "name": "stderr",
     "output_type": "stream",
     "text": [
      " 39%|███▉      | 381/970 [57:07<1:49:00, 11.11s/it]"
     ]
    },
    {
     "name": "stdout",
     "output_type": "stream",
     "text": [
      "✅ Completed row 581 | Risk Score: 5, Narrative: Market Dependency\n",
      "\n",
      "🔍 Processing row 582 | Ticker: GEV, Year: 2025\n",
      "🔹 1 chunk(s) generated\n",
      "🧠 Invoking LLM on chunk 1/1...\n"
     ]
    },
    {
     "name": "stderr",
     "output_type": "stream",
     "text": [
      " 39%|███▉      | 382/970 [57:14<1:38:30, 10.05s/it]"
     ]
    },
    {
     "name": "stdout",
     "output_type": "stream",
     "text": [
      "✅ Completed row 582 | Risk Score: 4, Narrative: Financial Distress\n",
      "\n",
      "🔍 Processing row 583 | Ticker: GFF, Year: 2024\n",
      "🔹 1 chunk(s) generated\n",
      "🧠 Invoking LLM on chunk 1/1...\n"
     ]
    },
    {
     "name": "stderr",
     "output_type": "stream",
     "text": [
      " 39%|███▉      | 383/970 [57:28<1:48:41, 11.11s/it]"
     ]
    },
    {
     "name": "stdout",
     "output_type": "stream",
     "text": [
      "✅ Completed row 583 | Risk Score: 4, Narrative: Financial Distress\n",
      "\n",
      "🔍 Processing row 585 | Ticker: GHC, Year: 2025\n",
      "🔹 1 chunk(s) generated\n",
      "🧠 Invoking LLM on chunk 1/1...\n"
     ]
    },
    {
     "name": "stderr",
     "output_type": "stream",
     "text": [
      " 40%|███▉      | 384/970 [57:38<1:47:14, 10.98s/it]"
     ]
    },
    {
     "name": "stdout",
     "output_type": "stream",
     "text": [
      "✅ Completed row 585 | Risk Score: 5, Narrative: Legal & Regulatory\n",
      "\n",
      "🔍 Processing row 589 | Ticker: GKOS, Year: 2025\n",
      "🔹 1 chunk(s) generated\n",
      "🧠 Invoking LLM on chunk 1/1...\n"
     ]
    },
    {
     "name": "stderr",
     "output_type": "stream",
     "text": [
      " 40%|███▉      | 385/970 [57:48<1:42:53, 10.55s/it]"
     ]
    },
    {
     "name": "stdout",
     "output_type": "stream",
     "text": [
      "✅ Completed row 589 | Risk Score: 4, Narrative: Market Dependency\n",
      "\n",
      "🔍 Processing row 590 | Ticker: GL, Year: 2025\n",
      "🔹 1 chunk(s) generated\n",
      "🧠 Invoking LLM on chunk 1/1...\n"
     ]
    },
    {
     "name": "stderr",
     "output_type": "stream",
     "text": [
      " 40%|███▉      | 386/970 [57:59<1:42:50, 10.57s/it]"
     ]
    },
    {
     "name": "stdout",
     "output_type": "stream",
     "text": [
      "✅ Completed row 590 | Risk Score: 4, Narrative: Market Dependency\n",
      "\n",
      "🔍 Processing row 592 | Ticker: GLW, Year: 2025\n",
      "🔹 1 chunk(s) generated\n",
      "🧠 Invoking LLM on chunk 1/1...\n"
     ]
    },
    {
     "name": "stderr",
     "output_type": "stream",
     "text": [
      " 40%|███▉      | 387/970 [58:10<1:45:33, 10.86s/it]"
     ]
    },
    {
     "name": "stdout",
     "output_type": "stream",
     "text": [
      "✅ Completed row 592 | Risk Score: 5, Narrative: Supply Chain\n",
      "\n",
      "🔍 Processing row 593 | Ticker: GM, Year: 2025\n",
      "🔹 1 chunk(s) generated\n",
      "🧠 Invoking LLM on chunk 1/1...\n"
     ]
    },
    {
     "name": "stderr",
     "output_type": "stream",
     "text": [
      " 40%|████      | 388/970 [58:20<1:41:40, 10.48s/it]"
     ]
    },
    {
     "name": "stdout",
     "output_type": "stream",
     "text": [
      "✅ Completed row 593 | Risk Score: 4, Narrative: Market Dependency\n",
      "\n",
      "🔍 Processing row 594 | Ticker: GME, Year: 2025\n",
      "🔹 1 chunk(s) generated\n",
      "🧠 Invoking LLM on chunk 1/1...\n"
     ]
    },
    {
     "name": "stderr",
     "output_type": "stream",
     "text": [
      " 40%|████      | 389/970 [58:29<1:38:48, 10.20s/it]"
     ]
    },
    {
     "name": "stdout",
     "output_type": "stream",
     "text": [
      "✅ Completed row 594 | Risk Score: 5, Narrative: Legal & Regulatory\n",
      "\n",
      "🔍 Processing row 595 | Ticker: GMED, Year: 2025\n",
      "🔹 1 chunk(s) generated\n",
      "🧠 Invoking LLM on chunk 1/1...\n"
     ]
    },
    {
     "name": "stderr",
     "output_type": "stream",
     "text": [
      " 40%|████      | 390/970 [58:41<1:42:50, 10.64s/it]"
     ]
    },
    {
     "name": "stdout",
     "output_type": "stream",
     "text": [
      "✅ Completed row 595 | Risk Score: 4, Narrative: Legal & Regulatory\n",
      "\n",
      "🔍 Processing row 596 | Ticker: GMS, Year: 2025\n",
      "🔹 1 chunk(s) generated\n",
      "🧠 Invoking LLM on chunk 1/1...\n"
     ]
    },
    {
     "name": "stderr",
     "output_type": "stream",
     "text": [
      " 40%|████      | 391/970 [58:54<1:48:25, 11.24s/it]"
     ]
    },
    {
     "name": "stdout",
     "output_type": "stream",
     "text": [
      "✅ Completed row 596 | Risk Score: 5, Narrative: Market Dependency\n",
      "\n",
      "🔍 Processing row 597 | Ticker: GNL, Year: 2025\n",
      "🔹 1 chunk(s) generated\n",
      "🧠 Invoking LLM on chunk 1/1...\n"
     ]
    },
    {
     "name": "stderr",
     "output_type": "stream",
     "text": [
      " 40%|████      | 392/970 [59:04<1:46:19, 11.04s/it]"
     ]
    },
    {
     "name": "stdout",
     "output_type": "stream",
     "text": [
      "✅ Completed row 597 | Risk Score: 4, Narrative: Financial Distress\n",
      "\n",
      "🔍 Processing row 598 | Ticker: GNRC, Year: 2025\n",
      "🔹 1 chunk(s) generated\n",
      "🧠 Invoking LLM on chunk 1/1...\n"
     ]
    },
    {
     "name": "stderr",
     "output_type": "stream",
     "text": [
      " 41%|████      | 393/970 [59:16<1:48:18, 11.26s/it]"
     ]
    },
    {
     "name": "stdout",
     "output_type": "stream",
     "text": [
      "✅ Completed row 598 | Risk Score: 5, Narrative: Supply Chain\n",
      "\n",
      "🔍 Processing row 601 | Ticker: GO, Year: 2025\n",
      "🔹 1 chunk(s) generated\n",
      "🧠 Invoking LLM on chunk 1/1...\n"
     ]
    },
    {
     "name": "stderr",
     "output_type": "stream",
     "text": [
      " 41%|████      | 394/970 [59:27<1:46:16, 11.07s/it]"
     ]
    },
    {
     "name": "stdout",
     "output_type": "stream",
     "text": [
      "✅ Completed row 601 | Risk Score: 4, Narrative: Supply Chain\n",
      "\n",
      "🔍 Processing row 602 | Ticker: GOGO, Year: 2025\n",
      "🔹 1 chunk(s) generated\n",
      "🧠 Invoking LLM on chunk 1/1...\n"
     ]
    },
    {
     "name": "stderr",
     "output_type": "stream",
     "text": [
      " 41%|████      | 395/970 [59:38<1:47:27, 11.21s/it]"
     ]
    },
    {
     "name": "stdout",
     "output_type": "stream",
     "text": [
      "✅ Completed row 602 | Risk Score: 5, Narrative: Market Dependency\n",
      "\n",
      "🔍 Processing row 604 | Ticker: GOOG, Year: 2025\n",
      "🔹 1 chunk(s) generated\n",
      "🧠 Invoking LLM on chunk 1/1...\n"
     ]
    },
    {
     "name": "stderr",
     "output_type": "stream",
     "text": [
      " 41%|████      | 396/970 [59:48<1:42:33, 10.72s/it]"
     ]
    },
    {
     "name": "stdout",
     "output_type": "stream",
     "text": [
      "✅ Completed row 604 | Risk Score: 4, Narrative: Legal & Regulatory\n",
      "\n",
      "🔍 Processing row 605 | Ticker: GOOGL, Year: 2025\n",
      "🔹 1 chunk(s) generated\n",
      "🧠 Invoking LLM on chunk 1/1...\n"
     ]
    },
    {
     "name": "stderr",
     "output_type": "stream",
     "text": [
      " 41%|████      | 397/970 [59:59<1:45:03, 11.00s/it]"
     ]
    },
    {
     "name": "stdout",
     "output_type": "stream",
     "text": [
      "✅ Completed row 605 | Risk Score: 4, Narrative: Legal & Regulatory\n",
      "\n",
      "🔍 Processing row 606 | Ticker: GPC, Year: 2025\n",
      "🔹 1 chunk(s) generated\n",
      "🧠 Invoking LLM on chunk 1/1...\n"
     ]
    },
    {
     "name": "stderr",
     "output_type": "stream",
     "text": [
      " 41%|████      | 398/970 [1:00:11<1:46:37, 11.18s/it]"
     ]
    },
    {
     "name": "stdout",
     "output_type": "stream",
     "text": [
      "✅ Completed row 606 | Risk Score: 4, Narrative: Market Dependency\n",
      "\n",
      "🔍 Processing row 607 | Ticker: GPI, Year: 2025\n",
      "🔹 1 chunk(s) generated\n",
      "🧠 Invoking LLM on chunk 1/1...\n"
     ]
    },
    {
     "name": "stderr",
     "output_type": "stream",
     "text": [
      " 41%|████      | 399/970 [1:00:22<1:44:55, 11.03s/it]"
     ]
    },
    {
     "name": "stdout",
     "output_type": "stream",
     "text": [
      "✅ Completed row 607 | Risk Score: 4, Narrative: Financial Distress\n",
      "\n",
      "🔍 Processing row 608 | Ticker: GPK, Year: 2025\n",
      "🔹 1 chunk(s) generated\n",
      "🧠 Invoking LLM on chunk 1/1...\n"
     ]
    },
    {
     "name": "stderr",
     "output_type": "stream",
     "text": [
      " 41%|████      | 400/970 [1:00:33<1:46:17, 11.19s/it]"
     ]
    },
    {
     "name": "stdout",
     "output_type": "stream",
     "text": [
      "✅ Completed row 608 | Risk Score: 5, Narrative: Supply Chain\n",
      "\n",
      "🔍 Processing row 609 | Ticker: GPN, Year: 2025\n",
      "🔹 1 chunk(s) generated\n",
      "🧠 Invoking LLM on chunk 1/1...\n"
     ]
    },
    {
     "name": "stderr",
     "output_type": "stream",
     "text": [
      " 41%|████▏     | 401/970 [1:00:43<1:41:35, 10.71s/it]"
     ]
    },
    {
     "name": "stdout",
     "output_type": "stream",
     "text": [
      "✅ Completed row 609 | Risk Score: 4, Narrative: Legal & Regulatory\n",
      "\n",
      "🔍 Processing row 610 | Ticker: GRBK, Year: 2025\n",
      "🔹 1 chunk(s) generated\n",
      "🧠 Invoking LLM on chunk 1/1...\n"
     ]
    },
    {
     "name": "stderr",
     "output_type": "stream",
     "text": [
      " 41%|████▏     | 402/970 [1:00:54<1:43:53, 10.97s/it]"
     ]
    },
    {
     "name": "stdout",
     "output_type": "stream",
     "text": [
      "✅ Completed row 610 | Risk Score: 5, Narrative: Market Dependency\n",
      "\n",
      "🔍 Processing row 612 | Ticker: GS, Year: 2025\n",
      "🔹 1 chunk(s) generated\n",
      "🧠 Invoking LLM on chunk 1/1...\n"
     ]
    },
    {
     "name": "stderr",
     "output_type": "stream",
     "text": [
      " 42%|████▏     | 403/970 [1:01:05<1:42:49, 10.88s/it]"
     ]
    },
    {
     "name": "stdout",
     "output_type": "stream",
     "text": [
      "✅ Completed row 612 | Risk Score: 5, Narrative: Market Dependency\n",
      "\n",
      "🔍 Processing row 613 | Ticker: GSHD, Year: 2025\n",
      "🔹 1 chunk(s) generated\n",
      "🧠 Invoking LLM on chunk 1/1...\n"
     ]
    },
    {
     "name": "stderr",
     "output_type": "stream",
     "text": [
      " 42%|████▏     | 404/970 [1:01:18<1:47:26, 11.39s/it]"
     ]
    },
    {
     "name": "stdout",
     "output_type": "stream",
     "text": [
      "✅ Completed row 613 | Risk Score: 4, Narrative: Financial Distress\n",
      "\n",
      "🔍 Processing row 614 | Ticker: GT, Year: 2025\n",
      "🔹 1 chunk(s) generated\n",
      "🧠 Invoking LLM on chunk 1/1...\n"
     ]
    },
    {
     "name": "stderr",
     "output_type": "stream",
     "text": [
      " 42%|████▏     | 405/970 [1:01:28<1:45:23, 11.19s/it]"
     ]
    },
    {
     "name": "stdout",
     "output_type": "stream",
     "text": [
      "✅ Completed row 614 | Risk Score: 4, Narrative: Financial Distress\n",
      "\n",
      "🔍 Processing row 615 | Ticker: GTES, Year: 2025\n",
      "🔹 1 chunk(s) generated\n",
      "🧠 Invoking LLM on chunk 1/1...\n"
     ]
    },
    {
     "name": "stderr",
     "output_type": "stream",
     "text": [
      " 42%|████▏     | 406/970 [1:01:36<1:35:13, 10.13s/it]"
     ]
    },
    {
     "name": "stdout",
     "output_type": "stream",
     "text": [
      "✅ Completed row 615 | Risk Score: 4, Narrative: Financial Distress\n",
      "\n",
      "🔍 Processing row 617 | Ticker: GTM, Year: 2025\n",
      "🔹 1 chunk(s) generated\n",
      "🧠 Invoking LLM on chunk 1/1...\n"
     ]
    },
    {
     "name": "stderr",
     "output_type": "stream",
     "text": [
      " 42%|████▏     | 407/970 [1:01:49<1:41:57, 10.87s/it]"
     ]
    },
    {
     "name": "stdout",
     "output_type": "stream",
     "text": [
      "✅ Completed row 617 | Risk Score: 5, Narrative: Market Dependency\n",
      "\n",
      "🔍 Processing row 618 | Ticker: GTY, Year: 2025\n",
      "🔹 1 chunk(s) generated\n",
      "🧠 Invoking LLM on chunk 1/1...\n"
     ]
    },
    {
     "name": "stderr",
     "output_type": "stream",
     "text": [
      " 42%|████▏     | 408/970 [1:01:58<1:38:16, 10.49s/it]"
     ]
    },
    {
     "name": "stdout",
     "output_type": "stream",
     "text": [
      "✅ Completed row 618 | Risk Score: 4, Narrative: Financial Distress\n",
      "\n",
      "🔍 Processing row 619 | Ticker: GVA, Year: 2025\n",
      "🔹 1 chunk(s) generated\n",
      "🧠 Invoking LLM on chunk 1/1...\n"
     ]
    },
    {
     "name": "stderr",
     "output_type": "stream",
     "text": [
      " 42%|████▏     | 409/970 [1:02:09<1:38:32, 10.54s/it]"
     ]
    },
    {
     "name": "stdout",
     "output_type": "stream",
     "text": [
      "✅ Completed row 619 | Risk Score: 2, Narrative: Legal & Regulatory\n",
      "\n",
      "🔍 Processing row 621 | Ticker: GWW, Year: 2025\n",
      "🔹 1 chunk(s) generated\n",
      "🧠 Invoking LLM on chunk 1/1...\n"
     ]
    },
    {
     "name": "stderr",
     "output_type": "stream",
     "text": [
      " 42%|████▏     | 410/970 [1:02:20<1:41:15, 10.85s/it]"
     ]
    },
    {
     "name": "stdout",
     "output_type": "stream",
     "text": [
      "✅ Completed row 621 | Risk Score: 4, Narrative: Financial Distress\n",
      "\n",
      "🔍 Processing row 622 | Ticker: GXO, Year: 2025\n",
      "🔹 1 chunk(s) generated\n",
      "🧠 Invoking LLM on chunk 1/1...\n"
     ]
    },
    {
     "name": "stderr",
     "output_type": "stream",
     "text": [
      " 42%|████▏     | 411/970 [1:02:24<1:20:30,  8.64s/it]"
     ]
    },
    {
     "name": "stdout",
     "output_type": "stream",
     "text": [
      "✅ Completed row 622 | Risk Score: 4, Narrative: Legal & Regulatory\n",
      "\n",
      "🔍 Processing row 624 | Ticker: HAE, Year: 2025\n",
      "🔹 1 chunk(s) generated\n",
      "🧠 Invoking LLM on chunk 1/1...\n"
     ]
    },
    {
     "name": "stderr",
     "output_type": "stream",
     "text": [
      " 42%|████▏     | 412/970 [1:02:36<1:31:26,  9.83s/it]"
     ]
    },
    {
     "name": "stdout",
     "output_type": "stream",
     "text": [
      "✅ Completed row 624 | Risk Score: 4, Narrative: Market Dependency\n",
      "\n",
      "🔍 Processing row 625 | Ticker: HAFC, Year: 2025\n",
      "🔹 1 chunk(s) generated\n",
      "🧠 Invoking LLM on chunk 1/1...\n"
     ]
    },
    {
     "name": "stderr",
     "output_type": "stream",
     "text": [
      " 43%|████▎     | 413/970 [1:02:48<1:36:09, 10.36s/it]"
     ]
    },
    {
     "name": "stdout",
     "output_type": "stream",
     "text": [
      "✅ Completed row 625 | Risk Score: 4, Narrative: Legal & Regulatory\n",
      "\n",
      "🔍 Processing row 628 | Ticker: HAS, Year: 2025\n",
      "🔹 1 chunk(s) generated\n",
      "🧠 Invoking LLM on chunk 1/1...\n"
     ]
    },
    {
     "name": "stderr",
     "output_type": "stream",
     "text": [
      " 43%|████▎     | 414/970 [1:03:01<1:43:04, 11.12s/it]"
     ]
    },
    {
     "name": "stdout",
     "output_type": "stream",
     "text": [
      "✅ Completed row 628 | Risk Score: 4, Narrative: Legal & Regulatory\n",
      "\n",
      "🔍 Processing row 629 | Ticker: HASI, Year: 2025\n",
      "🔹 1 chunk(s) generated\n",
      "🧠 Invoking LLM on chunk 1/1...\n"
     ]
    },
    {
     "name": "stderr",
     "output_type": "stream",
     "text": [
      " 43%|████▎     | 415/970 [1:03:13<1:44:21, 11.28s/it]"
     ]
    },
    {
     "name": "stdout",
     "output_type": "stream",
     "text": [
      "✅ Completed row 629 | Risk Score: 4, Narrative: Legal & Regulatory\n",
      "\n",
      "🔍 Processing row 630 | Ticker: HAYW, Year: 2025\n",
      "🔹 1 chunk(s) generated\n",
      "🧠 Invoking LLM on chunk 1/1...\n"
     ]
    },
    {
     "name": "stderr",
     "output_type": "stream",
     "text": [
      " 43%|████▎     | 416/970 [1:03:18<1:28:11,  9.55s/it]"
     ]
    },
    {
     "name": "stdout",
     "output_type": "stream",
     "text": [
      "✅ Completed row 630 | Risk Score: 4, Narrative: Financial Distress\n",
      "\n",
      "🔍 Processing row 633 | Ticker: HCA, Year: 2025\n",
      "🔹 1 chunk(s) generated\n",
      "🧠 Invoking LLM on chunk 1/1...\n"
     ]
    },
    {
     "name": "stderr",
     "output_type": "stream",
     "text": [
      " 43%|████▎     | 417/970 [1:03:31<1:36:41, 10.49s/it]"
     ]
    },
    {
     "name": "stdout",
     "output_type": "stream",
     "text": [
      "✅ Completed row 633 | Risk Score: 5, Narrative: Financial Distress\n",
      "\n",
      "🔍 Processing row 634 | Ticker: HCC, Year: 2025\n",
      "🔹 1 chunk(s) generated\n",
      "🧠 Invoking LLM on chunk 1/1...\n"
     ]
    },
    {
     "name": "stderr",
     "output_type": "stream",
     "text": [
      " 43%|████▎     | 418/970 [1:03:43<1:39:47, 10.85s/it]"
     ]
    },
    {
     "name": "stdout",
     "output_type": "stream",
     "text": [
      "✅ Completed row 634 | Risk Score: 4, Narrative: Legal & Regulatory\n",
      "\n",
      "🔍 Processing row 636 | Ticker: HCSG, Year: 2025\n",
      "🔹 1 chunk(s) generated\n",
      "🧠 Invoking LLM on chunk 1/1...\n"
     ]
    },
    {
     "name": "stderr",
     "output_type": "stream",
     "text": [
      " 43%|████▎     | 419/970 [1:03:54<1:41:41, 11.07s/it]"
     ]
    },
    {
     "name": "stdout",
     "output_type": "stream",
     "text": [
      "✅ Completed row 636 | Risk Score: 4, Narrative: Financial Distress\n",
      "\n",
      "🔍 Processing row 638 | Ticker: HELE, Year: 2025\n",
      "🔹 1 chunk(s) generated\n",
      "🧠 Invoking LLM on chunk 1/1...\n"
     ]
    },
    {
     "name": "stderr",
     "output_type": "stream",
     "text": [
      " 43%|████▎     | 420/970 [1:04:06<1:42:54, 11.23s/it]"
     ]
    },
    {
     "name": "stdout",
     "output_type": "stream",
     "text": [
      "✅ Completed row 638 | Risk Score: 4, Narrative: Financial Distress\n",
      "\n",
      "🔍 Processing row 639 | Ticker: HES, Year: 2025\n",
      "🔹 1 chunk(s) generated\n",
      "🧠 Invoking LLM on chunk 1/1...\n"
     ]
    },
    {
     "name": "stderr",
     "output_type": "stream",
     "text": [
      " 43%|████▎     | 421/970 [1:04:16<1:41:06, 11.05s/it]"
     ]
    },
    {
     "name": "stdout",
     "output_type": "stream",
     "text": [
      "✅ Completed row 639 | Risk Score: 4, Narrative: Market Dependency\n",
      "\n",
      "🔍 Processing row 640 | Ticker: HFWA, Year: 2025\n",
      "🔹 1 chunk(s) generated\n",
      "🧠 Invoking LLM on chunk 1/1...\n"
     ]
    },
    {
     "name": "stderr",
     "output_type": "stream",
     "text": [
      " 44%|████▎     | 422/970 [1:04:31<1:50:38, 12.11s/it]"
     ]
    },
    {
     "name": "stdout",
     "output_type": "stream",
     "text": [
      "✅ Completed row 640 | Risk Score: 5, Narrative: Legal & Regulatory\n",
      "\n",
      "🔍 Processing row 641 | Ticker: HGV, Year: 2025\n",
      "🔹 1 chunk(s) generated\n",
      "🧠 Invoking LLM on chunk 1/1...\n"
     ]
    },
    {
     "name": "stderr",
     "output_type": "stream",
     "text": [
      " 44%|████▎     | 423/970 [1:04:41<1:43:30, 11.35s/it]"
     ]
    },
    {
     "name": "stdout",
     "output_type": "stream",
     "text": [
      "✅ Completed row 641 | Risk Score: 4, Narrative: Legal & Regulatory\n",
      "\n",
      "🔍 Processing row 643 | Ticker: HIG, Year: 2025\n",
      "🔹 1 chunk(s) generated\n",
      "🧠 Invoking LLM on chunk 1/1...\n"
     ]
    },
    {
     "name": "stderr",
     "output_type": "stream",
     "text": [
      " 44%|████▎     | 424/970 [1:04:52<1:44:04, 11.44s/it]"
     ]
    },
    {
     "name": "stdout",
     "output_type": "stream",
     "text": [
      "✅ Completed row 643 | Risk Score: 4, Narrative: Financial Distress\n",
      "\n",
      "🔍 Processing row 644 | Ticker: HII, Year: 2025\n",
      "🔹 1 chunk(s) generated\n",
      "🧠 Invoking LLM on chunk 1/1...\n"
     ]
    },
    {
     "name": "stderr",
     "output_type": "stream",
     "text": [
      " 44%|████▍     | 425/970 [1:05:05<1:47:00, 11.78s/it]"
     ]
    },
    {
     "name": "stdout",
     "output_type": "stream",
     "text": [
      "✅ Completed row 644 | Risk Score: 5, Narrative: Legal & Regulatory\n",
      "\n",
      "🔍 Processing row 645 | Ticker: HIMS, Year: 2025\n",
      "🔹 1 chunk(s) generated\n",
      "🧠 Invoking LLM on chunk 1/1...\n"
     ]
    },
    {
     "name": "stderr",
     "output_type": "stream",
     "text": [
      " 44%|████▍     | 426/970 [1:05:11<1:32:25, 10.19s/it]"
     ]
    },
    {
     "name": "stdout",
     "output_type": "stream",
     "text": [
      "✅ Completed row 645 | Risk Score: 4, Narrative: Financial Distress\n",
      "\n",
      "🔍 Processing row 646 | Ticker: HIW, Year: 2025\n",
      "🔹 1 chunk(s) generated\n",
      "🧠 Invoking LLM on chunk 1/1...\n"
     ]
    },
    {
     "name": "stderr",
     "output_type": "stream",
     "text": [
      " 44%|████▍     | 427/970 [1:05:24<1:38:59, 10.94s/it]"
     ]
    },
    {
     "name": "stdout",
     "output_type": "stream",
     "text": [
      "✅ Completed row 646 | Risk Score: 4, Narrative: Legal & Regulatory\n",
      "\n",
      "🔍 Processing row 647 | Ticker: HLI, Year: 2025\n",
      "🔹 1 chunk(s) generated\n",
      "🧠 Invoking LLM on chunk 1/1...\n"
     ]
    },
    {
     "name": "stderr",
     "output_type": "stream",
     "text": [
      " 44%|████▍     | 428/970 [1:05:35<1:40:24, 11.11s/it]"
     ]
    },
    {
     "name": "stdout",
     "output_type": "stream",
     "text": [
      "✅ Completed row 647 | Risk Score: 4, Narrative: Financial Distress\n",
      "\n",
      "🔍 Processing row 649 | Ticker: HLNE, Year: 2025\n",
      "🔹 1 chunk(s) generated\n",
      "🧠 Invoking LLM on chunk 1/1...\n"
     ]
    },
    {
     "name": "stderr",
     "output_type": "stream",
     "text": [
      " 44%|████▍     | 429/970 [1:05:38<1:16:51,  8.52s/it]"
     ]
    },
    {
     "name": "stdout",
     "output_type": "stream",
     "text": [
      "✅ Completed row 649 | Risk Score: 4, Narrative: Legal & Regulatory\n",
      "\n",
      "🔍 Processing row 650 | Ticker: HLT, Year: 2025\n",
      "🔹 1 chunk(s) generated\n",
      "🧠 Invoking LLM on chunk 1/1...\n"
     ]
    },
    {
     "name": "stderr",
     "output_type": "stream",
     "text": [
      " 44%|████▍     | 430/970 [1:05:51<1:27:45,  9.75s/it]"
     ]
    },
    {
     "name": "stdout",
     "output_type": "stream",
     "text": [
      "✅ Completed row 650 | Risk Score: 4, Narrative: Market Dependency\n",
      "\n",
      "🔍 Processing row 653 | Ticker: HNI, Year: 2025\n",
      "🔹 1 chunk(s) generated\n",
      "🧠 Invoking LLM on chunk 1/1...\n"
     ]
    },
    {
     "name": "stderr",
     "output_type": "stream",
     "text": [
      " 44%|████▍     | 431/970 [1:06:02<1:32:35, 10.31s/it]"
     ]
    },
    {
     "name": "stdout",
     "output_type": "stream",
     "text": [
      "✅ Completed row 653 | Risk Score: 4, Narrative: Legal & Regulatory\n",
      "\n",
      "🔍 Processing row 654 | Ticker: HOG, Year: 2025\n",
      "🔹 1 chunk(s) generated\n",
      "🧠 Invoking LLM on chunk 1/1...\n"
     ]
    },
    {
     "name": "stderr",
     "output_type": "stream",
     "text": [
      " 45%|████▍     | 432/970 [1:06:12<1:30:22, 10.08s/it]"
     ]
    },
    {
     "name": "stdout",
     "output_type": "stream",
     "text": [
      "✅ Completed row 654 | Risk Score: 4, Narrative: Legal & Regulatory\n",
      "\n",
      "🔍 Processing row 655 | Ticker: HOLX, Year: 2024\n",
      "🔹 1 chunk(s) generated\n",
      "🧠 Invoking LLM on chunk 1/1...\n"
     ]
    },
    {
     "name": "stderr",
     "output_type": "stream",
     "text": [
      " 45%|████▍     | 433/970 [1:06:23<1:34:14, 10.53s/it]"
     ]
    },
    {
     "name": "stdout",
     "output_type": "stream",
     "text": [
      "✅ Completed row 655 | Risk Score: 4, Narrative: Market Dependency\n",
      "\n",
      "🔍 Processing row 656 | Ticker: HOMB, Year: 2025\n",
      "🔹 1 chunk(s) generated\n",
      "🧠 Invoking LLM on chunk 1/1...\n"
     ]
    },
    {
     "name": "stderr",
     "output_type": "stream",
     "text": [
      " 45%|████▍     | 434/970 [1:06:34<1:34:05, 10.53s/it]"
     ]
    },
    {
     "name": "stdout",
     "output_type": "stream",
     "text": [
      "✅ Completed row 656 | Risk Score: 5, Narrative: Legal & Regulatory\n",
      "\n",
      "🔍 Processing row 658 | Ticker: HOPE, Year: 2025\n",
      "🔹 1 chunk(s) generated\n",
      "🧠 Invoking LLM on chunk 1/1...\n"
     ]
    },
    {
     "name": "stderr",
     "output_type": "stream",
     "text": [
      " 45%|████▍     | 435/970 [1:06:43<1:31:17, 10.24s/it]"
     ]
    },
    {
     "name": "stdout",
     "output_type": "stream",
     "text": [
      "✅ Completed row 658 | Risk Score: 4, Narrative: Financial Distress\n",
      "\n",
      "🔍 Processing row 659 | Ticker: HP, Year: 2024\n",
      "🔹 1 chunk(s) generated\n",
      "🧠 Invoking LLM on chunk 1/1...\n"
     ]
    },
    {
     "name": "stderr",
     "output_type": "stream",
     "text": [
      " 45%|████▍     | 436/970 [1:06:55<1:34:44, 10.65s/it]"
     ]
    },
    {
     "name": "stdout",
     "output_type": "stream",
     "text": [
      "✅ Completed row 659 | Risk Score: 5, Narrative: Market Dependency\n",
      "\n",
      "🔍 Processing row 660 | Ticker: HPE, Year: 2024\n",
      "🔹 1 chunk(s) generated\n",
      "🧠 Invoking LLM on chunk 1/1...\n"
     ]
    },
    {
     "name": "stderr",
     "output_type": "stream",
     "text": [
      " 45%|████▌     | 437/970 [1:07:07<1:39:08, 11.16s/it]"
     ]
    },
    {
     "name": "stdout",
     "output_type": "stream",
     "text": [
      "✅ Completed row 660 | Risk Score: 4, Narrative: Financial Distress\n",
      "\n",
      "🔍 Processing row 661 | Ticker: HPQ, Year: 2024\n",
      "🔹 1 chunk(s) generated\n",
      "🧠 Invoking LLM on chunk 1/1...\n"
     ]
    },
    {
     "name": "stderr",
     "output_type": "stream",
     "text": [
      " 45%|████▌     | 438/970 [1:07:19<1:39:59, 11.28s/it]"
     ]
    },
    {
     "name": "stdout",
     "output_type": "stream",
     "text": [
      "✅ Completed row 661 | Risk Score: 4, Narrative: Market Dependency\n",
      "\n",
      "🔍 Processing row 662 | Ticker: HQY, Year: 2025\n",
      "🔹 1 chunk(s) generated\n",
      "🧠 Invoking LLM on chunk 1/1...\n"
     ]
    },
    {
     "name": "stderr",
     "output_type": "stream",
     "text": [
      " 45%|████▌     | 439/970 [1:07:29<1:35:34, 10.80s/it]"
     ]
    },
    {
     "name": "stdout",
     "output_type": "stream",
     "text": [
      "✅ Completed row 662 | Risk Score: 4, Narrative: Financial Distress\n",
      "\n",
      "🔍 Processing row 663 | Ticker: HR, Year: 2025\n",
      "🔹 1 chunk(s) generated\n",
      "🧠 Invoking LLM on chunk 1/1...\n"
     ]
    },
    {
     "name": "stderr",
     "output_type": "stream",
     "text": [
      " 45%|████▌     | 440/970 [1:07:41<1:40:09, 11.34s/it]"
     ]
    },
    {
     "name": "stdout",
     "output_type": "stream",
     "text": [
      "✅ Completed row 663 | Risk Score: 4, Narrative: Legal & Regulatory\n",
      "\n",
      "🔍 Processing row 664 | Ticker: HRB, Year: 2024\n",
      "🔹 1 chunk(s) generated\n",
      "🧠 Invoking LLM on chunk 1/1...\n"
     ]
    },
    {
     "name": "stderr",
     "output_type": "stream",
     "text": [
      " 45%|████▌     | 441/970 [1:07:54<1:43:32, 11.74s/it]"
     ]
    },
    {
     "name": "stdout",
     "output_type": "stream",
     "text": [
      "✅ Completed row 664 | Risk Score: 4, Narrative: Legal & Regulatory\n",
      "\n",
      "🔍 Processing row 665 | Ticker: HRL, Year: 2024\n",
      "🔹 1 chunk(s) generated\n",
      "🧠 Invoking LLM on chunk 1/1...\n"
     ]
    },
    {
     "name": "stderr",
     "output_type": "stream",
     "text": [
      " 46%|████▌     | 442/970 [1:07:55<1:16:15,  8.67s/it]"
     ]
    },
    {
     "name": "stdout",
     "output_type": "stream",
     "text": [
      "✅ Completed row 665 | Risk Score: 4, Narrative: Legal & Regulatory\n",
      "\n",
      "🔍 Processing row 666 | Ticker: HRMY, Year: 2025\n",
      "🔹 1 chunk(s) generated\n",
      "🧠 Invoking LLM on chunk 1/1...\n"
     ]
    },
    {
     "name": "stderr",
     "output_type": "stream",
     "text": [
      " 46%|████▌     | 443/970 [1:07:59<1:02:22,  7.10s/it]"
     ]
    },
    {
     "name": "stdout",
     "output_type": "stream",
     "text": [
      "✅ Completed row 666 | Risk Score: 4, Narrative: Legal & Regulatory\n",
      "\n",
      "🔍 Processing row 667 | Ticker: HSIC, Year: 2025\n",
      "🔹 1 chunk(s) generated\n",
      "🧠 Invoking LLM on chunk 1/1...\n"
     ]
    },
    {
     "name": "stderr",
     "output_type": "stream",
     "text": [
      " 46%|████▌     | 444/970 [1:08:10<1:14:00,  8.44s/it]"
     ]
    },
    {
     "name": "stdout",
     "output_type": "stream",
     "text": [
      "✅ Completed row 667 | Risk Score: 4, Narrative: Legal & Regulatory\n",
      "\n",
      "🔍 Processing row 668 | Ticker: HSII, Year: 2025\n",
      "🔹 1 chunk(s) generated\n",
      "🧠 Invoking LLM on chunk 1/1...\n"
     ]
    },
    {
     "name": "stderr",
     "output_type": "stream",
     "text": [
      " 46%|████▌     | 445/970 [1:08:23<1:24:54,  9.70s/it]"
     ]
    },
    {
     "name": "stdout",
     "output_type": "stream",
     "text": [
      "✅ Completed row 668 | Risk Score: 5, Narrative: Legal & Regulatory\n",
      "\n",
      "🔍 Processing row 669 | Ticker: HST, Year: 2025\n",
      "🔹 1 chunk(s) generated\n",
      "🧠 Invoking LLM on chunk 1/1...\n"
     ]
    },
    {
     "name": "stderr",
     "output_type": "stream",
     "text": [
      " 46%|████▌     | 446/970 [1:08:35<1:29:50, 10.29s/it]"
     ]
    },
    {
     "name": "stdout",
     "output_type": "stream",
     "text": [
      "✅ Completed row 669 | Risk Score: 5, Narrative: Market Dependency\n",
      "\n",
      "🔍 Processing row 670 | Ticker: HSTM, Year: 2025\n",
      "🔹 1 chunk(s) generated\n",
      "🧠 Invoking LLM on chunk 1/1...\n"
     ]
    },
    {
     "name": "stderr",
     "output_type": "stream",
     "text": [
      " 46%|████▌     | 447/970 [1:08:45<1:30:49, 10.42s/it]"
     ]
    },
    {
     "name": "stdout",
     "output_type": "stream",
     "text": [
      "✅ Completed row 670 | Risk Score: 4, Narrative: Executive Turnover\n",
      "\n",
      "🔍 Processing row 671 | Ticker: HSY, Year: 2025\n",
      "🔹 1 chunk(s) generated\n",
      "🧠 Invoking LLM on chunk 1/1...\n"
     ]
    },
    {
     "name": "stderr",
     "output_type": "stream",
     "text": [
      " 46%|████▌     | 448/970 [1:08:58<1:36:33, 11.10s/it]"
     ]
    },
    {
     "name": "stdout",
     "output_type": "stream",
     "text": [
      "✅ Completed row 671 | Risk Score: 5, Narrative: Legal & Regulatory\n",
      "\n",
      "🔍 Processing row 672 | Ticker: HTH, Year: 2025\n",
      "🔹 1 chunk(s) generated\n",
      "🧠 Invoking LLM on chunk 1/1...\n"
     ]
    },
    {
     "name": "stderr",
     "output_type": "stream",
     "text": [
      " 46%|████▋     | 449/970 [1:09:10<1:37:46, 11.26s/it]"
     ]
    },
    {
     "name": "stdout",
     "output_type": "stream",
     "text": [
      "✅ Completed row 672 | Risk Score: 5, Narrative: Financial Distress\n",
      "\n",
      "🔍 Processing row 675 | Ticker: HUBB, Year: 2025\n",
      "🔹 1 chunk(s) generated\n",
      "🧠 Invoking LLM on chunk 1/1...\n"
     ]
    },
    {
     "name": "stderr",
     "output_type": "stream",
     "text": [
      " 46%|████▋     | 450/970 [1:09:21<1:38:22, 11.35s/it]"
     ]
    },
    {
     "name": "stdout",
     "output_type": "stream",
     "text": [
      "✅ Completed row 675 | Risk Score: 4, Narrative: Supply Chain\n",
      "\n",
      "🔍 Processing row 676 | Ticker: HUBG, Year: 2025\n",
      "🔹 1 chunk(s) generated\n",
      "🧠 Invoking LLM on chunk 1/1...\n"
     ]
    },
    {
     "name": "stderr",
     "output_type": "stream",
     "text": [
      " 46%|████▋     | 451/970 [1:09:24<1:15:03,  8.68s/it]"
     ]
    },
    {
     "name": "stdout",
     "output_type": "stream",
     "text": [
      "✅ Completed row 676 | Risk Score: 4, Narrative: Legal & Regulatory\n",
      "\n",
      "🔍 Processing row 677 | Ticker: HUM, Year: 2025\n",
      "🔹 1 chunk(s) generated\n",
      "🧠 Invoking LLM on chunk 1/1...\n"
     ]
    },
    {
     "name": "stderr",
     "output_type": "stream",
     "text": [
      " 47%|████▋     | 452/970 [1:09:36<1:25:30,  9.90s/it]"
     ]
    },
    {
     "name": "stdout",
     "output_type": "stream",
     "text": [
      "✅ Completed row 677 | Risk Score: 5, Narrative: Financial Distress\n",
      "\n",
      "🔍 Processing row 680 | Ticker: HWM, Year: 2025\n",
      "🔹 1 chunk(s) generated\n",
      "🧠 Invoking LLM on chunk 1/1...\n"
     ]
    },
    {
     "name": "stderr",
     "output_type": "stream",
     "text": [
      " 47%|████▋     | 453/970 [1:09:46<1:24:24,  9.80s/it]"
     ]
    },
    {
     "name": "stdout",
     "output_type": "stream",
     "text": [
      "✅ Completed row 680 | Risk Score: 5, Narrative: Market Dependency\n",
      "\n",
      "🔍 Processing row 684 | Ticker: IART, Year: 2025\n",
      "🔹 1 chunk(s) generated\n",
      "🧠 Invoking LLM on chunk 1/1...\n"
     ]
    },
    {
     "name": "stderr",
     "output_type": "stream",
     "text": [
      " 47%|████▋     | 454/970 [1:09:51<1:13:12,  8.51s/it]"
     ]
    },
    {
     "name": "stdout",
     "output_type": "stream",
     "text": [
      "✅ Completed row 684 | Risk Score: 4, Narrative: Financial Distress\n",
      "\n",
      "🔍 Processing row 685 | Ticker: IBKR, Year: 2025\n",
      "🔹 1 chunk(s) generated\n",
      "🧠 Invoking LLM on chunk 1/1...\n"
     ]
    },
    {
     "name": "stderr",
     "output_type": "stream",
     "text": [
      " 47%|████▋     | 455/970 [1:10:04<1:23:44,  9.76s/it]"
     ]
    },
    {
     "name": "stdout",
     "output_type": "stream",
     "text": [
      "✅ Completed row 685 | Risk Score: 4, Narrative: Legal & Regulatory\n",
      "\n",
      "🔍 Processing row 686 | Ticker: IBM, Year: 2025\n",
      "🔹 1 chunk(s) generated\n",
      "🧠 Invoking LLM on chunk 1/1...\n"
     ]
    },
    {
     "name": "stderr",
     "output_type": "stream",
     "text": [
      " 47%|████▋     | 456/970 [1:10:09<1:09:59,  8.17s/it]"
     ]
    },
    {
     "name": "stdout",
     "output_type": "stream",
     "text": [
      "✅ Completed row 686 | Risk Score: 4, Narrative: Legal & Regulatory\n",
      "\n",
      "🔍 Processing row 688 | Ticker: IBP, Year: 2025\n",
      "🔹 1 chunk(s) generated\n",
      "🧠 Invoking LLM on chunk 1/1...\n"
     ]
    },
    {
     "name": "stderr",
     "output_type": "stream",
     "text": [
      " 47%|████▋     | 457/970 [1:10:21<1:21:17,  9.51s/it]"
     ]
    },
    {
     "name": "stdout",
     "output_type": "stream",
     "text": [
      "✅ Completed row 688 | Risk Score: 5, Narrative: Legal & Regulatory\n",
      "\n",
      "🔍 Processing row 689 | Ticker: ICE, Year: 2025\n",
      "🔹 1 chunk(s) generated\n",
      "🧠 Invoking LLM on chunk 1/1...\n"
     ]
    },
    {
     "name": "stderr",
     "output_type": "stream",
     "text": [
      " 47%|████▋     | 458/970 [1:10:32<1:24:31,  9.91s/it]"
     ]
    },
    {
     "name": "stdout",
     "output_type": "stream",
     "text": [
      "✅ Completed row 689 | Risk Score: 4, Narrative: Market Dependency\n",
      "\n",
      "🔍 Processing row 690 | Ticker: ICHR, Year: 2025\n",
      "🔹 1 chunk(s) generated\n",
      "🧠 Invoking LLM on chunk 1/1...\n"
     ]
    },
    {
     "name": "stderr",
     "output_type": "stream",
     "text": [
      " 47%|████▋     | 459/970 [1:10:43<1:26:19, 10.14s/it]"
     ]
    },
    {
     "name": "stdout",
     "output_type": "stream",
     "text": [
      "✅ Completed row 690 | Risk Score: 5, Narrative: Market Dependency\n",
      "\n",
      "🔍 Processing row 691 | Ticker: ICUI, Year: 2025\n",
      "🔹 1 chunk(s) generated\n",
      "🧠 Invoking LLM on chunk 1/1...\n"
     ]
    },
    {
     "name": "stderr",
     "output_type": "stream",
     "text": [
      " 47%|████▋     | 460/970 [1:10:54<1:29:47, 10.56s/it]"
     ]
    },
    {
     "name": "stdout",
     "output_type": "stream",
     "text": [
      "✅ Completed row 691 | Risk Score: 4, Narrative: Supply Chain\n",
      "\n",
      "🔍 Processing row 692 | Ticker: IDA, Year: 2025\n",
      "🔹 1 chunk(s) generated\n",
      "🧠 Invoking LLM on chunk 1/1...\n"
     ]
    },
    {
     "name": "stderr",
     "output_type": "stream",
     "text": [
      " 48%|████▊     | 461/970 [1:11:06<1:32:28, 10.90s/it]"
     ]
    },
    {
     "name": "stdout",
     "output_type": "stream",
     "text": [
      "✅ Completed row 692 | Risk Score: 5, Narrative: Legal & Regulatory\n",
      "\n",
      "🔍 Processing row 694 | Ticker: IDXX, Year: 2025\n",
      "🔹 1 chunk(s) generated\n",
      "🧠 Invoking LLM on chunk 1/1...\n"
     ]
    },
    {
     "name": "stderr",
     "output_type": "stream",
     "text": [
      " 48%|████▊     | 462/970 [1:11:16<1:28:49, 10.49s/it]"
     ]
    },
    {
     "name": "stdout",
     "output_type": "stream",
     "text": [
      "✅ Completed row 694 | Risk Score: 5, Narrative: Supply Chain\n",
      "\n",
      "🔍 Processing row 697 | Ticker: IIIN, Year: 2024\n",
      "🔹 1 chunk(s) generated\n",
      "🧠 Invoking LLM on chunk 1/1...\n"
     ]
    },
    {
     "name": "stderr",
     "output_type": "stream",
     "text": [
      " 48%|████▊     | 463/970 [1:11:27<1:31:30, 10.83s/it]"
     ]
    },
    {
     "name": "stdout",
     "output_type": "stream",
     "text": [
      "✅ Completed row 697 | Risk Score: 4, Narrative: Market Dependency\n",
      "\n",
      "🔍 Processing row 698 | Ticker: IIPR, Year: 2025\n",
      "🔹 1 chunk(s) generated\n",
      "🧠 Invoking LLM on chunk 1/1...\n"
     ]
    },
    {
     "name": "stderr",
     "output_type": "stream",
     "text": [
      " 48%|████▊     | 464/970 [1:11:40<1:35:50, 11.36s/it]"
     ]
    },
    {
     "name": "stdout",
     "output_type": "stream",
     "text": [
      "✅ Completed row 698 | Risk Score: 5, Narrative: Legal & Regulatory\n",
      "\n",
      "🔍 Processing row 700 | Ticker: INCY, Year: 2025\n",
      "🔹 1 chunk(s) generated\n",
      "🧠 Invoking LLM on chunk 1/1...\n"
     ]
    },
    {
     "name": "stderr",
     "output_type": "stream",
     "text": [
      " 48%|████▊     | 465/970 [1:11:52<1:38:44, 11.73s/it]"
     ]
    },
    {
     "name": "stdout",
     "output_type": "stream",
     "text": [
      "✅ Completed row 700 | Risk Score: 5, Narrative: Legal & Regulatory\n",
      "\n",
      "🔍 Processing row 702 | Ticker: INGR, Year: 2025\n",
      "🔹 1 chunk(s) generated\n",
      "🧠 Invoking LLM on chunk 1/1...\n"
     ]
    },
    {
     "name": "stderr",
     "output_type": "stream",
     "text": [
      " 48%|████▊     | 466/970 [1:12:02<1:33:05, 11.08s/it]"
     ]
    },
    {
     "name": "stdout",
     "output_type": "stream",
     "text": [
      "✅ Completed row 702 | Risk Score: 4, Narrative: Supply Chain\n",
      "\n",
      "🔍 Processing row 704 | Ticker: INSP, Year: 2025\n",
      "🔹 1 chunk(s) generated\n",
      "🧠 Invoking LLM on chunk 1/1...\n"
     ]
    },
    {
     "name": "stderr",
     "output_type": "stream",
     "text": [
      " 48%|████▊     | 467/970 [1:12:15<1:36:55, 11.56s/it]"
     ]
    },
    {
     "name": "stdout",
     "output_type": "stream",
     "text": [
      "✅ Completed row 704 | Risk Score: 4, Narrative: Financial Distress\n",
      "\n",
      "🔍 Processing row 708 | Ticker: INVA, Year: 2025\n",
      "🔹 1 chunk(s) generated\n",
      "🧠 Invoking LLM on chunk 1/1...\n"
     ]
    },
    {
     "name": "stderr",
     "output_type": "stream",
     "text": [
      " 48%|████▊     | 468/970 [1:12:26<1:36:42, 11.56s/it]"
     ]
    },
    {
     "name": "stdout",
     "output_type": "stream",
     "text": [
      "✅ Completed row 708 | Risk Score: 5, Narrative: Market Dependency\n",
      "\n",
      "🔍 Processing row 709 | Ticker: INVH, Year: 2025\n",
      "🔹 1 chunk(s) generated\n",
      "🧠 Invoking LLM on chunk 1/1...\n"
     ]
    },
    {
     "name": "stderr",
     "output_type": "stream",
     "text": [
      " 48%|████▊     | 469/970 [1:12:39<1:39:04, 11.87s/it]"
     ]
    },
    {
     "name": "stdout",
     "output_type": "stream",
     "text": [
      "✅ Completed row 709 | Risk Score: 4, Narrative: Financial Distress\n",
      "\n",
      "🔍 Processing row 710 | Ticker: IOSP, Year: 2025\n",
      "🔹 1 chunk(s) generated\n",
      "🧠 Invoking LLM on chunk 1/1...\n"
     ]
    },
    {
     "name": "stderr",
     "output_type": "stream",
     "text": [
      " 48%|████▊     | 470/970 [1:12:50<1:38:06, 11.77s/it]"
     ]
    },
    {
     "name": "stdout",
     "output_type": "stream",
     "text": [
      "✅ Completed row 710 | Risk Score: 5, Narrative: Market Dependency\n",
      "\n",
      "🔍 Processing row 711 | Ticker: IP, Year: 2025\n",
      "🔹 1 chunk(s) generated\n",
      "🧠 Invoking LLM on chunk 1/1...\n"
     ]
    },
    {
     "name": "stderr",
     "output_type": "stream",
     "text": [
      " 49%|████▊     | 471/970 [1:13:01<1:35:06, 11.44s/it]"
     ]
    },
    {
     "name": "stdout",
     "output_type": "stream",
     "text": [
      "✅ Completed row 711 | Risk Score: 4, Narrative: Executive Turnover\n",
      "\n",
      "🔍 Processing row 713 | Ticker: IPG, Year: 2025\n",
      "🔹 1 chunk(s) generated\n",
      "🧠 Invoking LLM on chunk 1/1...\n"
     ]
    },
    {
     "name": "stderr",
     "output_type": "stream",
     "text": [
      " 49%|████▊     | 472/970 [1:13:13<1:35:30, 11.51s/it]"
     ]
    },
    {
     "name": "stdout",
     "output_type": "stream",
     "text": [
      "✅ Completed row 713 | Risk Score: 2, Narrative: Legal & Regulatory\n",
      "\n",
      "🔍 Processing row 714 | Ticker: IPGP, Year: 2025\n",
      "🔹 1 chunk(s) generated\n",
      "🧠 Invoking LLM on chunk 1/1...\n"
     ]
    },
    {
     "name": "stderr",
     "output_type": "stream",
     "text": [
      " 49%|████▉     | 473/970 [1:13:23<1:33:11, 11.25s/it]"
     ]
    },
    {
     "name": "stdout",
     "output_type": "stream",
     "text": [
      "✅ Completed row 714 | Risk Score: 4, Narrative: Market Dependency\n",
      "\n",
      "🔍 Processing row 715 | Ticker: IQV, Year: 2025\n",
      "🔹 1 chunk(s) generated\n",
      "🧠 Invoking LLM on chunk 1/1...\n"
     ]
    },
    {
     "name": "stderr",
     "output_type": "stream",
     "text": [
      " 49%|████▉     | 474/970 [1:13:34<1:31:14, 11.04s/it]"
     ]
    },
    {
     "name": "stdout",
     "output_type": "stream",
     "text": [
      "✅ Completed row 715 | Risk Score: 4, Narrative: Financial Distress\n",
      "\n",
      "🔍 Processing row 716 | Ticker: IR, Year: 2025\n",
      "🔹 1 chunk(s) generated\n",
      "🧠 Invoking LLM on chunk 1/1...\n"
     ]
    },
    {
     "name": "stderr",
     "output_type": "stream",
     "text": [
      " 49%|████▉     | 475/970 [1:13:38<1:14:49,  9.07s/it]"
     ]
    },
    {
     "name": "stdout",
     "output_type": "stream",
     "text": [
      "✅ Completed row 716 | Risk Score: 4, Narrative: Legal & Regulatory\n",
      "\n",
      "🔍 Processing row 717 | Ticker: IRDM, Year: 2025\n",
      "🔹 1 chunk(s) generated\n",
      "🧠 Invoking LLM on chunk 1/1...\n"
     ]
    },
    {
     "name": "stderr",
     "output_type": "stream",
     "text": [
      " 49%|████▉     | 476/970 [1:13:50<1:20:45,  9.81s/it]"
     ]
    },
    {
     "name": "stdout",
     "output_type": "stream",
     "text": [
      "✅ Completed row 717 | Risk Score: 5, Narrative: Supply Chain\n",
      "\n",
      "🔍 Processing row 718 | Ticker: IRM, Year: 2025\n",
      "🔹 1 chunk(s) generated\n",
      "🧠 Invoking LLM on chunk 1/1...\n"
     ]
    },
    {
     "name": "stderr",
     "output_type": "stream",
     "text": [
      " 49%|████▉     | 477/970 [1:13:59<1:20:06,  9.75s/it]"
     ]
    },
    {
     "name": "stdout",
     "output_type": "stream",
     "text": [
      "✅ Completed row 718 | Risk Score: 2, Narrative: Legal & Regulatory\n",
      "\n",
      "🔍 Processing row 719 | Ticker: IRT, Year: 2025\n",
      "🔹 1 chunk(s) generated\n",
      "🧠 Invoking LLM on chunk 1/1...\n"
     ]
    },
    {
     "name": "stderr",
     "output_type": "stream",
     "text": [
      " 49%|████▉     | 480/970 [1:14:11<45:14,  5.54s/it]  "
     ]
    },
    {
     "name": "stdout",
     "output_type": "stream",
     "text": [
      "❌ Error at row 719 (IRT): Error code: 503 - {'error': {'message': 'Service unavailable. Visit https://groqstatus.com/ to see if there is an active incident.', 'type': 'internal_server_error'}}\n",
      "\n",
      "🔍 Processing row 721 | Ticker: IT, Year: 2025\n",
      "🔹 1 chunk(s) generated\n",
      "🧠 Invoking LLM on chunk 1/1...\n",
      "❌ Error at row 721 (IT): Error code: 503 - {'error': {'message': 'Service unavailable. Visit https://groqstatus.com/ to see if there is an active incident.', 'type': 'internal_server_error'}}\n",
      "\n",
      "🔍 Processing row 723 | Ticker: ITRI, Year: 2025\n",
      "🔹 1 chunk(s) generated\n",
      "🧠 Invoking LLM on chunk 1/1...\n",
      "❌ Error at row 723 (ITRI): Error code: 503 - {'error': {'message': 'Service unavailable. Visit https://groqstatus.com/ to see if there is an active incident.', 'type': 'internal_server_error'}}\n"
     ]
    },
    {
     "name": "stderr",
     "output_type": "stream",
     "text": [
      " 50%|████▉     | 483/970 [1:14:11<20:10,  2.49s/it]"
     ]
    },
    {
     "name": "stdout",
     "output_type": "stream",
     "text": [
      "\n",
      "🔍 Processing row 725 | Ticker: ITW, Year: 2025\n",
      "🔹 1 chunk(s) generated\n",
      "🧠 Invoking LLM on chunk 1/1...\n",
      "❌ Error at row 725 (ITW): Error code: 503 - {'error': {'message': 'Service unavailable. Visit https://groqstatus.com/ to see if there is an active incident.', 'type': 'internal_server_error'}}\n",
      "\n",
      "🔍 Processing row 726 | Ticker: IVZ, Year: 2025\n",
      "🔹 1 chunk(s) generated\n",
      "🧠 Invoking LLM on chunk 1/1...\n",
      "❌ Error at row 726 (IVZ): Error code: 503 - {'error': {'message': 'Service unavailable. Visit https://groqstatus.com/ to see if there is an active incident.', 'type': 'internal_server_error'}}\n",
      "\n",
      "🔍 Processing row 727 | Ticker: J, Year: 2024\n",
      "🔹 1 chunk(s) generated\n",
      "🧠 Invoking LLM on chunk 1/1...\n",
      "❌ Error at row 727 (J): Error code: 503 - {'error': {'message': 'Service unavailable. Visit https://groqstatus.com/ to see if there is an active incident.', 'type': 'internal_server_error'}}\n"
     ]
    },
    {
     "name": "stderr",
     "output_type": "stream",
     "text": [
      " 50%|█████     | 485/970 [1:14:11<12:55,  1.60s/it]"
     ]
    },
    {
     "name": "stdout",
     "output_type": "stream",
     "text": [
      "\n",
      "🔍 Processing row 729 | Ticker: JAZZ, Year: 2025\n",
      "🔹 1 chunk(s) generated\n",
      "🧠 Invoking LLM on chunk 1/1...\n",
      "❌ Error at row 729 (JAZZ): Error code: 503 - {'error': {'message': 'Service unavailable. Visit https://groqstatus.com/ to see if there is an active incident.', 'type': 'internal_server_error'}}\n",
      "\n",
      "🔍 Processing row 732 | Ticker: JBL, Year: 2024\n",
      "🔹 1 chunk(s) generated\n",
      "🧠 Invoking LLM on chunk 1/1...\n",
      "❌ Error at row 732 (JBL): Error code: 503 - {'error': {'message': 'Service unavailable. Visit https://groqstatus.com/ to see if there is an active incident.', 'type': 'internal_server_error'}}\n"
     ]
    },
    {
     "name": "stderr",
     "output_type": "stream",
     "text": [
      " 50%|█████     | 487/970 [1:14:12<08:35,  1.07s/it]"
     ]
    },
    {
     "name": "stdout",
     "output_type": "stream",
     "text": [
      "\n",
      "🔍 Processing row 734 | Ticker: JBSS, Year: 2024\n",
      "🔹 1 chunk(s) generated\n",
      "🧠 Invoking LLM on chunk 1/1...\n",
      "❌ Error at row 734 (JBSS): Error code: 503 - {'error': {'message': 'Service unavailable. Visit https://groqstatus.com/ to see if there is an active incident.', 'type': 'internal_server_error'}}\n",
      "\n",
      "🔍 Processing row 735 | Ticker: JCI, Year: 2024\n",
      "🔹 1 chunk(s) generated\n",
      "🧠 Invoking LLM on chunk 1/1...\n",
      "❌ Error at row 735 (JCI): Error code: 503 - {'error': {'message': 'Service unavailable. Visit https://groqstatus.com/ to see if there is an active incident.', 'type': 'internal_server_error'}}\n",
      "\n",
      "🔍 Processing row 736 | Ticker: JEF, Year: 2025\n",
      "🔹 1 chunk(s) generated\n",
      "🧠 Invoking LLM on chunk 1/1...\n",
      "❌ Error at row 736 (JEF): Error code: 503 - {'error': {'message': 'Service unavailable. Visit https://groqstatus.com/ to see if there is an active incident.', 'type': 'internal_server_error'}}\n",
      "\n",
      "🔍 Processing row 737 | Ticker: JHG, Year: 2025\n",
      "🔹 1 chunk(s) generated\n",
      "🧠 Invoking LLM on chunk 1/1...\n"
     ]
    },
    {
     "name": "stderr",
     "output_type": "stream",
     "text": [
      " 51%|█████     | 491/970 [1:14:12<04:11,  1.90it/s]"
     ]
    },
    {
     "name": "stdout",
     "output_type": "stream",
     "text": [
      "❌ Error at row 737 (JHG): Error code: 503 - {'error': {'message': 'Service unavailable. Visit https://groqstatus.com/ to see if there is an active incident.', 'type': 'internal_server_error'}}\n",
      "\n",
      "🔍 Processing row 739 | Ticker: JKHY, Year: 2024\n",
      "🔹 1 chunk(s) generated\n",
      "🧠 Invoking LLM on chunk 1/1...\n",
      "❌ Error at row 739 (JKHY): Error code: 503 - {'error': {'message': 'Service unavailable. Visit https://groqstatus.com/ to see if there is an active incident.', 'type': 'internal_server_error'}}\n",
      "\n",
      "🔍 Processing row 740 | Ticker: JLL, Year: 2025\n",
      "🔹 1 chunk(s) generated\n",
      "🧠 Invoking LLM on chunk 1/1...\n",
      "❌ Error at row 740 (JLL): Error code: 503 - {'error': {'message': 'Service unavailable. Visit https://groqstatus.com/ to see if there is an active incident.', 'type': 'internal_server_error'}}\n",
      "\n",
      "🔍 Processing row 741 | Ticker: JNJ, Year: 2025\n",
      "🔹 1 chunk(s) generated\n",
      "🧠 Invoking LLM on chunk 1/1...\n"
     ]
    },
    {
     "name": "stderr",
     "output_type": "stream",
     "text": [
      " 51%|█████     | 493/970 [1:14:12<03:02,  2.61it/s]"
     ]
    },
    {
     "name": "stdout",
     "output_type": "stream",
     "text": [
      "❌ Error at row 741 (JNJ): Error code: 503 - {'error': {'message': 'Service unavailable. Visit https://groqstatus.com/ to see if there is an active incident.', 'type': 'internal_server_error'}}\n",
      "\n",
      "🔍 Processing row 743 | Ticker: JPM, Year: 2025\n",
      "🔹 1 chunk(s) generated\n",
      "🧠 Invoking LLM on chunk 1/1...\n",
      "❌ Error at row 743 (JPM): Error code: 503 - {'error': {'message': 'Service unavailable. Visit https://groqstatus.com/ to see if there is an active incident.', 'type': 'internal_server_error'}}\n",
      "\n",
      "🔍 Processing row 744 | Ticker: JXN, Year: 2025\n",
      "🔹 1 chunk(s) generated\n",
      "🧠 Invoking LLM on chunk 1/1...\n",
      "❌ Error at row 744 (JXN): Error code: 503 - {'error': {'message': 'Service unavailable. Visit https://groqstatus.com/ to see if there is an active incident.', 'type': 'internal_server_error'}}\n",
      "\n",
      "🔍 Processing row 745 | Ticker: K, Year: 2025\n"
     ]
    },
    {
     "name": "stderr",
     "output_type": "stream",
     "text": [
      " 51%|█████     | 497/970 [1:14:12<01:46,  4.43it/s]"
     ]
    },
    {
     "name": "stdout",
     "output_type": "stream",
     "text": [
      "🔹 1 chunk(s) generated\n",
      "🧠 Invoking LLM on chunk 1/1...\n",
      "❌ Error at row 745 (K): Error code: 503 - {'error': {'message': 'Service unavailable. Visit https://groqstatus.com/ to see if there is an active incident.', 'type': 'internal_server_error'}}\n",
      "\n",
      "🔍 Processing row 747 | Ticker: KALU, Year: 2025\n",
      "🔹 1 chunk(s) generated\n",
      "🧠 Invoking LLM on chunk 1/1...\n",
      "❌ Error at row 747 (KALU): Error code: 503 - {'error': {'message': 'Service unavailable. Visit https://groqstatus.com/ to see if there is an active incident.', 'type': 'internal_server_error'}}\n",
      "\n",
      "🔍 Processing row 750 | Ticker: KBR, Year: 2025\n",
      "🔹 1 chunk(s) generated\n",
      "🧠 Invoking LLM on chunk 1/1...\n",
      "❌ Error at row 750 (KBR): Error code: 503 - {'error': {'message': 'Service unavailable. Visit https://groqstatus.com/ to see if there is an active incident.', 'type': 'internal_server_error'}}\n"
     ]
    },
    {
     "name": "stderr",
     "output_type": "stream",
     "text": [
      " 51%|█████▏    | 499/970 [1:14:12<01:22,  5.68it/s]"
     ]
    },
    {
     "name": "stdout",
     "output_type": "stream",
     "text": [
      "\n",
      "🔍 Processing row 751 | Ticker: KD, Year: 2025\n",
      "🔹 1 chunk(s) generated\n",
      "🧠 Invoking LLM on chunk 1/1...\n",
      "❌ Error at row 751 (KD): Error code: 503 - {'error': {'message': 'Service unavailable. Visit https://groqstatus.com/ to see if there is an active incident.', 'type': 'internal_server_error'}}\n",
      "\n",
      "🔍 Processing row 752 | Ticker: KDP, Year: 2025\n",
      "🔹 1 chunk(s) generated\n",
      "🧠 Invoking LLM on chunk 1/1...\n",
      "❌ Error at row 752 (KDP): Error code: 503 - {'error': {'message': 'Service unavailable. Visit https://groqstatus.com/ to see if there is an active incident.', 'type': 'internal_server_error'}}\n",
      "\n",
      "🔍 Processing row 753 | Ticker: KEX, Year: 2025\n",
      "🔹 1 chunk(s) generated\n",
      "🧠 Invoking LLM on chunk 1/1...\n"
     ]
    },
    {
     "name": "stderr",
     "output_type": "stream",
     "text": [
      " 52%|█████▏    | 501/970 [1:14:13<01:20,  5.86it/s]"
     ]
    },
    {
     "name": "stdout",
     "output_type": "stream",
     "text": [
      "❌ Error at row 753 (KEX): Error code: 503 - {'error': {'message': 'Service unavailable. Visit https://groqstatus.com/ to see if there is an active incident.', 'type': 'internal_server_error'}}\n",
      "\n",
      "🔍 Processing row 754 | Ticker: KEY, Year: 2025\n",
      "🔹 1 chunk(s) generated\n",
      "🧠 Invoking LLM on chunk 1/1...\n",
      "❌ Error at row 754 (KEY): Error code: 503 - {'error': {'message': 'Service unavailable. Visit https://groqstatus.com/ to see if there is an active incident.', 'type': 'internal_server_error'}}\n",
      "\n",
      "🔍 Processing row 755 | Ticker: KEYS, Year: 2024\n",
      "🔹 1 chunk(s) generated\n",
      "🧠 Invoking LLM on chunk 1/1...\n"
     ]
    },
    {
     "name": "stderr",
     "output_type": "stream",
     "text": [
      " 52%|█████▏    | 505/970 [1:14:13<00:59,  7.87it/s]"
     ]
    },
    {
     "name": "stdout",
     "output_type": "stream",
     "text": [
      "❌ Error at row 755 (KEYS): Error code: 503 - {'error': {'message': 'Service unavailable. Visit https://groqstatus.com/ to see if there is an active incident.', 'type': 'internal_server_error'}}\n",
      "\n",
      "🔍 Processing row 757 | Ticker: KHC, Year: 2025\n",
      "🔹 1 chunk(s) generated\n",
      "🧠 Invoking LLM on chunk 1/1...\n",
      "❌ Error at row 757 (KHC): Error code: 503 - {'error': {'message': 'Service unavailable. Visit https://groqstatus.com/ to see if there is an active incident.', 'type': 'internal_server_error'}}\n",
      "\n",
      "🔍 Processing row 758 | Ticker: KIM, Year: 2025\n",
      "🔹 1 chunk(s) generated\n",
      "🧠 Invoking LLM on chunk 1/1...\n",
      "❌ Error at row 758 (KIM): Error code: 503 - {'error': {'message': 'Service unavailable. Visit https://groqstatus.com/ to see if there is an active incident.', 'type': 'internal_server_error'}}\n",
      "\n",
      "🔍 Processing row 759 | Ticker: KKR, Year: 2025\n",
      "🔹 1 chunk(s) generated\n",
      "🧠 Invoking LLM on chunk 1/1...\n",
      "❌ Error at row 759 (KKR): Error code: 503 - {'error': {'message': 'Service unavailable. Visit https://groqstatus.com/ to see if there is an active incident.', 'type': 'internal_server_error'}}\n"
     ]
    },
    {
     "name": "stderr",
     "output_type": "stream",
     "text": [
      " 52%|█████▏    | 507/970 [1:14:13<00:52,  8.84it/s]"
     ]
    },
    {
     "name": "stdout",
     "output_type": "stream",
     "text": [
      "\n",
      "🔍 Processing row 762 | Ticker: KLIC, Year: 2024\n",
      "🔹 1 chunk(s) generated\n",
      "🧠 Invoking LLM on chunk 1/1...\n",
      "❌ Error at row 762 (KLIC): Error code: 503 - {'error': {'message': 'Service unavailable. Visit https://groqstatus.com/ to see if there is an active incident.', 'type': 'internal_server_error'}}\n",
      "\n",
      "🔍 Processing row 766 | Ticker: KMT, Year: 2024\n",
      "🔹 1 chunk(s) generated\n",
      "🧠 Invoking LLM on chunk 1/1...\n",
      "❌ Error at row 766 (KMT): Error code: 503 - {'error': {'message': 'Service unavailable. Visit https://groqstatus.com/ to see if there is an active incident.', 'type': 'internal_server_error'}}\n",
      "\n",
      "🔍 Processing row 768 | Ticker: KN, Year: 2025\n",
      "🔹 1 chunk(s) generated\n",
      "🧠 Invoking LLM on chunk 1/1...\n",
      "❌ Error at row 768 (KN): Error code: 503 - {'error': {'message': 'Service unavailable. Visit https://groqstatus.com/ to see if there is an active incident.', 'type': 'internal_server_error'}}\n",
      "\n",
      "🔍 Processing row 769 | Ticker: KNF, Year: 2025\n",
      "🔹 1 chunk(s) generated\n",
      "🧠 Invoking LLM on chunk 1/1...\n"
     ]
    },
    {
     "name": "stderr",
     "output_type": "stream",
     "text": [
      " 52%|█████▏    | 509/970 [1:14:18<05:35,  1.37it/s]"
     ]
    },
    {
     "name": "stdout",
     "output_type": "stream",
     "text": [
      "❌ Error at row 769 (KNF): Error code: 503 - {'error': {'message': 'Service unavailable. Visit https://groqstatus.com/ to see if there is an active incident.', 'type': 'internal_server_error'}}\n",
      "\n",
      "🔍 Processing row 770 | Ticker: KNSL, Year: 2025\n",
      "🔹 1 chunk(s) generated\n",
      "🧠 Invoking LLM on chunk 1/1...\n"
     ]
    },
    {
     "name": "stderr",
     "output_type": "stream",
     "text": [
      " 53%|█████▎    | 510/970 [1:14:20<07:31,  1.02it/s]"
     ]
    },
    {
     "name": "stdout",
     "output_type": "stream",
     "text": [
      "❌ Error at row 770 (KNSL): Error code: 503 - {'error': {'message': 'Service unavailable. Visit https://groqstatus.com/ to see if there is an active incident.', 'type': 'internal_server_error'}}\n",
      "\n",
      "🔍 Processing row 771 | Ticker: KNX, Year: 2025\n",
      "🔹 1 chunk(s) generated\n",
      "🧠 Invoking LLM on chunk 1/1...\n"
     ]
    },
    {
     "name": "stderr",
     "output_type": "stream",
     "text": [
      " 53%|█████▎    | 511/970 [1:14:22<09:19,  1.22s/it]"
     ]
    },
    {
     "name": "stdout",
     "output_type": "stream",
     "text": [
      "❌ Error at row 771 (KNX): Error code: 503 - {'error': {'message': 'Service unavailable. Visit https://groqstatus.com/ to see if there is an active incident.', 'type': 'internal_server_error'}}\n",
      "\n",
      "🔍 Processing row 772 | Ticker: KO, Year: 2025\n",
      "🔹 1 chunk(s) generated\n",
      "🧠 Invoking LLM on chunk 1/1...\n"
     ]
    },
    {
     "name": "stderr",
     "output_type": "stream",
     "text": [
      " 53%|█████▎    | 512/970 [1:14:24<10:54,  1.43s/it]"
     ]
    },
    {
     "name": "stdout",
     "output_type": "stream",
     "text": [
      "❌ Error at row 772 (KO): Error code: 503 - {'error': {'message': 'Service unavailable. Visit https://groqstatus.com/ to see if there is an active incident.', 'type': 'internal_server_error'}}\n",
      "\n",
      "🔍 Processing row 773 | Ticker: KOP, Year: 2025\n",
      "🔹 1 chunk(s) generated\n",
      "🧠 Invoking LLM on chunk 1/1...\n"
     ]
    },
    {
     "name": "stderr",
     "output_type": "stream",
     "text": [
      " 53%|█████▎    | 513/970 [1:14:26<12:11,  1.60s/it]"
     ]
    },
    {
     "name": "stdout",
     "output_type": "stream",
     "text": [
      "❌ Error at row 773 (KOP): Error code: 503 - {'error': {'message': 'Service unavailable. Visit https://groqstatus.com/ to see if there is an active incident.', 'type': 'internal_server_error'}}\n",
      "\n",
      "🔍 Processing row 774 | Ticker: KR, Year: 2025\n",
      "🔹 1 chunk(s) generated\n",
      "🧠 Invoking LLM on chunk 1/1...\n"
     ]
    },
    {
     "name": "stderr",
     "output_type": "stream",
     "text": [
      " 53%|█████▎    | 514/970 [1:14:28<13:11,  1.74s/it]"
     ]
    },
    {
     "name": "stdout",
     "output_type": "stream",
     "text": [
      "❌ Error at row 774 (KR): Error code: 503 - {'error': {'message': 'Service unavailable. Visit https://groqstatus.com/ to see if there is an active incident.', 'type': 'internal_server_error'}}\n",
      "\n",
      "🔍 Processing row 775 | Ticker: KRC, Year: 2025\n",
      "🔹 1 chunk(s) generated\n",
      "🧠 Invoking LLM on chunk 1/1...\n"
     ]
    },
    {
     "name": "stderr",
     "output_type": "stream",
     "text": [
      " 53%|█████▎    | 515/970 [1:14:30<14:01,  1.85s/it]"
     ]
    },
    {
     "name": "stdout",
     "output_type": "stream",
     "text": [
      "❌ Error at row 775 (KRC): Error code: 503 - {'error': {'message': 'Service unavailable. Visit https://groqstatus.com/ to see if there is an active incident.', 'type': 'internal_server_error'}}\n",
      "\n",
      "🔍 Processing row 776 | Ticker: KREF, Year: 2025\n",
      "🔹 1 chunk(s) generated\n",
      "🧠 Invoking LLM on chunk 1/1...\n"
     ]
    },
    {
     "name": "stderr",
     "output_type": "stream",
     "text": [
      " 53%|█████▎    | 516/970 [1:14:33<14:37,  1.93s/it]"
     ]
    },
    {
     "name": "stdout",
     "output_type": "stream",
     "text": [
      "❌ Error at row 776 (KREF): Error code: 503 - {'error': {'message': 'Service unavailable. Visit https://groqstatus.com/ to see if there is an active incident.', 'type': 'internal_server_error'}}\n",
      "\n",
      "🔍 Processing row 777 | Ticker: KRG, Year: 2025\n",
      "🔹 1 chunk(s) generated\n",
      "🧠 Invoking LLM on chunk 1/1...\n"
     ]
    },
    {
     "name": "stderr",
     "output_type": "stream",
     "text": [
      " 53%|█████▎    | 517/970 [1:14:35<15:00,  1.99s/it]"
     ]
    },
    {
     "name": "stdout",
     "output_type": "stream",
     "text": [
      "❌ Error at row 777 (KRG): Error code: 503 - {'error': {'message': 'Service unavailable. Visit https://groqstatus.com/ to see if there is an active incident.', 'type': 'internal_server_error'}}\n",
      "\n",
      "🔍 Processing row 778 | Ticker: KRYS, Year: 2025\n",
      "🔹 1 chunk(s) generated\n",
      "🧠 Invoking LLM on chunk 1/1...\n"
     ]
    },
    {
     "name": "stderr",
     "output_type": "stream",
     "text": [
      " 53%|█████▎    | 518/970 [1:14:37<15:21,  2.04s/it]"
     ]
    },
    {
     "name": "stdout",
     "output_type": "stream",
     "text": [
      "❌ Error at row 778 (KRYS): Error code: 503 - {'error': {'message': 'Service unavailable. Visit https://groqstatus.com/ to see if there is an active incident.', 'type': 'internal_server_error'}}\n",
      "\n",
      "🔍 Processing row 779 | Ticker: KSS, Year: 2025\n",
      "🔹 1 chunk(s) generated\n",
      "🧠 Invoking LLM on chunk 1/1...\n"
     ]
    },
    {
     "name": "stderr",
     "output_type": "stream",
     "text": [
      " 54%|█████▎    | 519/970 [1:14:39<15:34,  2.07s/it]"
     ]
    },
    {
     "name": "stdout",
     "output_type": "stream",
     "text": [
      "❌ Error at row 779 (KSS): Error code: 503 - {'error': {'message': 'Service unavailable. Visit https://groqstatus.com/ to see if there is an active incident.', 'type': 'internal_server_error'}}\n",
      "\n",
      "🔍 Processing row 781 | Ticker: KTOS, Year: 2025\n",
      "🔹 1 chunk(s) generated\n",
      "🧠 Invoking LLM on chunk 1/1...\n"
     ]
    },
    {
     "name": "stderr",
     "output_type": "stream",
     "text": [
      " 54%|█████▎    | 520/970 [1:14:41<15:56,  2.12s/it]"
     ]
    },
    {
     "name": "stdout",
     "output_type": "stream",
     "text": [
      "❌ Error at row 781 (KTOS): Error code: 503 - {'error': {'message': 'Service unavailable. Visit https://groqstatus.com/ to see if there is an active incident.', 'type': 'internal_server_error'}}\n",
      "\n",
      "🔍 Processing row 783 | Ticker: KW, Year: 2025\n",
      "🔹 1 chunk(s) generated\n",
      "🧠 Invoking LLM on chunk 1/1...\n"
     ]
    },
    {
     "name": "stderr",
     "output_type": "stream",
     "text": [
      " 54%|█████▎    | 521/970 [1:14:44<16:47,  2.24s/it]"
     ]
    },
    {
     "name": "stdout",
     "output_type": "stream",
     "text": [
      "❌ Error at row 783 (KW): Error code: 503 - {'error': {'message': 'Service unavailable. Visit https://groqstatus.com/ to see if there is an active incident.', 'type': 'internal_server_error'}}\n",
      "\n",
      "🔍 Processing row 785 | Ticker: L, Year: 2025\n",
      "🔹 1 chunk(s) generated\n",
      "🧠 Invoking LLM on chunk 1/1...\n"
     ]
    },
    {
     "name": "stderr",
     "output_type": "stream",
     "text": [
      " 54%|█████▍    | 522/970 [1:14:46<16:32,  2.22s/it]"
     ]
    },
    {
     "name": "stdout",
     "output_type": "stream",
     "text": [
      "❌ Error at row 785 (L): Error code: 503 - {'error': {'message': 'Service unavailable. Visit https://groqstatus.com/ to see if there is an active incident.', 'type': 'internal_server_error'}}\n",
      "\n",
      "🔍 Processing row 786 | Ticker: LAD, Year: 2025\n",
      "🔹 1 chunk(s) generated\n",
      "🧠 Invoking LLM on chunk 1/1...\n"
     ]
    },
    {
     "name": "stderr",
     "output_type": "stream",
     "text": [
      " 54%|█████▍    | 523/970 [1:14:48<16:26,  2.21s/it]"
     ]
    },
    {
     "name": "stdout",
     "output_type": "stream",
     "text": [
      "❌ Error at row 786 (LAD): Error code: 503 - {'error': {'message': 'Service unavailable. Visit https://groqstatus.com/ to see if there is an active incident.', 'type': 'internal_server_error'}}\n",
      "\n",
      "🔍 Processing row 788 | Ticker: LANC, Year: 2024\n",
      "🔹 1 chunk(s) generated\n",
      "🧠 Invoking LLM on chunk 1/1...\n"
     ]
    },
    {
     "name": "stderr",
     "output_type": "stream",
     "text": [
      " 54%|█████▍    | 524/970 [1:14:51<17:28,  2.35s/it]"
     ]
    },
    {
     "name": "stdout",
     "output_type": "stream",
     "text": [
      "❌ Error at row 788 (LANC): Error code: 503 - {'error': {'message': 'Service unavailable. Visit https://groqstatus.com/ to see if there is an active incident.', 'type': 'internal_server_error'}}\n",
      "\n",
      "🔍 Processing row 789 | Ticker: LBRT, Year: 2025\n",
      "🔹 1 chunk(s) generated\n",
      "🧠 Invoking LLM on chunk 1/1...\n"
     ]
    },
    {
     "name": "stderr",
     "output_type": "stream",
     "text": [
      " 54%|█████▍    | 525/970 [1:14:53<17:21,  2.34s/it]"
     ]
    },
    {
     "name": "stdout",
     "output_type": "stream",
     "text": [
      "❌ Error at row 789 (LBRT): Error code: 503 - {'error': {'message': 'Service unavailable. Visit https://groqstatus.com/ to see if there is an active incident.', 'type': 'internal_server_error'}}\n",
      "\n",
      "🔍 Processing row 790 | Ticker: LCII, Year: 2025\n",
      "🔹 1 chunk(s) generated\n",
      "🧠 Invoking LLM on chunk 1/1...\n"
     ]
    },
    {
     "name": "stderr",
     "output_type": "stream",
     "text": [
      " 54%|█████▍    | 526/970 [1:14:55<16:51,  2.28s/it]"
     ]
    },
    {
     "name": "stdout",
     "output_type": "stream",
     "text": [
      "❌ Error at row 790 (LCII): Error code: 503 - {'error': {'message': 'Service unavailable. Visit https://groqstatus.com/ to see if there is an active incident.', 'type': 'internal_server_error'}}\n",
      "\n",
      "🔍 Processing row 791 | Ticker: LDOS, Year: 2025\n",
      "🔹 1 chunk(s) generated\n",
      "🧠 Invoking LLM on chunk 1/1...\n"
     ]
    },
    {
     "name": "stderr",
     "output_type": "stream",
     "text": [
      " 54%|█████▍    | 527/970 [1:14:57<16:37,  2.25s/it]"
     ]
    },
    {
     "name": "stdout",
     "output_type": "stream",
     "text": [
      "❌ Error at row 791 (LDOS): Error code: 503 - {'error': {'message': 'Service unavailable. Visit https://groqstatus.com/ to see if there is an active incident.', 'type': 'internal_server_error'}}\n",
      "\n",
      "🔍 Processing row 793 | Ticker: LECO, Year: 2025\n",
      "🔹 1 chunk(s) generated\n",
      "🧠 Invoking LLM on chunk 1/1...\n"
     ]
    },
    {
     "name": "stderr",
     "output_type": "stream",
     "text": [
      " 54%|█████▍    | 528/970 [1:15:00<16:29,  2.24s/it]"
     ]
    },
    {
     "name": "stdout",
     "output_type": "stream",
     "text": [
      "❌ Error at row 793 (LECO): Error code: 503 - {'error': {'message': 'Service unavailable. Visit https://groqstatus.com/ to see if there is an active incident.', 'type': 'internal_server_error'}}\n",
      "\n",
      "🔍 Processing row 794 | Ticker: LEG, Year: 2025\n",
      "🔹 1 chunk(s) generated\n",
      "🧠 Invoking LLM on chunk 1/1...\n"
     ]
    },
    {
     "name": "stderr",
     "output_type": "stream",
     "text": [
      " 55%|█████▍    | 529/970 [1:15:02<17:23,  2.37s/it]"
     ]
    },
    {
     "name": "stdout",
     "output_type": "stream",
     "text": [
      "✅ Completed row 794 | Risk Score: 4, Narrative: Financial Distress\n",
      "\n",
      "🔍 Processing row 795 | Ticker: LEN, Year: 2025\n",
      "🔹 1 chunk(s) generated\n",
      "🧠 Invoking LLM on chunk 1/1...\n"
     ]
    },
    {
     "name": "stderr",
     "output_type": "stream",
     "text": [
      " 55%|█████▍    | 530/970 [1:15:05<17:43,  2.42s/it]"
     ]
    },
    {
     "name": "stdout",
     "output_type": "stream",
     "text": [
      "✅ Completed row 795 | Risk Score: 4, Narrative: Financial Distress\n",
      "\n",
      "🔍 Processing row 796 | Ticker: LFUS, Year: 2025\n",
      "🔹 1 chunk(s) generated\n",
      "🧠 Invoking LLM on chunk 1/1...\n"
     ]
    },
    {
     "name": "stderr",
     "output_type": "stream",
     "text": [
      " 55%|█████▍    | 531/970 [1:15:07<17:53,  2.44s/it]"
     ]
    },
    {
     "name": "stdout",
     "output_type": "stream",
     "text": [
      "✅ Completed row 796 | Risk Score: 4, Narrative: Market Dependency\n",
      "\n",
      "🔍 Processing row 797 | Ticker: LGIH, Year: 2025\n",
      "🔹 1 chunk(s) generated\n",
      "🧠 Invoking LLM on chunk 1/1...\n"
     ]
    },
    {
     "name": "stderr",
     "output_type": "stream",
     "text": [
      " 55%|█████▍    | 532/970 [1:15:10<17:53,  2.45s/it]"
     ]
    },
    {
     "name": "stdout",
     "output_type": "stream",
     "text": [
      "✅ Completed row 797 | Risk Score: 3, Narrative: Legal & Regulatory\n",
      "\n",
      "🔍 Processing row 798 | Ticker: LGND, Year: 2025\n",
      "🔹 1 chunk(s) generated\n",
      "🧠 Invoking LLM on chunk 1/1...\n"
     ]
    },
    {
     "name": "stderr",
     "output_type": "stream",
     "text": [
      " 55%|█████▍    | 533/970 [1:15:12<18:03,  2.48s/it]"
     ]
    },
    {
     "name": "stdout",
     "output_type": "stream",
     "text": [
      "✅ Completed row 798 | Risk Score: 4, Narrative: Legal & Regulatory\n",
      "\n",
      "🔍 Processing row 800 | Ticker: LHX, Year: 2025\n",
      "🔹 1 chunk(s) generated\n",
      "🧠 Invoking LLM on chunk 1/1...\n"
     ]
    },
    {
     "name": "stderr",
     "output_type": "stream",
     "text": [
      " 55%|█████▌    | 534/970 [1:15:15<18:10,  2.50s/it]"
     ]
    },
    {
     "name": "stdout",
     "output_type": "stream",
     "text": [
      "✅ Completed row 800 | Risk Score: 4, Narrative: Legal & Regulatory\n",
      "\n",
      "🔍 Processing row 801 | Ticker: LII, Year: 2025\n",
      "🔹 1 chunk(s) generated\n",
      "🧠 Invoking LLM on chunk 1/1...\n"
     ]
    },
    {
     "name": "stderr",
     "output_type": "stream",
     "text": [
      " 55%|█████▌    | 535/970 [1:15:18<18:24,  2.54s/it]"
     ]
    },
    {
     "name": "stdout",
     "output_type": "stream",
     "text": [
      "✅ Completed row 801 | Risk Score: 4, Narrative: Market Dependency\n",
      "\n",
      "🔍 Processing row 803 | Ticker: LITE, Year: 2024\n",
      "🔹 1 chunk(s) generated\n",
      "🧠 Invoking LLM on chunk 1/1...\n"
     ]
    },
    {
     "name": "stderr",
     "output_type": "stream",
     "text": [
      " 55%|█████▌    | 536/970 [1:15:25<29:17,  4.05s/it]"
     ]
    },
    {
     "name": "stdout",
     "output_type": "stream",
     "text": [
      "✅ Completed row 803 | Risk Score: 5, Narrative: Financial Distress\n",
      "\n",
      "🔍 Processing row 804 | Ticker: LIVN, Year: 2025\n",
      "🔹 1 chunk(s) generated\n",
      "🧠 Invoking LLM on chunk 1/1...\n"
     ]
    },
    {
     "name": "stderr",
     "output_type": "stream",
     "text": [
      " 55%|█████▌    | 537/970 [1:15:37<45:38,  6.32s/it]"
     ]
    },
    {
     "name": "stdout",
     "output_type": "stream",
     "text": [
      "✅ Completed row 804 | Risk Score: 4, Narrative: Legal & Regulatory\n",
      "\n",
      "🔍 Processing row 806 | Ticker: LKQ, Year: 2025\n",
      "🔹 1 chunk(s) generated\n",
      "🧠 Invoking LLM on chunk 1/1...\n"
     ]
    },
    {
     "name": "stderr",
     "output_type": "stream",
     "text": [
      " 55%|█████▌    | 538/970 [1:15:40<39:25,  5.47s/it]"
     ]
    },
    {
     "name": "stdout",
     "output_type": "stream",
     "text": [
      "✅ Completed row 806 | Risk Score: 3, Narrative: Financial Distress\n",
      "\n",
      "🔍 Processing row 808 | Ticker: LMAT, Year: 2025\n",
      "🔹 1 chunk(s) generated\n",
      "🧠 Invoking LLM on chunk 1/1...\n"
     ]
    },
    {
     "name": "stderr",
     "output_type": "stream",
     "text": [
      " 56%|█████▌    | 539/970 [1:15:52<52:42,  7.34s/it]"
     ]
    },
    {
     "name": "stdout",
     "output_type": "stream",
     "text": [
      "✅ Completed row 808 | Risk Score: 5, Narrative: Legal & Regulatory\n",
      "\n",
      "🔍 Processing row 810 | Ticker: LNC, Year: 2025\n",
      "🔹 1 chunk(s) generated\n",
      "🧠 Invoking LLM on chunk 1/1...\n"
     ]
    },
    {
     "name": "stderr",
     "output_type": "stream",
     "text": [
      " 56%|█████▌    | 540/970 [1:16:04<1:01:42,  8.61s/it]"
     ]
    },
    {
     "name": "stdout",
     "output_type": "stream",
     "text": [
      "✅ Completed row 810 | Risk Score: 3, Narrative: Financial Distress\n",
      "\n",
      "🔍 Processing row 812 | Ticker: LNT, Year: 2025\n",
      "🔹 1 chunk(s) generated\n",
      "🧠 Invoking LLM on chunk 1/1...\n"
     ]
    },
    {
     "name": "stderr",
     "output_type": "stream",
     "text": [
      " 56%|█████▌    | 541/970 [1:16:08<52:35,  7.36s/it]  "
     ]
    },
    {
     "name": "stdout",
     "output_type": "stream",
     "text": [
      "✅ Completed row 812 | Risk Score: 4, Narrative: Legal & Regulatory\n",
      "\n",
      "🔍 Processing row 817 | Ticker: LPG, Year: 2025\n",
      "🔹 1 chunk(s) generated\n",
      "🧠 Invoking LLM on chunk 1/1...\n"
     ]
    },
    {
     "name": "stderr",
     "output_type": "stream",
     "text": [
      " 56%|█████▌    | 542/970 [1:16:21<1:03:44,  8.94s/it]"
     ]
    },
    {
     "name": "stdout",
     "output_type": "stream",
     "text": [
      "✅ Completed row 817 | Risk Score: 5, Narrative: Market Dependency\n",
      "\n",
      "🔍 Processing row 819 | Ticker: LQDT, Year: 2024\n",
      "🔹 1 chunk(s) generated\n",
      "🧠 Invoking LLM on chunk 1/1...\n"
     ]
    },
    {
     "name": "stderr",
     "output_type": "stream",
     "text": [
      " 56%|█████▌    | 543/970 [1:16:33<1:11:25, 10.04s/it]"
     ]
    },
    {
     "name": "stdout",
     "output_type": "stream",
     "text": [
      "✅ Completed row 819 | Risk Score: 4, Narrative: Market Dependency\n",
      "\n",
      "🔍 Processing row 820 | Ticker: LRCX, Year: 2024\n",
      "🔹 1 chunk(s) generated\n",
      "🧠 Invoking LLM on chunk 1/1...\n"
     ]
    },
    {
     "name": "stderr",
     "output_type": "stream",
     "text": [
      " 56%|█████▌    | 544/970 [1:16:44<1:12:23, 10.20s/it]"
     ]
    },
    {
     "name": "stdout",
     "output_type": "stream",
     "text": [
      "✅ Completed row 820 | Risk Score: 5, Narrative: Legal & Regulatory\n",
      "\n",
      "🔍 Processing row 822 | Ticker: LSCC, Year: 2025\n",
      "🔹 1 chunk(s) generated\n",
      "🧠 Invoking LLM on chunk 1/1...\n"
     ]
    },
    {
     "name": "stderr",
     "output_type": "stream",
     "text": [
      " 56%|█████▌    | 545/970 [1:16:55<1:15:08, 10.61s/it]"
     ]
    },
    {
     "name": "stdout",
     "output_type": "stream",
     "text": [
      "✅ Completed row 822 | Risk Score: 5, Narrative: Legal & Regulatory\n",
      "\n",
      "🔍 Processing row 825 | Ticker: LULU, Year: 2025\n",
      "🔹 1 chunk(s) generated\n",
      "🧠 Invoking LLM on chunk 1/1...\n"
     ]
    },
    {
     "name": "stderr",
     "output_type": "stream",
     "text": [
      " 56%|█████▋    | 546/970 [1:17:08<1:19:24, 11.24s/it]"
     ]
    },
    {
     "name": "stdout",
     "output_type": "stream",
     "text": [
      "✅ Completed row 825 | Risk Score: 2, Narrative: Financial Distress\n",
      "\n",
      "🔍 Processing row 826 | Ticker: LUMN, Year: 2025\n",
      "🔹 1 chunk(s) generated\n",
      "🧠 Invoking LLM on chunk 1/1...\n"
     ]
    },
    {
     "name": "stderr",
     "output_type": "stream",
     "text": [
      " 56%|█████▋    | 547/970 [1:17:22<1:24:50, 12.03s/it]"
     ]
    },
    {
     "name": "stdout",
     "output_type": "stream",
     "text": [
      "✅ Completed row 826 | Risk Score: 4, Narrative: Financial Distress\n",
      "\n",
      "🔍 Processing row 827 | Ticker: LUV, Year: 2025\n",
      "🔹 1 chunk(s) generated\n",
      "🧠 Invoking LLM on chunk 1/1...\n"
     ]
    },
    {
     "name": "stderr",
     "output_type": "stream",
     "text": [
      " 56%|█████▋    | 548/970 [1:17:31<1:19:21, 11.28s/it]"
     ]
    },
    {
     "name": "stdout",
     "output_type": "stream",
     "text": [
      "✅ Completed row 827 | Risk Score: 5, Narrative: Legal & Regulatory\n",
      "\n",
      "🔍 Processing row 829 | Ticker: LW, Year: 2024\n",
      "🔹 1 chunk(s) generated\n",
      "🧠 Invoking LLM on chunk 1/1...\n"
     ]
    },
    {
     "name": "stderr",
     "output_type": "stream",
     "text": [
      " 57%|█████▋    | 549/970 [1:17:43<1:19:51, 11.38s/it]"
     ]
    },
    {
     "name": "stdout",
     "output_type": "stream",
     "text": [
      "✅ Completed row 829 | Risk Score: 4, Narrative: Market Dependency\n",
      "\n",
      "🔍 Processing row 831 | Ticker: LYB, Year: 2025\n",
      "🔹 1 chunk(s) generated\n",
      "🧠 Invoking LLM on chunk 1/1...\n"
     ]
    },
    {
     "name": "stderr",
     "output_type": "stream",
     "text": [
      " 57%|█████▋    | 550/970 [1:17:46<1:00:52,  8.70s/it]"
     ]
    },
    {
     "name": "stdout",
     "output_type": "stream",
     "text": [
      "✅ Completed row 831 | Risk Score: 4, Narrative: Legal & Regulatory\n",
      "\n",
      "🔍 Processing row 832 | Ticker: LYV, Year: 2025\n",
      "🔹 1 chunk(s) generated\n",
      "🧠 Invoking LLM on chunk 1/1...\n"
     ]
    },
    {
     "name": "stderr",
     "output_type": "stream",
     "text": [
      " 57%|█████▋    | 551/970 [1:17:58<1:09:02,  9.89s/it]"
     ]
    },
    {
     "name": "stdout",
     "output_type": "stream",
     "text": [
      "✅ Completed row 832 | Risk Score: 4, Narrative: Legal & Regulatory\n",
      "\n",
      "🔍 Processing row 833 | Ticker: LZB, Year: 2025\n",
      "🔹 1 chunk(s) generated\n",
      "🧠 Invoking LLM on chunk 1/1...\n"
     ]
    },
    {
     "name": "stderr",
     "output_type": "stream",
     "text": [
      " 57%|█████▋    | 552/970 [1:18:10<1:12:19, 10.38s/it]"
     ]
    },
    {
     "name": "stdout",
     "output_type": "stream",
     "text": [
      "✅ Completed row 833 | Risk Score: 5, Narrative: Legal & Regulatory\n",
      "\n",
      "🔍 Processing row 834 | Ticker: M, Year: 2025\n",
      "🔹 1 chunk(s) generated\n",
      "🧠 Invoking LLM on chunk 1/1...\n"
     ]
    },
    {
     "name": "stderr",
     "output_type": "stream",
     "text": [
      " 57%|█████▋    | 553/970 [1:18:17<1:06:17,  9.54s/it]"
     ]
    },
    {
     "name": "stdout",
     "output_type": "stream",
     "text": [
      "✅ Completed row 834 | Risk Score: 4, Narrative: Financial Distress\n",
      "\n",
      "🔍 Processing row 835 | Ticker: MA, Year: 2025\n",
      "🔹 1 chunk(s) generated\n",
      "🧠 Invoking LLM on chunk 1/1...\n"
     ]
    },
    {
     "name": "stderr",
     "output_type": "stream",
     "text": [
      " 57%|█████▋    | 554/970 [1:18:21<53:28,  7.71s/it]  "
     ]
    },
    {
     "name": "stdout",
     "output_type": "stream",
     "text": [
      "✅ Completed row 835 | Risk Score: 4, Narrative: Legal & Regulatory\n",
      "\n",
      "🔍 Processing row 837 | Ticker: MAC, Year: 2025\n",
      "🔹 1 chunk(s) generated\n",
      "🧠 Invoking LLM on chunk 1/1...\n"
     ]
    },
    {
     "name": "stderr",
     "output_type": "stream",
     "text": [
      " 57%|█████▋    | 555/970 [1:18:33<1:03:22,  9.16s/it]"
     ]
    },
    {
     "name": "stdout",
     "output_type": "stream",
     "text": [
      "✅ Completed row 837 | Risk Score: 4, Narrative: Legal & Regulatory\n",
      "\n",
      "🔍 Processing row 840 | Ticker: MAR, Year: 2025\n",
      "🔹 1 chunk(s) generated\n",
      "🧠 Invoking LLM on chunk 1/1...\n"
     ]
    },
    {
     "name": "stderr",
     "output_type": "stream",
     "text": [
      " 57%|█████▋    | 556/970 [1:18:44<1:06:15,  9.60s/it]"
     ]
    },
    {
     "name": "stdout",
     "output_type": "stream",
     "text": [
      "✅ Completed row 840 | Risk Score: 4, Narrative: Market Dependency\n",
      "\n",
      "🔍 Processing row 841 | Ticker: MARA, Year: 2025\n",
      "🔹 1 chunk(s) generated\n",
      "🧠 Invoking LLM on chunk 1/1...\n"
     ]
    },
    {
     "name": "stderr",
     "output_type": "stream",
     "text": [
      " 57%|█████▋    | 557/970 [1:18:53<1:06:00,  9.59s/it]"
     ]
    },
    {
     "name": "stdout",
     "output_type": "stream",
     "text": [
      "✅ Completed row 841 | Risk Score: 5, Narrative: Market Dependency\n",
      "\n",
      "🔍 Processing row 842 | Ticker: MAS, Year: 2025\n",
      "🔹 1 chunk(s) generated\n",
      "🧠 Invoking LLM on chunk 1/1...\n"
     ]
    },
    {
     "name": "stderr",
     "output_type": "stream",
     "text": [
      " 58%|█████▊    | 558/970 [1:19:05<1:09:56, 10.19s/it]"
     ]
    },
    {
     "name": "stdout",
     "output_type": "stream",
     "text": [
      "✅ Completed row 842 | Risk Score: 2, Narrative: Legal & Regulatory\n",
      "\n",
      "🔍 Processing row 845 | Ticker: MATW, Year: 2024\n",
      "🔹 1 chunk(s) generated\n",
      "🧠 Invoking LLM on chunk 1/1...\n"
     ]
    },
    {
     "name": "stderr",
     "output_type": "stream",
     "text": [
      " 58%|█████▊    | 559/970 [1:19:16<1:10:28, 10.29s/it]"
     ]
    },
    {
     "name": "stdout",
     "output_type": "stream",
     "text": [
      "✅ Completed row 845 | Risk Score: 4, Narrative: Financial Distress\n",
      "\n",
      "🔍 Processing row 846 | Ticker: MATX, Year: 2025\n",
      "🔹 1 chunk(s) generated\n",
      "🧠 Invoking LLM on chunk 1/1...\n"
     ]
    },
    {
     "name": "stderr",
     "output_type": "stream",
     "text": [
      " 58%|█████▊    | 560/970 [1:19:25<1:08:59, 10.10s/it]"
     ]
    },
    {
     "name": "stdout",
     "output_type": "stream",
     "text": [
      "✅ Completed row 846 | Risk Score: 5, Narrative: Legal & Regulatory\n",
      "\n",
      "🔍 Processing row 847 | Ticker: MBC, Year: 2025\n",
      "🔹 1 chunk(s) generated\n",
      "🧠 Invoking LLM on chunk 1/1...\n"
     ]
    },
    {
     "name": "stderr",
     "output_type": "stream",
     "text": [
      " 58%|█████▊    | 561/970 [1:19:29<55:16,  8.11s/it]  "
     ]
    },
    {
     "name": "stdout",
     "output_type": "stream",
     "text": [
      "✅ Completed row 847 | Risk Score: 4, Narrative: Legal & Regulatory\n",
      "\n",
      "🔍 Processing row 850 | Ticker: MCHP, Year: 2025\n",
      "🔹 1 chunk(s) generated\n",
      "🧠 Invoking LLM on chunk 1/1...\n"
     ]
    },
    {
     "name": "stderr",
     "output_type": "stream",
     "text": [
      " 58%|█████▊    | 562/970 [1:19:41<1:04:20,  9.46s/it]"
     ]
    },
    {
     "name": "stdout",
     "output_type": "stream",
     "text": [
      "✅ Completed row 850 | Risk Score: 4, Narrative: Market Dependency\n",
      "\n",
      "🔍 Processing row 852 | Ticker: MCO, Year: 2025\n",
      "🔹 1 chunk(s) generated\n",
      "🧠 Invoking LLM on chunk 1/1...\n"
     ]
    },
    {
     "name": "stderr",
     "output_type": "stream",
     "text": [
      " 58%|█████▊    | 563/970 [1:19:53<1:08:33, 10.11s/it]"
     ]
    },
    {
     "name": "stdout",
     "output_type": "stream",
     "text": [
      "✅ Completed row 852 | Risk Score: 4, Narrative: Legal & Regulatory\n",
      "\n",
      "🔍 Processing row 853 | Ticker: MCRI, Year: 2025\n",
      "🔹 1 chunk(s) generated\n",
      "🧠 Invoking LLM on chunk 1/1...\n"
     ]
    },
    {
     "name": "stderr",
     "output_type": "stream",
     "text": [
      " 58%|█████▊    | 564/970 [1:19:57<56:58,  8.42s/it]  "
     ]
    },
    {
     "name": "stdout",
     "output_type": "stream",
     "text": [
      "✅ Completed row 853 | Risk Score: 4, Narrative: Legal & Regulatory\n",
      "\n",
      "🔍 Processing row 854 | Ticker: MCW, Year: 2025\n",
      "🔹 1 chunk(s) generated\n",
      "🧠 Invoking LLM on chunk 1/1...\n"
     ]
    },
    {
     "name": "stderr",
     "output_type": "stream",
     "text": [
      " 58%|█████▊    | 565/970 [1:20:10<1:05:05,  9.64s/it]"
     ]
    },
    {
     "name": "stdout",
     "output_type": "stream",
     "text": [
      "✅ Completed row 854 | Risk Score: 5, Narrative: Market Dependency\n",
      "\n",
      "🔍 Processing row 855 | Ticker: MCY, Year: 2025\n",
      "🔹 1 chunk(s) generated\n",
      "🧠 Invoking LLM on chunk 1/1...\n"
     ]
    },
    {
     "name": "stderr",
     "output_type": "stream",
     "text": [
      " 58%|█████▊    | 566/970 [1:20:21<1:08:46, 10.21s/it]"
     ]
    },
    {
     "name": "stdout",
     "output_type": "stream",
     "text": [
      "✅ Completed row 855 | Risk Score: 4, Narrative: Legal & Regulatory\n",
      "\n",
      "🔍 Processing row 856 | Ticker: MD, Year: 2025\n",
      "🔹 1 chunk(s) generated\n",
      "🧠 Invoking LLM on chunk 1/1...\n"
     ]
    },
    {
     "name": "stderr",
     "output_type": "stream",
     "text": [
      " 58%|█████▊    | 567/970 [1:20:33<1:11:22, 10.63s/it]"
     ]
    },
    {
     "name": "stdout",
     "output_type": "stream",
     "text": [
      "✅ Completed row 856 | Risk Score: 4, Narrative: Legal & Regulatory\n",
      "\n",
      "🔍 Processing row 858 | Ticker: MDT, Year: 2025\n",
      "🔹 1 chunk(s) generated\n",
      "🧠 Invoking LLM on chunk 1/1...\n"
     ]
    },
    {
     "name": "stderr",
     "output_type": "stream",
     "text": [
      " 59%|█████▊    | 568/970 [1:20:45<1:13:01, 10.90s/it]"
     ]
    },
    {
     "name": "stdout",
     "output_type": "stream",
     "text": [
      "✅ Completed row 858 | Risk Score: 5, Narrative: Legal & Regulatory\n",
      "\n",
      "🔍 Processing row 860 | Ticker: MEDP, Year: 2025\n",
      "🔹 1 chunk(s) generated\n",
      "🧠 Invoking LLM on chunk 1/1...\n"
     ]
    },
    {
     "name": "stderr",
     "output_type": "stream",
     "text": [
      " 59%|█████▊    | 569/970 [1:20:57<1:16:14, 11.41s/it]"
     ]
    },
    {
     "name": "stdout",
     "output_type": "stream",
     "text": [
      "✅ Completed row 860 | Risk Score: 4, Narrative: Legal & Regulatory\n",
      "\n",
      "🔍 Processing row 863 | Ticker: MGEE, Year: 2025\n",
      "🔹 1 chunk(s) generated\n",
      "🧠 Invoking LLM on chunk 1/1...\n"
     ]
    },
    {
     "name": "stderr",
     "output_type": "stream",
     "text": [
      " 59%|█████▉    | 570/970 [1:21:04<1:06:14,  9.94s/it]"
     ]
    },
    {
     "name": "stdout",
     "output_type": "stream",
     "text": [
      "✅ Completed row 863 | Risk Score: 4, Narrative: Market Dependency\n",
      "\n",
      "🔍 Processing row 864 | Ticker: MGM, Year: 2025\n",
      "🔹 1 chunk(s) generated\n",
      "🧠 Invoking LLM on chunk 1/1...\n"
     ]
    },
    {
     "name": "stderr",
     "output_type": "stream",
     "text": [
      " 59%|█████▉    | 571/970 [1:21:16<1:11:11, 10.71s/it]"
     ]
    },
    {
     "name": "stdout",
     "output_type": "stream",
     "text": [
      "✅ Completed row 864 | Risk Score: 4, Narrative: Market Dependency\n",
      "\n",
      "🔍 Processing row 866 | Ticker: MGY, Year: 2025\n",
      "🔹 1 chunk(s) generated\n",
      "🧠 Invoking LLM on chunk 1/1...\n"
     ]
    },
    {
     "name": "stderr",
     "output_type": "stream",
     "text": [
      " 59%|█████▉    | 572/970 [1:21:28<1:12:56, 11.00s/it]"
     ]
    },
    {
     "name": "stdout",
     "output_type": "stream",
     "text": [
      "✅ Completed row 866 | Risk Score: 5, Narrative: Market Dependency\n",
      "\n",
      "🔍 Processing row 867 | Ticker: MHK, Year: 2025\n",
      "🔹 1 chunk(s) generated\n",
      "🧠 Invoking LLM on chunk 1/1...\n"
     ]
    },
    {
     "name": "stderr",
     "output_type": "stream",
     "text": [
      " 59%|█████▉    | 573/970 [1:21:39<1:13:52, 11.16s/it]"
     ]
    },
    {
     "name": "stdout",
     "output_type": "stream",
     "text": [
      "✅ Completed row 867 | Risk Score: 4, Narrative: Legal & Regulatory\n",
      "\n",
      "🔍 Processing row 868 | Ticker: MHO, Year: 2025\n",
      "🔹 1 chunk(s) generated\n",
      "🧠 Invoking LLM on chunk 1/1...\n"
     ]
    },
    {
     "name": "stderr",
     "output_type": "stream",
     "text": [
      " 59%|█████▉    | 574/970 [1:21:52<1:16:29, 11.59s/it]"
     ]
    },
    {
     "name": "stdout",
     "output_type": "stream",
     "text": [
      "✅ Completed row 868 | Risk Score: 4, Narrative: Legal & Regulatory\n",
      "\n",
      "🔍 Processing row 869 | Ticker: MIDD, Year: 2025\n",
      "🔹 1 chunk(s) generated\n",
      "🧠 Invoking LLM on chunk 1/1...\n"
     ]
    },
    {
     "name": "stderr",
     "output_type": "stream",
     "text": [
      " 59%|█████▉    | 575/970 [1:22:03<1:14:27, 11.31s/it]"
     ]
    },
    {
     "name": "stdout",
     "output_type": "stream",
     "text": [
      "✅ Completed row 869 | Risk Score: 4, Narrative: Financial Distress\n",
      "\n",
      "🔍 Processing row 872 | Ticker: MKTX, Year: 2025\n",
      "🔹 1 chunk(s) generated\n",
      "🧠 Invoking LLM on chunk 1/1...\n"
     ]
    },
    {
     "name": "stderr",
     "output_type": "stream",
     "text": [
      " 59%|█████▉    | 576/970 [1:22:13<1:12:56, 11.11s/it]"
     ]
    },
    {
     "name": "stdout",
     "output_type": "stream",
     "text": [
      "✅ Completed row 872 | Risk Score: 4, Narrative: Market Dependency\n",
      "\n",
      "🔍 Processing row 873 | Ticker: MLAB, Year: 2025\n",
      "🔹 1 chunk(s) generated\n",
      "🧠 Invoking LLM on chunk 1/1...\n"
     ]
    },
    {
     "name": "stderr",
     "output_type": "stream",
     "text": [
      " 59%|█████▉    | 577/970 [1:22:24<1:11:35, 10.93s/it]"
     ]
    },
    {
     "name": "stdout",
     "output_type": "stream",
     "text": [
      "✅ Completed row 873 | Risk Score: 5, Narrative: Financial Distress\n",
      "\n",
      "🔍 Processing row 875 | Ticker: MLKN, Year: 2024\n",
      "🔹 1 chunk(s) generated\n",
      "🧠 Invoking LLM on chunk 1/1...\n"
     ]
    },
    {
     "name": "stderr",
     "output_type": "stream",
     "text": [
      " 60%|█████▉    | 578/970 [1:22:28<58:44,  8.99s/it]  "
     ]
    },
    {
     "name": "stdout",
     "output_type": "stream",
     "text": [
      "✅ Completed row 875 | Risk Score: 2, Narrative: Financial Distress\n",
      "\n",
      "🔍 Processing row 877 | Ticker: MMC, Year: 2025\n",
      "🔹 1 chunk(s) generated\n",
      "🧠 Invoking LLM on chunk 1/1...\n"
     ]
    },
    {
     "name": "stderr",
     "output_type": "stream",
     "text": [
      " 60%|█████▉    | 579/970 [1:22:41<1:05:53, 10.11s/it]"
     ]
    },
    {
     "name": "stdout",
     "output_type": "stream",
     "text": [
      "✅ Completed row 877 | Risk Score: 4, Narrative: Financial Distress\n",
      "\n",
      "🔍 Processing row 878 | Ticker: MMI, Year: 2025\n",
      "🔹 1 chunk(s) generated\n",
      "🧠 Invoking LLM on chunk 1/1...\n"
     ]
    },
    {
     "name": "stderr",
     "output_type": "stream",
     "text": [
      " 60%|█████▉    | 580/970 [1:22:53<1:08:32, 10.55s/it]"
     ]
    },
    {
     "name": "stdout",
     "output_type": "stream",
     "text": [
      "✅ Completed row 878 | Risk Score: 5, Narrative: Financial Distress\n",
      "\n",
      "🔍 Processing row 879 | Ticker: MMM, Year: 2025\n",
      "🔹 1 chunk(s) generated\n",
      "🧠 Invoking LLM on chunk 1/1...\n"
     ]
    },
    {
     "name": "stderr",
     "output_type": "stream",
     "text": [
      " 60%|█████▉    | 581/970 [1:22:54<50:46,  7.83s/it]  "
     ]
    },
    {
     "name": "stdout",
     "output_type": "stream",
     "text": [
      "✅ Completed row 879 | Risk Score: 4, Narrative: Legal & Regulatory\n",
      "\n",
      "🔍 Processing row 880 | Ticker: MMS, Year: 2024\n",
      "🔹 1 chunk(s) generated\n",
      "🧠 Invoking LLM on chunk 1/1...\n"
     ]
    },
    {
     "name": "stderr",
     "output_type": "stream",
     "text": [
      " 60%|██████    | 582/970 [1:23:07<59:59,  9.28s/it]"
     ]
    },
    {
     "name": "stdout",
     "output_type": "stream",
     "text": [
      "✅ Completed row 880 | Risk Score: 5, Narrative: Legal & Regulatory\n",
      "\n",
      "🔍 Processing row 881 | Ticker: MMSI, Year: 2025\n",
      "🔹 1 chunk(s) generated\n",
      "🧠 Invoking LLM on chunk 1/1...\n"
     ]
    },
    {
     "name": "stderr",
     "output_type": "stream",
     "text": [
      " 60%|██████    | 583/970 [1:23:17<1:00:49,  9.43s/it]"
     ]
    },
    {
     "name": "stdout",
     "output_type": "stream",
     "text": [
      "✅ Completed row 881 | Risk Score: 4, Narrative: Legal & Regulatory\n",
      "\n",
      "🔍 Processing row 884 | Ticker: MO, Year: 2025\n",
      "🔹 1 chunk(s) generated\n",
      "🧠 Invoking LLM on chunk 1/1...\n"
     ]
    },
    {
     "name": "stderr",
     "output_type": "stream",
     "text": [
      " 60%|██████    | 584/970 [1:23:29<1:06:56, 10.41s/it]"
     ]
    },
    {
     "name": "stdout",
     "output_type": "stream",
     "text": [
      "✅ Completed row 884 | Risk Score: 4, Narrative: Legal & Regulatory\n",
      "\n",
      "🔍 Processing row 885 | Ticker: MODG, Year: 2025\n",
      "🔹 1 chunk(s) generated\n",
      "🧠 Invoking LLM on chunk 1/1...\n"
     ]
    },
    {
     "name": "stderr",
     "output_type": "stream",
     "text": [
      " 60%|██████    | 585/970 [1:23:42<1:11:07, 11.08s/it]"
     ]
    },
    {
     "name": "stdout",
     "output_type": "stream",
     "text": [
      "✅ Completed row 885 | Risk Score: 5, Narrative: Legal & Regulatory\n",
      "\n",
      "🔍 Processing row 887 | Ticker: MOH, Year: 2025\n",
      "🔹 1 chunk(s) generated\n",
      "🧠 Invoking LLM on chunk 1/1...\n"
     ]
    },
    {
     "name": "stderr",
     "output_type": "stream",
     "text": [
      " 60%|██████    | 586/970 [1:23:52<1:09:54, 10.92s/it]"
     ]
    },
    {
     "name": "stdout",
     "output_type": "stream",
     "text": [
      "✅ Completed row 887 | Risk Score: 5, Narrative: Legal & Regulatory\n",
      "\n",
      "🔍 Processing row 888 | Ticker: MORN, Year: 2025\n",
      "🔹 1 chunk(s) generated\n",
      "🧠 Invoking LLM on chunk 1/1...\n"
     ]
    },
    {
     "name": "stderr",
     "output_type": "stream",
     "text": [
      " 61%|██████    | 587/970 [1:23:58<59:25,  9.31s/it]  "
     ]
    },
    {
     "name": "stdout",
     "output_type": "stream",
     "text": [
      "✅ Completed row 888 | Risk Score: 4, Narrative: Financial Distress\n",
      "\n",
      "🔍 Processing row 890 | Ticker: MP, Year: 2025\n",
      "🔹 1 chunk(s) generated\n",
      "🧠 Invoking LLM on chunk 1/1...\n"
     ]
    },
    {
     "name": "stderr",
     "output_type": "stream",
     "text": [
      " 61%|██████    | 588/970 [1:24:02<50:01,  7.86s/it]"
     ]
    },
    {
     "name": "stdout",
     "output_type": "stream",
     "text": [
      "✅ Completed row 890 | Risk Score: 4, Narrative: Legal & Regulatory\n",
      "\n",
      "🔍 Processing row 891 | Ticker: MPC, Year: 2025\n",
      "🔹 1 chunk(s) generated\n",
      "🧠 Invoking LLM on chunk 1/1...\n"
     ]
    },
    {
     "name": "stderr",
     "output_type": "stream",
     "text": [
      " 61%|██████    | 589/970 [1:24:15<59:02,  9.30s/it]"
     ]
    },
    {
     "name": "stdout",
     "output_type": "stream",
     "text": [
      "✅ Completed row 891 | Risk Score: 4, Narrative: Financial Distress\n",
      "\n",
      "🔍 Processing row 892 | Ticker: MPW, Year: 2025\n",
      "🔹 1 chunk(s) generated\n",
      "🧠 Invoking LLM on chunk 1/1...\n"
     ]
    },
    {
     "name": "stderr",
     "output_type": "stream",
     "text": [
      " 61%|██████    | 590/970 [1:24:28<1:05:00, 10.27s/it]"
     ]
    },
    {
     "name": "stdout",
     "output_type": "stream",
     "text": [
      "✅ Completed row 892 | Risk Score: 4, Narrative: Market Dependency\n",
      "\n",
      "🔍 Processing row 893 | Ticker: MPWR, Year: 2025\n",
      "🔹 1 chunk(s) generated\n",
      "🧠 Invoking LLM on chunk 1/1...\n"
     ]
    },
    {
     "name": "stderr",
     "output_type": "stream",
     "text": [
      " 61%|██████    | 591/970 [1:24:39<1:07:26, 10.68s/it]"
     ]
    },
    {
     "name": "stdout",
     "output_type": "stream",
     "text": [
      "✅ Completed row 893 | Risk Score: 4, Narrative: Legal & Regulatory\n",
      "\n",
      "🔍 Processing row 896 | Ticker: MRNA, Year: 2025\n",
      "🔹 1 chunk(s) generated\n",
      "🧠 Invoking LLM on chunk 1/1...\n"
     ]
    },
    {
     "name": "stderr",
     "output_type": "stream",
     "text": [
      " 61%|██████    | 592/970 [1:24:53<1:12:53, 11.57s/it]"
     ]
    },
    {
     "name": "stdout",
     "output_type": "stream",
     "text": [
      "✅ Completed row 896 | Risk Score: 5, Narrative: Market Dependency\n",
      "\n",
      "🔍 Processing row 897 | Ticker: MRP, Year: 2025\n",
      "🔹 1 chunk(s) generated\n",
      "🧠 Invoking LLM on chunk 1/1...\n"
     ]
    },
    {
     "name": "stderr",
     "output_type": "stream",
     "text": [
      " 61%|██████    | 593/970 [1:24:54<53:37,  8.53s/it]  "
     ]
    },
    {
     "name": "stdout",
     "output_type": "stream",
     "text": [
      "✅ Completed row 897 | Risk Score: 2, Narrative: Legal & Regulatory\n",
      "\n",
      "🔍 Processing row 904 | Ticker: MSGS, Year: 2024\n",
      "🔹 1 chunk(s) generated\n",
      "🧠 Invoking LLM on chunk 1/1...\n"
     ]
    },
    {
     "name": "stderr",
     "output_type": "stream",
     "text": [
      " 61%|██████    | 594/970 [1:25:07<1:01:25,  9.80s/it]"
     ]
    },
    {
     "name": "stdout",
     "output_type": "stream",
     "text": [
      "✅ Completed row 904 | Risk Score: 5, Narrative: Legal & Regulatory\n",
      "\n",
      "🔍 Processing row 905 | Ticker: MSI, Year: 2025\n",
      "🔹 1 chunk(s) generated\n",
      "🧠 Invoking LLM on chunk 1/1...\n"
     ]
    },
    {
     "name": "stderr",
     "output_type": "stream",
     "text": [
      " 61%|██████▏   | 595/970 [1:25:18<1:03:21, 10.14s/it]"
     ]
    },
    {
     "name": "stdout",
     "output_type": "stream",
     "text": [
      "✅ Completed row 905 | Risk Score: 4, Narrative: Legal & Regulatory\n",
      "\n",
      "🔍 Processing row 906 | Ticker: MSM, Year: 2024\n",
      "🔹 1 chunk(s) generated\n",
      "🧠 Invoking LLM on chunk 1/1...\n"
     ]
    },
    {
     "name": "stderr",
     "output_type": "stream",
     "text": [
      " 61%|██████▏   | 596/970 [1:25:28<1:02:04,  9.96s/it]"
     ]
    },
    {
     "name": "stdout",
     "output_type": "stream",
     "text": [
      "✅ Completed row 906 | Risk Score: 5, Narrative: Market Dependency\n",
      "\n",
      "🔍 Processing row 908 | Ticker: MTCH, Year: 2025\n",
      "🔹 1 chunk(s) generated\n",
      "🧠 Invoking LLM on chunk 1/1...\n"
     ]
    },
    {
     "name": "stderr",
     "output_type": "stream",
     "text": [
      " 62%|██████▏   | 597/970 [1:25:39<1:04:54, 10.44s/it]"
     ]
    },
    {
     "name": "stdout",
     "output_type": "stream",
     "text": [
      "✅ Completed row 908 | Risk Score: 5, Narrative: Market Dependency\n",
      "\n",
      "🔍 Processing row 911 | Ticker: MTG, Year: 2025\n",
      "🔹 1 chunk(s) generated\n",
      "🧠 Invoking LLM on chunk 1/1...\n"
     ]
    },
    {
     "name": "stderr",
     "output_type": "stream",
     "text": [
      " 62%|██████▏   | 598/970 [1:25:50<1:04:56, 10.47s/it]"
     ]
    },
    {
     "name": "stdout",
     "output_type": "stream",
     "text": [
      "✅ Completed row 911 | Risk Score: 4, Narrative: Market Dependency\n",
      "\n",
      "🔍 Processing row 915 | Ticker: MTSI, Year: 2024\n",
      "🔹 1 chunk(s) generated\n",
      "🧠 Invoking LLM on chunk 1/1...\n"
     ]
    },
    {
     "name": "stderr",
     "output_type": "stream",
     "text": [
      " 62%|██████▏   | 599/970 [1:25:53<51:41,  8.36s/it]  "
     ]
    },
    {
     "name": "stdout",
     "output_type": "stream",
     "text": [
      "✅ Completed row 915 | Risk Score: 4, Narrative: Legal & Regulatory\n",
      "\n",
      "🔍 Processing row 916 | Ticker: MTUS, Year: 2025\n",
      "🔹 1 chunk(s) generated\n",
      "🧠 Invoking LLM on chunk 1/1...\n"
     ]
    },
    {
     "name": "stderr",
     "output_type": "stream",
     "text": [
      " 62%|██████▏   | 600/970 [1:26:05<58:05,  9.42s/it]"
     ]
    },
    {
     "name": "stdout",
     "output_type": "stream",
     "text": [
      "✅ Completed row 916 | Risk Score: 4, Narrative: Legal & Regulatory\n",
      "\n",
      "🔍 Processing row 917 | Ticker: MTX, Year: 2025\n",
      "🔹 1 chunk(s) generated\n",
      "🧠 Invoking LLM on chunk 1/1...\n"
     ]
    },
    {
     "name": "stderr",
     "output_type": "stream",
     "text": [
      " 62%|██████▏   | 601/970 [1:26:19<1:05:39, 10.67s/it]"
     ]
    },
    {
     "name": "stdout",
     "output_type": "stream",
     "text": [
      "✅ Completed row 917 | Risk Score: 5, Narrative: Legal & Regulatory\n",
      "\n",
      "🔍 Processing row 919 | Ticker: MU, Year: 2024\n",
      "🔹 1 chunk(s) generated\n",
      "🧠 Invoking LLM on chunk 1/1...\n"
     ]
    },
    {
     "name": "stderr",
     "output_type": "stream",
     "text": [
      " 62%|██████▏   | 602/970 [1:26:32<1:10:44, 11.53s/it]"
     ]
    },
    {
     "name": "stdout",
     "output_type": "stream",
     "text": [
      "✅ Completed row 919 | Risk Score: 3, Narrative: Financial Distress\n",
      "\n",
      "🔍 Processing row 920 | Ticker: MUR, Year: 2025\n",
      "🔹 1 chunk(s) generated\n",
      "🧠 Invoking LLM on chunk 1/1...\n"
     ]
    },
    {
     "name": "stderr",
     "output_type": "stream",
     "text": [
      " 62%|██████▏   | 603/970 [1:26:44<1:10:35, 11.54s/it]"
     ]
    },
    {
     "name": "stdout",
     "output_type": "stream",
     "text": [
      "✅ Completed row 920 | Risk Score: 5, Narrative: Market Dependency\n",
      "\n",
      "🔍 Processing row 922 | Ticker: MWA, Year: 2024\n",
      "🔹 1 chunk(s) generated\n",
      "🧠 Invoking LLM on chunk 1/1...\n"
     ]
    },
    {
     "name": "stderr",
     "output_type": "stream",
     "text": [
      " 62%|██████▏   | 604/970 [1:26:55<1:10:26, 11.55s/it]"
     ]
    },
    {
     "name": "stdout",
     "output_type": "stream",
     "text": [
      "✅ Completed row 922 | Risk Score: 4, Narrative: Legal & Regulatory\n",
      "\n",
      "🔍 Processing row 925 | Ticker: MYRG, Year: 2025\n",
      "🔹 1 chunk(s) generated\n",
      "🧠 Invoking LLM on chunk 1/1...\n"
     ]
    },
    {
     "name": "stderr",
     "output_type": "stream",
     "text": [
      " 62%|██████▏   | 605/970 [1:27:08<1:12:30, 11.92s/it]"
     ]
    },
    {
     "name": "stdout",
     "output_type": "stream",
     "text": [
      "✅ Completed row 925 | Risk Score: 4, Narrative: Market Dependency\n",
      "\n",
      "🔍 Processing row 926 | Ticker: NABL, Year: 2025\n",
      "🔹 1 chunk(s) generated\n",
      "🧠 Invoking LLM on chunk 1/1...\n"
     ]
    },
    {
     "name": "stderr",
     "output_type": "stream",
     "text": [
      " 62%|██████▏   | 606/970 [1:27:19<1:09:52, 11.52s/it]"
     ]
    },
    {
     "name": "stdout",
     "output_type": "stream",
     "text": [
      "✅ Completed row 926 | Risk Score: 4, Narrative: Financial Distress\n",
      "\n",
      "🔍 Processing row 927 | Ticker: NATL, Year: 2025\n",
      "🔹 1 chunk(s) generated\n",
      "🧠 Invoking LLM on chunk 1/1...\n"
     ]
    },
    {
     "name": "stderr",
     "output_type": "stream",
     "text": [
      " 63%|██████▎   | 609/970 [1:27:52<58:57,  9.80s/it]  "
     ]
    },
    {
     "name": "stdout",
     "output_type": "stream",
     "text": [
      "✅ Completed row 927 | Risk Score: 4, Narrative: Legal & Regulatory\n",
      "\n",
      "🔍 Processing row 929 | Ticker: NBHC, Year: 2025\n",
      "🔹 1 chunk(s) generated\n",
      "🧠 Invoking LLM on chunk 1/1...\n",
      "❌ Error at row 929 (NBHC): Error code: 429 - {'error': {'message': 'Rate limit reached for model `llama3-70b-8192` in organization `org_01jteba7n9ehjbkb6dypw1vck0` service tier `on_demand` on tokens per day (TPD): Limit 500000, Used 499933, Requested 1145. Please try again in 3m6.2124s. Need more tokens? Upgrade to Dev Tier today at https://console.groq.com/settings/billing', 'type': 'tokens', 'code': 'rate_limit_exceeded'}}\n",
      "\n",
      "🔍 Processing row 930 | Ticker: NBIX, Year: 2025\n",
      "🔹 1 chunk(s) generated\n",
      "🧠 Invoking LLM on chunk 1/1...\n",
      "❌ Error at row 930 (NBIX): Error code: 429 - {'error': {'message': 'Rate limit reached for model `llama3-70b-8192` in organization `org_01jteba7n9ehjbkb6dypw1vck0` service tier `on_demand` on tokens per day (TPD): Limit 500000, Used 499933, Requested 1145. Please try again in 3m6.1074s. Need more tokens? Upgrade to Dev Tier today at https://console.groq.com/settings/billing', 'type': 'tokens', 'code': 'rate_limit_exceeded'}}\n",
      "\n",
      "🔍 Processing row 931 | Ticker: NBTB, Year: 2025\n",
      "🔹 1 chunk(s) generated\n",
      "🧠 Invoking LLM on chunk 1/1...\n"
     ]
    },
    {
     "name": "stderr",
     "output_type": "stream",
     "text": [
      " 63%|██████▎   | 612/970 [1:28:28<56:41,  9.50s/it]  "
     ]
    },
    {
     "name": "stdout",
     "output_type": "stream",
     "text": [
      "✅ Completed row 931 | Risk Score: 1, Narrative: Legal & Regulatory\n",
      "\n",
      "🔍 Processing row 933 | Ticker: NDAQ, Year: 2025\n",
      "🔹 1 chunk(s) generated\n",
      "🧠 Invoking LLM on chunk 1/1...\n",
      "❌ Error at row 933 (NDAQ): Error code: 429 - {'error': {'message': 'Rate limit reached for model `llama3-70b-8192` in organization `org_01jteba7n9ehjbkb6dypw1vck0` service tier `on_demand` on tokens per day (TPD): Limit 500000, Used 500040, Requested 1145. Please try again in 3m24.8688s. Need more tokens? Upgrade to Dev Tier today at https://console.groq.com/settings/billing', 'type': 'tokens', 'code': 'rate_limit_exceeded'}}\n",
      "\n",
      "🔍 Processing row 934 | Ticker: NDSN, Year: 2024\n",
      "🔹 1 chunk(s) generated\n",
      "🧠 Invoking LLM on chunk 1/1...\n",
      "❌ Error at row 934 (NDSN): Error code: 429 - {'error': {'message': 'Rate limit reached for model `llama3-70b-8192` in organization `org_01jteba7n9ehjbkb6dypw1vck0` service tier `on_demand` on tokens per day (TPD): Limit 500000, Used 500040, Requested 1145. Please try again in 3m24.7998s. Need more tokens? Upgrade to Dev Tier today at https://console.groq.com/settings/billing', 'type': 'tokens', 'code': 'rate_limit_exceeded'}}\n",
      "\n",
      "🔍 Processing row 935 | Ticker: NEE, Year: 2025\n",
      "🔹 1 chunk(s) generated\n",
      "🧠 Invoking LLM on chunk 1/1...\n"
     ]
    },
    {
     "name": "stderr",
     "output_type": "stream",
     "text": [
      " 63%|██████▎   | 613/970 [1:28:28<43:45,  7.35s/it]"
     ]
    },
    {
     "name": "stdout",
     "output_type": "stream",
     "text": [
      "❌ Error at row 935 (NEE): Error code: 429 - {'error': {'message': 'Rate limit reached for model `llama3-70b-8192` in organization `org_01jteba7n9ehjbkb6dypw1vck0` service tier `on_demand` on tokens per day (TPD): Limit 500000, Used 500039, Requested 1145. Please try again in 3m24.714799999s. Need more tokens? Upgrade to Dev Tier today at https://console.groq.com/settings/billing', 'type': 'tokens', 'code': 'rate_limit_exceeded'}}\n",
      "\n",
      "🔍 Processing row 936 | Ticker: NEM, Year: 2025\n"
     ]
    },
    {
     "name": "stderr",
     "output_type": "stream",
     "text": [
      " 63%|██████▎   | 614/970 [1:28:29<34:35,  5.83s/it]"
     ]
    },
    {
     "name": "stdout",
     "output_type": "stream",
     "text": [
      "🔹 1 chunk(s) generated\n",
      "🧠 Invoking LLM on chunk 1/1...\n",
      "❌ Error at row 936 (NEM): Error code: 429 - {'error': {'message': 'Rate limit reached for model `llama3-70b-8192` in organization `org_01jteba7n9ehjbkb6dypw1vck0` service tier `on_demand` on tokens per day (TPD): Limit 500000, Used 500032, Requested 1145. Please try again in 3m23.5418s. Need more tokens? Upgrade to Dev Tier today at https://console.groq.com/settings/billing', 'type': 'tokens', 'code': 'rate_limit_exceeded'}}\n",
      "\n",
      "🔍 Processing row 937 | Ticker: NEO, Year: 2025\n",
      "🔹 1 chunk(s) generated\n",
      "🧠 Invoking LLM on chunk 1/1...\n"
     ]
    },
    {
     "name": "stderr",
     "output_type": "stream",
     "text": [
      " 64%|██████▎   | 617/970 [1:28:30<14:48,  2.52s/it]"
     ]
    },
    {
     "name": "stdout",
     "output_type": "stream",
     "text": [
      "❌ Error at row 937 (NEO): Error code: 429 - {'error': {'message': 'Rate limit reached for model `llama3-70b-8192` in organization `org_01jteba7n9ehjbkb6dypw1vck0` service tier `on_demand` on tokens per day (TPD): Limit 500000, Used 500032, Requested 1145. Please try again in 3m23.4388s. Need more tokens? Upgrade to Dev Tier today at https://console.groq.com/settings/billing', 'type': 'tokens', 'code': 'rate_limit_exceeded'}}\n",
      "\n",
      "🔍 Processing row 938 | Ticker: NEOG, Year: 2024\n",
      "🔹 1 chunk(s) generated\n",
      "🧠 Invoking LLM on chunk 1/1...\n",
      "❌ Error at row 938 (NEOG): Error code: 429 - {'error': {'message': 'Rate limit reached for model `llama3-70b-8192` in organization `org_01jteba7n9ehjbkb6dypw1vck0` service tier `on_demand` on tokens per day (TPD): Limit 500000, Used 500031, Requested 1145. Please try again in 3m23.3708s. Need more tokens? Upgrade to Dev Tier today at https://console.groq.com/settings/billing', 'type': 'tokens', 'code': 'rate_limit_exceeded'}}\n",
      "\n",
      "🔍 Processing row 942 | Ticker: NGVT, Year: 2025\n",
      "🔹 1 chunk(s) generated\n",
      "🧠 Invoking LLM on chunk 1/1...\n",
      "❌ Error at row 942 (NGVT): Error code: 429 - {'error': {'message': 'Rate limit reached for model `llama3-70b-8192` in organization `org_01jteba7n9ehjbkb6dypw1vck0` service tier `on_demand` on tokens per day (TPD): Limit 500000, Used 500031, Requested 626. Please try again in 1m53.624599999s. Need more tokens? Upgrade to Dev Tier today at https://console.groq.com/settings/billing', 'type': 'tokens', 'code': 'rate_limit_exceeded'}}\n",
      "\n",
      "🔍 Processing row 943 | Ticker: NHC, Year: 2025\n",
      "🔹 1 chunk(s) generated\n",
      "🧠 Invoking LLM on chunk 1/1...\n",
      "❌ Error at row 943 (NHC): Error code: 429 - {'error': {'message': 'Rate limit reached for model `llama3-70b-8192` in organization `org_01jteba7n9ehjbkb6dypw1vck0` service tier `on_demand` on tokens per day (TPD): Limit 500000, Used 500031, Requested 1145. Please try again in 3m23.240799999s. Need more tokens? Upgrade to Dev Tier today at https://console.groq.com/settings/billing', 'type': 'tokens', 'code': 'rate_limit_exceeded'}}\n",
      "\n",
      "🔍 Processing row 944 | Ticker: NI, Year: 2025\n",
      "🔹 1 chunk(s) generated\n",
      "🧠 Invoking LLM on chunk 1/1...\n"
     ]
    },
    {
     "name": "stderr",
     "output_type": "stream",
     "text": [
      " 64%|██████▍   | 621/970 [1:28:30<06:08,  1.06s/it]"
     ]
    },
    {
     "name": "stdout",
     "output_type": "stream",
     "text": [
      "❌ Error at row 944 (NI): Error code: 429 - {'error': {'message': 'Rate limit reached for model `llama3-70b-8192` in organization `org_01jteba7n9ehjbkb6dypw1vck0` service tier `on_demand` on tokens per day (TPD): Limit 500000, Used 500030, Requested 1145. Please try again in 3m23.175799999s. Need more tokens? Upgrade to Dev Tier today at https://console.groq.com/settings/billing', 'type': 'tokens', 'code': 'rate_limit_exceeded'}}\n",
      "\n",
      "🔍 Processing row 945 | Ticker: NJR, Year: 2024\n",
      "🔹 1 chunk(s) generated\n",
      "🧠 Invoking LLM on chunk 1/1...\n",
      "❌ Error at row 945 (NJR): Error code: 429 - {'error': {'message': 'Rate limit reached for model `llama3-70b-8192` in organization `org_01jteba7n9ehjbkb6dypw1vck0` service tier `on_demand` on tokens per day (TPD): Limit 500000, Used 500030, Requested 1145. Please try again in 3m23.1038s. Need more tokens? Upgrade to Dev Tier today at https://console.groq.com/settings/billing', 'type': 'tokens', 'code': 'rate_limit_exceeded'}}\n",
      "\n",
      "🔍 Processing row 946 | Ticker: NKE, Year: 2024\n",
      "🔹 1 chunk(s) generated\n",
      "🧠 Invoking LLM on chunk 1/1...\n",
      "❌ Error at row 946 (NKE): Error code: 429 - {'error': {'message': 'Rate limit reached for model `llama3-70b-8192` in organization `org_01jteba7n9ehjbkb6dypw1vck0` service tier `on_demand` on tokens per day (TPD): Limit 500000, Used 500029, Requested 1145. Please try again in 3m23.0348s. Need more tokens? Upgrade to Dev Tier today at https://console.groq.com/settings/billing', 'type': 'tokens', 'code': 'rate_limit_exceeded'}}\n",
      "\n",
      "🔍 Processing row 947 | Ticker: NLY, Year: 2025\n",
      "🔹 1 chunk(s) generated\n",
      "🧠 Invoking LLM on chunk 1/1...\n"
     ]
    },
    {
     "name": "stderr",
     "output_type": "stream",
     "text": [
      " 64%|██████▍   | 623/970 [1:28:30<04:12,  1.37it/s]"
     ]
    },
    {
     "name": "stdout",
     "output_type": "stream",
     "text": [
      "❌ Error at row 947 (NLY): Error code: 429 - {'error': {'message': 'Rate limit reached for model `llama3-70b-8192` in organization `org_01jteba7n9ehjbkb6dypw1vck0` service tier `on_demand` on tokens per day (TPD): Limit 500000, Used 500029, Requested 1145. Please try again in 3m22.9638s. Need more tokens? Upgrade to Dev Tier today at https://console.groq.com/settings/billing', 'type': 'tokens', 'code': 'rate_limit_exceeded'}}\n",
      "\n",
      "🔍 Processing row 948 | Ticker: NMIH, Year: 2025\n",
      "🔹 1 chunk(s) generated\n",
      "🧠 Invoking LLM on chunk 1/1...\n",
      "❌ Error at row 948 (NMIH): Error code: 429 - {'error': {'message': 'Rate limit reached for model `llama3-70b-8192` in organization `org_01jteba7n9ehjbkb6dypw1vck0` service tier `on_demand` on tokens per day (TPD): Limit 500000, Used 500029, Requested 1145. Please try again in 3m22.8848s. Need more tokens? Upgrade to Dev Tier today at https://console.groq.com/settings/billing', 'type': 'tokens', 'code': 'rate_limit_exceeded'}}\n",
      "\n",
      "🔍 Processing row 949 | Ticker: NNN, Year: 2025\n",
      "🔹 1 chunk(s) generated\n",
      "🧠 Invoking LLM on chunk 1/1...\n",
      "❌ Error at row 949 (NNN): Error code: 429 - {'error': {'message': 'Rate limit reached for model `llama3-70b-8192` in organization `org_01jteba7n9ehjbkb6dypw1vck0` service tier `on_demand` on tokens per day (TPD): Limit 500000, Used 500028, Requested 1145. Please try again in 3m22.8088s. Need more tokens? Upgrade to Dev Tier today at https://console.groq.com/settings/billing', 'type': 'tokens', 'code': 'rate_limit_exceeded'}}\n",
      "\n",
      "🔍 Processing row 950 | Ticker: NOC, Year: 2025\n",
      "🔹 1 chunk(s) generated\n",
      "🧠 Invoking LLM on chunk 1/1...\n"
     ]
    },
    {
     "name": "stderr",
     "output_type": "stream",
     "text": [
      " 65%|██████▍   | 627/970 [1:28:30<02:07,  2.68it/s]"
     ]
    },
    {
     "name": "stdout",
     "output_type": "stream",
     "text": [
      "❌ Error at row 950 (NOC): Error code: 429 - {'error': {'message': 'Rate limit reached for model `llama3-70b-8192` in organization `org_01jteba7n9ehjbkb6dypw1vck0` service tier `on_demand` on tokens per day (TPD): Limit 500000, Used 500028, Requested 1145. Please try again in 3m22.7418s. Need more tokens? Upgrade to Dev Tier today at https://console.groq.com/settings/billing', 'type': 'tokens', 'code': 'rate_limit_exceeded'}}\n",
      "\n",
      "🔍 Processing row 951 | Ticker: NOG, Year: 2025\n",
      "🔹 1 chunk(s) generated\n",
      "🧠 Invoking LLM on chunk 1/1...\n",
      "❌ Error at row 951 (NOG): Error code: 429 - {'error': {'message': 'Rate limit reached for model `llama3-70b-8192` in organization `org_01jteba7n9ehjbkb6dypw1vck0` service tier `on_demand` on tokens per day (TPD): Limit 500000, Used 500027, Requested 1145. Please try again in 3m22.6788s. Need more tokens? Upgrade to Dev Tier today at https://console.groq.com/settings/billing', 'type': 'tokens', 'code': 'rate_limit_exceeded'}}\n",
      "\n",
      "🔍 Processing row 953 | Ticker: NOVT, Year: 2025\n",
      "🔹 1 chunk(s) generated\n",
      "🧠 Invoking LLM on chunk 1/1...\n",
      "❌ Error at row 953 (NOVT): Error code: 429 - {'error': {'message': 'Rate limit reached for model `llama3-70b-8192` in organization `org_01jteba7n9ehjbkb6dypw1vck0` service tier `on_demand` on tokens per day (TPD): Limit 500000, Used 500027, Requested 1145. Please try again in 3m22.6138s. Need more tokens? Upgrade to Dev Tier today at https://console.groq.com/settings/billing', 'type': 'tokens', 'code': 'rate_limit_exceeded'}}\n",
      "\n",
      "🔍 Processing row 955 | Ticker: NPK, Year: 2025\n",
      "🔹 1 chunk(s) generated\n",
      "🧠 Invoking LLM on chunk 1/1...\n",
      "❌ Error at row 955 (NPK): Error code: 429 - {'error': {'message': 'Rate limit reached for model `llama3-70b-8192` in organization `org_01jteba7n9ehjbkb6dypw1vck0` service tier `on_demand` on tokens per day (TPD): Limit 500000, Used 500027, Requested 1145. Please try again in 3m22.5528s. Need more tokens? Upgrade to Dev Tier today at https://console.groq.com/settings/billing', 'type': 'tokens', 'code': 'rate_limit_exceeded'}}\n",
      "\n",
      "🔍 Processing row 956 | Ticker: NPO, Year: 2025\n",
      "🔹 1 chunk(s) generated\n",
      "🧠 Invoking LLM on chunk 1/1...\n"
     ]
    },
    {
     "name": "stderr",
     "output_type": "stream",
     "text": [
      " 65%|██████▌   | 631/970 [1:28:30<01:11,  4.72it/s]"
     ]
    },
    {
     "name": "stdout",
     "output_type": "stream",
     "text": [
      "❌ Error at row 956 (NPO): Error code: 429 - {'error': {'message': 'Rate limit reached for model `llama3-70b-8192` in organization `org_01jteba7n9ehjbkb6dypw1vck0` service tier `on_demand` on tokens per day (TPD): Limit 500000, Used 500026, Requested 1145. Please try again in 3m22.487799999s. Need more tokens? Upgrade to Dev Tier today at https://console.groq.com/settings/billing', 'type': 'tokens', 'code': 'rate_limit_exceeded'}}\n",
      "\n",
      "🔍 Processing row 958 | Ticker: NSA, Year: 2025\n",
      "🔹 1 chunk(s) generated\n",
      "🧠 Invoking LLM on chunk 1/1...\n",
      "❌ Error at row 958 (NSA): Error code: 429 - {'error': {'message': 'Rate limit reached for model `llama3-70b-8192` in organization `org_01jteba7n9ehjbkb6dypw1vck0` service tier `on_demand` on tokens per day (TPD): Limit 500000, Used 500026, Requested 1145. Please try again in 3m22.419799999s. Need more tokens? Upgrade to Dev Tier today at https://console.groq.com/settings/billing', 'type': 'tokens', 'code': 'rate_limit_exceeded'}}\n",
      "\n",
      "🔍 Processing row 959 | Ticker: NSC, Year: 2025\n",
      "🔹 1 chunk(s) generated\n",
      "🧠 Invoking LLM on chunk 1/1...\n",
      "❌ Error at row 959 (NSC): Error code: 429 - {'error': {'message': 'Rate limit reached for model `llama3-70b-8192` in organization `org_01jteba7n9ehjbkb6dypw1vck0` service tier `on_demand` on tokens per day (TPD): Limit 500000, Used 500026, Requested 1145. Please try again in 3m22.354799999s. Need more tokens? Upgrade to Dev Tier today at https://console.groq.com/settings/billing', 'type': 'tokens', 'code': 'rate_limit_exceeded'}}\n",
      "\n",
      "🔍 Processing row 961 | Ticker: NSP, Year: 2025\n",
      "🔹 1 chunk(s) generated\n",
      "🧠 Invoking LLM on chunk 1/1...\n"
     ]
    },
    {
     "name": "stderr",
     "output_type": "stream",
     "text": [
      " 65%|██████▌   | 633/970 [1:28:31<01:06,  5.05it/s]"
     ]
    },
    {
     "name": "stdout",
     "output_type": "stream",
     "text": [
      "❌ Error at row 961 (NSP): Error code: 429 - {'error': {'message': 'Rate limit reached for model `llama3-70b-8192` in organization `org_01jteba7n9ehjbkb6dypw1vck0` service tier `on_demand` on tokens per day (TPD): Limit 500000, Used 500025, Requested 1145. Please try again in 3m22.2198s. Need more tokens? Upgrade to Dev Tier today at https://console.groq.com/settings/billing', 'type': 'tokens', 'code': 'rate_limit_exceeded'}}\n",
      "\n",
      "🔍 Processing row 962 | Ticker: NTAP, Year: 2025\n",
      "🔹 1 chunk(s) generated\n",
      "🧠 Invoking LLM on chunk 1/1...\n",
      "❌ Error at row 962 (NTAP): Error code: 429 - {'error': {'message': 'Rate limit reached for model `llama3-70b-8192` in organization `org_01jteba7n9ehjbkb6dypw1vck0` service tier `on_demand` on tokens per day (TPD): Limit 500000, Used 500024, Requested 1145. Please try again in 3m22.0278s. Need more tokens? Upgrade to Dev Tier today at https://console.groq.com/settings/billing', 'type': 'tokens', 'code': 'rate_limit_exceeded'}}\n",
      "\n",
      "🔍 Processing row 963 | Ticker: NTCT, Year: 2025\n",
      "🔹 1 chunk(s) generated\n",
      "🧠 Invoking LLM on chunk 1/1...\n"
     ]
    },
    {
     "name": "stderr",
     "output_type": "stream",
     "text": [
      " 65%|██████▌   | 635/970 [1:28:31<00:56,  5.93it/s]"
     ]
    },
    {
     "name": "stdout",
     "output_type": "stream",
     "text": [
      "❌ Error at row 963 (NTCT): Error code: 429 - {'error': {'message': 'Rate limit reached for model `llama3-70b-8192` in organization `org_01jteba7n9ehjbkb6dypw1vck0` service tier `on_demand` on tokens per day (TPD): Limit 500000, Used 500023, Requested 1145. Please try again in 3m21.8858s. Need more tokens? Upgrade to Dev Tier today at https://console.groq.com/settings/billing', 'type': 'tokens', 'code': 'rate_limit_exceeded'}}\n",
      "\n",
      "🔍 Processing row 965 | Ticker: NUE, Year: 2025\n",
      "🔹 1 chunk(s) generated\n",
      "🧠 Invoking LLM on chunk 1/1...\n",
      "❌ Error at row 965 (NUE): Error code: 429 - {'error': {'message': 'Rate limit reached for model `llama3-70b-8192` in organization `org_01jteba7n9ehjbkb6dypw1vck0` service tier `on_demand` on tokens per day (TPD): Limit 500000, Used 500022, Requested 1145. Please try again in 3m21.8258s. Need more tokens? Upgrade to Dev Tier today at https://console.groq.com/settings/billing', 'type': 'tokens', 'code': 'rate_limit_exceeded'}}\n",
      "\n",
      "🔍 Processing row 966 | Ticker: NVDA, Year: 2025\n",
      "🔹 1 chunk(s) generated\n",
      "🧠 Invoking LLM on chunk 1/1...\n",
      "❌ Error at row 966 (NVDA): Error code: 429 - {'error': {'message': 'Rate limit reached for model `llama3-70b-8192` in organization `org_01jteba7n9ehjbkb6dypw1vck0` service tier `on_demand` on tokens per day (TPD): Limit 500000, Used 500022, Requested 1145. Please try again in 3m21.758799999s. Need more tokens? Upgrade to Dev Tier today at https://console.groq.com/settings/billing', 'type': 'tokens', 'code': 'rate_limit_exceeded'}}\n",
      "\n",
      "🔍 Processing row 969 | Ticker: NVRI, Year: 2025\n"
     ]
    },
    {
     "name": "stderr",
     "output_type": "stream",
     "text": [
      " 66%|██████▌   | 637/970 [1:28:31<00:52,  6.30it/s]"
     ]
    },
    {
     "name": "stdout",
     "output_type": "stream",
     "text": [
      "🔹 1 chunk(s) generated\n",
      "🧠 Invoking LLM on chunk 1/1...\n",
      "❌ Error at row 969 (NVRI): Error code: 429 - {'error': {'message': 'Rate limit reached for model `llama3-70b-8192` in organization `org_01jteba7n9ehjbkb6dypw1vck0` service tier `on_demand` on tokens per day (TPD): Limit 500000, Used 500021, Requested 1145. Please try again in 3m21.5438s. Need more tokens? Upgrade to Dev Tier today at https://console.groq.com/settings/billing', 'type': 'tokens', 'code': 'rate_limit_exceeded'}}\n",
      "\n",
      "🔍 Processing row 970 | Ticker: NVST, Year: 2025\n",
      "🔹 1 chunk(s) generated\n",
      "🧠 Invoking LLM on chunk 1/1...\n"
     ]
    },
    {
     "name": "stderr",
     "output_type": "stream",
     "text": [
      " 66%|██████▌   | 641/970 [1:28:32<00:40,  8.18it/s]"
     ]
    },
    {
     "name": "stdout",
     "output_type": "stream",
     "text": [
      "❌ Error at row 970 (NVST): Error code: 429 - {'error': {'message': 'Rate limit reached for model `llama3-70b-8192` in organization `org_01jteba7n9ehjbkb6dypw1vck0` service tier `on_demand` on tokens per day (TPD): Limit 500000, Used 500020, Requested 1145. Please try again in 3m21.3858s. Need more tokens? Upgrade to Dev Tier today at https://console.groq.com/settings/billing', 'type': 'tokens', 'code': 'rate_limit_exceeded'}}\n",
      "\n",
      "🔍 Processing row 972 | Ticker: NWBI, Year: 2025\n",
      "🔹 1 chunk(s) generated\n",
      "🧠 Invoking LLM on chunk 1/1...\n",
      "❌ Error at row 972 (NWBI): Error code: 429 - {'error': {'message': 'Rate limit reached for model `llama3-70b-8192` in organization `org_01jteba7n9ehjbkb6dypw1vck0` service tier `on_demand` on tokens per day (TPD): Limit 500000, Used 500020, Requested 1145. Please try again in 3m21.3138s. Need more tokens? Upgrade to Dev Tier today at https://console.groq.com/settings/billing', 'type': 'tokens', 'code': 'rate_limit_exceeded'}}\n",
      "\n",
      "🔍 Processing row 973 | Ticker: NWE, Year: 2025\n",
      "🔹 1 chunk(s) generated\n",
      "🧠 Invoking LLM on chunk 1/1...\n",
      "❌ Error at row 973 (NWE): Error code: 429 - {'error': {'message': 'Rate limit reached for model `llama3-70b-8192` in organization `org_01jteba7n9ehjbkb6dypw1vck0` service tier `on_demand` on tokens per day (TPD): Limit 500000, Used 500019, Requested 1145. Please try again in 3m21.2378s. Need more tokens? Upgrade to Dev Tier today at https://console.groq.com/settings/billing', 'type': 'tokens', 'code': 'rate_limit_exceeded'}}\n",
      "\n",
      "🔍 Processing row 974 | Ticker: NWL, Year: 2025\n",
      "🔹 1 chunk(s) generated\n",
      "🧠 Invoking LLM on chunk 1/1...\n",
      "❌ Error at row 974 (NWL): Error code: 429 - {'error': {'message': 'Rate limit reached for model `llama3-70b-8192` in organization `org_01jteba7n9ehjbkb6dypw1vck0` service tier `on_demand` on tokens per day (TPD): Limit 500000, Used 500019, Requested 373. Please try again in 1m7.774199999s. Need more tokens? Upgrade to Dev Tier today at https://console.groq.com/settings/billing', 'type': 'tokens', 'code': 'rate_limit_exceeded'}}\n",
      "\n",
      "🔍 Processing row 975 | Ticker: NWN, Year: 2025\n",
      "🔹 1 chunk(s) generated\n",
      "🧠 Invoking LLM on chunk 1/1...\n",
      "❌ Error at row 975 (NWN): Error code: 429 - {'error': {'message': 'Rate limit reached for model `llama3-70b-8192` in organization `org_01jteba7n9ehjbkb6dypw1vck0` service tier `on_demand` on tokens per day (TPD): Limit 500000, Used 500018, Requested 1145. Please try again in 3m21.1028s. Need more tokens? Upgrade to Dev Tier today at https://console.groq.com/settings/billing', 'type': 'tokens', 'code': 'rate_limit_exceeded'}}\n",
      "\n",
      "🔍 Processing row 976 | Ticker: NWS, Year: 2024\n",
      "🔹 1 chunk(s) generated\n",
      "🧠 Invoking LLM on chunk 1/1...\n"
     ]
    },
    {
     "name": "stderr",
     "output_type": "stream",
     "text": [
      " 66%|██████▋   | 645/970 [1:28:32<00:34,  9.51it/s]"
     ]
    },
    {
     "name": "stdout",
     "output_type": "stream",
     "text": [
      "❌ Error at row 976 (NWS): Error code: 429 - {'error': {'message': 'Rate limit reached for model `llama3-70b-8192` in organization `org_01jteba7n9ehjbkb6dypw1vck0` service tier `on_demand` on tokens per day (TPD): Limit 500000, Used 500017, Requested 1145. Please try again in 3m20.948799999s. Need more tokens? Upgrade to Dev Tier today at https://console.groq.com/settings/billing', 'type': 'tokens', 'code': 'rate_limit_exceeded'}}\n",
      "\n",
      "🔍 Processing row 977 | Ticker: NWSA, Year: 2024\n",
      "🔹 1 chunk(s) generated\n",
      "🧠 Invoking LLM on chunk 1/1...\n",
      "❌ Error at row 977 (NWSA): Error code: 429 - {'error': {'message': 'Rate limit reached for model `llama3-70b-8192` in organization `org_01jteba7n9ehjbkb6dypw1vck0` service tier `on_demand` on tokens per day (TPD): Limit 500000, Used 500017, Requested 1145. Please try again in 3m20.875799999s. Need more tokens? Upgrade to Dev Tier today at https://console.groq.com/settings/billing', 'type': 'tokens', 'code': 'rate_limit_exceeded'}}\n",
      "\n",
      "🔍 Processing row 978 | Ticker: NX, Year: 2024\n",
      "🔹 1 chunk(s) generated\n",
      "🧠 Invoking LLM on chunk 1/1...\n",
      "❌ Error at row 978 (NX): Error code: 429 - {'error': {'message': 'Rate limit reached for model `llama3-70b-8192` in organization `org_01jteba7n9ehjbkb6dypw1vck0` service tier `on_demand` on tokens per day (TPD): Limit 500000, Used 500017, Requested 1145. Please try again in 3m20.8118s. Need more tokens? Upgrade to Dev Tier today at https://console.groq.com/settings/billing', 'type': 'tokens', 'code': 'rate_limit_exceeded'}}\n",
      "\n",
      "🔍 Processing row 979 | Ticker: NXPI, Year: 2025\n",
      "🔹 1 chunk(s) generated\n",
      "🧠 Invoking LLM on chunk 1/1...\n",
      "❌ Error at row 979 (NXPI): Error code: 429 - {'error': {'message': 'Rate limit reached for model `llama3-70b-8192` in organization `org_01jteba7n9ehjbkb6dypw1vck0` service tier `on_demand` on tokens per day (TPD): Limit 500000, Used 500016, Requested 366. Please try again in 1m6.1356s. Need more tokens? Upgrade to Dev Tier today at https://console.groq.com/settings/billing', 'type': 'tokens', 'code': 'rate_limit_exceeded'}}\n",
      "\n",
      "🔍 Processing row 982 | Ticker: NXT, Year: 2025\n",
      "🔹 1 chunk(s) generated\n",
      "🧠 Invoking LLM on chunk 1/1...\n"
     ]
    },
    {
     "name": "stderr",
     "output_type": "stream",
     "text": [
      " 67%|██████▋   | 647/970 [1:28:32<00:30, 10.74it/s]"
     ]
    },
    {
     "name": "stdout",
     "output_type": "stream",
     "text": [
      "❌ Error at row 982 (NXT): Error code: 429 - {'error': {'message': 'Rate limit reached for model `llama3-70b-8192` in organization `org_01jteba7n9ehjbkb6dypw1vck0` service tier `on_demand` on tokens per day (TPD): Limit 500000, Used 500016, Requested 1145. Please try again in 3m20.6768s. Need more tokens? Upgrade to Dev Tier today at https://console.groq.com/settings/billing', 'type': 'tokens', 'code': 'rate_limit_exceeded'}}\n",
      "\n",
      "🔍 Processing row 983 | Ticker: NYMT, Year: 2025\n",
      "🔹 1 chunk(s) generated\n",
      "🧠 Invoking LLM on chunk 1/1...\n",
      "❌ Error at row 983 (NYMT): Error code: 429 - {'error': {'message': 'Rate limit reached for model `llama3-70b-8192` in organization `org_01jteba7n9ehjbkb6dypw1vck0` service tier `on_demand` on tokens per day (TPD): Limit 500000, Used 500015, Requested 1145. Please try again in 3m20.5258s. Need more tokens? Upgrade to Dev Tier today at https://console.groq.com/settings/billing', 'type': 'tokens', 'code': 'rate_limit_exceeded'}}\n",
      "\n",
      "🔍 Processing row 986 | Ticker: OC, Year: 2025\n"
     ]
    },
    {
     "name": "stderr",
     "output_type": "stream",
     "text": [
      " 67%|██████▋   | 651/970 [1:28:33<00:34,  9.30it/s]"
     ]
    },
    {
     "name": "stdout",
     "output_type": "stream",
     "text": [
      "🔹 1 chunk(s) generated\n",
      "🧠 Invoking LLM on chunk 1/1...\n",
      "❌ Error at row 986 (OC): Error code: 429 - {'error': {'message': 'Rate limit reached for model `llama3-70b-8192` in organization `org_01jteba7n9ehjbkb6dypw1vck0` service tier `on_demand` on tokens per day (TPD): Limit 500000, Used 500014, Requested 1145. Please try again in 3m20.2898s. Need more tokens? Upgrade to Dev Tier today at https://console.groq.com/settings/billing', 'type': 'tokens', 'code': 'rate_limit_exceeded'}}\n",
      "\n",
      "🔍 Processing row 987 | Ticker: ODFL, Year: 2025\n",
      "🔹 1 chunk(s) generated\n",
      "🧠 Invoking LLM on chunk 1/1...\n",
      "❌ Error at row 987 (ODFL): Error code: 429 - {'error': {'message': 'Rate limit reached for model `llama3-70b-8192` in organization `org_01jteba7n9ehjbkb6dypw1vck0` service tier `on_demand` on tokens per day (TPD): Limit 500000, Used 500013, Requested 1145. Please try again in 3m20.2068s. Need more tokens? Upgrade to Dev Tier today at https://console.groq.com/settings/billing', 'type': 'tokens', 'code': 'rate_limit_exceeded'}}\n",
      "\n",
      "🔍 Processing row 989 | Ticker: OGE, Year: 2025\n",
      "🔹 1 chunk(s) generated\n",
      "🧠 Invoking LLM on chunk 1/1...\n",
      "❌ Error at row 989 (OGE): Error code: 429 - {'error': {'message': 'Rate limit reached for model `llama3-70b-8192` in organization `org_01jteba7n9ehjbkb6dypw1vck0` service tier `on_demand` on tokens per day (TPD): Limit 500000, Used 500013, Requested 607. Please try again in 1m47.1814s. Need more tokens? Upgrade to Dev Tier today at https://console.groq.com/settings/billing', 'type': 'tokens', 'code': 'rate_limit_exceeded'}}\n"
     ]
    },
    {
     "name": "stderr",
     "output_type": "stream",
     "text": [
      " 67%|██████▋   | 653/970 [1:28:33<00:32,  9.89it/s]"
     ]
    },
    {
     "name": "stdout",
     "output_type": "stream",
     "text": [
      "\n",
      "🔍 Processing row 990 | Ticker: OGN, Year: 2025\n",
      "🔹 1 chunk(s) generated\n",
      "🧠 Invoking LLM on chunk 1/1...\n",
      "❌ Error at row 990 (OGN): Error code: 429 - {'error': {'message': 'Rate limit reached for model `llama3-70b-8192` in organization `org_01jteba7n9ehjbkb6dypw1vck0` service tier `on_demand` on tokens per day (TPD): Limit 500000, Used 500012, Requested 646. Please try again in 1m53.8466s. Need more tokens? Upgrade to Dev Tier today at https://console.groq.com/settings/billing', 'type': 'tokens', 'code': 'rate_limit_exceeded'}}\n",
      "\n",
      "🔍 Processing row 993 | Ticker: OI, Year: 2025\n",
      "🔹 1 chunk(s) generated\n",
      "🧠 Invoking LLM on chunk 1/1...\n",
      "❌ Error at row 993 (OI): Error code: 429 - {'error': {'message': 'Rate limit reached for model `llama3-70b-8192` in organization `org_01jteba7n9ehjbkb6dypw1vck0` service tier `on_demand` on tokens per day (TPD): Limit 500000, Used 500012, Requested 1145. Please try again in 3m19.9868s. Need more tokens? Upgrade to Dev Tier today at https://console.groq.com/settings/billing', 'type': 'tokens', 'code': 'rate_limit_exceeded'}}\n",
      "\n",
      "🔍 Processing row 994 | Ticker: OII, Year: 2025\n",
      "🔹 1 chunk(s) generated\n",
      "🧠 Invoking LLM on chunk 1/1...\n"
     ]
    },
    {
     "name": "stderr",
     "output_type": "stream",
     "text": [
      " 68%|██████▊   | 657/970 [1:28:33<00:30, 10.19it/s]"
     ]
    },
    {
     "name": "stdout",
     "output_type": "stream",
     "text": [
      "❌ Error at row 994 (OII): Error code: 429 - {'error': {'message': 'Rate limit reached for model `llama3-70b-8192` in organization `org_01jteba7n9ehjbkb6dypw1vck0` service tier `on_demand` on tokens per day (TPD): Limit 500000, Used 500011, Requested 1145. Please try again in 3m19.759799999s. Need more tokens? Upgrade to Dev Tier today at https://console.groq.com/settings/billing', 'type': 'tokens', 'code': 'rate_limit_exceeded'}}\n",
      "\n",
      "🔍 Processing row 996 | Ticker: OKTA, Year: 2025\n",
      "🔹 1 chunk(s) generated\n",
      "🧠 Invoking LLM on chunk 1/1...\n",
      "❌ Error at row 996 (OKTA): Error code: 429 - {'error': {'message': 'Rate limit reached for model `llama3-70b-8192` in organization `org_01jteba7n9ehjbkb6dypw1vck0` service tier `on_demand` on tokens per day (TPD): Limit 500000, Used 500010, Requested 1145. Please try again in 3m19.6908s. Need more tokens? Upgrade to Dev Tier today at https://console.groq.com/settings/billing', 'type': 'tokens', 'code': 'rate_limit_exceeded'}}\n",
      "\n",
      "🔍 Processing row 998 | Ticker: OLLI, Year: 2025\n",
      "🔹 1 chunk(s) generated\n",
      "🧠 Invoking LLM on chunk 1/1...\n",
      "❌ Error at row 998 (OLLI): Error code: 429 - {'error': {'message': 'Rate limit reached for model `llama3-70b-8192` in organization `org_01jteba7n9ehjbkb6dypw1vck0` service tier `on_demand` on tokens per day (TPD): Limit 500000, Used 500010, Requested 1145. Please try again in 3m19.625799999s. Need more tokens? Upgrade to Dev Tier today at https://console.groq.com/settings/billing', 'type': 'tokens', 'code': 'rate_limit_exceeded'}}\n",
      "\n",
      "🔍 Processing row 1000 | Ticker: OMC, Year: 2025\n",
      "🔹 1 chunk(s) generated\n",
      "🧠 Invoking LLM on chunk 1/1...\n",
      "❌ Error at row 1000 (OMC): Error code: 429 - {'error': {'message': 'Rate limit reached for model `llama3-70b-8192` in organization `org_01jteba7n9ehjbkb6dypw1vck0` service tier `on_demand` on tokens per day (TPD): Limit 500000, Used 500009, Requested 1145. Please try again in 3m19.562799999s. Need more tokens? Upgrade to Dev Tier today at https://console.groq.com/settings/billing', 'type': 'tokens', 'code': 'rate_limit_exceeded'}}\n"
     ]
    },
    {
     "name": "stderr",
     "output_type": "stream",
     "text": [
      " 68%|██████▊   | 659/970 [1:28:33<00:27, 11.23it/s]"
     ]
    },
    {
     "name": "stdout",
     "output_type": "stream",
     "text": [
      "\n",
      "🔍 Processing row 1005 | Ticker: ONTO, Year: 2025\n",
      "🔹 1 chunk(s) generated\n",
      "🧠 Invoking LLM on chunk 1/1...\n",
      "❌ Error at row 1005 (ONTO): Error code: 429 - {'error': {'message': 'Rate limit reached for model `llama3-70b-8192` in organization `org_01jteba7n9ehjbkb6dypw1vck0` service tier `on_demand` on tokens per day (TPD): Limit 500000, Used 500009, Requested 1145. Please try again in 3m19.490799999s. Need more tokens? Upgrade to Dev Tier today at https://console.groq.com/settings/billing', 'type': 'tokens', 'code': 'rate_limit_exceeded'}}\n",
      "\n",
      "🔍 Processing row 1006 | Ticker: OPCH, Year: 2025\n",
      "🔹 1 chunk(s) generated\n",
      "🧠 Invoking LLM on chunk 1/1...\n",
      "❌ Error at row 1006 (OPCH): Error code: 429 - {'error': {'message': 'Rate limit reached for model `llama3-70b-8192` in organization `org_01jteba7n9ehjbkb6dypw1vck0` service tier `on_demand` on tokens per day (TPD): Limit 500000, Used 500009, Requested 1145. Please try again in 3m19.4268s. Need more tokens? Upgrade to Dev Tier today at https://console.groq.com/settings/billing', 'type': 'tokens', 'code': 'rate_limit_exceeded'}}\n",
      "\n",
      "🔍 Processing row 1007 | Ticker: ORA, Year: 2025\n",
      "🔹 1 chunk(s) generated\n",
      "🧠 Invoking LLM on chunk 1/1...\n",
      "❌ Error at row 1007 (ORA): Error code: 429 - {'error': {'message': 'Rate limit reached for model `llama3-70b-8192` in organization `org_01jteba7n9ehjbkb6dypw1vck0` service tier `on_demand` on tokens per day (TPD): Limit 500000, Used 500008, Requested 1145. Please try again in 3m19.3558s. Need more tokens? Upgrade to Dev Tier today at https://console.groq.com/settings/billing', 'type': 'tokens', 'code': 'rate_limit_exceeded'}}\n",
      "\n",
      "🔍 Processing row 1008 | Ticker: ORCL, Year: 2025\n",
      "🔹 1 chunk(s) generated\n",
      "🧠 Invoking LLM on chunk 1/1...\n"
     ]
    },
    {
     "name": "stderr",
     "output_type": "stream",
     "text": [
      " 68%|██████▊   | 663/970 [1:28:34<00:24, 12.64it/s]"
     ]
    },
    {
     "name": "stdout",
     "output_type": "stream",
     "text": [
      "❌ Error at row 1008 (ORCL): Error code: 429 - {'error': {'message': 'Rate limit reached for model `llama3-70b-8192` in organization `org_01jteba7n9ehjbkb6dypw1vck0` service tier `on_demand` on tokens per day (TPD): Limit 500000, Used 500008, Requested 1145. Please try again in 3m19.2908s. Need more tokens? Upgrade to Dev Tier today at https://console.groq.com/settings/billing', 'type': 'tokens', 'code': 'rate_limit_exceeded'}}\n",
      "\n",
      "🔍 Processing row 1011 | Ticker: OSIS, Year: 2024\n",
      "🔹 1 chunk(s) generated\n",
      "🧠 Invoking LLM on chunk 1/1...\n",
      "❌ Error at row 1011 (OSIS): Error code: 429 - {'error': {'message': 'Rate limit reached for model `llama3-70b-8192` in organization `org_01jteba7n9ehjbkb6dypw1vck0` service tier `on_demand` on tokens per day (TPD): Limit 500000, Used 500007, Requested 1145. Please try again in 3m19.222799999s. Need more tokens? Upgrade to Dev Tier today at https://console.groq.com/settings/billing', 'type': 'tokens', 'code': 'rate_limit_exceeded'}}\n",
      "\n",
      "🔍 Processing row 1013 | Ticker: OTIS, Year: 2025\n",
      "🔹 1 chunk(s) generated\n",
      "🧠 Invoking LLM on chunk 1/1...\n",
      "❌ Error at row 1013 (OTIS): Error code: 429 - {'error': {'message': 'Rate limit reached for model `llama3-70b-8192` in organization `org_01jteba7n9ehjbkb6dypw1vck0` service tier `on_demand` on tokens per day (TPD): Limit 500000, Used 500007, Requested 1145. Please try again in 3m19.1548s. Need more tokens? Upgrade to Dev Tier today at https://console.groq.com/settings/billing', 'type': 'tokens', 'code': 'rate_limit_exceeded'}}\n",
      "\n",
      "🔍 Processing row 1014 | Ticker: OTTR, Year: 2025\n",
      "🔹 1 chunk(s) generated\n",
      "🧠 Invoking LLM on chunk 1/1...\n"
     ]
    },
    {
     "name": "stderr",
     "output_type": "stream",
     "text": [
      " 69%|██████▉   | 667/970 [1:28:34<00:22, 13.32it/s]"
     ]
    },
    {
     "name": "stdout",
     "output_type": "stream",
     "text": [
      "❌ Error at row 1014 (OTTR): Error code: 429 - {'error': {'message': 'Rate limit reached for model `llama3-70b-8192` in organization `org_01jteba7n9ehjbkb6dypw1vck0` service tier `on_demand` on tokens per day (TPD): Limit 500000, Used 500007, Requested 1145. Please try again in 3m19.085799999s. Need more tokens? Upgrade to Dev Tier today at https://console.groq.com/settings/billing', 'type': 'tokens', 'code': 'rate_limit_exceeded'}}\n",
      "\n",
      "🔍 Processing row 1015 | Ticker: OUT, Year: 2025\n",
      "🔹 1 chunk(s) generated\n",
      "🧠 Invoking LLM on chunk 1/1...\n",
      "❌ Error at row 1015 (OUT): Error code: 429 - {'error': {'message': 'Rate limit reached for model `llama3-70b-8192` in organization `org_01jteba7n9ehjbkb6dypw1vck0` service tier `on_demand` on tokens per day (TPD): Limit 500000, Used 500006, Requested 648. Please try again in 1m53.133199999s. Need more tokens? Upgrade to Dev Tier today at https://console.groq.com/settings/billing', 'type': 'tokens', 'code': 'rate_limit_exceeded'}}\n",
      "\n",
      "🔍 Processing row 1016 | Ticker: OVV, Year: 2025\n",
      "🔹 1 chunk(s) generated\n",
      "🧠 Invoking LLM on chunk 1/1...\n",
      "❌ Error at row 1016 (OVV): Error code: 429 - {'error': {'message': 'Rate limit reached for model `llama3-70b-8192` in organization `org_01jteba7n9ehjbkb6dypw1vck0` service tier `on_demand` on tokens per day (TPD): Limit 500000, Used 500006, Requested 603. Please try again in 1m45.2922s. Need more tokens? Upgrade to Dev Tier today at https://console.groq.com/settings/billing', 'type': 'tokens', 'code': 'rate_limit_exceeded'}}\n",
      "\n",
      "🔍 Processing row 1017 | Ticker: OXM, Year: 2025\n",
      "🔹 1 chunk(s) generated\n",
      "🧠 Invoking LLM on chunk 1/1...\n",
      "❌ Error at row 1017 (OXM): Error code: 429 - {'error': {'message': 'Rate limit reached for model `llama3-70b-8192` in organization `org_01jteba7n9ehjbkb6dypw1vck0` service tier `on_demand` on tokens per day (TPD): Limit 500000, Used 500005, Requested 1145. Please try again in 3m18.8768s. Need more tokens? Upgrade to Dev Tier today at https://console.groq.com/settings/billing', 'type': 'tokens', 'code': 'rate_limit_exceeded'}}\n",
      "\n",
      "🔍 Processing row 1020 | Ticker: PAHC, Year: 2024\n",
      "🔹 1 chunk(s) generated\n",
      "🧠 Invoking LLM on chunk 1/1...\n",
      "❌ Error at row 1020 (PAHC): Error code: 429 - {'error': {'message': 'Rate limit reached for model `llama3-70b-8192` in organization `org_01jteba7n9ehjbkb6dypw1vck0` service tier `on_demand` on tokens per day (TPD): Limit 500000, Used 500004, Requested 1145. Please try again in 3m18.674799999s. Need more tokens? Upgrade to Dev Tier today at https://console.groq.com/settings/billing', 'type': 'tokens', 'code': 'rate_limit_exceeded'}}\n",
      "\n",
      "🔍 Processing row 1021 | Ticker: PANW, Year: 2024\n",
      "🔹 1 chunk(s) generated\n",
      "🧠 Invoking LLM on chunk 1/1...\n"
     ]
    },
    {
     "name": "stderr",
     "output_type": "stream",
     "text": [
      " 69%|██████▉   | 671/970 [1:28:34<00:25, 11.86it/s]"
     ]
    },
    {
     "name": "stdout",
     "output_type": "stream",
     "text": [
      "❌ Error at row 1021 (PANW): Error code: 429 - {'error': {'message': 'Rate limit reached for model `llama3-70b-8192` in organization `org_01jteba7n9ehjbkb6dypw1vck0` service tier `on_demand` on tokens per day (TPD): Limit 500000, Used 500004, Requested 1145. Please try again in 3m18.6108s. Need more tokens? Upgrade to Dev Tier today at https://console.groq.com/settings/billing', 'type': 'tokens', 'code': 'rate_limit_exceeded'}}\n",
      "\n",
      "🔍 Processing row 1022 | Ticker: PARA, Year: 2025\n",
      "🔹 1 chunk(s) generated\n",
      "🧠 Invoking LLM on chunk 1/1...\n",
      "❌ Error at row 1022 (PARA): Error code: 429 - {'error': {'message': 'Rate limit reached for model `llama3-70b-8192` in organization `org_01jteba7n9ehjbkb6dypw1vck0` service tier `on_demand` on tokens per day (TPD): Limit 500000, Used 500003, Requested 1145. Please try again in 3m18.542799999s. Need more tokens? Upgrade to Dev Tier today at https://console.groq.com/settings/billing', 'type': 'tokens', 'code': 'rate_limit_exceeded'}}\n",
      "\n",
      "🔍 Processing row 1026 | Ticker: PAYO, Year: 2025\n",
      "🔹 1 chunk(s) generated\n",
      "🧠 Invoking LLM on chunk 1/1...\n",
      "❌ Error at row 1026 (PAYO): Error code: 429 - {'error': {'message': 'Rate limit reached for model `llama3-70b-8192` in organization `org_01jteba7n9ehjbkb6dypw1vck0` service tier `on_demand` on tokens per day (TPD): Limit 500000, Used 500003, Requested 1145. Please try again in 3m18.4768s. Need more tokens? Upgrade to Dev Tier today at https://console.groq.com/settings/billing', 'type': 'tokens', 'code': 'rate_limit_exceeded'}}\n",
      "\n",
      "🔍 Processing row 1027 | Ticker: PAYX, Year: 2024\n",
      "🔹 1 chunk(s) generated\n",
      "🧠 Invoking LLM on chunk 1/1...\n",
      "❌ Error at row 1027 (PAYX): Error code: 429 - {'error': {'message': 'Rate limit reached for model `llama3-70b-8192` in organization `org_01jteba7n9ehjbkb6dypw1vck0` service tier `on_demand` on tokens per day (TPD): Limit 500000, Used 500003, Requested 1145. Please try again in 3m18.4098s. Need more tokens? Upgrade to Dev Tier today at https://console.groq.com/settings/billing', 'type': 'tokens', 'code': 'rate_limit_exceeded'}}\n",
      "\n",
      "🔍 Processing row 1029 | Ticker: PBF, Year: 2025\n",
      "🔹 1 chunk(s) generated\n",
      "🧠 Invoking LLM on chunk 1/1...\n"
     ]
    },
    {
     "name": "stderr",
     "output_type": "stream",
     "text": [
      " 70%|██████▉   | 675/970 [1:28:35<00:22, 13.20it/s]"
     ]
    },
    {
     "name": "stdout",
     "output_type": "stream",
     "text": [
      "❌ Error at row 1029 (PBF): Error code: 429 - {'error': {'message': 'Rate limit reached for model `llama3-70b-8192` in organization `org_01jteba7n9ehjbkb6dypw1vck0` service tier `on_demand` on tokens per day (TPD): Limit 500000, Used 500002, Requested 1145. Please try again in 3m18.3448s. Need more tokens? Upgrade to Dev Tier today at https://console.groq.com/settings/billing', 'type': 'tokens', 'code': 'rate_limit_exceeded'}}\n",
      "\n",
      "🔍 Processing row 1030 | Ticker: PBH, Year: 2025\n",
      "🔹 1 chunk(s) generated\n",
      "🧠 Invoking LLM on chunk 1/1...\n",
      "❌ Error at row 1030 (PBH): Error code: 429 - {'error': {'message': 'Rate limit reached for model `llama3-70b-8192` in organization `org_01jteba7n9ehjbkb6dypw1vck0` service tier `on_demand` on tokens per day (TPD): Limit 500000, Used 500002, Requested 1145. Please try again in 3m18.271799999s. Need more tokens? Upgrade to Dev Tier today at https://console.groq.com/settings/billing', 'type': 'tokens', 'code': 'rate_limit_exceeded'}}\n",
      "\n",
      "🔍 Processing row 1031 | Ticker: PBI, Year: 2025\n",
      "🔹 1 chunk(s) generated\n",
      "🧠 Invoking LLM on chunk 1/1...\n",
      "❌ Error at row 1031 (PBI): Error code: 429 - {'error': {'message': 'Rate limit reached for model `llama3-70b-8192` in organization `org_01jteba7n9ehjbkb6dypw1vck0` service tier `on_demand` on tokens per day (TPD): Limit 500000, Used 500002, Requested 1145. Please try again in 3m18.2058s. Need more tokens? Upgrade to Dev Tier today at https://console.groq.com/settings/billing', 'type': 'tokens', 'code': 'rate_limit_exceeded'}}\n",
      "\n",
      "🔍 Processing row 1032 | Ticker: PCAR, Year: 2025\n",
      "🔹 1 chunk(s) generated\n",
      "🧠 Invoking LLM on chunk 1/1...\n",
      "❌ Error at row 1032 (PCAR): Error code: 429 - {'error': {'message': 'Rate limit reached for model `llama3-70b-8192` in organization `org_01jteba7n9ehjbkb6dypw1vck0` service tier `on_demand` on tokens per day (TPD): Limit 500000, Used 500001, Requested 1145. Please try again in 3m18.1368s. Need more tokens? Upgrade to Dev Tier today at https://console.groq.com/settings/billing', 'type': 'tokens', 'code': 'rate_limit_exceeded'}}\n",
      "\n",
      "🔍 Processing row 1033 | Ticker: PCG, Year: 2025\n",
      "🔹 1 chunk(s) generated\n",
      "🧠 Invoking LLM on chunk 1/1...\n"
     ]
    },
    {
     "name": "stderr",
     "output_type": "stream",
     "text": [
      " 70%|███████   | 679/970 [1:29:20<23:29,  4.84s/it]"
     ]
    },
    {
     "name": "stdout",
     "output_type": "stream",
     "text": [
      "✅ Completed row 1033 | Risk Score: 4, Narrative: Legal & Regulatory\n",
      "\n",
      "🔍 Processing row 1034 | Ticker: PCH, Year: 2025\n",
      "🔹 1 chunk(s) generated\n",
      "🧠 Invoking LLM on chunk 1/1...\n",
      "❌ Error at row 1034 (PCH): Error code: 429 - {'error': {'message': 'Rate limit reached for model `llama3-70b-8192` in organization `org_01jteba7n9ehjbkb6dypw1vck0` service tier `on_demand` on tokens per day (TPD): Limit 500000, Used 500048, Requested 1145. Please try again in 3m26.243199999s. Need more tokens? Upgrade to Dev Tier today at https://console.groq.com/settings/billing', 'type': 'tokens', 'code': 'rate_limit_exceeded'}}\n",
      "\n",
      "🔍 Processing row 1036 | Ticker: PCTY, Year: 2024\n",
      "🔹 1 chunk(s) generated\n",
      "🧠 Invoking LLM on chunk 1/1...\n",
      "❌ Error at row 1036 (PCTY): Error code: 429 - {'error': {'message': 'Rate limit reached for model `llama3-70b-8192` in organization `org_01jteba7n9ehjbkb6dypw1vck0` service tier `on_demand` on tokens per day (TPD): Limit 500000, Used 500048, Requested 1145. Please try again in 3m26.173199999s. Need more tokens? Upgrade to Dev Tier today at https://console.groq.com/settings/billing', 'type': 'tokens', 'code': 'rate_limit_exceeded'}}\n",
      "\n",
      "🔍 Processing row 1038 | Ticker: PEB, Year: 2025\n",
      "🔹 1 chunk(s) generated\n",
      "🧠 Invoking LLM on chunk 1/1...\n",
      "❌ Error at row 1038 (PEB): Error code: 429 - {'error': {'message': 'Rate limit reached for model `llama3-70b-8192` in organization `org_01jteba7n9ehjbkb6dypw1vck0` service tier `on_demand` on tokens per day (TPD): Limit 500000, Used 500047, Requested 1145. Please try again in 3m26.0292s. Need more tokens? Upgrade to Dev Tier today at https://console.groq.com/settings/billing', 'type': 'tokens', 'code': 'rate_limit_exceeded'}}\n",
      "\n",
      "🔍 Processing row 1039 | Ticker: PECO, Year: 2025\n"
     ]
    },
    {
     "name": "stderr",
     "output_type": "stream",
     "text": [
      " 70%|███████   | 683/970 [1:29:21<11:36,  2.43s/it]"
     ]
    },
    {
     "name": "stdout",
     "output_type": "stream",
     "text": [
      "🔹 1 chunk(s) generated\n",
      "🧠 Invoking LLM on chunk 1/1...\n",
      "❌ Error at row 1039 (PECO): Error code: 429 - {'error': {'message': 'Rate limit reached for model `llama3-70b-8192` in organization `org_01jteba7n9ehjbkb6dypw1vck0` service tier `on_demand` on tokens per day (TPD): Limit 500000, Used 500046, Requested 1145. Please try again in 3m25.8262s. Need more tokens? Upgrade to Dev Tier today at https://console.groq.com/settings/billing', 'type': 'tokens', 'code': 'rate_limit_exceeded'}}\n",
      "\n",
      "🔍 Processing row 1040 | Ticker: PEG, Year: 2025\n",
      "🔹 1 chunk(s) generated\n",
      "🧠 Invoking LLM on chunk 1/1...\n",
      "❌ Error at row 1040 (PEG): Error code: 429 - {'error': {'message': 'Rate limit reached for model `llama3-70b-8192` in organization `org_01jteba7n9ehjbkb6dypw1vck0` service tier `on_demand` on tokens per day (TPD): Limit 500000, Used 500045, Requested 1145. Please try again in 3m25.7642s. Need more tokens? Upgrade to Dev Tier today at https://console.groq.com/settings/billing', 'type': 'tokens', 'code': 'rate_limit_exceeded'}}\n",
      "\n",
      "🔍 Processing row 1041 | Ticker: PEGA, Year: 2025\n",
      "🔹 1 chunk(s) generated\n",
      "🧠 Invoking LLM on chunk 1/1...\n",
      "❌ Error at row 1041 (PEGA): Error code: 429 - {'error': {'message': 'Rate limit reached for model `llama3-70b-8192` in organization `org_01jteba7n9ehjbkb6dypw1vck0` service tier `on_demand` on tokens per day (TPD): Limit 500000, Used 500045, Requested 1145. Please try again in 3m25.6982s. Need more tokens? Upgrade to Dev Tier today at https://console.groq.com/settings/billing', 'type': 'tokens', 'code': 'rate_limit_exceeded'}}\n"
     ]
    },
    {
     "name": "stderr",
     "output_type": "stream",
     "text": [
      " 71%|███████   | 685/970 [1:29:21<08:09,  1.72s/it]"
     ]
    },
    {
     "name": "stdout",
     "output_type": "stream",
     "text": [
      "\n",
      "🔍 Processing row 1042 | Ticker: PEN, Year: 2025\n",
      "🔹 1 chunk(s) generated\n",
      "🧠 Invoking LLM on chunk 1/1...\n",
      "❌ Error at row 1042 (PEN): Error code: 429 - {'error': {'message': 'Rate limit reached for model `llama3-70b-8192` in organization `org_01jteba7n9ehjbkb6dypw1vck0` service tier `on_demand` on tokens per day (TPD): Limit 500000, Used 500045, Requested 1145. Please try again in 3m25.6392s. Need more tokens? Upgrade to Dev Tier today at https://console.groq.com/settings/billing', 'type': 'tokens', 'code': 'rate_limit_exceeded'}}\n",
      "\n",
      "🔍 Processing row 1043 | Ticker: PENN, Year: 2025\n",
      "🔹 1 chunk(s) generated\n",
      "🧠 Invoking LLM on chunk 1/1...\n",
      "❌ Error at row 1043 (PENN): Error code: 429 - {'error': {'message': 'Rate limit reached for model `llama3-70b-8192` in organization `org_01jteba7n9ehjbkb6dypw1vck0` service tier `on_demand` on tokens per day (TPD): Limit 500000, Used 500044, Requested 1145. Please try again in 3m25.5852s. Need more tokens? Upgrade to Dev Tier today at https://console.groq.com/settings/billing', 'type': 'tokens', 'code': 'rate_limit_exceeded'}}\n",
      "\n",
      "🔍 Processing row 1044 | Ticker: PEP, Year: 2025\n",
      "🔹 1 chunk(s) generated\n",
      "🧠 Invoking LLM on chunk 1/1...\n",
      "❌ Error at row 1044 (PEP): Error code: 429 - {'error': {'message': 'Rate limit reached for model `llama3-70b-8192` in organization `org_01jteba7n9ehjbkb6dypw1vck0` service tier `on_demand` on tokens per day (TPD): Limit 500000, Used 500041, Requested 1145. Please try again in 3m25.0982s. Need more tokens? Upgrade to Dev Tier today at https://console.groq.com/settings/billing', 'type': 'tokens', 'code': 'rate_limit_exceeded'}}\n",
      "\n",
      "🔍 Processing row 1045 | Ticker: PFE, Year: 2025\n",
      "🔹 1 chunk(s) generated\n",
      "🧠 Invoking LLM on chunk 1/1...\n"
     ]
    },
    {
     "name": "stderr",
     "output_type": "stream",
     "text": [
      " 71%|███████   | 687/970 [1:29:22<06:08,  1.30s/it]"
     ]
    },
    {
     "name": "stdout",
     "output_type": "stream",
     "text": [
      "❌ Error at row 1045 (PFE): Error code: 429 - {'error': {'message': 'Rate limit reached for model `llama3-70b-8192` in organization `org_01jteba7n9ehjbkb6dypw1vck0` service tier `on_demand` on tokens per day (TPD): Limit 500000, Used 500040, Requested 1145. Please try again in 3m24.9222s. Need more tokens? Upgrade to Dev Tier today at https://console.groq.com/settings/billing', 'type': 'tokens', 'code': 'rate_limit_exceeded'}}\n",
      "\n",
      "🔍 Processing row 1047 | Ticker: PFGC, Year: 2024\n",
      "🔹 1 chunk(s) generated\n",
      "🧠 Invoking LLM on chunk 1/1...\n",
      "❌ Error at row 1047 (PFGC): Error code: 429 - {'error': {'message': 'Rate limit reached for model `llama3-70b-8192` in organization `org_01jteba7n9ehjbkb6dypw1vck0` service tier `on_demand` on tokens per day (TPD): Limit 500000, Used 500040, Requested 1145. Please try again in 3m24.8572s. Need more tokens? Upgrade to Dev Tier today at https://console.groq.com/settings/billing', 'type': 'tokens', 'code': 'rate_limit_exceeded'}}\n",
      "\n",
      "🔍 Processing row 1048 | Ticker: PFS, Year: 2025\n",
      "🔹 1 chunk(s) generated\n",
      "🧠 Invoking LLM on chunk 1/1...\n"
     ]
    },
    {
     "name": "stderr",
     "output_type": "stream",
     "text": [
      " 71%|███████   | 689/970 [1:30:08<37:00,  7.90s/it]"
     ]
    },
    {
     "name": "stdout",
     "output_type": "stream",
     "text": [
      "✅ Completed row 1048 | Risk Score: 4, Narrative: Legal & Regulatory\n",
      "\n",
      "🔍 Processing row 1051 | Ticker: PGR, Year: 2025\n",
      "🔹 1 chunk(s) generated\n",
      "🧠 Invoking LLM on chunk 1/1...\n"
     ]
    },
    {
     "name": "stderr",
     "output_type": "stream",
     "text": [
      " 71%|███████   | 691/970 [1:30:09<24:28,  5.26s/it]"
     ]
    },
    {
     "name": "stdout",
     "output_type": "stream",
     "text": [
      "❌ Error at row 1051 (PGR): Error code: 429 - {'error': {'message': 'Rate limit reached for model `llama3-70b-8192` in organization `org_01jteba7n9ehjbkb6dypw1vck0` service tier `on_demand` on tokens per day (TPD): Limit 500000, Used 500041, Requested 1145. Please try again in 3m25.0614s. Need more tokens? Upgrade to Dev Tier today at https://console.groq.com/settings/billing', 'type': 'tokens', 'code': 'rate_limit_exceeded'}}\n",
      "\n",
      "🔍 Processing row 1052 | Ticker: PH, Year: 2024\n",
      "🔹 1 chunk(s) generated\n",
      "🧠 Invoking LLM on chunk 1/1...\n",
      "❌ Error at row 1052 (PH): Error code: 429 - {'error': {'message': 'Rate limit reached for model `llama3-70b-8192` in organization `org_01jteba7n9ehjbkb6dypw1vck0` service tier `on_demand` on tokens per day (TPD): Limit 500000, Used 500040, Requested 1145. Please try again in 3m24.903399999s. Need more tokens? Upgrade to Dev Tier today at https://console.groq.com/settings/billing', 'type': 'tokens', 'code': 'rate_limit_exceeded'}}\n",
      "\n",
      "🔍 Processing row 1054 | Ticker: PHM, Year: 2025\n"
     ]
    },
    {
     "name": "stderr",
     "output_type": "stream",
     "text": [
      " 71%|███████▏  | 692/970 [1:30:09<19:05,  4.12s/it]"
     ]
    },
    {
     "name": "stdout",
     "output_type": "stream",
     "text": [
      "🔹 1 chunk(s) generated\n",
      "🧠 Invoking LLM on chunk 1/1...\n",
      "❌ Error at row 1054 (PHM): Error code: 429 - {'error': {'message': 'Rate limit reached for model `llama3-70b-8192` in organization `org_01jteba7n9ehjbkb6dypw1vck0` service tier `on_demand` on tokens per day (TPD): Limit 500000, Used 500039, Requested 1145. Please try again in 3m24.7564s. Need more tokens? Upgrade to Dev Tier today at https://console.groq.com/settings/billing', 'type': 'tokens', 'code': 'rate_limit_exceeded'}}\n",
      "\n",
      "🔍 Processing row 1055 | Ticker: PI, Year: 2025\n",
      "🔹 1 chunk(s) generated\n",
      "🧠 Invoking LLM on chunk 1/1...\n",
      "❌ Error at row 1055 (PI): Error code: 429 - {'error': {'message': 'Rate limit reached for model `llama3-70b-8192` in organization `org_01jteba7n9ehjbkb6dypw1vck0` service tier `on_demand` on tokens per day (TPD): Limit 500000, Used 500039, Requested 1145. Please try again in 3m24.6834s. Need more tokens? Upgrade to Dev Tier today at https://console.groq.com/settings/billing', 'type': 'tokens', 'code': 'rate_limit_exceeded'}}\n",
      "\n",
      "🔍 Processing row 1056 | Ticker: PII, Year: 2025\n",
      "🔹 1 chunk(s) generated\n",
      "🧠 Invoking LLM on chunk 1/1...\n"
     ]
    },
    {
     "name": "stderr",
     "output_type": "stream",
     "text": [
      " 72%|███████▏  | 696/970 [1:30:09<07:34,  1.66s/it]"
     ]
    },
    {
     "name": "stdout",
     "output_type": "stream",
     "text": [
      "❌ Error at row 1056 (PII): Error code: 429 - {'error': {'message': 'Rate limit reached for model `llama3-70b-8192` in organization `org_01jteba7n9ehjbkb6dypw1vck0` service tier `on_demand` on tokens per day (TPD): Limit 500000, Used 500039, Requested 1145. Please try again in 3m24.606399999s. Need more tokens? Upgrade to Dev Tier today at https://console.groq.com/settings/billing', 'type': 'tokens', 'code': 'rate_limit_exceeded'}}\n",
      "\n",
      "🔍 Processing row 1057 | Ticker: PINC, Year: 2024\n",
      "🔹 1 chunk(s) generated\n",
      "🧠 Invoking LLM on chunk 1/1...\n",
      "❌ Error at row 1057 (PINC): Error code: 429 - {'error': {'message': 'Rate limit reached for model `llama3-70b-8192` in organization `org_01jteba7n9ehjbkb6dypw1vck0` service tier `on_demand` on tokens per day (TPD): Limit 500000, Used 500038, Requested 1145. Please try again in 3m24.5354s. Need more tokens? Upgrade to Dev Tier today at https://console.groq.com/settings/billing', 'type': 'tokens', 'code': 'rate_limit_exceeded'}}\n",
      "\n",
      "🔍 Processing row 1059 | Ticker: PJT, Year: 2025\n",
      "🔹 1 chunk(s) generated\n",
      "🧠 Invoking LLM on chunk 1/1...\n",
      "❌ Error at row 1059 (PJT): Error code: 429 - {'error': {'message': 'Rate limit reached for model `llama3-70b-8192` in organization `org_01jteba7n9ehjbkb6dypw1vck0` service tier `on_demand` on tokens per day (TPD): Limit 500000, Used 500038, Requested 1145. Please try again in 3m24.4704s. Need more tokens? Upgrade to Dev Tier today at https://console.groq.com/settings/billing', 'type': 'tokens', 'code': 'rate_limit_exceeded'}}\n",
      "\n",
      "🔍 Processing row 1060 | Ticker: PK, Year: 2025\n",
      "🔹 1 chunk(s) generated\n",
      "🧠 Invoking LLM on chunk 1/1...\n",
      "❌ Error at row 1060 (PK): Error code: 429 - {'error': {'message': 'Rate limit reached for model `llama3-70b-8192` in organization `org_01jteba7n9ehjbkb6dypw1vck0` service tier `on_demand` on tokens per day (TPD): Limit 500000, Used 500037, Requested 1145. Please try again in 3m24.4024s. Need more tokens? Upgrade to Dev Tier today at https://console.groq.com/settings/billing', 'type': 'tokens', 'code': 'rate_limit_exceeded'}}\n",
      "\n",
      "🔍 Processing row 1061 | Ticker: PKG, Year: 2025\n",
      "🔹 1 chunk(s) generated\n",
      "🧠 Invoking LLM on chunk 1/1...\n"
     ]
    },
    {
     "name": "stderr",
     "output_type": "stream",
     "text": [
      " 72%|███████▏  | 698/970 [1:30:09<05:05,  1.12s/it]"
     ]
    },
    {
     "name": "stdout",
     "output_type": "stream",
     "text": [
      "❌ Error at row 1061 (PKG): Error code: 429 - {'error': {'message': 'Rate limit reached for model `llama3-70b-8192` in organization `org_01jteba7n9ehjbkb6dypw1vck0` service tier `on_demand` on tokens per day (TPD): Limit 500000, Used 500037, Requested 1145. Please try again in 3m24.3144s. Need more tokens? Upgrade to Dev Tier today at https://console.groq.com/settings/billing', 'type': 'tokens', 'code': 'rate_limit_exceeded'}}\n",
      "\n",
      "🔍 Processing row 1062 | Ticker: PLAB, Year: 2024\n",
      "🔹 1 chunk(s) generated\n",
      "🧠 Invoking LLM on chunk 1/1...\n"
     ]
    },
    {
     "name": "stderr",
     "output_type": "stream",
     "text": [
      " 72%|███████▏  | 701/970 [1:31:04<33:21,  7.44s/it]"
     ]
    },
    {
     "name": "stdout",
     "output_type": "stream",
     "text": [
      "✅ Completed row 1062 | Risk Score: 4, Narrative: Legal & Regulatory\n",
      "\n",
      "🔍 Processing row 1063 | Ticker: PLAY, Year: 2025\n",
      "🔹 1 chunk(s) generated\n",
      "🧠 Invoking LLM on chunk 1/1...\n",
      "❌ Error at row 1063 (PLAY): Error code: 429 - {'error': {'message': 'Rate limit reached for model `llama3-70b-8192` in organization `org_01jteba7n9ehjbkb6dypw1vck0` service tier `on_demand` on tokens per day (TPD): Limit 500000, Used 500054, Requested 1145. Please try again in 3m27.273s. Need more tokens? Upgrade to Dev Tier today at https://console.groq.com/settings/billing', 'type': 'tokens', 'code': 'rate_limit_exceeded'}}\n",
      "\n",
      "🔍 Processing row 1064 | Ticker: PLD, Year: 2025\n",
      "🔹 1 chunk(s) generated\n",
      "🧠 Invoking LLM on chunk 1/1...\n",
      "❌ Error at row 1064 (PLD): Error code: 429 - {'error': {'message': 'Rate limit reached for model `llama3-70b-8192` in organization `org_01jteba7n9ehjbkb6dypw1vck0` service tier `on_demand` on tokens per day (TPD): Limit 500000, Used 500054, Requested 1145. Please try again in 3m27.205s. Need more tokens? Upgrade to Dev Tier today at https://console.groq.com/settings/billing', 'type': 'tokens', 'code': 'rate_limit_exceeded'}}\n",
      "\n",
      "🔍 Processing row 1065 | Ticker: PLMR, Year: 2025\n",
      "🔹 1 chunk(s) generated\n",
      "🧠 Invoking LLM on chunk 1/1...\n"
     ]
    },
    {
     "name": "stderr",
     "output_type": "stream",
     "text": [
      " 73%|███████▎  | 705/970 [1:31:04<14:51,  3.36s/it]"
     ]
    },
    {
     "name": "stdout",
     "output_type": "stream",
     "text": [
      "❌ Error at row 1065 (PLMR): Error code: 429 - {'error': {'message': 'Rate limit reached for model `llama3-70b-8192` in organization `org_01jteba7n9ehjbkb6dypw1vck0` service tier `on_demand` on tokens per day (TPD): Limit 500000, Used 500053, Requested 449. Please try again in 1m26.8612s. Need more tokens? Upgrade to Dev Tier today at https://console.groq.com/settings/billing', 'type': 'tokens', 'code': 'rate_limit_exceeded'}}\n",
      "\n",
      "🔍 Processing row 1066 | Ticker: PLNT, Year: 2025\n",
      "🔹 1 chunk(s) generated\n",
      "🧠 Invoking LLM on chunk 1/1...\n",
      "❌ Error at row 1066 (PLNT): Error code: 429 - {'error': {'message': 'Rate limit reached for model `llama3-70b-8192` in organization `org_01jteba7n9ehjbkb6dypw1vck0` service tier `on_demand` on tokens per day (TPD): Limit 500000, Used 500053, Requested 1145. Please try again in 3m27.060999999s. Need more tokens? Upgrade to Dev Tier today at https://console.groq.com/settings/billing', 'type': 'tokens', 'code': 'rate_limit_exceeded'}}\n",
      "\n",
      "🔍 Processing row 1067 | Ticker: PLTR, Year: 2025\n",
      "🔹 1 chunk(s) generated\n",
      "🧠 Invoking LLM on chunk 1/1...\n",
      "❌ Error at row 1067 (PLTR): Error code: 429 - {'error': {'message': 'Rate limit reached for model `llama3-70b-8192` in organization `org_01jteba7n9ehjbkb6dypw1vck0` service tier `on_demand` on tokens per day (TPD): Limit 500000, Used 500052, Requested 1145. Please try again in 3m26.976999999s. Need more tokens? Upgrade to Dev Tier today at https://console.groq.com/settings/billing', 'type': 'tokens', 'code': 'rate_limit_exceeded'}}\n",
      "\n",
      "🔍 Processing row 1068 | Ticker: PLUS, Year: 2025\n",
      "🔹 1 chunk(s) generated\n",
      "🧠 Invoking LLM on chunk 1/1...\n",
      "❌ Error at row 1068 (PLUS): Error code: 429 - {'error': {'message': 'Rate limit reached for model `llama3-70b-8192` in organization `org_01jteba7n9ehjbkb6dypw1vck0` service tier `on_demand` on tokens per day (TPD): Limit 500000, Used 500052, Requested 1145. Please try again in 3m26.906999999s. Need more tokens? Upgrade to Dev Tier today at https://console.groq.com/settings/billing', 'type': 'tokens', 'code': 'rate_limit_exceeded'}}\n"
     ]
    },
    {
     "name": "stderr",
     "output_type": "stream",
     "text": [
      " 73%|███████▎  | 707/970 [1:31:04<10:11,  2.32s/it]"
     ]
    },
    {
     "name": "stdout",
     "output_type": "stream",
     "text": [
      "\n",
      "🔍 Processing row 1070 | Ticker: PM, Year: 2025\n",
      "🔹 1 chunk(s) generated\n",
      "🧠 Invoking LLM on chunk 1/1...\n",
      "❌ Error at row 1070 (PM): Error code: 429 - {'error': {'message': 'Rate limit reached for model `llama3-70b-8192` in organization `org_01jteba7n9ehjbkb6dypw1vck0` service tier `on_demand` on tokens per day (TPD): Limit 500000, Used 500051, Requested 1145. Please try again in 3m26.837s. Need more tokens? Upgrade to Dev Tier today at https://console.groq.com/settings/billing', 'type': 'tokens', 'code': 'rate_limit_exceeded'}}\n",
      "\n",
      "🔍 Processing row 1072 | Ticker: PNC, Year: 2025\n",
      "🔹 1 chunk(s) generated\n",
      "🧠 Invoking LLM on chunk 1/1...\n",
      "❌ Error at row 1072 (PNC): Error code: 429 - {'error': {'message': 'Rate limit reached for model `llama3-70b-8192` in organization `org_01jteba7n9ehjbkb6dypw1vck0` service tier `on_demand` on tokens per day (TPD): Limit 500000, Used 500051, Requested 1145. Please try again in 3m26.733999999s. Need more tokens? Upgrade to Dev Tier today at https://console.groq.com/settings/billing', 'type': 'tokens', 'code': 'rate_limit_exceeded'}}\n",
      "\n",
      "🔍 Processing row 1073 | Ticker: PNFP, Year: 2025\n",
      "🔹 1 chunk(s) generated\n",
      "🧠 Invoking LLM on chunk 1/1...\n"
     ]
    },
    {
     "name": "stderr",
     "output_type": "stream",
     "text": [
      " 73%|███████▎  | 709/970 [1:31:05<07:03,  1.62s/it]"
     ]
    },
    {
     "name": "stdout",
     "output_type": "stream",
     "text": [
      "❌ Error at row 1073 (PNFP): Error code: 429 - {'error': {'message': 'Rate limit reached for model `llama3-70b-8192` in organization `org_01jteba7n9ehjbkb6dypw1vck0` service tier `on_demand` on tokens per day (TPD): Limit 500000, Used 500050, Requested 1145. Please try again in 3m26.654s. Need more tokens? Upgrade to Dev Tier today at https://console.groq.com/settings/billing', 'type': 'tokens', 'code': 'rate_limit_exceeded'}}\n",
      "\n",
      "🔍 Processing row 1076 | Ticker: PODD, Year: 2025\n",
      "🔹 1 chunk(s) generated\n",
      "🧠 Invoking LLM on chunk 1/1...\n",
      "❌ Error at row 1076 (PODD): Error code: 429 - {'error': {'message': 'Rate limit reached for model `llama3-70b-8192` in organization `org_01jteba7n9ehjbkb6dypw1vck0` service tier `on_demand` on tokens per day (TPD): Limit 500000, Used 500050, Requested 1145. Please try again in 3m26.569999999s. Need more tokens? Upgrade to Dev Tier today at https://console.groq.com/settings/billing', 'type': 'tokens', 'code': 'rate_limit_exceeded'}}\n",
      "\n",
      "🔍 Processing row 1080 | Ticker: POWI, Year: 2025\n",
      "🔹 1 chunk(s) generated\n",
      "🧠 Invoking LLM on chunk 1/1...\n",
      "❌ Error at row 1080 (POWI): Error code: 429 - {'error': {'message': 'Rate limit reached for model `llama3-70b-8192` in organization `org_01jteba7n9ehjbkb6dypw1vck0` service tier `on_demand` on tokens per day (TPD): Limit 500000, Used 500049, Requested 1145. Please try again in 3m26.384s. Need more tokens? Upgrade to Dev Tier today at https://console.groq.com/settings/billing', 'type': 'tokens', 'code': 'rate_limit_exceeded'}}\n",
      "\n",
      "🔍 Processing row 1082 | Ticker: PPBI, Year: 2025\n",
      "🔹 1 chunk(s) generated\n",
      "🧠 Invoking LLM on chunk 1/1...\n"
     ]
    },
    {
     "name": "stderr",
     "output_type": "stream",
     "text": [
      " 74%|███████▎  | 713/970 [1:31:56<27:09,  6.34s/it]"
     ]
    },
    {
     "name": "stdout",
     "output_type": "stream",
     "text": [
      "✅ Completed row 1082 | Risk Score: 4, Narrative: Legal & Regulatory\n",
      "\n",
      "🔍 Processing row 1083 | Ticker: PPC, Year: 2025\n",
      "🔹 1 chunk(s) generated\n",
      "🧠 Invoking LLM on chunk 1/1...\n",
      "❌ Error at row 1083 (PPC): Error code: 429 - {'error': {'message': 'Rate limit reached for model `llama3-70b-8192` in organization `org_01jteba7n9ehjbkb6dypw1vck0` service tier `on_demand` on tokens per day (TPD): Limit 500000, Used 500041, Requested 1145. Please try again in 3m25.0486s. Need more tokens? Upgrade to Dev Tier today at https://console.groq.com/settings/billing', 'type': 'tokens', 'code': 'rate_limit_exceeded'}}\n",
      "\n",
      "🔍 Processing row 1085 | Ticker: PPL, Year: 2025\n",
      "🔹 1 chunk(s) generated\n",
      "🧠 Invoking LLM on chunk 1/1...\n",
      "❌ Error at row 1085 (PPL): Error code: 429 - {'error': {'message': 'Rate limit reached for model `llama3-70b-8192` in organization `org_01jteba7n9ehjbkb6dypw1vck0` service tier `on_demand` on tokens per day (TPD): Limit 500000, Used 500041, Requested 1145. Please try again in 3m24.9956s. Need more tokens? Upgrade to Dev Tier today at https://console.groq.com/settings/billing', 'type': 'tokens', 'code': 'rate_limit_exceeded'}}\n",
      "\n",
      "🔍 Processing row 1086 | Ticker: PR, Year: 2025\n",
      "🔹 1 chunk(s) generated\n",
      "🧠 Invoking LLM on chunk 1/1...\n",
      "❌ Error at row 1086 (PR): Error code: 429 - {'error': {'message': 'Rate limit reached for model `llama3-70b-8192` in organization `org_01jteba7n9ehjbkb6dypw1vck0` service tier `on_demand` on tokens per day (TPD): Limit 500000, Used 500040, Requested 1145. Please try again in 3m24.938599999s. Need more tokens? Upgrade to Dev Tier today at https://console.groq.com/settings/billing', 'type': 'tokens', 'code': 'rate_limit_exceeded'}}\n",
      "\n",
      "🔍 Processing row 1088 | Ticker: PRAA, Year: 2025\n",
      "🔹 1 chunk(s) generated\n",
      "🧠 Invoking LLM on chunk 1/1...\n"
     ]
    },
    {
     "name": "stderr",
     "output_type": "stream",
     "text": [
      " 74%|███████▍  | 717/970 [1:31:57<13:06,  3.11s/it]"
     ]
    },
    {
     "name": "stdout",
     "output_type": "stream",
     "text": [
      "❌ Error at row 1088 (PRAA): Error code: 429 - {'error': {'message': 'Rate limit reached for model `llama3-70b-8192` in organization `org_01jteba7n9ehjbkb6dypw1vck0` service tier `on_demand` on tokens per day (TPD): Limit 500000, Used 500040, Requested 1145. Please try again in 3m24.8816s. Need more tokens? Upgrade to Dev Tier today at https://console.groq.com/settings/billing', 'type': 'tokens', 'code': 'rate_limit_exceeded'}}\n",
      "\n",
      "🔍 Processing row 1090 | Ticker: PRG, Year: 2025\n",
      "🔹 1 chunk(s) generated\n",
      "🧠 Invoking LLM on chunk 1/1...\n",
      "❌ Error at row 1090 (PRG): Error code: 429 - {'error': {'message': 'Rate limit reached for model `llama3-70b-8192` in organization `org_01jteba7n9ehjbkb6dypw1vck0` service tier `on_demand` on tokens per day (TPD): Limit 500000, Used 500040, Requested 1145. Please try again in 3m24.8026s. Need more tokens? Upgrade to Dev Tier today at https://console.groq.com/settings/billing', 'type': 'tokens', 'code': 'rate_limit_exceeded'}}\n",
      "\n",
      "🔍 Processing row 1091 | Ticker: PRGO, Year: 2025\n",
      "🔹 1 chunk(s) generated\n",
      "🧠 Invoking LLM on chunk 1/1...\n",
      "❌ Error at row 1091 (PRGO): Error code: 429 - {'error': {'message': 'Rate limit reached for model `llama3-70b-8192` in organization `org_01jteba7n9ehjbkb6dypw1vck0` service tier `on_demand` on tokens per day (TPD): Limit 500000, Used 500039, Requested 1145. Please try again in 3m24.7406s. Need more tokens? Upgrade to Dev Tier today at https://console.groq.com/settings/billing', 'type': 'tokens', 'code': 'rate_limit_exceeded'}}\n",
      "\n",
      "🔍 Processing row 1093 | Ticker: PRI, Year: 2025\n",
      "🔹 1 chunk(s) generated\n",
      "🧠 Invoking LLM on chunk 1/1...\n",
      "❌ Error at row 1093 (PRI): Error code: 429 - {'error': {'message': 'Rate limit reached for model `llama3-70b-8192` in organization `org_01jteba7n9ehjbkb6dypw1vck0` service tier `on_demand` on tokens per day (TPD): Limit 500000, Used 500039, Requested 1145. Please try again in 3m24.676599999s. Need more tokens? Upgrade to Dev Tier today at https://console.groq.com/settings/billing', 'type': 'tokens', 'code': 'rate_limit_exceeded'}}\n",
      "\n",
      "🔍 Processing row 1094 | Ticker: PRK, Year: 2025\n",
      "🔹 1 chunk(s) generated\n",
      "🧠 Invoking LLM on chunk 1/1...\n"
     ]
    },
    {
     "name": "stderr",
     "output_type": "stream",
     "text": [
      " 74%|███████▍  | 721/970 [1:31:57<06:27,  1.55s/it]"
     ]
    },
    {
     "name": "stdout",
     "output_type": "stream",
     "text": [
      "❌ Error at row 1094 (PRK): Error code: 429 - {'error': {'message': 'Rate limit reached for model `llama3-70b-8192` in organization `org_01jteba7n9ehjbkb6dypw1vck0` service tier `on_demand` on tokens per day (TPD): Limit 500000, Used 500039, Requested 1145. Please try again in 3m24.6026s. Need more tokens? Upgrade to Dev Tier today at https://console.groq.com/settings/billing', 'type': 'tokens', 'code': 'rate_limit_exceeded'}}\n",
      "\n",
      "🔍 Processing row 1095 | Ticker: PRLB, Year: 2025\n",
      "🔹 1 chunk(s) generated\n",
      "🧠 Invoking LLM on chunk 1/1...\n",
      "❌ Error at row 1095 (PRLB): Error code: 429 - {'error': {'message': 'Rate limit reached for model `llama3-70b-8192` in organization `org_01jteba7n9ehjbkb6dypw1vck0` service tier `on_demand` on tokens per day (TPD): Limit 500000, Used 500038, Requested 1145. Please try again in 3m24.5266s. Need more tokens? Upgrade to Dev Tier today at https://console.groq.com/settings/billing', 'type': 'tokens', 'code': 'rate_limit_exceeded'}}\n",
      "\n",
      "🔍 Processing row 1097 | Ticker: PRU, Year: 2025\n",
      "🔹 1 chunk(s) generated\n",
      "🧠 Invoking LLM on chunk 1/1...\n",
      "❌ Error at row 1097 (PRU): Error code: 429 - {'error': {'message': 'Rate limit reached for model `llama3-70b-8192` in organization `org_01jteba7n9ehjbkb6dypw1vck0` service tier `on_demand` on tokens per day (TPD): Limit 500000, Used 500038, Requested 1145. Please try again in 3m24.4516s. Need more tokens? Upgrade to Dev Tier today at https://console.groq.com/settings/billing', 'type': 'tokens', 'code': 'rate_limit_exceeded'}}\n",
      "\n",
      "🔍 Processing row 1098 | Ticker: PRVA, Year: 2025\n",
      "🔹 1 chunk(s) generated\n",
      "🧠 Invoking LLM on chunk 1/1...\n"
     ]
    },
    {
     "name": "stderr",
     "output_type": "stream",
     "text": [
      " 75%|███████▍  | 725/970 [1:31:57<03:14,  1.26it/s]"
     ]
    },
    {
     "name": "stdout",
     "output_type": "stream",
     "text": [
      "❌ Error at row 1098 (PRVA): Error code: 429 - {'error': {'message': 'Rate limit reached for model `llama3-70b-8192` in organization `org_01jteba7n9ehjbkb6dypw1vck0` service tier `on_demand` on tokens per day (TPD): Limit 500000, Used 500037, Requested 1145. Please try again in 3m24.3716s. Need more tokens? Upgrade to Dev Tier today at https://console.groq.com/settings/billing', 'type': 'tokens', 'code': 'rate_limit_exceeded'}}\n",
      "\n",
      "🔍 Processing row 1100 | Ticker: PSMT, Year: 2024\n",
      "🔹 1 chunk(s) generated\n",
      "🧠 Invoking LLM on chunk 1/1...\n",
      "❌ Error at row 1100 (PSMT): Error code: 429 - {'error': {'message': 'Rate limit reached for model `llama3-70b-8192` in organization `org_01jteba7n9ehjbkb6dypw1vck0` service tier `on_demand` on tokens per day (TPD): Limit 500000, Used 500037, Requested 1145. Please try again in 3m24.3046s. Need more tokens? Upgrade to Dev Tier today at https://console.groq.com/settings/billing', 'type': 'tokens', 'code': 'rate_limit_exceeded'}}\n",
      "\n",
      "🔍 Processing row 1102 | Ticker: PSTG, Year: 2025\n",
      "🔹 1 chunk(s) generated\n",
      "🧠 Invoking LLM on chunk 1/1...\n",
      "❌ Error at row 1102 (PSTG): Error code: 429 - {'error': {'message': 'Rate limit reached for model `llama3-70b-8192` in organization `org_01jteba7n9ehjbkb6dypw1vck0` service tier `on_demand` on tokens per day (TPD): Limit 500000, Used 500036, Requested 1145. Please try again in 3m24.242599999s. Need more tokens? Upgrade to Dev Tier today at https://console.groq.com/settings/billing', 'type': 'tokens', 'code': 'rate_limit_exceeded'}}\n",
      "\n",
      "🔍 Processing row 1103 | Ticker: PSX, Year: 2025\n",
      "🔹 1 chunk(s) generated\n",
      "🧠 Invoking LLM on chunk 1/1...\n",
      "❌ Error at row 1103 (PSX): Error code: 429 - {'error': {'message': 'Rate limit reached for model `llama3-70b-8192` in organization `org_01jteba7n9ehjbkb6dypw1vck0` service tier `on_demand` on tokens per day (TPD): Limit 500000, Used 500036, Requested 1145. Please try again in 3m24.1866s. Need more tokens? Upgrade to Dev Tier today at https://console.groq.com/settings/billing', 'type': 'tokens', 'code': 'rate_limit_exceeded'}}\n",
      "\n",
      "🔍 Processing row 1105 | Ticker: PTEN, Year: 2025\n",
      "🔹 1 chunk(s) generated\n",
      "🧠 Invoking LLM on chunk 1/1...\n"
     ]
    },
    {
     "name": "stderr",
     "output_type": "stream",
     "text": [
      " 75%|███████▌  | 729/970 [1:31:58<01:41,  2.38it/s]"
     ]
    },
    {
     "name": "stdout",
     "output_type": "stream",
     "text": [
      "❌ Error at row 1105 (PTEN): Error code: 429 - {'error': {'message': 'Rate limit reached for model `llama3-70b-8192` in organization `org_01jteba7n9ehjbkb6dypw1vck0` service tier `on_demand` on tokens per day (TPD): Limit 500000, Used 500036, Requested 1145. Please try again in 3m24.1196s. Need more tokens? Upgrade to Dev Tier today at https://console.groq.com/settings/billing', 'type': 'tokens', 'code': 'rate_limit_exceeded'}}\n",
      "\n",
      "🔍 Processing row 1107 | Ticker: PUMP, Year: 2025\n",
      "🔹 1 chunk(s) generated\n",
      "🧠 Invoking LLM on chunk 1/1...\n",
      "❌ Error at row 1107 (PUMP): Error code: 429 - {'error': {'message': 'Rate limit reached for model `llama3-70b-8192` in organization `org_01jteba7n9ehjbkb6dypw1vck0` service tier `on_demand` on tokens per day (TPD): Limit 500000, Used 500035, Requested 1145. Please try again in 3m24.0606s. Need more tokens? Upgrade to Dev Tier today at https://console.groq.com/settings/billing', 'type': 'tokens', 'code': 'rate_limit_exceeded'}}\n",
      "\n",
      "🔍 Processing row 1108 | Ticker: PVH, Year: 2025\n",
      "🔹 1 chunk(s) generated\n",
      "🧠 Invoking LLM on chunk 1/1...\n",
      "❌ Error at row 1108 (PVH): Error code: 429 - {'error': {'message': 'Rate limit reached for model `llama3-70b-8192` in organization `org_01jteba7n9ehjbkb6dypw1vck0` service tier `on_demand` on tokens per day (TPD): Limit 500000, Used 500035, Requested 1145. Please try again in 3m23.9946s. Need more tokens? Upgrade to Dev Tier today at https://console.groq.com/settings/billing', 'type': 'tokens', 'code': 'rate_limit_exceeded'}}\n",
      "\n",
      "🔍 Processing row 1110 | Ticker: PYPL, Year: 2025\n",
      "🔹 1 chunk(s) generated\n",
      "🧠 Invoking LLM on chunk 1/1...\n",
      "❌ Error at row 1110 (PYPL): Error code: 429 - {'error': {'message': 'Rate limit reached for model `llama3-70b-8192` in organization `org_01jteba7n9ehjbkb6dypw1vck0` service tier `on_demand` on tokens per day (TPD): Limit 500000, Used 500035, Requested 1145. Please try again in 3m23.9406s. Need more tokens? Upgrade to Dev Tier today at https://console.groq.com/settings/billing', 'type': 'tokens', 'code': 'rate_limit_exceeded'}}\n",
      "\n",
      "🔍 Processing row 1111 | Ticker: PZZA, Year: 2025\n",
      "🔹 1 chunk(s) generated\n",
      "🧠 Invoking LLM on chunk 1/1...\n"
     ]
    },
    {
     "name": "stderr",
     "output_type": "stream",
     "text": [
      " 75%|███████▌  | 731/970 [1:31:58<01:20,  2.97it/s]"
     ]
    },
    {
     "name": "stdout",
     "output_type": "stream",
     "text": [
      "❌ Error at row 1111 (PZZA): Error code: 429 - {'error': {'message': 'Rate limit reached for model `llama3-70b-8192` in organization `org_01jteba7n9ehjbkb6dypw1vck0` service tier `on_demand` on tokens per day (TPD): Limit 500000, Used 500034, Requested 1145. Please try again in 3m23.8716s. Need more tokens? Upgrade to Dev Tier today at https://console.groq.com/settings/billing', 'type': 'tokens', 'code': 'rate_limit_exceeded'}}\n",
      "\n",
      "🔍 Processing row 1112 | Ticker: QCOM, Year: 2024\n",
      "🔹 1 chunk(s) generated\n",
      "🧠 Invoking LLM on chunk 1/1...\n",
      "❌ Error at row 1112 (QCOM): Error code: 429 - {'error': {'message': 'Rate limit reached for model `llama3-70b-8192` in organization `org_01jteba7n9ehjbkb6dypw1vck0` service tier `on_demand` on tokens per day (TPD): Limit 500000, Used 500033, Requested 1145. Please try again in 3m23.651599999s. Need more tokens? Upgrade to Dev Tier today at https://console.groq.com/settings/billing', 'type': 'tokens', 'code': 'rate_limit_exceeded'}}\n",
      "\n",
      "🔍 Processing row 1116 | Ticker: QRVO, Year: 2025\n",
      "🔹 1 chunk(s) generated\n",
      "🧠 Invoking LLM on chunk 1/1...\n",
      "❌ Error at row 1116 (QRVO): Error code: 429 - {'error': {'message': 'Rate limit reached for model `llama3-70b-8192` in organization `org_01jteba7n9ehjbkb6dypw1vck0` service tier `on_demand` on tokens per day (TPD): Limit 500000, Used 500033, Requested 1145. Please try again in 3m23.5986s. Need more tokens? Upgrade to Dev Tier today at https://console.groq.com/settings/billing', 'type': 'tokens', 'code': 'rate_limit_exceeded'}}\n",
      "\n",
      "🔍 Processing row 1117 | Ticker: R, Year: 2025\n"
     ]
    },
    {
     "name": "stderr",
     "output_type": "stream",
     "text": [
      " 76%|███████▌  | 735/970 [1:31:58<00:49,  4.75it/s]"
     ]
    },
    {
     "name": "stdout",
     "output_type": "stream",
     "text": [
      "🔹 1 chunk(s) generated\n",
      "🧠 Invoking LLM on chunk 1/1...\n",
      "❌ Error at row 1117 (R): Error code: 429 - {'error': {'message': 'Rate limit reached for model `llama3-70b-8192` in organization `org_01jteba7n9ehjbkb6dypw1vck0` service tier `on_demand` on tokens per day (TPD): Limit 500000, Used 500032, Requested 1145. Please try again in 3m23.4166s. Need more tokens? Upgrade to Dev Tier today at https://console.groq.com/settings/billing', 'type': 'tokens', 'code': 'rate_limit_exceeded'}}\n",
      "\n",
      "🔍 Processing row 1118 | Ticker: RAMP, Year: 2025\n",
      "🔹 1 chunk(s) generated\n",
      "🧠 Invoking LLM on chunk 1/1...\n",
      "❌ Error at row 1118 (RAMP): Error code: 429 - {'error': {'message': 'Rate limit reached for model `llama3-70b-8192` in organization `org_01jteba7n9ehjbkb6dypw1vck0` service tier `on_demand` on tokens per day (TPD): Limit 500000, Used 500031, Requested 1145. Please try again in 3m23.3446s. Need more tokens? Upgrade to Dev Tier today at https://console.groq.com/settings/billing', 'type': 'tokens', 'code': 'rate_limit_exceeded'}}\n",
      "\n",
      "🔍 Processing row 1119 | Ticker: RBA, Year: 2025\n",
      "🔹 1 chunk(s) generated\n",
      "🧠 Invoking LLM on chunk 1/1...\n",
      "❌ Error at row 1119 (RBA): Error code: 429 - {'error': {'message': 'Rate limit reached for model `llama3-70b-8192` in organization `org_01jteba7n9ehjbkb6dypw1vck0` service tier `on_demand` on tokens per day (TPD): Limit 500000, Used 500031, Requested 1145. Please try again in 3m23.2826s. Need more tokens? Upgrade to Dev Tier today at https://console.groq.com/settings/billing', 'type': 'tokens', 'code': 'rate_limit_exceeded'}}\n"
     ]
    },
    {
     "name": "stderr",
     "output_type": "stream",
     "text": [
      " 76%|███████▌  | 737/970 [1:31:58<00:38,  6.09it/s]"
     ]
    },
    {
     "name": "stdout",
     "output_type": "stream",
     "text": [
      "\n",
      "🔍 Processing row 1120 | Ticker: RBC, Year: 2025\n",
      "🔹 1 chunk(s) generated\n",
      "🧠 Invoking LLM on chunk 1/1...\n",
      "❌ Error at row 1120 (RBC): Error code: 429 - {'error': {'message': 'Rate limit reached for model `llama3-70b-8192` in organization `org_01jteba7n9ehjbkb6dypw1vck0` service tier `on_demand` on tokens per day (TPD): Limit 500000, Used 500031, Requested 1145. Please try again in 3m23.2176s. Need more tokens? Upgrade to Dev Tier today at https://console.groq.com/settings/billing', 'type': 'tokens', 'code': 'rate_limit_exceeded'}}\n",
      "\n",
      "🔍 Processing row 1121 | Ticker: RC, Year: 2025\n",
      "🔹 1 chunk(s) generated\n",
      "🧠 Invoking LLM on chunk 1/1...\n",
      "❌ Error at row 1121 (RC): Error code: 429 - {'error': {'message': 'Rate limit reached for model `llama3-70b-8192` in organization `org_01jteba7n9ehjbkb6dypw1vck0` service tier `on_demand` on tokens per day (TPD): Limit 500000, Used 500030, Requested 508. Please try again in 1m33.093s. Need more tokens? Upgrade to Dev Tier today at https://console.groq.com/settings/billing', 'type': 'tokens', 'code': 'rate_limit_exceeded'}}\n",
      "\n",
      "🔍 Processing row 1122 | Ticker: RCL, Year: 2025\n",
      "🔹 1 chunk(s) generated\n",
      "🧠 Invoking LLM on chunk 1/1...\n",
      "❌ Error at row 1122 (RCL): Error code: 429 - {'error': {'message': 'Rate limit reached for model `llama3-70b-8192` in organization `org_01jteba7n9ehjbkb6dypw1vck0` service tier `on_demand` on tokens per day (TPD): Limit 500000, Used 500030, Requested 1145. Please try again in 3m23.1036s. Need more tokens? Upgrade to Dev Tier today at https://console.groq.com/settings/billing', 'type': 'tokens', 'code': 'rate_limit_exceeded'}}\n",
      "\n",
      "🔍 Processing row 1123 | Ticker: RCUS, Year: 2025\n",
      "🔹 1 chunk(s) generated\n",
      "🧠 Invoking LLM on chunk 1/1...\n"
     ]
    },
    {
     "name": "stderr",
     "output_type": "stream",
     "text": [
      " 76%|███████▋  | 741/970 [1:31:59<00:26,  8.58it/s]"
     ]
    },
    {
     "name": "stdout",
     "output_type": "stream",
     "text": [
      "❌ Error at row 1123 (RCUS): Error code: 429 - {'error': {'message': 'Rate limit reached for model `llama3-70b-8192` in organization `org_01jteba7n9ehjbkb6dypw1vck0` service tier `on_demand` on tokens per day (TPD): Limit 500000, Used 500030, Requested 1145. Please try again in 3m23.051599999s. Need more tokens? Upgrade to Dev Tier today at https://console.groq.com/settings/billing', 'type': 'tokens', 'code': 'rate_limit_exceeded'}}\n",
      "\n",
      "🔍 Processing row 1124 | Ticker: RDN, Year: 2025\n",
      "🔹 1 chunk(s) generated\n",
      "🧠 Invoking LLM on chunk 1/1...\n",
      "❌ Error at row 1124 (RDN): Error code: 429 - {'error': {'message': 'Rate limit reached for model `llama3-70b-8192` in organization `org_01jteba7n9ehjbkb6dypw1vck0` service tier `on_demand` on tokens per day (TPD): Limit 500000, Used 500029, Requested 1145. Please try again in 3m22.9416s. Need more tokens? Upgrade to Dev Tier today at https://console.groq.com/settings/billing', 'type': 'tokens', 'code': 'rate_limit_exceeded'}}\n",
      "\n",
      "🔍 Processing row 1127 | Ticker: REGN, Year: 2025\n",
      "🔹 1 chunk(s) generated\n",
      "🧠 Invoking LLM on chunk 1/1...\n",
      "❌ Error at row 1127 (REGN): Error code: 429 - {'error': {'message': 'Rate limit reached for model `llama3-70b-8192` in organization `org_01jteba7n9ehjbkb6dypw1vck0` service tier `on_demand` on tokens per day (TPD): Limit 500000, Used 500029, Requested 1145. Please try again in 3m22.8886s. Need more tokens? Upgrade to Dev Tier today at https://console.groq.com/settings/billing', 'type': 'tokens', 'code': 'rate_limit_exceeded'}}\n",
      "\n",
      "🔍 Processing row 1128 | Ticker: RES, Year: 2025\n",
      "🔹 1 chunk(s) generated\n",
      "🧠 Invoking LLM on chunk 1/1...\n"
     ]
    },
    {
     "name": "stderr",
     "output_type": "stream",
     "text": [
      " 77%|███████▋  | 745/970 [1:31:59<00:20, 10.97it/s]"
     ]
    },
    {
     "name": "stdout",
     "output_type": "stream",
     "text": [
      "❌ Error at row 1128 (RES): Error code: 429 - {'error': {'message': 'Rate limit reached for model `llama3-70b-8192` in organization `org_01jteba7n9ehjbkb6dypw1vck0` service tier `on_demand` on tokens per day (TPD): Limit 500000, Used 500028, Requested 1145. Please try again in 3m22.8286s. Need more tokens? Upgrade to Dev Tier today at https://console.groq.com/settings/billing', 'type': 'tokens', 'code': 'rate_limit_exceeded'}}\n",
      "\n",
      "🔍 Processing row 1129 | Ticker: REX, Year: 2025\n",
      "🔹 1 chunk(s) generated\n",
      "🧠 Invoking LLM on chunk 1/1...\n",
      "❌ Error at row 1129 (REX): Error code: 429 - {'error': {'message': 'Rate limit reached for model `llama3-70b-8192` in organization `org_01jteba7n9ehjbkb6dypw1vck0` service tier `on_demand` on tokens per day (TPD): Limit 500000, Used 500028, Requested 1145. Please try again in 3m22.7636s. Need more tokens? Upgrade to Dev Tier today at https://console.groq.com/settings/billing', 'type': 'tokens', 'code': 'rate_limit_exceeded'}}\n",
      "\n",
      "🔍 Processing row 1130 | Ticker: REXR, Year: 2025\n",
      "🔹 1 chunk(s) generated\n",
      "🧠 Invoking LLM on chunk 1/1...\n",
      "❌ Error at row 1130 (REXR): Error code: 429 - {'error': {'message': 'Rate limit reached for model `llama3-70b-8192` in organization `org_01jteba7n9ehjbkb6dypw1vck0` service tier `on_demand` on tokens per day (TPD): Limit 500000, Used 500027, Requested 1145. Please try again in 3m22.6736s. Need more tokens? Upgrade to Dev Tier today at https://console.groq.com/settings/billing', 'type': 'tokens', 'code': 'rate_limit_exceeded'}}\n",
      "\n",
      "🔍 Processing row 1131 | Ticker: REZI, Year: 2025\n",
      "🔹 1 chunk(s) generated\n",
      "🧠 Invoking LLM on chunk 1/1...\n",
      "❌ Error at row 1131 (REZI): Error code: 429 - {'error': {'message': 'Rate limit reached for model `llama3-70b-8192` in organization `org_01jteba7n9ehjbkb6dypw1vck0` service tier `on_demand` on tokens per day (TPD): Limit 500000, Used 500027, Requested 1145. Please try again in 3m22.622599999s. Need more tokens? Upgrade to Dev Tier today at https://console.groq.com/settings/billing', 'type': 'tokens', 'code': 'rate_limit_exceeded'}}\n"
     ]
    },
    {
     "name": "stderr",
     "output_type": "stream",
     "text": [
      " 77%|███████▋  | 747/970 [1:31:59<00:19, 11.55it/s]"
     ]
    },
    {
     "name": "stdout",
     "output_type": "stream",
     "text": [
      "\n",
      "🔍 Processing row 1134 | Ticker: RGEN, Year: 2025\n",
      "🔹 1 chunk(s) generated\n",
      "🧠 Invoking LLM on chunk 1/1...\n",
      "❌ Error at row 1134 (RGEN): Error code: 429 - {'error': {'message': 'Rate limit reached for model `llama3-70b-8192` in organization `org_01jteba7n9ehjbkb6dypw1vck0` service tier `on_demand` on tokens per day (TPD): Limit 500000, Used 500027, Requested 1145. Please try again in 3m22.546599999s. Need more tokens? Upgrade to Dev Tier today at https://console.groq.com/settings/billing', 'type': 'tokens', 'code': 'rate_limit_exceeded'}}\n",
      "\n",
      "🔍 Processing row 1135 | Ticker: RGLD, Year: 2025\n",
      "🔹 1 chunk(s) generated\n",
      "🧠 Invoking LLM on chunk 1/1...\n",
      "❌ Error at row 1135 (RGLD): Error code: 429 - {'error': {'message': 'Rate limit reached for model `llama3-70b-8192` in organization `org_01jteba7n9ehjbkb6dypw1vck0` service tier `on_demand` on tokens per day (TPD): Limit 500000, Used 500026, Requested 1145. Please try again in 3m22.4756s. Need more tokens? Upgrade to Dev Tier today at https://console.groq.com/settings/billing', 'type': 'tokens', 'code': 'rate_limit_exceeded'}}\n",
      "\n",
      "🔍 Processing row 1139 | Ticker: RHP, Year: 2025\n"
     ]
    },
    {
     "name": "stderr",
     "output_type": "stream",
     "text": [
      " 77%|███████▋  | 749/970 [1:31:59<00:23,  9.49it/s]"
     ]
    },
    {
     "name": "stdout",
     "output_type": "stream",
     "text": [
      "🔹 1 chunk(s) generated\n",
      "🧠 Invoking LLM on chunk 1/1...\n",
      "❌ Error at row 1139 (RHP): Error code: 429 - {'error': {'message': 'Rate limit reached for model `llama3-70b-8192` in organization `org_01jteba7n9ehjbkb6dypw1vck0` service tier `on_demand` on tokens per day (TPD): Limit 500000, Used 500025, Requested 1145. Please try again in 3m22.230599999s. Need more tokens? Upgrade to Dev Tier today at https://console.groq.com/settings/billing', 'type': 'tokens', 'code': 'rate_limit_exceeded'}}\n",
      "\n",
      "🔍 Processing row 1144 | Ticker: RMD, Year: 2024\n",
      "🔹 1 chunk(s) generated\n",
      "🧠 Invoking LLM on chunk 1/1...\n",
      "❌ Error at row 1144 (RMD): Error code: 429 - {'error': {'message': 'Rate limit reached for model `llama3-70b-8192` in organization `org_01jteba7n9ehjbkb6dypw1vck0` service tier `on_demand` on tokens per day (TPD): Limit 500000, Used 500025, Requested 1145. Please try again in 3m22.1776s. Need more tokens? Upgrade to Dev Tier today at https://console.groq.com/settings/billing', 'type': 'tokens', 'code': 'rate_limit_exceeded'}}\n",
      "\n",
      "🔍 Processing row 1145 | Ticker: RNR, Year: 2025\n",
      "🔹 1 chunk(s) generated\n",
      "🧠 Invoking LLM on chunk 1/1...\n",
      "❌ Error at row 1145 (RNR): Error code: 429 - {'error': {'message': 'Rate limit reached for model `llama3-70b-8192` in organization `org_01jteba7n9ehjbkb6dypw1vck0` service tier `on_demand` on tokens per day (TPD): Limit 500000, Used 500024, Requested 1145. Please try again in 3m22.120599999s. Need more tokens? Upgrade to Dev Tier today at https://console.groq.com/settings/billing', 'type': 'tokens', 'code': 'rate_limit_exceeded'}}\n",
      "\n",
      "🔍 Processing row 1148 | Ticker: ROG, Year: 2025\n",
      "🔹 1 chunk(s) generated\n",
      "🧠 Invoking LLM on chunk 1/1...\n",
      "❌ Error at row 1148 (ROG): Error code: 429 - {'error': {'message': 'Rate limit reached for model `llama3-70b-8192` in organization `org_01jteba7n9ehjbkb6dypw1vck0` service tier `on_demand` on tokens per day (TPD): Limit 500000, Used 500024, Requested 1145. Please try again in 3m22.070599999s. Need more tokens? Upgrade to Dev Tier today at https://console.groq.com/settings/billing', 'type': 'tokens', 'code': 'rate_limit_exceeded'}}\n",
      "\n",
      "🔍 Processing row 1152 | Ticker: ROP, Year: 2025\n",
      "🔹 1 chunk(s) generated\n",
      "🧠 Invoking LLM on chunk 1/1...\n"
     ]
    },
    {
     "name": "stderr",
     "output_type": "stream",
     "text": [
      " 78%|███████▊  | 754/970 [1:32:00<00:16, 12.95it/s]"
     ]
    },
    {
     "name": "stdout",
     "output_type": "stream",
     "text": [
      "❌ Error at row 1152 (ROP): Error code: 429 - {'error': {'message': 'Rate limit reached for model `llama3-70b-8192` in organization `org_01jteba7n9ehjbkb6dypw1vck0` service tier `on_demand` on tokens per day (TPD): Limit 500000, Used 500024, Requested 1145. Please try again in 3m22.0156s. Need more tokens? Upgrade to Dev Tier today at https://console.groq.com/settings/billing', 'type': 'tokens', 'code': 'rate_limit_exceeded'}}\n",
      "\n",
      "🔍 Processing row 1153 | Ticker: ROST, Year: 2025\n",
      "🔹 1 chunk(s) generated\n",
      "🧠 Invoking LLM on chunk 1/1...\n",
      "❌ Error at row 1153 (ROST): Error code: 429 - {'error': {'message': 'Rate limit reached for model `llama3-70b-8192` in organization `org_01jteba7n9ehjbkb6dypw1vck0` service tier `on_demand` on tokens per day (TPD): Limit 500000, Used 500023, Requested 1145. Please try again in 3m21.9576s. Need more tokens? Upgrade to Dev Tier today at https://console.groq.com/settings/billing', 'type': 'tokens', 'code': 'rate_limit_exceeded'}}\n",
      "\n",
      "🔍 Processing row 1155 | Ticker: RRC, Year: 2025\n",
      "🔹 1 chunk(s) generated\n",
      "🧠 Invoking LLM on chunk 1/1...\n",
      "❌ Error at row 1155 (RRC): Error code: 429 - {'error': {'message': 'Rate limit reached for model `llama3-70b-8192` in organization `org_01jteba7n9ehjbkb6dypw1vck0` service tier `on_demand` on tokens per day (TPD): Limit 500000, Used 500023, Requested 1145. Please try again in 3m21.903599999s. Need more tokens? Upgrade to Dev Tier today at https://console.groq.com/settings/billing', 'type': 'tokens', 'code': 'rate_limit_exceeded'}}\n",
      "\n",
      "🔍 Processing row 1159 | Ticker: RTX, Year: 2025\n",
      "🔹 1 chunk(s) generated\n",
      "🧠 Invoking LLM on chunk 1/1...\n",
      "❌ Error at row 1159 (RTX): Error code: 429 - {'error': {'message': 'Rate limit reached for model `llama3-70b-8192` in organization `org_01jteba7n9ehjbkb6dypw1vck0` service tier `on_demand` on tokens per day (TPD): Limit 500000, Used 500023, Requested 1145. Please try again in 3m21.847599999s. Need more tokens? Upgrade to Dev Tier today at https://console.groq.com/settings/billing', 'type': 'tokens', 'code': 'rate_limit_exceeded'}}\n",
      "\n",
      "🔍 Processing row 1160 | Ticker: RUN, Year: 2025\n",
      "🔹 1 chunk(s) generated\n",
      "🧠 Invoking LLM on chunk 1/1...\n"
     ]
    },
    {
     "name": "stderr",
     "output_type": "stream",
     "text": [
      " 78%|███████▊  | 756/970 [1:32:00<00:15, 14.08it/s]"
     ]
    },
    {
     "name": "stdout",
     "output_type": "stream",
     "text": [
      "❌ Error at row 1160 (RUN): Error code: 429 - {'error': {'message': 'Rate limit reached for model `llama3-70b-8192` in organization `org_01jteba7n9ehjbkb6dypw1vck0` service tier `on_demand` on tokens per day (TPD): Limit 500000, Used 500022, Requested 1145. Please try again in 3m21.795599999s. Need more tokens? Upgrade to Dev Tier today at https://console.groq.com/settings/billing', 'type': 'tokens', 'code': 'rate_limit_exceeded'}}\n",
      "\n",
      "🔍 Processing row 1163 | Ticker: RWT, Year: 2025\n"
     ]
    },
    {
     "name": "stderr",
     "output_type": "stream",
     "text": [
      " 78%|███████▊  | 758/970 [1:32:00<00:24,  8.54it/s]"
     ]
    },
    {
     "name": "stdout",
     "output_type": "stream",
     "text": [
      "🔹 1 chunk(s) generated\n",
      "🧠 Invoking LLM on chunk 1/1...\n",
      "❌ Error at row 1163 (RWT): Error code: 429 - {'error': {'message': 'Rate limit reached for model `llama3-70b-8192` in organization `org_01jteba7n9ehjbkb6dypw1vck0` service tier `on_demand` on tokens per day (TPD): Limit 500000, Used 500020, Requested 1145. Please try again in 3m21.3766s. Need more tokens? Upgrade to Dev Tier today at https://console.groq.com/settings/billing', 'type': 'tokens', 'code': 'rate_limit_exceeded'}}\n",
      "\n",
      "🔍 Processing row 1164 | Ticker: RXO, Year: 2025\n",
      "🔹 1 chunk(s) generated\n",
      "🧠 Invoking LLM on chunk 1/1...\n",
      "❌ Error at row 1164 (RXO): Error code: 429 - {'error': {'message': 'Rate limit reached for model `llama3-70b-8192` in organization `org_01jteba7n9ehjbkb6dypw1vck0` service tier `on_demand` on tokens per day (TPD): Limit 500000, Used 500020, Requested 1145. Please try again in 3m21.323599999s. Need more tokens? Upgrade to Dev Tier today at https://console.groq.com/settings/billing', 'type': 'tokens', 'code': 'rate_limit_exceeded'}}\n",
      "\n",
      "🔍 Processing row 1165 | Ticker: RYAN, Year: 2025\n",
      "🔹 1 chunk(s) generated\n",
      "🧠 Invoking LLM on chunk 1/1...\n",
      "❌ Error at row 1165 (RYAN): Error code: 429 - {'error': {'message': 'Rate limit reached for model `llama3-70b-8192` in organization `org_01jteba7n9ehjbkb6dypw1vck0` service tier `on_demand` on tokens per day (TPD): Limit 500000, Used 500019, Requested 495. Please try again in 1m28.9476s. Need more tokens? Upgrade to Dev Tier today at https://console.groq.com/settings/billing', 'type': 'tokens', 'code': 'rate_limit_exceeded'}}\n",
      "\n",
      "🔍 Processing row 1167 | Ticker: SABR, Year: 2025\n",
      "🔹 1 chunk(s) generated\n",
      "🧠 Invoking LLM on chunk 1/1...\n"
     ]
    },
    {
     "name": "stderr",
     "output_type": "stream",
     "text": [
      " 79%|███████▊  | 762/970 [1:32:00<00:17, 11.61it/s]"
     ]
    },
    {
     "name": "stdout",
     "output_type": "stream",
     "text": [
      "❌ Error at row 1167 (SABR): Error code: 429 - {'error': {'message': 'Rate limit reached for model `llama3-70b-8192` in organization `org_01jteba7n9ehjbkb6dypw1vck0` service tier `on_demand` on tokens per day (TPD): Limit 500000, Used 500019, Requested 1145. Please try again in 3m21.2096s. Need more tokens? Upgrade to Dev Tier today at https://console.groq.com/settings/billing', 'type': 'tokens', 'code': 'rate_limit_exceeded'}}\n",
      "\n",
      "🔍 Processing row 1170 | Ticker: SAH, Year: 2025\n",
      "🔹 1 chunk(s) generated\n",
      "🧠 Invoking LLM on chunk 1/1...\n",
      "❌ Error at row 1170 (SAH): Error code: 429 - {'error': {'message': 'Rate limit reached for model `llama3-70b-8192` in organization `org_01jteba7n9ehjbkb6dypw1vck0` service tier `on_demand` on tokens per day (TPD): Limit 500000, Used 500019, Requested 1145. Please try again in 3m21.1596s. Need more tokens? Upgrade to Dev Tier today at https://console.groq.com/settings/billing', 'type': 'tokens', 'code': 'rate_limit_exceeded'}}\n",
      "\n",
      "🔍 Processing row 1171 | Ticker: SAIA, Year: 2025\n",
      "🔹 1 chunk(s) generated\n",
      "🧠 Invoking LLM on chunk 1/1...\n",
      "❌ Error at row 1171 (SAIA): Error code: 429 - {'error': {'message': 'Rate limit reached for model `llama3-70b-8192` in organization `org_01jteba7n9ehjbkb6dypw1vck0` service tier `on_demand` on tokens per day (TPD): Limit 500000, Used 500018, Requested 1145. Please try again in 3m21.104599999s. Need more tokens? Upgrade to Dev Tier today at https://console.groq.com/settings/billing', 'type': 'tokens', 'code': 'rate_limit_exceeded'}}\n",
      "\n",
      "🔍 Processing row 1174 | Ticker: SANM, Year: 2024\n",
      "🔹 1 chunk(s) generated\n",
      "🧠 Invoking LLM on chunk 1/1...\n",
      "❌ Error at row 1174 (SANM): Error code: 429 - {'error': {'message': 'Rate limit reached for model `llama3-70b-8192` in organization `org_01jteba7n9ehjbkb6dypw1vck0` service tier `on_demand` on tokens per day (TPD): Limit 500000, Used 500018, Requested 1145. Please try again in 3m21.0496s. Need more tokens? Upgrade to Dev Tier today at https://console.groq.com/settings/billing', 'type': 'tokens', 'code': 'rate_limit_exceeded'}}\n",
      "\n",
      "🔍 Processing row 1175 | Ticker: SATS, Year: 2025\n"
     ]
    },
    {
     "name": "stderr",
     "output_type": "stream",
     "text": [
      " 79%|███████▉  | 766/970 [1:32:01<00:19, 10.40it/s]"
     ]
    },
    {
     "name": "stdout",
     "output_type": "stream",
     "text": [
      "🔹 1 chunk(s) generated\n",
      "🧠 Invoking LLM on chunk 1/1...\n",
      "❌ Error at row 1175 (SATS): Error code: 429 - {'error': {'message': 'Rate limit reached for model `llama3-70b-8192` in organization `org_01jteba7n9ehjbkb6dypw1vck0` service tier `on_demand` on tokens per day (TPD): Limit 500000, Used 500016, Requested 1145. Please try again in 3m20.7366s. Need more tokens? Upgrade to Dev Tier today at https://console.groq.com/settings/billing', 'type': 'tokens', 'code': 'rate_limit_exceeded'}}\n",
      "\n",
      "🔍 Processing row 1180 | Ticker: SBSI, Year: 2025\n",
      "🔹 1 chunk(s) generated\n",
      "🧠 Invoking LLM on chunk 1/1...\n",
      "❌ Error at row 1180 (SBSI): Error code: 429 - {'error': {'message': 'Rate limit reached for model `llama3-70b-8192` in organization `org_01jteba7n9ehjbkb6dypw1vck0` service tier `on_demand` on tokens per day (TPD): Limit 500000, Used 500016, Requested 1145. Please try again in 3m20.6856s. Need more tokens? Upgrade to Dev Tier today at https://console.groq.com/settings/billing', 'type': 'tokens', 'code': 'rate_limit_exceeded'}}\n",
      "\n",
      "🔍 Processing row 1183 | Ticker: SCHW, Year: 2025\n",
      "🔹 1 chunk(s) generated\n",
      "🧠 Invoking LLM on chunk 1/1...\n",
      "❌ Error at row 1183 (SCHW): Error code: 429 - {'error': {'message': 'Rate limit reached for model `llama3-70b-8192` in organization `org_01jteba7n9ehjbkb6dypw1vck0` service tier `on_demand` on tokens per day (TPD): Limit 500000, Used 500016, Requested 436. Please try again in 1m18.1194s. Need more tokens? Upgrade to Dev Tier today at https://console.groq.com/settings/billing', 'type': 'tokens', 'code': 'rate_limit_exceeded'}}\n",
      "\n",
      "🔍 Processing row 1184 | Ticker: SCI, Year: 2025\n",
      "🔹 1 chunk(s) generated\n",
      "🧠 Invoking LLM on chunk 1/1...\n",
      "❌ Error at row 1184 (SCI): Error code: 429 - {'error': {'message': 'Rate limit reached for model `llama3-70b-8192` in organization `org_01jteba7n9ehjbkb6dypw1vck0` service tier `on_demand` on tokens per day (TPD): Limit 500000, Used 500015, Requested 1145. Please try again in 3m20.578599999s. Need more tokens? Upgrade to Dev Tier today at https://console.groq.com/settings/billing', 'type': 'tokens', 'code': 'rate_limit_exceeded'}}\n",
      "\n",
      "🔍 Processing row 1185 | Ticker: SCL, Year: 2025\n",
      "🔹 1 chunk(s) generated\n",
      "🧠 Invoking LLM on chunk 1/1...\n"
     ]
    },
    {
     "name": "stderr",
     "output_type": "stream",
     "text": [
      " 79%|███████▉  | 770/970 [1:32:01<00:16, 12.29it/s]"
     ]
    },
    {
     "name": "stdout",
     "output_type": "stream",
     "text": [
      "❌ Error at row 1185 (SCL): Error code: 429 - {'error': {'message': 'Rate limit reached for model `llama3-70b-8192` in organization `org_01jteba7n9ehjbkb6dypw1vck0` service tier `on_demand` on tokens per day (TPD): Limit 500000, Used 500015, Requested 1145. Please try again in 3m20.521599999s. Need more tokens? Upgrade to Dev Tier today at https://console.groq.com/settings/billing', 'type': 'tokens', 'code': 'rate_limit_exceeded'}}\n",
      "\n",
      "🔍 Processing row 1188 | Ticker: SDGR, Year: 2025\n",
      "🔹 1 chunk(s) generated\n",
      "🧠 Invoking LLM on chunk 1/1...\n",
      "❌ Error at row 1188 (SDGR): Error code: 429 - {'error': {'message': 'Rate limit reached for model `llama3-70b-8192` in organization `org_01jteba7n9ehjbkb6dypw1vck0` service tier `on_demand` on tokens per day (TPD): Limit 500000, Used 500015, Requested 1145. Please try again in 3m20.4616s. Need more tokens? Upgrade to Dev Tier today at https://console.groq.com/settings/billing', 'type': 'tokens', 'code': 'rate_limit_exceeded'}}\n",
      "\n",
      "🔍 Processing row 1189 | Ticker: SEDG, Year: 2025\n",
      "🔹 1 chunk(s) generated\n",
      "🧠 Invoking LLM on chunk 1/1...\n",
      "❌ Error at row 1189 (SEDG): Error code: 429 - {'error': {'message': 'Rate limit reached for model `llama3-70b-8192` in organization `org_01jteba7n9ehjbkb6dypw1vck0` service tier `on_demand` on tokens per day (TPD): Limit 500000, Used 500014, Requested 1145. Please try again in 3m20.373599999s. Need more tokens? Upgrade to Dev Tier today at https://console.groq.com/settings/billing', 'type': 'tokens', 'code': 'rate_limit_exceeded'}}\n",
      "\n",
      "🔍 Processing row 1190 | Ticker: SEE, Year: 2025\n",
      "🔹 1 chunk(s) generated\n",
      "🧠 Invoking LLM on chunk 1/1...\n",
      "❌ Error at row 1190 (SEE): Error code: 429 - {'error': {'message': 'Rate limit reached for model `llama3-70b-8192` in organization `org_01jteba7n9ehjbkb6dypw1vck0` service tier `on_demand` on tokens per day (TPD): Limit 500000, Used 500014, Requested 1145. Please try again in 3m20.3166s. Need more tokens? Upgrade to Dev Tier today at https://console.groq.com/settings/billing', 'type': 'tokens', 'code': 'rate_limit_exceeded'}}\n",
      "\n",
      "🔍 Processing row 1194 | Ticker: SFBS, Year: 2025\n",
      "🔹 1 chunk(s) generated\n",
      "🧠 Invoking LLM on chunk 1/1...\n"
     ]
    },
    {
     "name": "stderr",
     "output_type": "stream",
     "text": [
      " 80%|███████▉  | 774/970 [1:32:01<00:15, 12.90it/s]"
     ]
    },
    {
     "name": "stdout",
     "output_type": "stream",
     "text": [
      "❌ Error at row 1194 (SFBS): Error code: 429 - {'error': {'message': 'Rate limit reached for model `llama3-70b-8192` in organization `org_01jteba7n9ehjbkb6dypw1vck0` service tier `on_demand` on tokens per day (TPD): Limit 500000, Used 500013, Requested 1145. Please try again in 3m20.2616s. Need more tokens? Upgrade to Dev Tier today at https://console.groq.com/settings/billing', 'type': 'tokens', 'code': 'rate_limit_exceeded'}}\n",
      "\n",
      "🔍 Processing row 1195 | Ticker: SFM, Year: 2025\n",
      "🔹 1 chunk(s) generated\n",
      "🧠 Invoking LLM on chunk 1/1...\n",
      "❌ Error at row 1195 (SFM): Error code: 429 - {'error': {'message': 'Rate limit reached for model `llama3-70b-8192` in organization `org_01jteba7n9ehjbkb6dypw1vck0` service tier `on_demand` on tokens per day (TPD): Limit 500000, Used 500013, Requested 1145. Please try again in 3m20.200599999s. Need more tokens? Upgrade to Dev Tier today at https://console.groq.com/settings/billing', 'type': 'tokens', 'code': 'rate_limit_exceeded'}}\n",
      "\n",
      "🔍 Processing row 1196 | Ticker: SFNC, Year: 2025\n",
      "🔹 1 chunk(s) generated\n",
      "🧠 Invoking LLM on chunk 1/1...\n",
      "❌ Error at row 1196 (SFNC): Error code: 429 - {'error': {'message': 'Rate limit reached for model `llama3-70b-8192` in organization `org_01jteba7n9ehjbkb6dypw1vck0` service tier `on_demand` on tokens per day (TPD): Limit 500000, Used 500013, Requested 1145. Please try again in 3m20.1436s. Need more tokens? Upgrade to Dev Tier today at https://console.groq.com/settings/billing', 'type': 'tokens', 'code': 'rate_limit_exceeded'}}\n",
      "\n",
      "🔍 Processing row 1197 | Ticker: SGI, Year: 2025\n",
      "🔹 1 chunk(s) generated\n",
      "🧠 Invoking LLM on chunk 1/1...\n"
     ]
    },
    {
     "name": "stderr",
     "output_type": "stream",
     "text": [
      " 80%|████████  | 778/970 [1:32:02<00:15, 12.44it/s]"
     ]
    },
    {
     "name": "stdout",
     "output_type": "stream",
     "text": [
      "❌ Error at row 1197 (SGI): Error code: 429 - {'error': {'message': 'Rate limit reached for model `llama3-70b-8192` in organization `org_01jteba7n9ehjbkb6dypw1vck0` service tier `on_demand` on tokens per day (TPD): Limit 500000, Used 500012, Requested 1145. Please try again in 3m19.9886s. Need more tokens? Upgrade to Dev Tier today at https://console.groq.com/settings/billing', 'type': 'tokens', 'code': 'rate_limit_exceeded'}}\n",
      "\n",
      "🔍 Processing row 1198 | Ticker: SHAK, Year: 2025\n",
      "🔹 1 chunk(s) generated\n",
      "🧠 Invoking LLM on chunk 1/1...\n",
      "❌ Error at row 1198 (SHAK): Error code: 429 - {'error': {'message': 'Rate limit reached for model `llama3-70b-8192` in organization `org_01jteba7n9ehjbkb6dypw1vck0` service tier `on_demand` on tokens per day (TPD): Limit 500000, Used 500011, Requested 1145. Please try again in 3m19.8746s. Need more tokens? Upgrade to Dev Tier today at https://console.groq.com/settings/billing', 'type': 'tokens', 'code': 'rate_limit_exceeded'}}\n",
      "\n",
      "🔍 Processing row 1199 | Ticker: SHC, Year: 2025\n",
      "🔹 1 chunk(s) generated\n",
      "🧠 Invoking LLM on chunk 1/1...\n",
      "❌ Error at row 1199 (SHC): Error code: 429 - {'error': {'message': 'Rate limit reached for model `llama3-70b-8192` in organization `org_01jteba7n9ehjbkb6dypw1vck0` service tier `on_demand` on tokens per day (TPD): Limit 500000, Used 500011, Requested 1145. Please try again in 3m19.802599999s. Need more tokens? Upgrade to Dev Tier today at https://console.groq.com/settings/billing', 'type': 'tokens', 'code': 'rate_limit_exceeded'}}\n",
      "\n",
      "🔍 Processing row 1200 | Ticker: SHEN, Year: 2025\n",
      "🔹 1 chunk(s) generated\n",
      "🧠 Invoking LLM on chunk 1/1...\n",
      "❌ Error at row 1200 (SHEN): Error code: 429 - {'error': {'message': 'Rate limit reached for model `llama3-70b-8192` in organization `org_01jteba7n9ehjbkb6dypw1vck0` service tier `on_demand` on tokens per day (TPD): Limit 500000, Used 500010, Requested 1145. Please try again in 3m19.741599999s. Need more tokens? Upgrade to Dev Tier today at https://console.groq.com/settings/billing', 'type': 'tokens', 'code': 'rate_limit_exceeded'}}\n"
     ]
    },
    {
     "name": "stderr",
     "output_type": "stream",
     "text": [
      " 80%|████████  | 780/970 [1:32:02<00:15, 12.05it/s]"
     ]
    },
    {
     "name": "stdout",
     "output_type": "stream",
     "text": [
      "\n",
      "🔍 Processing row 1202 | Ticker: SHOO, Year: 2025\n",
      "🔹 1 chunk(s) generated\n",
      "🧠 Invoking LLM on chunk 1/1...\n",
      "❌ Error at row 1202 (SHOO): Error code: 429 - {'error': {'message': 'Rate limit reached for model `llama3-70b-8192` in organization `org_01jteba7n9ehjbkb6dypw1vck0` service tier `on_demand` on tokens per day (TPD): Limit 500000, Used 500010, Requested 1145. Please try again in 3m19.6856s. Need more tokens? Upgrade to Dev Tier today at https://console.groq.com/settings/billing', 'type': 'tokens', 'code': 'rate_limit_exceeded'}}\n",
      "\n",
      "🔍 Processing row 1203 | Ticker: SHW, Year: 2025\n",
      "🔹 1 chunk(s) generated\n",
      "🧠 Invoking LLM on chunk 1/1...\n",
      "❌ Error at row 1203 (SHW): Error code: 429 - {'error': {'message': 'Rate limit reached for model `llama3-70b-8192` in organization `org_01jteba7n9ehjbkb6dypw1vck0` service tier `on_demand` on tokens per day (TPD): Limit 500000, Used 500009, Requested 1145. Please try again in 3m19.5596s. Need more tokens? Upgrade to Dev Tier today at https://console.groq.com/settings/billing', 'type': 'tokens', 'code': 'rate_limit_exceeded'}}\n",
      "\n",
      "🔍 Processing row 1204 | Ticker: SIG, Year: 2025\n",
      "🔹 1 chunk(s) generated\n",
      "🧠 Invoking LLM on chunk 1/1...\n"
     ]
    },
    {
     "name": "stderr",
     "output_type": "stream",
     "text": [
      " 81%|████████  | 782/970 [1:32:02<00:14, 12.94it/s]"
     ]
    },
    {
     "name": "stdout",
     "output_type": "stream",
     "text": [
      "❌ Error at row 1204 (SIG): Error code: 429 - {'error': {'message': 'Rate limit reached for model `llama3-70b-8192` in organization `org_01jteba7n9ehjbkb6dypw1vck0` service tier `on_demand` on tokens per day (TPD): Limit 500000, Used 500009, Requested 1145. Please try again in 3m19.492599999s. Need more tokens? Upgrade to Dev Tier today at https://console.groq.com/settings/billing', 'type': 'tokens', 'code': 'rate_limit_exceeded'}}\n",
      "\n",
      "🔍 Processing row 1205 | Ticker: SIGI, Year: 2025\n",
      "🔹 1 chunk(s) generated\n",
      "🧠 Invoking LLM on chunk 1/1...\n",
      "❌ Error at row 1205 (SIGI): Error code: 429 - {'error': {'message': 'Rate limit reached for model `llama3-70b-8192` in organization `org_01jteba7n9ehjbkb6dypw1vck0` service tier `on_demand` on tokens per day (TPD): Limit 500000, Used 500009, Requested 1145. Please try again in 3m19.4286s. Need more tokens? Upgrade to Dev Tier today at https://console.groq.com/settings/billing', 'type': 'tokens', 'code': 'rate_limit_exceeded'}}\n",
      "\n",
      "🔍 Processing row 1206 | Ticker: SITC, Year: 2025\n"
     ]
    },
    {
     "name": "stderr",
     "output_type": "stream",
     "text": [
      " 81%|████████  | 784/970 [1:32:02<00:20,  9.09it/s]"
     ]
    },
    {
     "name": "stdout",
     "output_type": "stream",
     "text": [
      "🔹 1 chunk(s) generated\n",
      "🧠 Invoking LLM on chunk 1/1...\n",
      "❌ Error at row 1206 (SITC): Error code: 429 - {'error': {'message': 'Rate limit reached for model `llama3-70b-8192` in organization `org_01jteba7n9ehjbkb6dypw1vck0` service tier `on_demand` on tokens per day (TPD): Limit 500000, Used 500007, Requested 1145. Please try again in 3m19.109599999s. Need more tokens? Upgrade to Dev Tier today at https://console.groq.com/settings/billing', 'type': 'tokens', 'code': 'rate_limit_exceeded'}}\n",
      "\n",
      "🔍 Processing row 1207 | Ticker: SITM, Year: 2025\n",
      "🔹 1 chunk(s) generated\n",
      "🧠 Invoking LLM on chunk 1/1...\n",
      "❌ Error at row 1207 (SITM): Error code: 429 - {'error': {'message': 'Rate limit reached for model `llama3-70b-8192` in organization `org_01jteba7n9ehjbkb6dypw1vck0` service tier `on_demand` on tokens per day (TPD): Limit 500000, Used 500006, Requested 1145. Please try again in 3m19.0566s. Need more tokens? Upgrade to Dev Tier today at https://console.groq.com/settings/billing', 'type': 'tokens', 'code': 'rate_limit_exceeded'}}\n",
      "\n",
      "🔍 Processing row 1209 | Ticker: SKT, Year: 2025\n",
      "🔹 1 chunk(s) generated\n",
      "🧠 Invoking LLM on chunk 1/1...\n",
      "❌ Error at row 1209 (SKT): Error code: 429 - {'error': {'message': 'Rate limit reached for model `llama3-70b-8192` in organization `org_01jteba7n9ehjbkb6dypw1vck0` service tier `on_demand` on tokens per day (TPD): Limit 500000, Used 500006, Requested 361. Please try again in 1m3.5294s. Need more tokens? Upgrade to Dev Tier today at https://console.groq.com/settings/billing', 'type': 'tokens', 'code': 'rate_limit_exceeded'}}\n",
      "\n",
      "🔍 Processing row 1211 | Ticker: SKY, Year: 2025\n"
     ]
    },
    {
     "name": "stderr",
     "output_type": "stream",
     "text": [
      " 81%|████████  | 786/970 [1:32:03<00:22,  8.28it/s]"
     ]
    },
    {
     "name": "stdout",
     "output_type": "stream",
     "text": [
      "🔹 1 chunk(s) generated\n",
      "🧠 Invoking LLM on chunk 1/1...\n",
      "❌ Error at row 1211 (SKY): Error code: 429 - {'error': {'message': 'Rate limit reached for model `llama3-70b-8192` in organization `org_01jteba7n9ehjbkb6dypw1vck0` service tier `on_demand` on tokens per day (TPD): Limit 500000, Used 500005, Requested 1145. Please try again in 3m18.769599999s. Need more tokens? Upgrade to Dev Tier today at https://console.groq.com/settings/billing', 'type': 'tokens', 'code': 'rate_limit_exceeded'}}\n",
      "\n",
      "🔍 Processing row 1212 | Ticker: SKYW, Year: 2025\n",
      "🔹 1 chunk(s) generated\n",
      "🧠 Invoking LLM on chunk 1/1...\n",
      "❌ Error at row 1212 (SKYW): Error code: 429 - {'error': {'message': 'Rate limit reached for model `llama3-70b-8192` in organization `org_01jteba7n9ehjbkb6dypw1vck0` service tier `on_demand` on tokens per day (TPD): Limit 500000, Used 500004, Requested 1145. Please try again in 3m18.7036s. Need more tokens? Upgrade to Dev Tier today at https://console.groq.com/settings/billing', 'type': 'tokens', 'code': 'rate_limit_exceeded'}}\n",
      "\n",
      "🔍 Processing row 1214 | Ticker: SLB, Year: 2025\n"
     ]
    },
    {
     "name": "stderr",
     "output_type": "stream",
     "text": [
      " 81%|████████  | 788/970 [1:32:03<00:23,  7.64it/s]"
     ]
    },
    {
     "name": "stdout",
     "output_type": "stream",
     "text": [
      "🔹 1 chunk(s) generated\n",
      "🧠 Invoking LLM on chunk 1/1...\n",
      "❌ Error at row 1214 (SLB): Error code: 429 - {'error': {'message': 'Rate limit reached for model `llama3-70b-8192` in organization `org_01jteba7n9ehjbkb6dypw1vck0` service tier `on_demand` on tokens per day (TPD): Limit 500000, Used 500003, Requested 1145. Please try again in 3m18.461599999s. Need more tokens? Upgrade to Dev Tier today at https://console.groq.com/settings/billing', 'type': 'tokens', 'code': 'rate_limit_exceeded'}}\n",
      "\n",
      "🔍 Processing row 1215 | Ticker: SLG, Year: 2025\n",
      "🔹 1 chunk(s) generated\n",
      "🧠 Invoking LLM on chunk 1/1...\n",
      "❌ Error at row 1215 (SLG): Error code: 429 - {'error': {'message': 'Rate limit reached for model `llama3-70b-8192` in organization `org_01jteba7n9ehjbkb6dypw1vck0` service tier `on_demand` on tokens per day (TPD): Limit 500000, Used 500003, Requested 1145. Please try again in 3m18.3766s. Need more tokens? Upgrade to Dev Tier today at https://console.groq.com/settings/billing', 'type': 'tokens', 'code': 'rate_limit_exceeded'}}\n",
      "\n",
      "🔍 Processing row 1217 | Ticker: SLM, Year: 2025\n",
      "🔹 1 chunk(s) generated\n",
      "🧠 Invoking LLM on chunk 1/1...\n",
      "❌ Error at row 1217 (SLM): Error code: 429 - {'error': {'message': 'Rate limit reached for model `llama3-70b-8192` in organization `org_01jteba7n9ehjbkb6dypw1vck0` service tier `on_demand` on tokens per day (TPD): Limit 500000, Used 500002, Requested 1145. Please try again in 3m18.3216s. Need more tokens? Upgrade to Dev Tier today at https://console.groq.com/settings/billing', 'type': 'tokens', 'code': 'rate_limit_exceeded'}}\n"
     ]
    },
    {
     "name": "stderr",
     "output_type": "stream",
     "text": [
      " 82%|████████▏ | 792/970 [1:32:03<00:17, 10.33it/s]"
     ]
    },
    {
     "name": "stdout",
     "output_type": "stream",
     "text": [
      "\n",
      "🔍 Processing row 1218 | Ticker: SLP, Year: 2024\n",
      "🔹 1 chunk(s) generated\n",
      "🧠 Invoking LLM on chunk 1/1...\n",
      "❌ Error at row 1218 (SLP): Error code: 429 - {'error': {'message': 'Rate limit reached for model `llama3-70b-8192` in organization `org_01jteba7n9ehjbkb6dypw1vck0` service tier `on_demand` on tokens per day (TPD): Limit 500000, Used 500002, Requested 1145. Please try again in 3m18.2496s. Need more tokens? Upgrade to Dev Tier today at https://console.groq.com/settings/billing', 'type': 'tokens', 'code': 'rate_limit_exceeded'}}\n",
      "\n",
      "🔍 Processing row 1219 | Ticker: SLVM, Year: 2025\n",
      "🔹 1 chunk(s) generated\n",
      "🧠 Invoking LLM on chunk 1/1...\n",
      "❌ Error at row 1219 (SLVM): Error code: 429 - {'error': {'message': 'Rate limit reached for model `llama3-70b-8192` in organization `org_01jteba7n9ehjbkb6dypw1vck0` service tier `on_demand` on tokens per day (TPD): Limit 500000, Used 500001, Requested 1145. Please try again in 3m18.1976s. Need more tokens? Upgrade to Dev Tier today at https://console.groq.com/settings/billing', 'type': 'tokens', 'code': 'rate_limit_exceeded'}}\n",
      "\n",
      "🔍 Processing row 1220 | Ticker: SM, Year: 2025\n",
      "🔹 1 chunk(s) generated\n",
      "🧠 Invoking LLM on chunk 1/1...\n",
      "❌ Error at row 1220 (SM): Error code: 429 - {'error': {'message': 'Rate limit reached for model `llama3-70b-8192` in organization `org_01jteba7n9ehjbkb6dypw1vck0` service tier `on_demand` on tokens per day (TPD): Limit 500000, Used 500001, Requested 1145. Please try again in 3m18.1226s. Need more tokens? Upgrade to Dev Tier today at https://console.groq.com/settings/billing', 'type': 'tokens', 'code': 'rate_limit_exceeded'}}\n",
      "\n",
      "🔍 Processing row 1222 | Ticker: SMG, Year: 2024\n",
      "🔹 1 chunk(s) generated\n",
      "🧠 Invoking LLM on chunk 1/1...\n"
     ]
    },
    {
     "name": "stderr",
     "output_type": "stream",
     "text": [
      " 82%|████████▏ | 796/970 [1:32:04<00:13, 12.93it/s]"
     ]
    },
    {
     "name": "stdout",
     "output_type": "stream",
     "text": [
      "❌ Error at row 1222 (SMG): Error code: 429 - {'error': {'message': 'Rate limit reached for model `llama3-70b-8192` in organization `org_01jteba7n9ehjbkb6dypw1vck0` service tier `on_demand` on tokens per day (TPD): Limit 500000, Used 500001, Requested 1145. Please try again in 3m18.070599999s. Need more tokens? Upgrade to Dev Tier today at https://console.groq.com/settings/billing', 'type': 'tokens', 'code': 'rate_limit_exceeded'}}\n",
      "\n",
      "🔍 Processing row 1224 | Ticker: SMPL, Year: 2024\n",
      "🔹 1 chunk(s) generated\n",
      "🧠 Invoking LLM on chunk 1/1...\n",
      "❌ Error at row 1224 (SMPL): Error code: 429 - {'error': {'message': 'Rate limit reached for model `llama3-70b-8192` in organization `org_01jteba7n9ehjbkb6dypw1vck0` service tier `on_demand` on tokens per day (TPD): Limit 500000, Used 500000, Requested 1145. Please try again in 3m18.013599999s. Need more tokens? Upgrade to Dev Tier today at https://console.groq.com/settings/billing', 'type': 'tokens', 'code': 'rate_limit_exceeded'}}\n",
      "\n",
      "🔍 Processing row 1225 | Ticker: SMTC, Year: 2025\n",
      "🔹 1 chunk(s) generated\n",
      "🧠 Invoking LLM on chunk 1/1...\n",
      "❌ Error at row 1225 (SMTC): Error code: 429 - {'error': {'message': 'Rate limit reached for model `llama3-70b-8192` in organization `org_01jteba7n9ehjbkb6dypw1vck0` service tier `on_demand` on tokens per day (TPD): Limit 500000, Used 500000, Requested 1145. Please try again in 3m17.9536s. Need more tokens? Upgrade to Dev Tier today at https://console.groq.com/settings/billing', 'type': 'tokens', 'code': 'rate_limit_exceeded'}}\n",
      "\n",
      "🔍 Processing row 1226 | Ticker: SNA, Year: 2025\n"
     ]
    },
    {
     "name": "stderr",
     "output_type": "stream",
     "text": [
      " 82%|████████▏ | 798/970 [1:32:04<00:18,  9.31it/s]"
     ]
    },
    {
     "name": "stdout",
     "output_type": "stream",
     "text": [
      "🔹 1 chunk(s) generated\n",
      "🧠 Invoking LLM on chunk 1/1...\n",
      "❌ Error at row 1226 (SNA): Error code: 429 - {'error': {'message': 'Rate limit reached for model `llama3-70b-8192` in organization `org_01jteba7n9ehjbkb6dypw1vck0` service tier `on_demand` on tokens per day (TPD): Limit 500000, Used 499999, Requested 1145. Please try again in 3m17.6636s. Need more tokens? Upgrade to Dev Tier today at https://console.groq.com/settings/billing', 'type': 'tokens', 'code': 'rate_limit_exceeded'}}\n",
      "\n",
      "🔍 Processing row 1227 | Ticker: SNCY, Year: 2025\n",
      "🔹 1 chunk(s) generated\n",
      "🧠 Invoking LLM on chunk 1/1...\n",
      "❌ Error at row 1227 (SNCY): Error code: 429 - {'error': {'message': 'Rate limit reached for model `llama3-70b-8192` in organization `org_01jteba7n9ehjbkb6dypw1vck0` service tier `on_demand` on tokens per day (TPD): Limit 500000, Used 499999, Requested 1145. Please try again in 3m17.6066s. Need more tokens? Upgrade to Dev Tier today at https://console.groq.com/settings/billing', 'type': 'tokens', 'code': 'rate_limit_exceeded'}}\n",
      "\n",
      "🔍 Processing row 1228 | Ticker: SNDR, Year: 2025\n",
      "🔹 1 chunk(s) generated\n",
      "🧠 Invoking LLM on chunk 1/1...\n",
      "❌ Error at row 1228 (SNDR): Error code: 429 - {'error': {'message': 'Rate limit reached for model `llama3-70b-8192` in organization `org_01jteba7n9ehjbkb6dypw1vck0` service tier `on_demand` on tokens per day (TPD): Limit 500000, Used 499999, Requested 1145. Please try again in 3m17.534599999s. Need more tokens? Upgrade to Dev Tier today at https://console.groq.com/settings/billing', 'type': 'tokens', 'code': 'rate_limit_exceeded'}}\n",
      "\n",
      "🔍 Processing row 1231 | Ticker: SNV, Year: 2025\n",
      "🔹 1 chunk(s) generated\n",
      "🧠 Invoking LLM on chunk 1/1...\n"
     ]
    },
    {
     "name": "stderr",
     "output_type": "stream",
     "text": [
      " 83%|████████▎ | 802/970 [1:32:04<00:15, 10.66it/s]"
     ]
    },
    {
     "name": "stdout",
     "output_type": "stream",
     "text": [
      "❌ Error at row 1231 (SNV): Error code: 429 - {'error': {'message': 'Rate limit reached for model `llama3-70b-8192` in organization `org_01jteba7n9ehjbkb6dypw1vck0` service tier `on_demand` on tokens per day (TPD): Limit 500000, Used 499998, Requested 1145. Please try again in 3m17.465599999s. Need more tokens? Upgrade to Dev Tier today at https://console.groq.com/settings/billing', 'type': 'tokens', 'code': 'rate_limit_exceeded'}}\n",
      "\n",
      "🔍 Processing row 1232 | Ticker: SNX, Year: 2025\n",
      "🔹 1 chunk(s) generated\n",
      "🧠 Invoking LLM on chunk 1/1...\n",
      "❌ Error at row 1232 (SNX): Error code: 429 - {'error': {'message': 'Rate limit reached for model `llama3-70b-8192` in organization `org_01jteba7n9ehjbkb6dypw1vck0` service tier `on_demand` on tokens per day (TPD): Limit 500000, Used 499998, Requested 1145. Please try again in 3m17.3386s. Need more tokens? Upgrade to Dev Tier today at https://console.groq.com/settings/billing', 'type': 'tokens', 'code': 'rate_limit_exceeded'}}\n",
      "\n",
      "🔍 Processing row 1233 | Ticker: SO, Year: 2025\n",
      "🔹 1 chunk(s) generated\n",
      "🧠 Invoking LLM on chunk 1/1...\n",
      "❌ Error at row 1233 (SO): Error code: 429 - {'error': {'message': 'Rate limit reached for model `llama3-70b-8192` in organization `org_01jteba7n9ehjbkb6dypw1vck0` service tier `on_demand` on tokens per day (TPD): Limit 500000, Used 499997, Requested 1145. Please try again in 3m17.2866s. Need more tokens? Upgrade to Dev Tier today at https://console.groq.com/settings/billing', 'type': 'tokens', 'code': 'rate_limit_exceeded'}}\n",
      "\n",
      "🔍 Processing row 1234 | Ticker: SOLV, Year: 2025\n",
      "🔹 1 chunk(s) generated\n",
      "🧠 Invoking LLM on chunk 1/1...\n"
     ]
    },
    {
     "name": "stderr",
     "output_type": "stream",
     "text": [
      " 83%|████████▎ | 804/970 [1:32:04<00:18,  9.20it/s]"
     ]
    },
    {
     "name": "stdout",
     "output_type": "stream",
     "text": [
      "❌ Error at row 1234 (SOLV): Error code: 429 - {'error': {'message': 'Rate limit reached for model `llama3-70b-8192` in organization `org_01jteba7n9ehjbkb6dypw1vck0` service tier `on_demand` on tokens per day (TPD): Limit 500000, Used 499997, Requested 375. Please try again in 1m4.1746s. Need more tokens? Upgrade to Dev Tier today at https://console.groq.com/settings/billing', 'type': 'tokens', 'code': 'rate_limit_exceeded'}}\n",
      "\n",
      "🔍 Processing row 1235 | Ticker: SON, Year: 2025\n",
      "🔹 1 chunk(s) generated\n",
      "🧠 Invoking LLM on chunk 1/1...\n",
      "❌ Error at row 1235 (SON): Error code: 429 - {'error': {'message': 'Rate limit reached for model `llama3-70b-8192` in organization `org_01jteba7n9ehjbkb6dypw1vck0` service tier `on_demand` on tokens per day (TPD): Limit 500000, Used 499996, Requested 1145. Please try again in 3m17.0016s. Need more tokens? Upgrade to Dev Tier today at https://console.groq.com/settings/billing', 'type': 'tokens', 'code': 'rate_limit_exceeded'}}\n",
      "\n",
      "🔍 Processing row 1236 | Ticker: SONO, Year: 2024\n",
      "🔹 1 chunk(s) generated\n",
      "🧠 Invoking LLM on chunk 1/1...\n",
      "❌ Error at row 1236 (SONO): Error code: 429 - {'error': {'message': 'Rate limit reached for model `llama3-70b-8192` in organization `org_01jteba7n9ehjbkb6dypw1vck0` service tier `on_demand` on tokens per day (TPD): Limit 500000, Used 499995, Requested 1145. Please try again in 3m16.9416s. Need more tokens? Upgrade to Dev Tier today at https://console.groq.com/settings/billing', 'type': 'tokens', 'code': 'rate_limit_exceeded'}}\n",
      "\n",
      "🔍 Processing row 1237 | Ticker: SPG, Year: 2025\n"
     ]
    },
    {
     "name": "stderr",
     "output_type": "stream",
     "text": [
      " 83%|████████▎ | 808/970 [1:32:05<00:15, 10.58it/s]"
     ]
    },
    {
     "name": "stdout",
     "output_type": "stream",
     "text": [
      "🔹 1 chunk(s) generated\n",
      "🧠 Invoking LLM on chunk 1/1...\n",
      "❌ Error at row 1237 (SPG): Error code: 429 - {'error': {'message': 'Rate limit reached for model `llama3-70b-8192` in organization `org_01jteba7n9ehjbkb6dypw1vck0` service tier `on_demand` on tokens per day (TPD): Limit 500000, Used 499994, Requested 1145. Please try again in 3m16.7686s. Need more tokens? Upgrade to Dev Tier today at https://console.groq.com/settings/billing', 'type': 'tokens', 'code': 'rate_limit_exceeded'}}\n",
      "\n",
      "🔍 Processing row 1239 | Ticker: SPNT, Year: 2025\n",
      "🔹 1 chunk(s) generated\n",
      "🧠 Invoking LLM on chunk 1/1...\n",
      "❌ Error at row 1239 (SPNT): Error code: 429 - {'error': {'message': 'Rate limit reached for model `llama3-70b-8192` in organization `org_01jteba7n9ehjbkb6dypw1vck0` service tier `on_demand` on tokens per day (TPD): Limit 500000, Used 499994, Requested 365. Please try again in 1m1.9306s. Need more tokens? Upgrade to Dev Tier today at https://console.groq.com/settings/billing', 'type': 'tokens', 'code': 'rate_limit_exceeded'}}\n",
      "\n",
      "🔍 Processing row 1242 | Ticker: SPXC, Year: 2025\n",
      "🔹 1 chunk(s) generated\n",
      "🧠 Invoking LLM on chunk 1/1...\n",
      "❌ Error at row 1242 (SPXC): Error code: 429 - {'error': {'message': 'Rate limit reached for model `llama3-70b-8192` in organization `org_01jteba7n9ehjbkb6dypw1vck0` service tier `on_demand` on tokens per day (TPD): Limit 500000, Used 499994, Requested 1145. Please try again in 3m16.6566s. Need more tokens? Upgrade to Dev Tier today at https://console.groq.com/settings/billing', 'type': 'tokens', 'code': 'rate_limit_exceeded'}}\n",
      "\n",
      "🔍 Processing row 1243 | Ticker: SR, Year: 2024\n",
      "🔹 1 chunk(s) generated\n",
      "🧠 Invoking LLM on chunk 1/1...\n"
     ]
    },
    {
     "name": "stderr",
     "output_type": "stream",
     "text": [
      " 84%|████████▎ | 812/970 [1:32:05<00:12, 13.09it/s]"
     ]
    },
    {
     "name": "stdout",
     "output_type": "stream",
     "text": [
      "❌ Error at row 1243 (SR): Error code: 429 - {'error': {'message': 'Rate limit reached for model `llama3-70b-8192` in organization `org_01jteba7n9ehjbkb6dypw1vck0` service tier `on_demand` on tokens per day (TPD): Limit 500000, Used 499993, Requested 1145. Please try again in 3m16.5976s. Need more tokens? Upgrade to Dev Tier today at https://console.groq.com/settings/billing', 'type': 'tokens', 'code': 'rate_limit_exceeded'}}\n",
      "\n",
      "🔍 Processing row 1244 | Ticker: SRE, Year: 2025\n",
      "🔹 1 chunk(s) generated\n",
      "🧠 Invoking LLM on chunk 1/1...\n",
      "❌ Error at row 1244 (SRE): Error code: 429 - {'error': {'message': 'Rate limit reached for model `llama3-70b-8192` in organization `org_01jteba7n9ehjbkb6dypw1vck0` service tier `on_demand` on tokens per day (TPD): Limit 500000, Used 499993, Requested 1145. Please try again in 3m16.5376s. Need more tokens? Upgrade to Dev Tier today at https://console.groq.com/settings/billing', 'type': 'tokens', 'code': 'rate_limit_exceeded'}}\n",
      "\n",
      "🔍 Processing row 1245 | Ticker: SRPT, Year: 2025\n",
      "🔹 1 chunk(s) generated\n",
      "🧠 Invoking LLM on chunk 1/1...\n",
      "❌ Error at row 1245 (SRPT): Error code: 429 - {'error': {'message': 'Rate limit reached for model `llama3-70b-8192` in organization `org_01jteba7n9ehjbkb6dypw1vck0` service tier `on_demand` on tokens per day (TPD): Limit 500000, Used 499993, Requested 440. Please try again in 1m14.6596s. Need more tokens? Upgrade to Dev Tier today at https://console.groq.com/settings/billing', 'type': 'tokens', 'code': 'rate_limit_exceeded'}}\n",
      "\n",
      "🔍 Processing row 1246 | Ticker: SSB, Year: 2025\n",
      "🔹 1 chunk(s) generated\n",
      "🧠 Invoking LLM on chunk 1/1...\n",
      "❌ Error at row 1246 (SSB): Error code: 429 - {'error': {'message': 'Rate limit reached for model `llama3-70b-8192` in organization `org_01jteba7n9ehjbkb6dypw1vck0` service tier `on_demand` on tokens per day (TPD): Limit 500000, Used 499992, Requested 1145. Please try again in 3m16.4246s. Need more tokens? Upgrade to Dev Tier today at https://console.groq.com/settings/billing', 'type': 'tokens', 'code': 'rate_limit_exceeded'}}\n",
      "\n",
      "🔍 Processing row 1247 | Ticker: SSD, Year: 2025\n",
      "🔹 1 chunk(s) generated\n",
      "🧠 Invoking LLM on chunk 1/1...\n"
     ]
    },
    {
     "name": "stderr",
     "output_type": "stream",
     "text": [
      " 84%|████████▍ | 814/970 [1:32:05<00:11, 13.87it/s]"
     ]
    },
    {
     "name": "stdout",
     "output_type": "stream",
     "text": [
      "❌ Error at row 1247 (SSD): Error code: 429 - {'error': {'message': 'Rate limit reached for model `llama3-70b-8192` in organization `org_01jteba7n9ehjbkb6dypw1vck0` service tier `on_demand` on tokens per day (TPD): Limit 500000, Used 499992, Requested 1145. Please try again in 3m16.366599999s. Need more tokens? Upgrade to Dev Tier today at https://console.groq.com/settings/billing', 'type': 'tokens', 'code': 'rate_limit_exceeded'}}\n",
      "\n",
      "🔍 Processing row 1249 | Ticker: ST, Year: 2025\n",
      "🔹 1 chunk(s) generated\n",
      "🧠 Invoking LLM on chunk 1/1...\n",
      "❌ Error at row 1249 (ST): Error code: 429 - {'error': {'message': 'Rate limit reached for model `llama3-70b-8192` in organization `org_01jteba7n9ehjbkb6dypw1vck0` service tier `on_demand` on tokens per day (TPD): Limit 500000, Used 499992, Requested 1145. Please try again in 3m16.3076s. Need more tokens? Upgrade to Dev Tier today at https://console.groq.com/settings/billing', 'type': 'tokens', 'code': 'rate_limit_exceeded'}}\n",
      "\n",
      "🔍 Processing row 1252 | Ticker: STBA, Year: 2025\n",
      "🔹 1 chunk(s) generated\n",
      "🧠 Invoking LLM on chunk 1/1...\n",
      "❌ Error at row 1252 (STBA): Error code: 429 - {'error': {'message': 'Rate limit reached for model `llama3-70b-8192` in organization `org_01jteba7n9ehjbkb6dypw1vck0` service tier `on_demand` on tokens per day (TPD): Limit 500000, Used 499990, Requested 1145. Please try again in 3m16.1086s. Need more tokens? Upgrade to Dev Tier today at https://console.groq.com/settings/billing', 'type': 'tokens', 'code': 'rate_limit_exceeded'}}\n",
      "\n",
      "🔍 Processing row 1253 | Ticker: STC, Year: 2025\n"
     ]
    },
    {
     "name": "stderr",
     "output_type": "stream",
     "text": [
      " 84%|████████▍ | 818/970 [1:32:06<00:14, 10.17it/s]"
     ]
    },
    {
     "name": "stdout",
     "output_type": "stream",
     "text": [
      "🔹 1 chunk(s) generated\n",
      "🧠 Invoking LLM on chunk 1/1...\n",
      "❌ Error at row 1253 (STC): Error code: 429 - {'error': {'message': 'Rate limit reached for model `llama3-70b-8192` in organization `org_01jteba7n9ehjbkb6dypw1vck0` service tier `on_demand` on tokens per day (TPD): Limit 500000, Used 499989, Requested 1145. Please try again in 3m15.8826s. Need more tokens? Upgrade to Dev Tier today at https://console.groq.com/settings/billing', 'type': 'tokens', 'code': 'rate_limit_exceeded'}}\n",
      "\n",
      "🔍 Processing row 1254 | Ticker: STE, Year: 2025\n",
      "🔹 1 chunk(s) generated\n",
      "🧠 Invoking LLM on chunk 1/1...\n",
      "❌ Error at row 1254 (STE): Error code: 429 - {'error': {'message': 'Rate limit reached for model `llama3-70b-8192` in organization `org_01jteba7n9ehjbkb6dypw1vck0` service tier `on_demand` on tokens per day (TPD): Limit 500000, Used 499989, Requested 1145. Please try again in 3m15.823599999s. Need more tokens? Upgrade to Dev Tier today at https://console.groq.com/settings/billing', 'type': 'tokens', 'code': 'rate_limit_exceeded'}}\n",
      "\n",
      "🔍 Processing row 1255 | Ticker: STEL, Year: 2025\n",
      "🔹 1 chunk(s) generated\n",
      "🧠 Invoking LLM on chunk 1/1...\n",
      "❌ Error at row 1255 (STEL): Error code: 429 - {'error': {'message': 'Rate limit reached for model `llama3-70b-8192` in organization `org_01jteba7n9ehjbkb6dypw1vck0` service tier `on_demand` on tokens per day (TPD): Limit 500000, Used 499988, Requested 1145. Please try again in 3m15.7546s. Need more tokens? Upgrade to Dev Tier today at https://console.groq.com/settings/billing', 'type': 'tokens', 'code': 'rate_limit_exceeded'}}\n",
      "\n",
      "🔍 Processing row 1256 | Ticker: STEP, Year: 2025\n",
      "🔹 1 chunk(s) generated\n",
      "🧠 Invoking LLM on chunk 1/1...\n"
     ]
    },
    {
     "name": "stderr",
     "output_type": "stream",
     "text": [
      " 85%|████████▍ | 822/970 [1:32:06<00:12, 11.60it/s]"
     ]
    },
    {
     "name": "stdout",
     "output_type": "stream",
     "text": [
      "❌ Error at row 1256 (STEP): Error code: 429 - {'error': {'message': 'Rate limit reached for model `llama3-70b-8192` in organization `org_01jteba7n9ehjbkb6dypw1vck0` service tier `on_demand` on tokens per day (TPD): Limit 500000, Used 499988, Requested 1145. Please try again in 3m15.6866s. Need more tokens? Upgrade to Dev Tier today at https://console.groq.com/settings/billing', 'type': 'tokens', 'code': 'rate_limit_exceeded'}}\n",
      "\n",
      "🔍 Processing row 1257 | Ticker: STLD, Year: 2025\n",
      "🔹 1 chunk(s) generated\n",
      "🧠 Invoking LLM on chunk 1/1...\n",
      "❌ Error at row 1257 (STLD): Error code: 429 - {'error': {'message': 'Rate limit reached for model `llama3-70b-8192` in organization `org_01jteba7n9ehjbkb6dypw1vck0` service tier `on_demand` on tokens per day (TPD): Limit 500000, Used 499987, Requested 1145. Please try again in 3m15.599599999s. Need more tokens? Upgrade to Dev Tier today at https://console.groq.com/settings/billing', 'type': 'tokens', 'code': 'rate_limit_exceeded'}}\n",
      "\n",
      "🔍 Processing row 1258 | Ticker: STRA, Year: 2025\n",
      "🔹 1 chunk(s) generated\n",
      "🧠 Invoking LLM on chunk 1/1...\n",
      "❌ Error at row 1258 (STRA): Error code: 429 - {'error': {'message': 'Rate limit reached for model `llama3-70b-8192` in organization `org_01jteba7n9ehjbkb6dypw1vck0` service tier `on_demand` on tokens per day (TPD): Limit 500000, Used 499987, Requested 1145. Please try again in 3m15.537599999s. Need more tokens? Upgrade to Dev Tier today at https://console.groq.com/settings/billing', 'type': 'tokens', 'code': 'rate_limit_exceeded'}}\n",
      "\n",
      "🔍 Processing row 1260 | Ticker: STT, Year: 2025\n",
      "🔹 1 chunk(s) generated\n",
      "🧠 Invoking LLM on chunk 1/1...\n",
      "❌ Error at row 1260 (STT): Error code: 429 - {'error': {'message': 'Rate limit reached for model `llama3-70b-8192` in organization `org_01jteba7n9ehjbkb6dypw1vck0` service tier `on_demand` on tokens per day (TPD): Limit 500000, Used 499987, Requested 1145. Please try again in 3m15.4546s. Need more tokens? Upgrade to Dev Tier today at https://console.groq.com/settings/billing', 'type': 'tokens', 'code': 'rate_limit_exceeded'}}\n"
     ]
    },
    {
     "name": "stderr",
     "output_type": "stream",
     "text": [
      " 85%|████████▍ | 824/970 [1:32:06<00:11, 12.39it/s]"
     ]
    },
    {
     "name": "stdout",
     "output_type": "stream",
     "text": [
      "\n",
      "🔍 Processing row 1261 | Ticker: STWD, Year: 2025\n",
      "🔹 1 chunk(s) generated\n",
      "🧠 Invoking LLM on chunk 1/1...\n",
      "❌ Error at row 1261 (STWD): Error code: 429 - {'error': {'message': 'Rate limit reached for model `llama3-70b-8192` in organization `org_01jteba7n9ehjbkb6dypw1vck0` service tier `on_demand` on tokens per day (TPD): Limit 500000, Used 499986, Requested 1145. Please try again in 3m15.3826s. Need more tokens? Upgrade to Dev Tier today at https://console.groq.com/settings/billing', 'type': 'tokens', 'code': 'rate_limit_exceeded'}}\n",
      "\n",
      "🔍 Processing row 1262 | Ticker: STX, Year: 2024\n",
      "🔹 1 chunk(s) generated\n",
      "🧠 Invoking LLM on chunk 1/1...\n",
      "❌ Error at row 1262 (STX): Error code: 429 - {'error': {'message': 'Rate limit reached for model `llama3-70b-8192` in organization `org_01jteba7n9ehjbkb6dypw1vck0` service tier `on_demand` on tokens per day (TPD): Limit 500000, Used 499986, Requested 1145. Please try again in 3m15.3086s. Need more tokens? Upgrade to Dev Tier today at https://console.groq.com/settings/billing', 'type': 'tokens', 'code': 'rate_limit_exceeded'}}\n",
      "\n",
      "🔍 Processing row 1263 | Ticker: STZ, Year: 2025\n",
      "🔹 1 chunk(s) generated\n",
      "🧠 Invoking LLM on chunk 1/1...\n",
      "❌ Error at row 1263 (STZ): Error code: 429 - {'error': {'message': 'Rate limit reached for model `llama3-70b-8192` in organization `org_01jteba7n9ehjbkb6dypw1vck0` service tier `on_demand` on tokens per day (TPD): Limit 500000, Used 499985, Requested 1145. Please try again in 3m15.251599999s. Need more tokens? Upgrade to Dev Tier today at https://console.groq.com/settings/billing', 'type': 'tokens', 'code': 'rate_limit_exceeded'}}\n",
      "\n",
      "🔍 Processing row 1264 | Ticker: SUPN, Year: 2025\n",
      "🔹 1 chunk(s) generated\n",
      "🧠 Invoking LLM on chunk 1/1...\n"
     ]
    },
    {
     "name": "stderr",
     "output_type": "stream",
     "text": [
      " 85%|████████▌ | 828/970 [1:32:06<00:11, 12.70it/s]"
     ]
    },
    {
     "name": "stdout",
     "output_type": "stream",
     "text": [
      "❌ Error at row 1264 (SUPN): Error code: 429 - {'error': {'message': 'Rate limit reached for model `llama3-70b-8192` in organization `org_01jteba7n9ehjbkb6dypw1vck0` service tier `on_demand` on tokens per day (TPD): Limit 500000, Used 499985, Requested 1145. Please try again in 3m15.170599999s. Need more tokens? Upgrade to Dev Tier today at https://console.groq.com/settings/billing', 'type': 'tokens', 'code': 'rate_limit_exceeded'}}\n",
      "\n",
      "🔍 Processing row 1265 | Ticker: SW, Year: 2025\n",
      "🔹 1 chunk(s) generated\n",
      "🧠 Invoking LLM on chunk 1/1...\n",
      "❌ Error at row 1265 (SW): Error code: 429 - {'error': {'message': 'Rate limit reached for model `llama3-70b-8192` in organization `org_01jteba7n9ehjbkb6dypw1vck0` service tier `on_demand` on tokens per day (TPD): Limit 500000, Used 499984, Requested 540. Please try again in 1m30.5276s. Need more tokens? Upgrade to Dev Tier today at https://console.groq.com/settings/billing', 'type': 'tokens', 'code': 'rate_limit_exceeded'}}\n",
      "\n",
      "🔍 Processing row 1266 | Ticker: SWK, Year: 2025\n",
      "🔹 1 chunk(s) generated\n",
      "🧠 Invoking LLM on chunk 1/1...\n",
      "❌ Error at row 1266 (SWK): Error code: 429 - {'error': {'message': 'Rate limit reached for model `llama3-70b-8192` in organization `org_01jteba7n9ehjbkb6dypw1vck0` service tier `on_demand` on tokens per day (TPD): Limit 500000, Used 499984, Requested 1145. Please try again in 3m15.008599999s. Need more tokens? Upgrade to Dev Tier today at https://console.groq.com/settings/billing', 'type': 'tokens', 'code': 'rate_limit_exceeded'}}\n",
      "\n",
      "🔍 Processing row 1267 | Ticker: SWKS, Year: 2024\n",
      "🔹 1 chunk(s) generated\n",
      "🧠 Invoking LLM on chunk 1/1...\n",
      "❌ Error at row 1267 (SWKS): Error code: 429 - {'error': {'message': 'Rate limit reached for model `llama3-70b-8192` in organization `org_01jteba7n9ehjbkb6dypw1vck0` service tier `on_demand` on tokens per day (TPD): Limit 500000, Used 499984, Requested 397. Please try again in 1m5.7022s. Need more tokens? Upgrade to Dev Tier today at https://console.groq.com/settings/billing', 'type': 'tokens', 'code': 'rate_limit_exceeded'}}\n",
      "\n",
      "🔍 Processing row 1270 | Ticker: SXI, Year: 2024\n",
      "🔹 1 chunk(s) generated\n",
      "🧠 Invoking LLM on chunk 1/1...\n"
     ]
    },
    {
     "name": "stderr",
     "output_type": "stream",
     "text": [
      " 86%|████████▌ | 832/970 [1:32:07<00:09, 13.97it/s]"
     ]
    },
    {
     "name": "stdout",
     "output_type": "stream",
     "text": [
      "❌ Error at row 1270 (SXI): Error code: 429 - {'error': {'message': 'Rate limit reached for model `llama3-70b-8192` in organization `org_01jteba7n9ehjbkb6dypw1vck0` service tier `on_demand` on tokens per day (TPD): Limit 500000, Used 499983, Requested 1145. Please try again in 3m14.8876s. Need more tokens? Upgrade to Dev Tier today at https://console.groq.com/settings/billing', 'type': 'tokens', 'code': 'rate_limit_exceeded'}}\n",
      "\n",
      "🔍 Processing row 1273 | Ticker: SYK, Year: 2025\n",
      "🔹 1 chunk(s) generated\n",
      "🧠 Invoking LLM on chunk 1/1...\n",
      "❌ Error at row 1273 (SYK): Error code: 429 - {'error': {'message': 'Rate limit reached for model `llama3-70b-8192` in organization `org_01jteba7n9ehjbkb6dypw1vck0` service tier `on_demand` on tokens per day (TPD): Limit 500000, Used 499983, Requested 1145. Please try again in 3m14.802599999s. Need more tokens? Upgrade to Dev Tier today at https://console.groq.com/settings/billing', 'type': 'tokens', 'code': 'rate_limit_exceeded'}}\n",
      "\n",
      "🔍 Processing row 1274 | Ticker: SYNA, Year: 2024\n",
      "🔹 1 chunk(s) generated\n",
      "🧠 Invoking LLM on chunk 1/1...\n",
      "❌ Error at row 1274 (SYNA): Error code: 429 - {'error': {'message': 'Rate limit reached for model `llama3-70b-8192` in organization `org_01jteba7n9ehjbkb6dypw1vck0` service tier `on_demand` on tokens per day (TPD): Limit 500000, Used 499983, Requested 1143. Please try again in 3m14.405s. Need more tokens? Upgrade to Dev Tier today at https://console.groq.com/settings/billing', 'type': 'tokens', 'code': 'rate_limit_exceeded'}}\n",
      "\n",
      "🔍 Processing row 1275 | Ticker: SYY, Year: 2024\n",
      "🔹 1 chunk(s) generated\n",
      "🧠 Invoking LLM on chunk 1/1...\n",
      "❌ Error at row 1275 (SYY): Error code: 429 - {'error': {'message': 'Rate limit reached for model `llama3-70b-8192` in organization `org_01jteba7n9ehjbkb6dypw1vck0` service tier `on_demand` on tokens per day (TPD): Limit 500000, Used 499982, Requested 1145. Please try again in 3m14.6856s. Need more tokens? Upgrade to Dev Tier today at https://console.groq.com/settings/billing', 'type': 'tokens', 'code': 'rate_limit_exceeded'}}\n",
      "\n",
      "🔍 Processing row 1277 | Ticker: TALO, Year: 2025\n"
     ]
    },
    {
     "name": "stderr",
     "output_type": "stream",
     "text": [
      " 86%|████████▌ | 834/970 [1:32:07<00:10, 12.51it/s]"
     ]
    },
    {
     "name": "stdout",
     "output_type": "stream",
     "text": [
      "🔹 1 chunk(s) generated\n",
      "🧠 Invoking LLM on chunk 1/1...\n",
      "❌ Error at row 1277 (TALO): Error code: 429 - {'error': {'message': 'Rate limit reached for model `llama3-70b-8192` in organization `org_01jteba7n9ehjbkb6dypw1vck0` service tier `on_demand` on tokens per day (TPD): Limit 500000, Used 499981, Requested 1145. Please try again in 3m14.560599999s. Need more tokens? Upgrade to Dev Tier today at https://console.groq.com/settings/billing', 'type': 'tokens', 'code': 'rate_limit_exceeded'}}\n",
      "\n",
      "🔍 Processing row 1278 | Ticker: TAP, Year: 2025\n",
      "🔹 1 chunk(s) generated\n",
      "🧠 Invoking LLM on chunk 1/1...\n",
      "❌ Error at row 1278 (TAP): Error code: 429 - {'error': {'message': 'Rate limit reached for model `llama3-70b-8192` in organization `org_01jteba7n9ehjbkb6dypw1vck0` service tier `on_demand` on tokens per day (TPD): Limit 500000, Used 499981, Requested 1145. Please try again in 3m14.4906s. Need more tokens? Upgrade to Dev Tier today at https://console.groq.com/settings/billing', 'type': 'tokens', 'code': 'rate_limit_exceeded'}}\n",
      "\n",
      "🔍 Processing row 1280 | Ticker: TCBI, Year: 2025\n"
     ]
    },
    {
     "name": "stderr",
     "output_type": "stream",
     "text": [
      " 86%|████████▋ | 838/970 [1:32:07<00:11, 11.82it/s]"
     ]
    },
    {
     "name": "stdout",
     "output_type": "stream",
     "text": [
      "🔹 1 chunk(s) generated\n",
      "🧠 Invoking LLM on chunk 1/1...\n",
      "❌ Error at row 1280 (TCBI): Error code: 429 - {'error': {'message': 'Rate limit reached for model `llama3-70b-8192` in organization `org_01jteba7n9ehjbkb6dypw1vck0` service tier `on_demand` on tokens per day (TPD): Limit 500000, Used 499980, Requested 1145. Please try again in 3m14.295599999s. Need more tokens? Upgrade to Dev Tier today at https://console.groq.com/settings/billing', 'type': 'tokens', 'code': 'rate_limit_exceeded'}}\n",
      "\n",
      "🔍 Processing row 1281 | Ticker: TDC, Year: 2025\n",
      "🔹 1 chunk(s) generated\n",
      "🧠 Invoking LLM on chunk 1/1...\n",
      "❌ Error at row 1281 (TDC): Error code: 429 - {'error': {'message': 'Rate limit reached for model `llama3-70b-8192` in organization `org_01jteba7n9ehjbkb6dypw1vck0` service tier `on_demand` on tokens per day (TPD): Limit 500000, Used 499980, Requested 1145. Please try again in 3m14.2316s. Need more tokens? Upgrade to Dev Tier today at https://console.groq.com/settings/billing', 'type': 'tokens', 'code': 'rate_limit_exceeded'}}\n",
      "\n",
      "🔍 Processing row 1285 | Ticker: TDY, Year: 2025\n",
      "🔹 1 chunk(s) generated\n",
      "🧠 Invoking LLM on chunk 1/1...\n",
      "❌ Error at row 1285 (TDY): Error code: 429 - {'error': {'message': 'Rate limit reached for model `llama3-70b-8192` in organization `org_01jteba7n9ehjbkb6dypw1vck0` service tier `on_demand` on tokens per day (TPD): Limit 500000, Used 499979, Requested 415. Please try again in 1m8.0326s. Need more tokens? Upgrade to Dev Tier today at https://console.groq.com/settings/billing', 'type': 'tokens', 'code': 'rate_limit_exceeded'}}\n"
     ]
    },
    {
     "name": "stderr",
     "output_type": "stream",
     "text": [
      " 87%|████████▋ | 840/970 [1:32:08<00:13,  9.90it/s]"
     ]
    },
    {
     "name": "stdout",
     "output_type": "stream",
     "text": [
      "\n",
      "🔍 Processing row 1286 | Ticker: TECH, Year: 2024\n",
      "🔹 1 chunk(s) generated\n",
      "🧠 Invoking LLM on chunk 1/1...\n",
      "❌ Error at row 1286 (TECH): Error code: 429 - {'error': {'message': 'Rate limit reached for model `llama3-70b-8192` in organization `org_01jteba7n9ehjbkb6dypw1vck0` service tier `on_demand` on tokens per day (TPD): Limit 500000, Used 499978, Requested 1145. Please try again in 3m13.9836s. Need more tokens? Upgrade to Dev Tier today at https://console.groq.com/settings/billing', 'type': 'tokens', 'code': 'rate_limit_exceeded'}}\n",
      "\n",
      "🔍 Processing row 1287 | Ticker: TEL, Year: 2024\n",
      "🔹 1 chunk(s) generated\n",
      "🧠 Invoking LLM on chunk 1/1...\n",
      "❌ Error at row 1287 (TEL): Error code: 429 - {'error': {'message': 'Rate limit reached for model `llama3-70b-8192` in organization `org_01jteba7n9ehjbkb6dypw1vck0` service tier `on_demand` on tokens per day (TPD): Limit 500000, Used 499978, Requested 1145. Please try again in 3m13.901599999s. Need more tokens? Upgrade to Dev Tier today at https://console.groq.com/settings/billing', 'type': 'tokens', 'code': 'rate_limit_exceeded'}}\n",
      "\n",
      "🔍 Processing row 1288 | Ticker: TER, Year: 2025\n",
      "🔹 1 chunk(s) generated\n",
      "🧠 Invoking LLM on chunk 1/1...\n",
      "❌ Error at row 1288 (TER): Error code: 429 - {'error': {'message': 'Rate limit reached for model `llama3-70b-8192` in organization `org_01jteba7n9ehjbkb6dypw1vck0` service tier `on_demand` on tokens per day (TPD): Limit 500000, Used 499977, Requested 1145. Please try again in 3m13.8406s. Need more tokens? Upgrade to Dev Tier today at https://console.groq.com/settings/billing', 'type': 'tokens', 'code': 'rate_limit_exceeded'}}\n",
      "\n",
      "🔍 Processing row 1290 | Ticker: TFC, Year: 2025\n",
      "🔹 1 chunk(s) generated\n",
      "🧠 Invoking LLM on chunk 1/1...\n"
     ]
    },
    {
     "name": "stderr",
     "output_type": "stream",
     "text": [
      " 87%|████████▋ | 844/970 [1:32:08<00:10, 12.55it/s]"
     ]
    },
    {
     "name": "stdout",
     "output_type": "stream",
     "text": [
      "❌ Error at row 1290 (TFC): Error code: 429 - {'error': {'message': 'Rate limit reached for model `llama3-70b-8192` in organization `org_01jteba7n9ehjbkb6dypw1vck0` service tier `on_demand` on tokens per day (TPD): Limit 500000, Used 499977, Requested 1145. Please try again in 3m13.7856s. Need more tokens? Upgrade to Dev Tier today at https://console.groq.com/settings/billing', 'type': 'tokens', 'code': 'rate_limit_exceeded'}}\n",
      "\n",
      "🔍 Processing row 1291 | Ticker: TFIN, Year: 2025\n",
      "🔹 1 chunk(s) generated\n",
      "🧠 Invoking LLM on chunk 1/1...\n",
      "❌ Error at row 1291 (TFIN): Error code: 429 - {'error': {'message': 'Rate limit reached for model `llama3-70b-8192` in organization `org_01jteba7n9ehjbkb6dypw1vck0` service tier `on_demand` on tokens per day (TPD): Limit 500000, Used 499977, Requested 1145. Please try again in 3m13.7236s. Need more tokens? Upgrade to Dev Tier today at https://console.groq.com/settings/billing', 'type': 'tokens', 'code': 'rate_limit_exceeded'}}\n",
      "\n",
      "🔍 Processing row 1293 | Ticker: TGI, Year: 2025\n",
      "🔹 1 chunk(s) generated\n",
      "🧠 Invoking LLM on chunk 1/1...\n",
      "❌ Error at row 1293 (TGI): Error code: 429 - {'error': {'message': 'Rate limit reached for model `llama3-70b-8192` in organization `org_01jteba7n9ehjbkb6dypw1vck0` service tier `on_demand` on tokens per day (TPD): Limit 500000, Used 499976, Requested 1145. Please try again in 3m13.6626s. Need more tokens? Upgrade to Dev Tier today at https://console.groq.com/settings/billing', 'type': 'tokens', 'code': 'rate_limit_exceeded'}}\n",
      "\n",
      "🔍 Processing row 1294 | Ticker: TGNA, Year: 2025\n",
      "🔹 1 chunk(s) generated\n",
      "🧠 Invoking LLM on chunk 1/1...\n",
      "❌ Error at row 1294 (TGNA): Error code: 429 - {'error': {'message': 'Rate limit reached for model `llama3-70b-8192` in organization `org_01jteba7n9ehjbkb6dypw1vck0` service tier `on_demand` on tokens per day (TPD): Limit 500000, Used 499976, Requested 1145. Please try again in 3m13.607599999s. Need more tokens? Upgrade to Dev Tier today at https://console.groq.com/settings/billing', 'type': 'tokens', 'code': 'rate_limit_exceeded'}}\n",
      "\n",
      "🔍 Processing row 1296 | Ticker: TGTX, Year: 2025\n",
      "🔹 1 chunk(s) generated\n",
      "🧠 Invoking LLM on chunk 1/1...\n"
     ]
    },
    {
     "name": "stderr",
     "output_type": "stream",
     "text": [
      " 87%|████████▋ | 848/970 [1:32:08<00:09, 13.04it/s]"
     ]
    },
    {
     "name": "stdout",
     "output_type": "stream",
     "text": [
      "❌ Error at row 1296 (TGTX): Error code: 429 - {'error': {'message': 'Rate limit reached for model `llama3-70b-8192` in organization `org_01jteba7n9ehjbkb6dypw1vck0` service tier `on_demand` on tokens per day (TPD): Limit 500000, Used 499976, Requested 1145. Please try again in 3m13.5436s. Need more tokens? Upgrade to Dev Tier today at https://console.groq.com/settings/billing', 'type': 'tokens', 'code': 'rate_limit_exceeded'}}\n",
      "\n",
      "🔍 Processing row 1297 | Ticker: THC, Year: 2025\n",
      "🔹 1 chunk(s) generated\n",
      "🧠 Invoking LLM on chunk 1/1...\n",
      "❌ Error at row 1297 (THC): Error code: 429 - {'error': {'message': 'Rate limit reached for model `llama3-70b-8192` in organization `org_01jteba7n9ehjbkb6dypw1vck0` service tier `on_demand` on tokens per day (TPD): Limit 500000, Used 499975, Requested 1145. Please try again in 3m13.4896s. Need more tokens? Upgrade to Dev Tier today at https://console.groq.com/settings/billing', 'type': 'tokens', 'code': 'rate_limit_exceeded'}}\n",
      "\n",
      "🔍 Processing row 1299 | Ticker: THO, Year: 2024\n",
      "🔹 1 chunk(s) generated\n",
      "🧠 Invoking LLM on chunk 1/1...\n",
      "❌ Error at row 1299 (THO): Error code: 429 - {'error': {'message': 'Rate limit reached for model `llama3-70b-8192` in organization `org_01jteba7n9ehjbkb6dypw1vck0` service tier `on_demand` on tokens per day (TPD): Limit 500000, Used 499975, Requested 1145. Please try again in 3m13.3726s. Need more tokens? Upgrade to Dev Tier today at https://console.groq.com/settings/billing', 'type': 'tokens', 'code': 'rate_limit_exceeded'}}\n",
      "\n",
      "🔍 Processing row 1300 | Ticker: THRM, Year: 2025\n",
      "🔹 1 chunk(s) generated\n",
      "🧠 Invoking LLM on chunk 1/1...\n",
      "❌ Error at row 1300 (THRM): Error code: 429 - {'error': {'message': 'Rate limit reached for model `llama3-70b-8192` in organization `org_01jteba7n9ehjbkb6dypw1vck0` service tier `on_demand` on tokens per day (TPD): Limit 500000, Used 499972, Requested 1145. Please try again in 3m13.0126s. Need more tokens? Upgrade to Dev Tier today at https://console.groq.com/settings/billing', 'type': 'tokens', 'code': 'rate_limit_exceeded'}}\n",
      "\n",
      "🔍 Processing row 1303 | Ticker: TILE, Year: 2025\n",
      "🔹 1 chunk(s) generated\n",
      "🧠 Invoking LLM on chunk 1/1...\n"
     ]
    },
    {
     "name": "stderr",
     "output_type": "stream",
     "text": [
      " 88%|████████▊ | 850/970 [1:33:08<18:04,  9.04s/it]"
     ]
    },
    {
     "name": "stdout",
     "output_type": "stream",
     "text": [
      "✅ Completed row 1303 | Risk Score: 4, Narrative: Legal & Regulatory\n",
      "\n",
      "🔍 Processing row 1304 | Ticker: TJX, Year: 2025\n",
      "🔹 1 chunk(s) generated\n",
      "🧠 Invoking LLM on chunk 1/1...\n",
      "❌ Error at row 1304 (TJX): Error code: 429 - {'error': {'message': 'Rate limit reached for model `llama3-70b-8192` in organization `org_01jteba7n9ehjbkb6dypw1vck0` service tier `on_demand` on tokens per day (TPD): Limit 500000, Used 500067, Requested 625. Please try again in 1m59.6744s. Need more tokens? Upgrade to Dev Tier today at https://console.groq.com/settings/billing', 'type': 'tokens', 'code': 'rate_limit_exceeded'}}\n",
      "\n",
      "🔍 Processing row 1306 | Ticker: TKR, Year: 2025\n"
     ]
    },
    {
     "name": "stderr",
     "output_type": "stream",
     "text": [
      " 88%|████████▊ | 854/970 [1:33:08<08:39,  4.48s/it]"
     ]
    },
    {
     "name": "stdout",
     "output_type": "stream",
     "text": [
      "🔹 1 chunk(s) generated\n",
      "🧠 Invoking LLM on chunk 1/1...\n",
      "❌ Error at row 1306 (TKR): Error code: 429 - {'error': {'message': 'Rate limit reached for model `llama3-70b-8192` in organization `org_01jteba7n9ehjbkb6dypw1vck0` service tier `on_demand` on tokens per day (TPD): Limit 500000, Used 500066, Requested 1145. Please try again in 3m29.2794s. Need more tokens? Upgrade to Dev Tier today at https://console.groq.com/settings/billing', 'type': 'tokens', 'code': 'rate_limit_exceeded'}}\n",
      "\n",
      "🔍 Processing row 1307 | Ticker: TMDX, Year: 2025\n",
      "🔹 1 chunk(s) generated\n",
      "🧠 Invoking LLM on chunk 1/1...\n",
      "❌ Error at row 1307 (TMDX): Error code: 429 - {'error': {'message': 'Rate limit reached for model `llama3-70b-8192` in organization `org_01jteba7n9ehjbkb6dypw1vck0` service tier `on_demand` on tokens per day (TPD): Limit 500000, Used 500065, Requested 1145. Please try again in 3m29.207399999s. Need more tokens? Upgrade to Dev Tier today at https://console.groq.com/settings/billing', 'type': 'tokens', 'code': 'rate_limit_exceeded'}}\n",
      "\n",
      "🔍 Processing row 1308 | Ticker: TMHC, Year: 2025\n",
      "🔹 1 chunk(s) generated\n",
      "🧠 Invoking LLM on chunk 1/1...\n",
      "❌ Error at row 1308 (TMHC): Error code: 429 - {'error': {'message': 'Rate limit reached for model `llama3-70b-8192` in organization `org_01jteba7n9ehjbkb6dypw1vck0` service tier `on_demand` on tokens per day (TPD): Limit 500000, Used 500065, Requested 1145. Please try again in 3m29.1434s. Need more tokens? Upgrade to Dev Tier today at https://console.groq.com/settings/billing', 'type': 'tokens', 'code': 'rate_limit_exceeded'}}\n"
     ]
    },
    {
     "name": "stderr",
     "output_type": "stream",
     "text": [
      " 88%|████████▊ | 856/970 [1:33:09<06:00,  3.16s/it]"
     ]
    },
    {
     "name": "stdout",
     "output_type": "stream",
     "text": [
      "\n",
      "🔍 Processing row 1310 | Ticker: TMP, Year: 2025\n",
      "🔹 1 chunk(s) generated\n",
      "🧠 Invoking LLM on chunk 1/1...\n",
      "❌ Error at row 1310 (TMP): Error code: 429 - {'error': {'message': 'Rate limit reached for model `llama3-70b-8192` in organization `org_01jteba7n9ehjbkb6dypw1vck0` service tier `on_demand` on tokens per day (TPD): Limit 500000, Used 500064, Requested 1145. Please try again in 3m29.0654s. Need more tokens? Upgrade to Dev Tier today at https://console.groq.com/settings/billing', 'type': 'tokens', 'code': 'rate_limit_exceeded'}}\n",
      "\n",
      "🔍 Processing row 1311 | Ticker: TMUS, Year: 2025\n",
      "🔹 1 chunk(s) generated\n",
      "🧠 Invoking LLM on chunk 1/1...\n",
      "❌ Error at row 1311 (TMUS): Error code: 429 - {'error': {'message': 'Rate limit reached for model `llama3-70b-8192` in organization `org_01jteba7n9ehjbkb6dypw1vck0` service tier `on_demand` on tokens per day (TPD): Limit 500000, Used 500064, Requested 1145. Please try again in 3m28.9854s. Need more tokens? Upgrade to Dev Tier today at https://console.groq.com/settings/billing', 'type': 'tokens', 'code': 'rate_limit_exceeded'}}\n",
      "\n",
      "🔍 Processing row 1313 | Ticker: TNDM, Year: 2025\n"
     ]
    },
    {
     "name": "stderr",
     "output_type": "stream",
     "text": [
      " 88%|████████▊ | 858/970 [1:33:09<04:11,  2.24s/it]"
     ]
    },
    {
     "name": "stdout",
     "output_type": "stream",
     "text": [
      "🔹 1 chunk(s) generated\n",
      "🧠 Invoking LLM on chunk 1/1...\n",
      "❌ Error at row 1313 (TNDM): Error code: 429 - {'error': {'message': 'Rate limit reached for model `llama3-70b-8192` in organization `org_01jteba7n9ehjbkb6dypw1vck0` service tier `on_demand` on tokens per day (TPD): Limit 500000, Used 500063, Requested 1145. Please try again in 3m28.845399999s. Need more tokens? Upgrade to Dev Tier today at https://console.groq.com/settings/billing', 'type': 'tokens', 'code': 'rate_limit_exceeded'}}\n",
      "\n",
      "🔍 Processing row 1315 | Ticker: TOL, Year: 2024\n",
      "🔹 1 chunk(s) generated\n",
      "🧠 Invoking LLM on chunk 1/1...\n",
      "❌ Error at row 1315 (TOL): Error code: 429 - {'error': {'message': 'Rate limit reached for model `llama3-70b-8192` in organization `org_01jteba7n9ehjbkb6dypw1vck0` service tier `on_demand` on tokens per day (TPD): Limit 500000, Used 500063, Requested 381. Please try again in 1m16.7582s. Need more tokens? Upgrade to Dev Tier today at https://console.groq.com/settings/billing', 'type': 'tokens', 'code': 'rate_limit_exceeded'}}\n",
      "\n",
      "🔍 Processing row 1318 | Ticker: TPR, Year: 2024\n",
      "🔹 1 chunk(s) generated\n",
      "🧠 Invoking LLM on chunk 1/1...\n"
     ]
    },
    {
     "name": "stderr",
     "output_type": "stream",
     "text": [
      " 89%|████████▊ | 860/970 [1:33:09<02:56,  1.60s/it]"
     ]
    },
    {
     "name": "stdout",
     "output_type": "stream",
     "text": [
      "❌ Error at row 1318 (TPR): Error code: 429 - {'error': {'message': 'Rate limit reached for model `llama3-70b-8192` in organization `org_01jteba7n9ehjbkb6dypw1vck0` service tier `on_demand` on tokens per day (TPD): Limit 500000, Used 500062, Requested 1145. Please try again in 3m28.6954s. Need more tokens? Upgrade to Dev Tier today at https://console.groq.com/settings/billing', 'type': 'tokens', 'code': 'rate_limit_exceeded'}}\n",
      "\n",
      "🔍 Processing row 1320 | Ticker: TREX, Year: 2025\n",
      "🔹 1 chunk(s) generated\n",
      "🧠 Invoking LLM on chunk 1/1...\n",
      "❌ Error at row 1320 (TREX): Error code: 429 - {'error': {'message': 'Rate limit reached for model `llama3-70b-8192` in organization `org_01jteba7n9ehjbkb6dypw1vck0` service tier `on_demand` on tokens per day (TPD): Limit 500000, Used 500061, Requested 1145. Please try again in 3m28.5454s. Need more tokens? Upgrade to Dev Tier today at https://console.groq.com/settings/billing', 'type': 'tokens', 'code': 'rate_limit_exceeded'}}\n",
      "\n",
      "🔍 Processing row 1321 | Ticker: TRGP, Year: 2025\n",
      "🔹 1 chunk(s) generated\n",
      "🧠 Invoking LLM on chunk 1/1...\n"
     ]
    },
    {
     "name": "stderr",
     "output_type": "stream",
     "text": [
      " 89%|████████▉ | 862/970 [1:33:09<02:04,  1.15s/it]"
     ]
    },
    {
     "name": "stdout",
     "output_type": "stream",
     "text": [
      "❌ Error at row 1321 (TRGP): Error code: 429 - {'error': {'message': 'Rate limit reached for model `llama3-70b-8192` in organization `org_01jteba7n9ehjbkb6dypw1vck0` service tier `on_demand` on tokens per day (TPD): Limit 500000, Used 500061, Requested 499. Please try again in 1m36.8366s. Need more tokens? Upgrade to Dev Tier today at https://console.groq.com/settings/billing', 'type': 'tokens', 'code': 'rate_limit_exceeded'}}\n",
      "\n",
      "🔍 Processing row 1323 | Ticker: TRMB, Year: 2025\n",
      "🔹 1 chunk(s) generated\n",
      "🧠 Invoking LLM on chunk 1/1...\n",
      "❌ Error at row 1323 (TRMB): Error code: 429 - {'error': {'message': 'Rate limit reached for model `llama3-70b-8192` in organization `org_01jteba7n9ehjbkb6dypw1vck0` service tier `on_demand` on tokens per day (TPD): Limit 500000, Used 500060, Requested 1145. Please try again in 3m28.3964s. Need more tokens? Upgrade to Dev Tier today at https://console.groq.com/settings/billing', 'type': 'tokens', 'code': 'rate_limit_exceeded'}}\n",
      "\n",
      "🔍 Processing row 1324 | Ticker: TRMK, Year: 2025\n",
      "🔹 1 chunk(s) generated\n",
      "🧠 Invoking LLM on chunk 1/1...\n"
     ]
    },
    {
     "name": "stderr",
     "output_type": "stream",
     "text": [
      " 89%|████████▉ | 866/970 [1:33:10<01:02,  1.65it/s]"
     ]
    },
    {
     "name": "stdout",
     "output_type": "stream",
     "text": [
      "❌ Error at row 1324 (TRMK): Error code: 429 - {'error': {'message': 'Rate limit reached for model `llama3-70b-8192` in organization `org_01jteba7n9ehjbkb6dypw1vck0` service tier `on_demand` on tokens per day (TPD): Limit 500000, Used 500060, Requested 1145. Please try again in 3m28.2334s. Need more tokens? Upgrade to Dev Tier today at https://console.groq.com/settings/billing', 'type': 'tokens', 'code': 'rate_limit_exceeded'}}\n",
      "\n",
      "🔍 Processing row 1325 | Ticker: TRN, Year: 2025\n",
      "🔹 1 chunk(s) generated\n",
      "🧠 Invoking LLM on chunk 1/1...\n",
      "❌ Error at row 1325 (TRN): Error code: 429 - {'error': {'message': 'Rate limit reached for model `llama3-70b-8192` in organization `org_01jteba7n9ehjbkb6dypw1vck0` service tier `on_demand` on tokens per day (TPD): Limit 500000, Used 500059, Requested 631. Please try again in 1m59.347199999s. Need more tokens? Upgrade to Dev Tier today at https://console.groq.com/settings/billing', 'type': 'tokens', 'code': 'rate_limit_exceeded'}}\n",
      "\n",
      "🔍 Processing row 1326 | Ticker: TRNO, Year: 2025\n",
      "🔹 1 chunk(s) generated\n",
      "🧠 Invoking LLM on chunk 1/1...\n",
      "❌ Error at row 1326 (TRNO): Error code: 429 - {'error': {'message': 'Rate limit reached for model `llama3-70b-8192` in organization `org_01jteba7n9ehjbkb6dypw1vck0` service tier `on_demand` on tokens per day (TPD): Limit 500000, Used 500059, Requested 1145. Please try again in 3m28.0984s. Need more tokens? Upgrade to Dev Tier today at https://console.groq.com/settings/billing', 'type': 'tokens', 'code': 'rate_limit_exceeded'}}\n",
      "\n",
      "🔍 Processing row 1327 | Ticker: TROW, Year: 2025\n",
      "🔹 1 chunk(s) generated\n",
      "🧠 Invoking LLM on chunk 1/1...\n",
      "❌ Error at row 1327 (TROW): Error code: 429 - {'error': {'message': 'Rate limit reached for model `llama3-70b-8192` in organization `org_01jteba7n9ehjbkb6dypw1vck0` service tier `on_demand` on tokens per day (TPD): Limit 500000, Used 500058, Requested 1145. Please try again in 3m28.033399999s. Need more tokens? Upgrade to Dev Tier today at https://console.groq.com/settings/billing', 'type': 'tokens', 'code': 'rate_limit_exceeded'}}\n"
     ]
    },
    {
     "name": "stderr",
     "output_type": "stream",
     "text": [
      " 89%|████████▉ | 868/970 [1:33:10<00:45,  2.26it/s]"
     ]
    },
    {
     "name": "stdout",
     "output_type": "stream",
     "text": [
      "\n",
      "🔍 Processing row 1329 | Ticker: TRUP, Year: 2025\n",
      "🔹 1 chunk(s) generated\n",
      "🧠 Invoking LLM on chunk 1/1...\n",
      "❌ Error at row 1329 (TRUP): Error code: 429 - {'error': {'message': 'Rate limit reached for model `llama3-70b-8192` in organization `org_01jteba7n9ehjbkb6dypw1vck0` service tier `on_demand` on tokens per day (TPD): Limit 500000, Used 500058, Requested 1145. Please try again in 3m27.9614s. Need more tokens? Upgrade to Dev Tier today at https://console.groq.com/settings/billing', 'type': 'tokens', 'code': 'rate_limit_exceeded'}}\n",
      "\n",
      "🔍 Processing row 1330 | Ticker: TRV, Year: 2025\n",
      "🔹 1 chunk(s) generated\n",
      "🧠 Invoking LLM on chunk 1/1...\n",
      "❌ Error at row 1330 (TRV): Error code: 429 - {'error': {'message': 'Rate limit reached for model `llama3-70b-8192` in organization `org_01jteba7n9ehjbkb6dypw1vck0` service tier `on_demand` on tokens per day (TPD): Limit 500000, Used 500058, Requested 1145. Please try again in 3m27.8954s. Need more tokens? Upgrade to Dev Tier today at https://console.groq.com/settings/billing', 'type': 'tokens', 'code': 'rate_limit_exceeded'}}\n",
      "\n",
      "🔍 Processing row 1332 | Ticker: TSLA, Year: 2025\n",
      "🔹 1 chunk(s) generated\n",
      "🧠 Invoking LLM on chunk 1/1...\n"
     ]
    },
    {
     "name": "stderr",
     "output_type": "stream",
     "text": [
      " 90%|████████▉ | 872/970 [1:33:10<00:24,  3.99it/s]"
     ]
    },
    {
     "name": "stdout",
     "output_type": "stream",
     "text": [
      "❌ Error at row 1332 (TSLA): Error code: 429 - {'error': {'message': 'Rate limit reached for model `llama3-70b-8192` in organization `org_01jteba7n9ehjbkb6dypw1vck0` service tier `on_demand` on tokens per day (TPD): Limit 500000, Used 500057, Requested 1145. Please try again in 3m27.8244s. Need more tokens? Upgrade to Dev Tier today at https://console.groq.com/settings/billing', 'type': 'tokens', 'code': 'rate_limit_exceeded'}}\n",
      "\n",
      "🔍 Processing row 1333 | Ticker: TSN, Year: 2024\n",
      "🔹 1 chunk(s) generated\n",
      "🧠 Invoking LLM on chunk 1/1...\n",
      "❌ Error at row 1333 (TSN): Error code: 429 - {'error': {'message': 'Rate limit reached for model `llama3-70b-8192` in organization `org_01jteba7n9ehjbkb6dypw1vck0` service tier `on_demand` on tokens per day (TPD): Limit 500000, Used 500057, Requested 1145. Please try again in 3m27.7564s. Need more tokens? Upgrade to Dev Tier today at https://console.groq.com/settings/billing', 'type': 'tokens', 'code': 'rate_limit_exceeded'}}\n",
      "\n",
      "🔍 Processing row 1334 | Ticker: TT, Year: 2025\n",
      "🔹 1 chunk(s) generated\n",
      "🧠 Invoking LLM on chunk 1/1...\n",
      "❌ Error at row 1334 (TT): Error code: 429 - {'error': {'message': 'Rate limit reached for model `llama3-70b-8192` in organization `org_01jteba7n9ehjbkb6dypw1vck0` service tier `on_demand` on tokens per day (TPD): Limit 500000, Used 500056, Requested 1145. Please try again in 3m27.6924s. Need more tokens? Upgrade to Dev Tier today at https://console.groq.com/settings/billing', 'type': 'tokens', 'code': 'rate_limit_exceeded'}}\n",
      "\n",
      "🔍 Processing row 1337 | Ticker: TTGT, Year: 2025\n",
      "🔹 1 chunk(s) generated\n",
      "🧠 Invoking LLM on chunk 1/1...\n",
      "❌ Error at row 1337 (TTGT): Error code: 429 - {'error': {'message': 'Rate limit reached for model `llama3-70b-8192` in organization `org_01jteba7n9ehjbkb6dypw1vck0` service tier `on_demand` on tokens per day (TPD): Limit 500000, Used 500056, Requested 1145. Please try again in 3m27.628399999s. Need more tokens? Upgrade to Dev Tier today at https://console.groq.com/settings/billing', 'type': 'tokens', 'code': 'rate_limit_exceeded'}}\n"
     ]
    },
    {
     "name": "stderr",
     "output_type": "stream",
     "text": [
      " 90%|█████████ | 874/970 [1:33:10<00:20,  4.69it/s]"
     ]
    },
    {
     "name": "stdout",
     "output_type": "stream",
     "text": [
      "\n",
      "🔍 Processing row 1340 | Ticker: TWI, Year: 2025\n",
      "🔹 1 chunk(s) generated\n",
      "🧠 Invoking LLM on chunk 1/1...\n",
      "❌ Error at row 1340 (TWI): Error code: 429 - {'error': {'message': 'Rate limit reached for model `llama3-70b-8192` in organization `org_01jteba7n9ehjbkb6dypw1vck0` service tier `on_demand` on tokens per day (TPD): Limit 500000, Used 500055, Requested 1145. Please try again in 3m27.4564s. Need more tokens? Upgrade to Dev Tier today at https://console.groq.com/settings/billing', 'type': 'tokens', 'code': 'rate_limit_exceeded'}}\n",
      "\n",
      "🔍 Processing row 1341 | Ticker: TWO, Year: 2025\n",
      "🔹 1 chunk(s) generated\n",
      "🧠 Invoking LLM on chunk 1/1...\n",
      "❌ Error at row 1341 (TWO): Error code: 429 - {'error': {'message': 'Rate limit reached for model `llama3-70b-8192` in organization `org_01jteba7n9ehjbkb6dypw1vck0` service tier `on_demand` on tokens per day (TPD): Limit 500000, Used 500055, Requested 1145. Please try again in 3m27.3894s. Need more tokens? Upgrade to Dev Tier today at https://console.groq.com/settings/billing', 'type': 'tokens', 'code': 'rate_limit_exceeded'}}\n",
      "\n",
      "🔍 Processing row 1342 | Ticker: TXN, Year: 2025\n",
      "🔹 1 chunk(s) generated\n",
      "🧠 Invoking LLM on chunk 1/1...\n",
      "❌ Error at row 1342 (TXN): Error code: 429 - {'error': {'message': 'Rate limit reached for model `llama3-70b-8192` in organization `org_01jteba7n9ehjbkb6dypw1vck0` service tier `on_demand` on tokens per day (TPD): Limit 500000, Used 500054, Requested 1145. Please try again in 3m27.320399999s. Need more tokens? Upgrade to Dev Tier today at https://console.groq.com/settings/billing', 'type': 'tokens', 'code': 'rate_limit_exceeded'}}\n",
      "\n",
      "🔍 Processing row 1344 | Ticker: TXRH, Year: 2025\n",
      "🔹 1 chunk(s) generated\n",
      "🧠 Invoking LLM on chunk 1/1...\n"
     ]
    },
    {
     "name": "stderr",
     "output_type": "stream",
     "text": [
      " 91%|█████████ | 878/970 [1:33:10<00:12,  7.36it/s]"
     ]
    },
    {
     "name": "stdout",
     "output_type": "stream",
     "text": [
      "❌ Error at row 1344 (TXRH): Error code: 429 - {'error': {'message': 'Rate limit reached for model `llama3-70b-8192` in organization `org_01jteba7n9ehjbkb6dypw1vck0` service tier `on_demand` on tokens per day (TPD): Limit 500000, Used 500054, Requested 1145. Please try again in 3m27.2594s. Need more tokens? Upgrade to Dev Tier today at https://console.groq.com/settings/billing', 'type': 'tokens', 'code': 'rate_limit_exceeded'}}\n",
      "\n",
      "🔍 Processing row 1345 | Ticker: TXT, Year: 2025\n",
      "🔹 1 chunk(s) generated\n",
      "🧠 Invoking LLM on chunk 1/1...\n",
      "❌ Error at row 1345 (TXT): Error code: 429 - {'error': {'message': 'Rate limit reached for model `llama3-70b-8192` in organization `org_01jteba7n9ehjbkb6dypw1vck0` service tier `on_demand` on tokens per day (TPD): Limit 500000, Used 500054, Requested 1145. Please try again in 3m27.1954s. Need more tokens? Upgrade to Dev Tier today at https://console.groq.com/settings/billing', 'type': 'tokens', 'code': 'rate_limit_exceeded'}}\n",
      "\n",
      "🔍 Processing row 1346 | Ticker: TYL, Year: 2025\n",
      "🔹 1 chunk(s) generated\n",
      "🧠 Invoking LLM on chunk 1/1...\n",
      "❌ Error at row 1346 (TYL): Error code: 429 - {'error': {'message': 'Rate limit reached for model `llama3-70b-8192` in organization `org_01jteba7n9ehjbkb6dypw1vck0` service tier `on_demand` on tokens per day (TPD): Limit 500000, Used 500053, Requested 1145. Please try again in 3m27.1294s. Need more tokens? Upgrade to Dev Tier today at https://console.groq.com/settings/billing', 'type': 'tokens', 'code': 'rate_limit_exceeded'}}\n",
      "\n",
      "🔍 Processing row 1349 | Ticker: UAL, Year: 2025\n",
      "🔹 1 chunk(s) generated\n",
      "🧠 Invoking LLM on chunk 1/1...\n",
      "❌ Error at row 1349 (UAL): Error code: 429 - {'error': {'message': 'Rate limit reached for model `llama3-70b-8192` in organization `org_01jteba7n9ehjbkb6dypw1vck0` service tier `on_demand` on tokens per day (TPD): Limit 500000, Used 500053, Requested 1145. Please try again in 3m27.0634s. Need more tokens? Upgrade to Dev Tier today at https://console.groq.com/settings/billing', 'type': 'tokens', 'code': 'rate_limit_exceeded'}}\n",
      "\n",
      "🔍 Processing row 1350 | Ticker: UBER, Year: 2025\n",
      "🔹 1 chunk(s) generated\n",
      "🧠 Invoking LLM on chunk 1/1...\n"
     ]
    },
    {
     "name": "stderr",
     "output_type": "stream",
     "text": [
      " 91%|█████████ | 880/970 [1:33:11<00:10,  8.60it/s]"
     ]
    },
    {
     "name": "stdout",
     "output_type": "stream",
     "text": [
      "❌ Error at row 1350 (UBER): Error code: 429 - {'error': {'message': 'Rate limit reached for model `llama3-70b-8192` in organization `org_01jteba7n9ehjbkb6dypw1vck0` service tier `on_demand` on tokens per day (TPD): Limit 500000, Used 500052, Requested 1145. Please try again in 3m26.9974s. Need more tokens? Upgrade to Dev Tier today at https://console.groq.com/settings/billing', 'type': 'tokens', 'code': 'rate_limit_exceeded'}}\n",
      "\n",
      "🔍 Processing row 1351 | Ticker: UBSI, Year: 2025\n"
     ]
    },
    {
     "name": "stderr",
     "output_type": "stream",
     "text": [
      " 91%|█████████ | 882/970 [1:33:11<00:12,  6.84it/s]"
     ]
    },
    {
     "name": "stdout",
     "output_type": "stream",
     "text": [
      "🔹 1 chunk(s) generated\n",
      "🧠 Invoking LLM on chunk 1/1...\n",
      "❌ Error at row 1351 (UBSI): Error code: 429 - {'error': {'message': 'Rate limit reached for model `llama3-70b-8192` in organization `org_01jteba7n9ehjbkb6dypw1vck0` service tier `on_demand` on tokens per day (TPD): Limit 500000, Used 500050, Requested 1145. Please try again in 3m26.6244s. Need more tokens? Upgrade to Dev Tier today at https://console.groq.com/settings/billing', 'type': 'tokens', 'code': 'rate_limit_exceeded'}}\n",
      "\n",
      "🔍 Processing row 1352 | Ticker: UCTT, Year: 2025\n",
      "🔹 1 chunk(s) generated\n",
      "🧠 Invoking LLM on chunk 1/1...\n",
      "❌ Error at row 1352 (UCTT): Error code: 429 - {'error': {'message': 'Rate limit reached for model `llama3-70b-8192` in organization `org_01jteba7n9ehjbkb6dypw1vck0` service tier `on_demand` on tokens per day (TPD): Limit 500000, Used 500050, Requested 1145. Please try again in 3m26.5634s. Need more tokens? Upgrade to Dev Tier today at https://console.groq.com/settings/billing', 'type': 'tokens', 'code': 'rate_limit_exceeded'}}\n",
      "\n",
      "🔍 Processing row 1354 | Ticker: UE, Year: 2025\n",
      "🔹 1 chunk(s) generated\n",
      "🧠 Invoking LLM on chunk 1/1...\n"
     ]
    },
    {
     "name": "stderr",
     "output_type": "stream",
     "text": [
      " 91%|█████████▏| 886/970 [1:33:11<00:09,  8.93it/s]"
     ]
    },
    {
     "name": "stdout",
     "output_type": "stream",
     "text": [
      "❌ Error at row 1354 (UE): Error code: 429 - {'error': {'message': 'Rate limit reached for model `llama3-70b-8192` in organization `org_01jteba7n9ehjbkb6dypw1vck0` service tier `on_demand` on tokens per day (TPD): Limit 500000, Used 500049, Requested 1145. Please try again in 3m26.4524s. Need more tokens? Upgrade to Dev Tier today at https://console.groq.com/settings/billing', 'type': 'tokens', 'code': 'rate_limit_exceeded'}}\n",
      "\n",
      "🔍 Processing row 1355 | Ticker: UFCS, Year: 2025\n",
      "🔹 1 chunk(s) generated\n",
      "🧠 Invoking LLM on chunk 1/1...\n",
      "❌ Error at row 1355 (UFCS): Error code: 429 - {'error': {'message': 'Rate limit reached for model `llama3-70b-8192` in organization `org_01jteba7n9ehjbkb6dypw1vck0` service tier `on_demand` on tokens per day (TPD): Limit 500000, Used 500049, Requested 1145. Please try again in 3m26.3884s. Need more tokens? Upgrade to Dev Tier today at https://console.groq.com/settings/billing', 'type': 'tokens', 'code': 'rate_limit_exceeded'}}\n",
      "\n",
      "🔍 Processing row 1358 | Ticker: UGI, Year: 2024\n",
      "🔹 1 chunk(s) generated\n",
      "🧠 Invoking LLM on chunk 1/1...\n",
      "❌ Error at row 1358 (UGI): Error code: 429 - {'error': {'message': 'Rate limit reached for model `llama3-70b-8192` in organization `org_01jteba7n9ehjbkb6dypw1vck0` service tier `on_demand` on tokens per day (TPD): Limit 500000, Used 500048, Requested 1145. Please try again in 3m26.3164s. Need more tokens? Upgrade to Dev Tier today at https://console.groq.com/settings/billing', 'type': 'tokens', 'code': 'rate_limit_exceeded'}}\n",
      "\n",
      "🔍 Processing row 1359 | Ticker: UHS, Year: 2025\n",
      "🔹 1 chunk(s) generated\n",
      "🧠 Invoking LLM on chunk 1/1...\n",
      "❌ Error at row 1359 (UHS): Error code: 429 - {'error': {'message': 'Rate limit reached for model `llama3-70b-8192` in organization `org_01jteba7n9ehjbkb6dypw1vck0` service tier `on_demand` on tokens per day (TPD): Limit 500000, Used 500048, Requested 1145. Please try again in 3m26.243399999s. Need more tokens? Upgrade to Dev Tier today at https://console.groq.com/settings/billing', 'type': 'tokens', 'code': 'rate_limit_exceeded'}}\n",
      "\n",
      "🔍 Processing row 1360 | Ticker: UHT, Year: 2025\n",
      "🔹 1 chunk(s) generated\n",
      "🧠 Invoking LLM on chunk 1/1...\n",
      "❌ Error at row 1360 (UHT): Error code: 429 - {'error': {'message': 'Rate limit reached for model `llama3-70b-8192` in organization `org_01jteba7n9ehjbkb6dypw1vck0` service tier `on_demand` on tokens per day (TPD): Limit 500000, Used 500048, Requested 1145. Please try again in 3m26.151399999s. Need more tokens? Upgrade to Dev Tier today at https://console.groq.com/settings/billing', 'type': 'tokens', 'code': 'rate_limit_exceeded'}}\n",
      "\n",
      "🔍 Processing row 1361 | Ticker: ULTA, Year: 2025\n",
      "🔹 1 chunk(s) generated\n",
      "🧠 Invoking LLM on chunk 1/1...\n"
     ]
    },
    {
     "name": "stderr",
     "output_type": "stream",
     "text": [
      " 92%|█████████▏| 890/970 [1:33:12<00:08,  9.67it/s]"
     ]
    },
    {
     "name": "stdout",
     "output_type": "stream",
     "text": [
      "❌ Error at row 1361 (ULTA): Error code: 429 - {'error': {'message': 'Rate limit reached for model `llama3-70b-8192` in organization `org_01jteba7n9ehjbkb6dypw1vck0` service tier `on_demand` on tokens per day (TPD): Limit 500000, Used 500047, Requested 1145. Please try again in 3m25.994399999s. Need more tokens? Upgrade to Dev Tier today at https://console.groq.com/settings/billing', 'type': 'tokens', 'code': 'rate_limit_exceeded'}}\n",
      "\n",
      "🔍 Processing row 1362 | Ticker: UMBF, Year: 2025\n",
      "🔹 1 chunk(s) generated\n",
      "🧠 Invoking LLM on chunk 1/1...\n",
      "❌ Error at row 1362 (UMBF): Error code: 429 - {'error': {'message': 'Rate limit reached for model `llama3-70b-8192` in organization `org_01jteba7n9ehjbkb6dypw1vck0` service tier `on_demand` on tokens per day (TPD): Limit 500000, Used 500046, Requested 856. Please try again in 2m35.9752s. Need more tokens? Upgrade to Dev Tier today at https://console.groq.com/settings/billing', 'type': 'tokens', 'code': 'rate_limit_exceeded'}}\n",
      "\n",
      "🔍 Processing row 1363 | Ticker: UNF, Year: 2024\n",
      "🔹 1 chunk(s) generated\n",
      "🧠 Invoking LLM on chunk 1/1...\n",
      "❌ Error at row 1363 (UNF): Error code: 429 - {'error': {'message': 'Rate limit reached for model `llama3-70b-8192` in organization `org_01jteba7n9ehjbkb6dypw1vck0` service tier `on_demand` on tokens per day (TPD): Limit 500000, Used 500046, Requested 1145. Please try again in 3m25.845399999s. Need more tokens? Upgrade to Dev Tier today at https://console.groq.com/settings/billing', 'type': 'tokens', 'code': 'rate_limit_exceeded'}}\n",
      "\n",
      "🔍 Processing row 1366 | Ticker: UNIT, Year: 2025\n",
      "🔹 1 chunk(s) generated\n",
      "🧠 Invoking LLM on chunk 1/1...\n"
     ]
    },
    {
     "name": "stderr",
     "output_type": "stream",
     "text": [
      " 92%|█████████▏| 892/970 [1:33:12<00:07, 10.67it/s]"
     ]
    },
    {
     "name": "stdout",
     "output_type": "stream",
     "text": [
      "❌ Error at row 1366 (UNIT): Error code: 429 - {'error': {'message': 'Rate limit reached for model `llama3-70b-8192` in organization `org_01jteba7n9ehjbkb6dypw1vck0` service tier `on_demand` on tokens per day (TPD): Limit 500000, Used 500045, Requested 1145. Please try again in 3m25.7724s. Need more tokens? Upgrade to Dev Tier today at https://console.groq.com/settings/billing', 'type': 'tokens', 'code': 'rate_limit_exceeded'}}\n",
      "\n",
      "🔍 Processing row 1367 | Ticker: UNM, Year: 2025\n",
      "🔹 1 chunk(s) generated\n",
      "🧠 Invoking LLM on chunk 1/1...\n",
      "❌ Error at row 1367 (UNM): Error code: 429 - {'error': {'message': 'Rate limit reached for model `llama3-70b-8192` in organization `org_01jteba7n9ehjbkb6dypw1vck0` service tier `on_demand` on tokens per day (TPD): Limit 500000, Used 500045, Requested 1145. Please try again in 3m25.6944s. Need more tokens? Upgrade to Dev Tier today at https://console.groq.com/settings/billing', 'type': 'tokens', 'code': 'rate_limit_exceeded'}}\n",
      "\n",
      "🔍 Processing row 1370 | Ticker: UPS, Year: 2025\n",
      "🔹 1 chunk(s) generated\n",
      "🧠 Invoking LLM on chunk 1/1...\n",
      "❌ Error at row 1370 (UPS): Error code: 429 - {'error': {'message': 'Rate limit reached for model `llama3-70b-8192` in organization `org_01jteba7n9ehjbkb6dypw1vck0` service tier `on_demand` on tokens per day (TPD): Limit 500000, Used 500044, Requested 1145. Please try again in 3m25.600399999s. Need more tokens? Upgrade to Dev Tier today at https://console.groq.com/settings/billing', 'type': 'tokens', 'code': 'rate_limit_exceeded'}}\n",
      "\n",
      "🔍 Processing row 1371 | Ticker: URBN, Year: 2025\n",
      "🔹 1 chunk(s) generated\n",
      "🧠 Invoking LLM on chunk 1/1...\n"
     ]
    },
    {
     "name": "stderr",
     "output_type": "stream",
     "text": [
      " 92%|█████████▏| 896/970 [1:33:12<00:06, 11.06it/s]"
     ]
    },
    {
     "name": "stdout",
     "output_type": "stream",
     "text": [
      "❌ Error at row 1371 (URBN): Error code: 429 - {'error': {'message': 'Rate limit reached for model `llama3-70b-8192` in organization `org_01jteba7n9ehjbkb6dypw1vck0` service tier `on_demand` on tokens per day (TPD): Limit 500000, Used 500044, Requested 1145. Please try again in 3m25.5104s. Need more tokens? Upgrade to Dev Tier today at https://console.groq.com/settings/billing', 'type': 'tokens', 'code': 'rate_limit_exceeded'}}\n",
      "\n",
      "🔍 Processing row 1375 | Ticker: USNA, Year: 2025\n",
      "🔹 1 chunk(s) generated\n",
      "🧠 Invoking LLM on chunk 1/1...\n",
      "❌ Error at row 1375 (USNA): Error code: 429 - {'error': {'message': 'Rate limit reached for model `llama3-70b-8192` in organization `org_01jteba7n9ehjbkb6dypw1vck0` service tier `on_demand` on tokens per day (TPD): Limit 500000, Used 500043, Requested 1145. Please try again in 3m25.433399999s. Need more tokens? Upgrade to Dev Tier today at https://console.groq.com/settings/billing', 'type': 'tokens', 'code': 'rate_limit_exceeded'}}\n",
      "\n",
      "🔍 Processing row 1378 | Ticker: UTL, Year: 2025\n",
      "🔹 1 chunk(s) generated\n",
      "🧠 Invoking LLM on chunk 1/1...\n",
      "❌ Error at row 1378 (UTL): Error code: 429 - {'error': {'message': 'Rate limit reached for model `llama3-70b-8192` in organization `org_01jteba7n9ehjbkb6dypw1vck0` service tier `on_demand` on tokens per day (TPD): Limit 500000, Used 500043, Requested 1145. Please try again in 3m25.3444s. Need more tokens? Upgrade to Dev Tier today at https://console.groq.com/settings/billing', 'type': 'tokens', 'code': 'rate_limit_exceeded'}}\n",
      "\n",
      "🔍 Processing row 1379 | Ticker: UVV, Year: 2025\n",
      "🔹 1 chunk(s) generated\n",
      "🧠 Invoking LLM on chunk 1/1...\n"
     ]
    },
    {
     "name": "stderr",
     "output_type": "stream",
     "text": [
      " 93%|█████████▎| 898/970 [1:33:12<00:06, 11.23it/s]"
     ]
    },
    {
     "name": "stdout",
     "output_type": "stream",
     "text": [
      "❌ Error at row 1379 (UVV): Error code: 429 - {'error': {'message': 'Rate limit reached for model `llama3-70b-8192` in organization `org_01jteba7n9ehjbkb6dypw1vck0` service tier `on_demand` on tokens per day (TPD): Limit 500000, Used 500042, Requested 1145. Please try again in 3m25.2724s. Need more tokens? Upgrade to Dev Tier today at https://console.groq.com/settings/billing', 'type': 'tokens', 'code': 'rate_limit_exceeded'}}\n",
      "\n",
      "🔍 Processing row 1382 | Ticker: VAL, Year: 2025\n",
      "🔹 1 chunk(s) generated\n",
      "🧠 Invoking LLM on chunk 1/1...\n",
      "❌ Error at row 1382 (VAL): Error code: 429 - {'error': {'message': 'Rate limit reached for model `llama3-70b-8192` in organization `org_01jteba7n9ehjbkb6dypw1vck0` service tier `on_demand` on tokens per day (TPD): Limit 500000, Used 500042, Requested 544. Please try again in 1m41.324599999s. Need more tokens? Upgrade to Dev Tier today at https://console.groq.com/settings/billing', 'type': 'tokens', 'code': 'rate_limit_exceeded'}}\n",
      "\n",
      "🔍 Processing row 1383 | Ticker: VBTX, Year: 2025\n",
      "🔹 1 chunk(s) generated\n",
      "🧠 Invoking LLM on chunk 1/1...\n",
      "❌ Error at row 1383 (VBTX): Error code: 429 - {'error': {'message': 'Rate limit reached for model `llama3-70b-8192` in organization `org_01jteba7n9ehjbkb6dypw1vck0` service tier `on_demand` on tokens per day (TPD): Limit 500000, Used 500041, Requested 1145. Please try again in 3m25.0794s. Need more tokens? Upgrade to Dev Tier today at https://console.groq.com/settings/billing', 'type': 'tokens', 'code': 'rate_limit_exceeded'}}\n",
      "\n",
      "🔍 Processing row 1384 | Ticker: VC, Year: 2025\n",
      "🔹 1 chunk(s) generated\n",
      "🧠 Invoking LLM on chunk 1/1...\n"
     ]
    },
    {
     "name": "stderr",
     "output_type": "stream",
     "text": [
      " 93%|█████████▎| 902/970 [1:33:13<00:05, 11.89it/s]"
     ]
    },
    {
     "name": "stdout",
     "output_type": "stream",
     "text": [
      "❌ Error at row 1384 (VC): Error code: 429 - {'error': {'message': 'Rate limit reached for model `llama3-70b-8192` in organization `org_01jteba7n9ehjbkb6dypw1vck0` service tier `on_demand` on tokens per day (TPD): Limit 500000, Used 500041, Requested 537. Please try again in 1m39.948s. Need more tokens? Upgrade to Dev Tier today at https://console.groq.com/settings/billing', 'type': 'tokens', 'code': 'rate_limit_exceeded'}}\n",
      "\n",
      "🔍 Processing row 1385 | Ticker: VCEL, Year: 2025\n",
      "🔹 1 chunk(s) generated\n",
      "🧠 Invoking LLM on chunk 1/1...\n",
      "❌ Error at row 1385 (VCEL): Error code: 429 - {'error': {'message': 'Rate limit reached for model `llama3-70b-8192` in organization `org_01jteba7n9ehjbkb6dypw1vck0` service tier `on_demand` on tokens per day (TPD): Limit 500000, Used 500040, Requested 1145. Please try again in 3m24.9254s. Need more tokens? Upgrade to Dev Tier today at https://console.groq.com/settings/billing', 'type': 'tokens', 'code': 'rate_limit_exceeded'}}\n",
      "\n",
      "🔍 Processing row 1386 | Ticker: VECO, Year: 2025\n",
      "🔹 1 chunk(s) generated\n",
      "🧠 Invoking LLM on chunk 1/1...\n",
      "❌ Error at row 1386 (VECO): Error code: 429 - {'error': {'message': 'Rate limit reached for model `llama3-70b-8192` in organization `org_01jteba7n9ehjbkb6dypw1vck0` service tier `on_demand` on tokens per day (TPD): Limit 500000, Used 500040, Requested 422. Please try again in 1m19.921s. Need more tokens? Upgrade to Dev Tier today at https://console.groq.com/settings/billing', 'type': 'tokens', 'code': 'rate_limit_exceeded'}}\n",
      "\n",
      "🔍 Processing row 1387 | Ticker: VFC, Year: 2025\n"
     ]
    },
    {
     "name": "stderr",
     "output_type": "stream",
     "text": [
      " 93%|█████████▎| 904/970 [1:33:13<00:06,  9.52it/s]"
     ]
    },
    {
     "name": "stdout",
     "output_type": "stream",
     "text": [
      "🔹 1 chunk(s) generated\n",
      "🧠 Invoking LLM on chunk 1/1...\n",
      "❌ Error at row 1387 (VFC): Error code: 429 - {'error': {'message': 'Rate limit reached for model `llama3-70b-8192` in organization `org_01jteba7n9ehjbkb6dypw1vck0` service tier `on_demand` on tokens per day (TPD): Limit 500000, Used 500039, Requested 1145. Please try again in 3m24.6244s. Need more tokens? Upgrade to Dev Tier today at https://console.groq.com/settings/billing', 'type': 'tokens', 'code': 'rate_limit_exceeded'}}\n",
      "\n",
      "🔍 Processing row 1388 | Ticker: VIAV, Year: 2024\n",
      "🔹 1 chunk(s) generated\n",
      "🧠 Invoking LLM on chunk 1/1...\n",
      "❌ Error at row 1388 (VIAV): Error code: 429 - {'error': {'message': 'Rate limit reached for model `llama3-70b-8192` in organization `org_01jteba7n9ehjbkb6dypw1vck0` service tier `on_demand` on tokens per day (TPD): Limit 500000, Used 500038, Requested 1145. Please try again in 3m24.550399999s. Need more tokens? Upgrade to Dev Tier today at https://console.groq.com/settings/billing', 'type': 'tokens', 'code': 'rate_limit_exceeded'}}\n",
      "\n",
      "🔍 Processing row 1389 | Ticker: VICI, Year: 2025\n",
      "🔹 1 chunk(s) generated\n",
      "🧠 Invoking LLM on chunk 1/1...\n"
     ]
    },
    {
     "name": "stderr",
     "output_type": "stream",
     "text": [
      " 93%|█████████▎| 906/970 [1:33:13<00:06, 10.18it/s]"
     ]
    },
    {
     "name": "stdout",
     "output_type": "stream",
     "text": [
      "❌ Error at row 1389 (VICI): Error code: 429 - {'error': {'message': 'Rate limit reached for model `llama3-70b-8192` in organization `org_01jteba7n9ehjbkb6dypw1vck0` service tier `on_demand` on tokens per day (TPD): Limit 500000, Used 500038, Requested 1145. Please try again in 3m24.463399999s. Need more tokens? Upgrade to Dev Tier today at https://console.groq.com/settings/billing', 'type': 'tokens', 'code': 'rate_limit_exceeded'}}\n",
      "\n",
      "🔍 Processing row 1391 | Ticker: VIR, Year: 2025\n",
      "🔹 1 chunk(s) generated\n",
      "🧠 Invoking LLM on chunk 1/1...\n",
      "❌ Error at row 1391 (VIR): Error code: 429 - {'error': {'message': 'Rate limit reached for model `llama3-70b-8192` in organization `org_01jteba7n9ehjbkb6dypw1vck0` service tier `on_demand` on tokens per day (TPD): Limit 500000, Used 500037, Requested 1145. Please try again in 3m24.374399999s. Need more tokens? Upgrade to Dev Tier today at https://console.groq.com/settings/billing', 'type': 'tokens', 'code': 'rate_limit_exceeded'}}\n",
      "\n",
      "🔍 Processing row 1392 | Ticker: VIRT, Year: 2025\n",
      "🔹 1 chunk(s) generated\n",
      "🧠 Invoking LLM on chunk 1/1...\n",
      "❌ Error at row 1392 (VIRT): Error code: 429 - {'error': {'message': 'Rate limit reached for model `llama3-70b-8192` in organization `org_01jteba7n9ehjbkb6dypw1vck0` service tier `on_demand` on tokens per day (TPD): Limit 500000, Used 500037, Requested 1145. Please try again in 3m24.2864s. Need more tokens? Upgrade to Dev Tier today at https://console.groq.com/settings/billing', 'type': 'tokens', 'code': 'rate_limit_exceeded'}}\n",
      "\n",
      "🔍 Processing row 1394 | Ticker: VLTO, Year: 2025\n",
      "🔹 1 chunk(s) generated\n",
      "🧠 Invoking LLM on chunk 1/1...\n"
     ]
    },
    {
     "name": "stderr",
     "output_type": "stream",
     "text": [
      " 94%|█████████▎| 908/970 [1:33:13<00:05, 10.35it/s]"
     ]
    },
    {
     "name": "stdout",
     "output_type": "stream",
     "text": [
      "❌ Error at row 1394 (VLTO): Error code: 429 - {'error': {'message': 'Rate limit reached for model `llama3-70b-8192` in organization `org_01jteba7n9ehjbkb6dypw1vck0` service tier `on_demand` on tokens per day (TPD): Limit 500000, Used 500036, Requested 1145. Please try again in 3m24.199399999s. Need more tokens? Upgrade to Dev Tier today at https://console.groq.com/settings/billing', 'type': 'tokens', 'code': 'rate_limit_exceeded'}}\n",
      "\n",
      "🔍 Processing row 1395 | Ticker: VLY, Year: 2025\n",
      "🔹 1 chunk(s) generated\n",
      "🧠 Invoking LLM on chunk 1/1...\n"
     ]
    },
    {
     "name": "stderr",
     "output_type": "stream",
     "text": [
      " 94%|█████████▍| 912/970 [1:33:14<00:06,  9.63it/s]"
     ]
    },
    {
     "name": "stdout",
     "output_type": "stream",
     "text": [
      "❌ Error at row 1395 (VLY): Error code: 429 - {'error': {'message': 'Rate limit reached for model `llama3-70b-8192` in organization `org_01jteba7n9ehjbkb6dypw1vck0` service tier `on_demand` on tokens per day (TPD): Limit 500000, Used 500035, Requested 1145. Please try again in 3m23.934399999s. Need more tokens? Upgrade to Dev Tier today at https://console.groq.com/settings/billing', 'type': 'tokens', 'code': 'rate_limit_exceeded'}}\n",
      "\n",
      "🔍 Processing row 1397 | Ticker: VMI, Year: 2025\n",
      "🔹 1 chunk(s) generated\n",
      "🧠 Invoking LLM on chunk 1/1...\n",
      "❌ Error at row 1397 (VMI): Error code: 429 - {'error': {'message': 'Rate limit reached for model `llama3-70b-8192` in organization `org_01jteba7n9ehjbkb6dypw1vck0` service tier `on_demand` on tokens per day (TPD): Limit 500000, Used 500034, Requested 1145. Please try again in 3m23.8514s. Need more tokens? Upgrade to Dev Tier today at https://console.groq.com/settings/billing', 'type': 'tokens', 'code': 'rate_limit_exceeded'}}\n",
      "\n",
      "🔍 Processing row 1398 | Ticker: VNO, Year: 2025\n",
      "🔹 1 chunk(s) generated\n",
      "🧠 Invoking LLM on chunk 1/1...\n",
      "❌ Error at row 1398 (VNO): Error code: 429 - {'error': {'message': 'Rate limit reached for model `llama3-70b-8192` in organization `org_01jteba7n9ehjbkb6dypw1vck0` service tier `on_demand` on tokens per day (TPD): Limit 500000, Used 500034, Requested 1145. Please try again in 3m23.7864s. Need more tokens? Upgrade to Dev Tier today at https://console.groq.com/settings/billing', 'type': 'tokens', 'code': 'rate_limit_exceeded'}}\n",
      "\n",
      "🔍 Processing row 1399 | Ticker: VNOM, Year: 2025\n",
      "🔹 1 chunk(s) generated\n",
      "🧠 Invoking LLM on chunk 1/1...\n",
      "❌ Error at row 1399 (VNOM): Error code: 429 - {'error': {'message': 'Rate limit reached for model `llama3-70b-8192` in organization `org_01jteba7n9ehjbkb6dypw1vck0` service tier `on_demand` on tokens per day (TPD): Limit 500000, Used 500033, Requested 637. Please try again in 1m55.937s. Need more tokens? Upgrade to Dev Tier today at https://console.groq.com/settings/billing', 'type': 'tokens', 'code': 'rate_limit_exceeded'}}\n"
     ]
    },
    {
     "name": "stderr",
     "output_type": "stream",
     "text": [
      " 94%|█████████▍| 914/970 [1:33:14<00:05, 10.29it/s]"
     ]
    },
    {
     "name": "stdout",
     "output_type": "stream",
     "text": [
      "\n",
      "🔍 Processing row 1400 | Ticker: VNT, Year: 2025\n",
      "🔹 1 chunk(s) generated\n",
      "🧠 Invoking LLM on chunk 1/1...\n",
      "❌ Error at row 1400 (VNT): Error code: 429 - {'error': {'message': 'Rate limit reached for model `llama3-70b-8192` in organization `org_01jteba7n9ehjbkb6dypw1vck0` service tier `on_demand` on tokens per day (TPD): Limit 500000, Used 500033, Requested 1145. Please try again in 3m23.6114s. Need more tokens? Upgrade to Dev Tier today at https://console.groq.com/settings/billing', 'type': 'tokens', 'code': 'rate_limit_exceeded'}}\n",
      "\n",
      "🔍 Processing row 1401 | Ticker: VOYA, Year: 2025\n",
      "🔹 1 chunk(s) generated\n",
      "🧠 Invoking LLM on chunk 1/1...\n",
      "❌ Error at row 1401 (VOYA): Error code: 429 - {'error': {'message': 'Rate limit reached for model `llama3-70b-8192` in organization `org_01jteba7n9ehjbkb6dypw1vck0` service tier `on_demand` on tokens per day (TPD): Limit 500000, Used 500032, Requested 1145. Please try again in 3m23.5474s. Need more tokens? Upgrade to Dev Tier today at https://console.groq.com/settings/billing', 'type': 'tokens', 'code': 'rate_limit_exceeded'}}\n",
      "\n",
      "🔍 Processing row 1402 | Ticker: VRE, Year: 2025\n",
      "🔹 1 chunk(s) generated\n",
      "🧠 Invoking LLM on chunk 1/1...\n"
     ]
    },
    {
     "name": "stderr",
     "output_type": "stream",
     "text": [
      " 94%|█████████▍| 916/970 [1:33:14<00:04, 11.26it/s]"
     ]
    },
    {
     "name": "stdout",
     "output_type": "stream",
     "text": [
      "❌ Error at row 1402 (VRE): Error code: 429 - {'error': {'message': 'Rate limit reached for model `llama3-70b-8192` in organization `org_01jteba7n9ehjbkb6dypw1vck0` service tier `on_demand` on tokens per day (TPD): Limit 500000, Used 500032, Requested 1145. Please try again in 3m23.475399999s. Need more tokens? Upgrade to Dev Tier today at https://console.groq.com/settings/billing', 'type': 'tokens', 'code': 'rate_limit_exceeded'}}\n",
      "\n",
      "🔍 Processing row 1403 | Ticker: VRRM, Year: 2025\n",
      "🔹 1 chunk(s) generated\n",
      "🧠 Invoking LLM on chunk 1/1...\n",
      "❌ Error at row 1403 (VRRM): Error code: 429 - {'error': {'message': 'Rate limit reached for model `llama3-70b-8192` in organization `org_01jteba7n9ehjbkb6dypw1vck0` service tier `on_demand` on tokens per day (TPD): Limit 500000, Used 500032, Requested 332. Please try again in 1m2.93s. Need more tokens? Upgrade to Dev Tier today at https://console.groq.com/settings/billing', 'type': 'tokens', 'code': 'rate_limit_exceeded'}}\n",
      "\n",
      "🔍 Processing row 1407 | Ticker: VRTX, Year: 2025\n",
      "🔹 1 chunk(s) generated\n",
      "🧠 Invoking LLM on chunk 1/1...\n",
      "❌ Error at row 1407 (VRTX): Error code: 429 - {'error': {'message': 'Rate limit reached for model `llama3-70b-8192` in organization `org_01jteba7n9ehjbkb6dypw1vck0` service tier `on_demand` on tokens per day (TPD): Limit 500000, Used 500031, Requested 1145. Please try again in 3m23.3364s. Need more tokens? Upgrade to Dev Tier today at https://console.groq.com/settings/billing', 'type': 'tokens', 'code': 'rate_limit_exceeded'}}\n",
      "\n",
      "🔍 Processing row 1409 | Ticker: VSCO, Year: 2025\n"
     ]
    },
    {
     "name": "stderr",
     "output_type": "stream",
     "text": [
      " 95%|█████████▍| 918/970 [1:33:14<00:05,  9.86it/s]"
     ]
    },
    {
     "name": "stdout",
     "output_type": "stream",
     "text": [
      "🔹 1 chunk(s) generated\n",
      "🧠 Invoking LLM on chunk 1/1...\n",
      "❌ Error at row 1409 (VSCO): Error code: 429 - {'error': {'message': 'Rate limit reached for model `llama3-70b-8192` in organization `org_01jteba7n9ehjbkb6dypw1vck0` service tier `on_demand` on tokens per day (TPD): Limit 500000, Used 500030, Requested 1145. Please try again in 3m23.1504s. Need more tokens? Upgrade to Dev Tier today at https://console.groq.com/settings/billing', 'type': 'tokens', 'code': 'rate_limit_exceeded'}}\n",
      "\n",
      "🔍 Processing row 1410 | Ticker: VSH, Year: 2025\n",
      "🔹 1 chunk(s) generated\n",
      "🧠 Invoking LLM on chunk 1/1...\n"
     ]
    },
    {
     "name": "stderr",
     "output_type": "stream",
     "text": [
      " 95%|█████████▍| 921/970 [1:34:06<05:00,  6.13s/it]"
     ]
    },
    {
     "name": "stdout",
     "output_type": "stream",
     "text": [
      "✅ Completed row 1410 | Risk Score: 2, Narrative: Legal & Regulatory\n",
      "\n",
      "🔍 Processing row 1413 | Ticker: VTLE, Year: 2025\n",
      "🔹 1 chunk(s) generated\n",
      "🧠 Invoking LLM on chunk 1/1...\n",
      "❌ Error at row 1413 (VTLE): Error code: 429 - {'error': {'message': 'Rate limit reached for model `llama3-70b-8192` in organization `org_01jteba7n9ehjbkb6dypw1vck0` service tier `on_demand` on tokens per day (TPD): Limit 500000, Used 500052, Requested 1145. Please try again in 3m26.9224s. Need more tokens? Upgrade to Dev Tier today at https://console.groq.com/settings/billing', 'type': 'tokens', 'code': 'rate_limit_exceeded'}}\n",
      "\n",
      "🔍 Processing row 1414 | Ticker: VTOL, Year: 2025\n",
      "🔹 1 chunk(s) generated\n",
      "🧠 Invoking LLM on chunk 1/1...\n",
      "❌ Error at row 1414 (VTOL): Error code: 429 - {'error': {'message': 'Rate limit reached for model `llama3-70b-8192` in organization `org_01jteba7n9ehjbkb6dypw1vck0` service tier `on_demand` on tokens per day (TPD): Limit 500000, Used 500052, Requested 357. Please try again in 1m10.688s. Need more tokens? Upgrade to Dev Tier today at https://console.groq.com/settings/billing', 'type': 'tokens', 'code': 'rate_limit_exceeded'}}\n",
      "\n",
      "🔍 Processing row 1416 | Ticker: VTRS, Year: 2025\n",
      "🔹 1 chunk(s) generated\n",
      "🧠 Invoking LLM on chunk 1/1...\n"
     ]
    },
    {
     "name": "stderr",
     "output_type": "stream",
     "text": [
      " 95%|█████████▌| 923/970 [1:34:06<03:16,  4.18s/it]"
     ]
    },
    {
     "name": "stdout",
     "output_type": "stream",
     "text": [
      "❌ Error at row 1416 (VTRS): Error code: 429 - {'error': {'message': 'Rate limit reached for model `llama3-70b-8192` in organization `org_01jteba7n9ehjbkb6dypw1vck0` service tier `on_demand` on tokens per day (TPD): Limit 500000, Used 500051, Requested 1145. Please try again in 3m26.7574s. Need more tokens? Upgrade to Dev Tier today at https://console.groq.com/settings/billing', 'type': 'tokens', 'code': 'rate_limit_exceeded'}}\n",
      "\n",
      "🔍 Processing row 1419 | Ticker: VZ, Year: 2025\n",
      "🔹 1 chunk(s) generated\n",
      "🧠 Invoking LLM on chunk 1/1...\n",
      "❌ Error at row 1419 (VZ): Error code: 429 - {'error': {'message': 'Rate limit reached for model `llama3-70b-8192` in organization `org_01jteba7n9ehjbkb6dypw1vck0` service tier `on_demand` on tokens per day (TPD): Limit 500000, Used 500050, Requested 1145. Please try again in 3m26.642399999s. Need more tokens? Upgrade to Dev Tier today at https://console.groq.com/settings/billing', 'type': 'tokens', 'code': 'rate_limit_exceeded'}}\n",
      "\n",
      "🔍 Processing row 1421 | Ticker: WABC, Year: 2025\n",
      "🔹 1 chunk(s) generated\n",
      "🧠 Invoking LLM on chunk 1/1...\n",
      "❌ Error at row 1421 (WABC): Error code: 429 - {'error': {'message': 'Rate limit reached for model `llama3-70b-8192` in organization `org_01jteba7n9ehjbkb6dypw1vck0` service tier `on_demand` on tokens per day (TPD): Limit 500000, Used 500050, Requested 1145. Please try again in 3m26.5604s. Need more tokens? Upgrade to Dev Tier today at https://console.groq.com/settings/billing', 'type': 'tokens', 'code': 'rate_limit_exceeded'}}\n",
      "\n",
      "🔍 Processing row 1422 | Ticker: WAFD, Year: 2024\n",
      "🔹 1 chunk(s) generated\n",
      "🧠 Invoking LLM on chunk 1/1...\n"
     ]
    },
    {
     "name": "stderr",
     "output_type": "stream",
     "text": [
      " 95%|█████████▌| 925/970 [1:34:06<02:09,  2.88s/it]"
     ]
    },
    {
     "name": "stdout",
     "output_type": "stream",
     "text": [
      "❌ Error at row 1422 (WAFD): Error code: 429 - {'error': {'message': 'Rate limit reached for model `llama3-70b-8192` in organization `org_01jteba7n9ehjbkb6dypw1vck0` service tier `on_demand` on tokens per day (TPD): Limit 500000, Used 500049, Requested 612. Please try again in 1m54.392s. Need more tokens? Upgrade to Dev Tier today at https://console.groq.com/settings/billing', 'type': 'tokens', 'code': 'rate_limit_exceeded'}}\n",
      "\n",
      "🔍 Processing row 1425 | Ticker: WBA, Year: 2024\n",
      "🔹 1 chunk(s) generated\n",
      "🧠 Invoking LLM on chunk 1/1...\n",
      "❌ Error at row 1425 (WBA): Error code: 429 - {'error': {'message': 'Rate limit reached for model `llama3-70b-8192` in organization `org_01jteba7n9ehjbkb6dypw1vck0` service tier `on_demand` on tokens per day (TPD): Limit 500000, Used 500049, Requested 1145. Please try again in 3m26.4164s. Need more tokens? Upgrade to Dev Tier today at https://console.groq.com/settings/billing', 'type': 'tokens', 'code': 'rate_limit_exceeded'}}\n",
      "\n",
      "🔍 Processing row 1426 | Ticker: WBD, Year: 2025\n"
     ]
    },
    {
     "name": "stderr",
     "output_type": "stream",
     "text": [
      " 96%|█████████▌| 927/970 [1:34:07<01:28,  2.05s/it]"
     ]
    },
    {
     "name": "stdout",
     "output_type": "stream",
     "text": [
      "🔹 1 chunk(s) generated\n",
      "🧠 Invoking LLM on chunk 1/1...\n",
      "❌ Error at row 1426 (WBD): Error code: 429 - {'error': {'message': 'Rate limit reached for model `llama3-70b-8192` in organization `org_01jteba7n9ehjbkb6dypw1vck0` service tier `on_demand` on tokens per day (TPD): Limit 500000, Used 500047, Requested 1145. Please try again in 3m26.094399999s. Need more tokens? Upgrade to Dev Tier today at https://console.groq.com/settings/billing', 'type': 'tokens', 'code': 'rate_limit_exceeded'}}\n",
      "\n",
      "🔍 Processing row 1427 | Ticker: WBS, Year: 2025\n",
      "🔹 1 chunk(s) generated\n",
      "🧠 Invoking LLM on chunk 1/1...\n"
     ]
    },
    {
     "name": "stderr",
     "output_type": "stream",
     "text": [
      " 96%|█████████▌| 930/970 [1:34:07<00:46,  1.17s/it]"
     ]
    },
    {
     "name": "stdout",
     "output_type": "stream",
     "text": [
      "❌ Error at row 1427 (WBS): Error code: 429 - {'error': {'message': 'Rate limit reached for model `llama3-70b-8192` in organization `org_01jteba7n9ehjbkb6dypw1vck0` service tier `on_demand` on tokens per day (TPD): Limit 500000, Used 500045, Requested 1145. Please try again in 3m25.7874s. Need more tokens? Upgrade to Dev Tier today at https://console.groq.com/settings/billing', 'type': 'tokens', 'code': 'rate_limit_exceeded'}}\n",
      "\n",
      "🔍 Processing row 1432 | Ticker: WDFC, Year: 2024\n",
      "🔹 1 chunk(s) generated\n",
      "🧠 Invoking LLM on chunk 1/1...\n",
      "❌ Error at row 1432 (WDFC): Error code: 429 - {'error': {'message': 'Rate limit reached for model `llama3-70b-8192` in organization `org_01jteba7n9ehjbkb6dypw1vck0` service tier `on_demand` on tokens per day (TPD): Limit 500000, Used 500045, Requested 1145. Please try again in 3m25.7014s. Need more tokens? Upgrade to Dev Tier today at https://console.groq.com/settings/billing', 'type': 'tokens', 'code': 'rate_limit_exceeded'}}\n",
      "\n",
      "🔍 Processing row 1433 | Ticker: WEC, Year: 2025\n",
      "🔹 1 chunk(s) generated\n",
      "🧠 Invoking LLM on chunk 1/1...\n",
      "❌ Error at row 1433 (WEC): Error code: 429 - {'error': {'message': 'Rate limit reached for model `llama3-70b-8192` in organization `org_01jteba7n9ehjbkb6dypw1vck0` service tier `on_demand` on tokens per day (TPD): Limit 500000, Used 500044, Requested 1145. Please try again in 3m25.6074s. Need more tokens? Upgrade to Dev Tier today at https://console.groq.com/settings/billing', 'type': 'tokens', 'code': 'rate_limit_exceeded'}}\n",
      "\n",
      "🔍 Processing row 1435 | Ticker: WEN, Year: 2025\n",
      "🔹 1 chunk(s) generated\n",
      "🧠 Invoking LLM on chunk 1/1...\n"
     ]
    },
    {
     "name": "stderr",
     "output_type": "stream",
     "text": [
      " 96%|█████████▌| 932/970 [1:34:08<00:30,  1.24it/s]"
     ]
    },
    {
     "name": "stdout",
     "output_type": "stream",
     "text": [
      "❌ Error at row 1435 (WEN): Error code: 429 - {'error': {'message': 'Rate limit reached for model `llama3-70b-8192` in organization `org_01jteba7n9ehjbkb6dypw1vck0` service tier `on_demand` on tokens per day (TPD): Limit 500000, Used 500044, Requested 1145. Please try again in 3m25.5334s. Need more tokens? Upgrade to Dev Tier today at https://console.groq.com/settings/billing', 'type': 'tokens', 'code': 'rate_limit_exceeded'}}\n",
      "\n",
      "🔍 Processing row 1439 | Ticker: WFRD, Year: 2025\n",
      "🔹 1 chunk(s) generated\n",
      "🧠 Invoking LLM on chunk 1/1...\n",
      "❌ Error at row 1439 (WFRD): Error code: 429 - {'error': {'message': 'Rate limit reached for model `llama3-70b-8192` in organization `org_01jteba7n9ehjbkb6dypw1vck0` service tier `on_demand` on tokens per day (TPD): Limit 500000, Used 500044, Requested 1145. Please try again in 3m25.4664s. Need more tokens? Upgrade to Dev Tier today at https://console.groq.com/settings/billing', 'type': 'tokens', 'code': 'rate_limit_exceeded'}}\n",
      "\n",
      "🔍 Processing row 1440 | Ticker: WGO, Year: 2024\n",
      "🔹 1 chunk(s) generated\n",
      "🧠 Invoking LLM on chunk 1/1...\n",
      "❌ Error at row 1440 (WGO): Error code: 429 - {'error': {'message': 'Rate limit reached for model `llama3-70b-8192` in organization `org_01jteba7n9ehjbkb6dypw1vck0` service tier `on_demand` on tokens per day (TPD): Limit 500000, Used 500043, Requested 1145. Please try again in 3m25.3854s. Need more tokens? Upgrade to Dev Tier today at https://console.groq.com/settings/billing', 'type': 'tokens', 'code': 'rate_limit_exceeded'}}\n",
      "\n",
      "🔍 Processing row 1441 | Ticker: WH, Year: 2025\n",
      "🔹 1 chunk(s) generated\n",
      "🧠 Invoking LLM on chunk 1/1...\n"
     ]
    },
    {
     "name": "stderr",
     "output_type": "stream",
     "text": [
      " 96%|█████████▋| 934/970 [1:34:08<00:20,  1.74it/s]"
     ]
    },
    {
     "name": "stdout",
     "output_type": "stream",
     "text": [
      "❌ Error at row 1441 (WH): Error code: 429 - {'error': {'message': 'Rate limit reached for model `llama3-70b-8192` in organization `org_01jteba7n9ehjbkb6dypw1vck0` service tier `on_demand` on tokens per day (TPD): Limit 500000, Used 500043, Requested 1145. Please try again in 3m25.3154s. Need more tokens? Upgrade to Dev Tier today at https://console.groq.com/settings/billing', 'type': 'tokens', 'code': 'rate_limit_exceeded'}}\n",
      "\n",
      "🔍 Processing row 1443 | Ticker: WHR, Year: 2025\n",
      "🔹 1 chunk(s) generated\n",
      "🧠 Invoking LLM on chunk 1/1...\n"
     ]
    },
    {
     "name": "stderr",
     "output_type": "stream",
     "text": [
      " 97%|█████████▋| 937/970 [1:34:08<00:12,  2.55it/s]"
     ]
    },
    {
     "name": "stdout",
     "output_type": "stream",
     "text": [
      "❌ Error at row 1443 (WHR): Error code: 429 - {'error': {'message': 'Rate limit reached for model `llama3-70b-8192` in organization `org_01jteba7n9ehjbkb6dypw1vck0` service tier `on_demand` on tokens per day (TPD): Limit 500000, Used 500041, Requested 1145. Please try again in 3m25.009399999s. Need more tokens? Upgrade to Dev Tier today at https://console.groq.com/settings/billing', 'type': 'tokens', 'code': 'rate_limit_exceeded'}}\n",
      "\n",
      "🔍 Processing row 1444 | Ticker: WING, Year: 2025\n",
      "🔹 1 chunk(s) generated\n",
      "🧠 Invoking LLM on chunk 1/1...\n",
      "❌ Error at row 1444 (WING): Error code: 429 - {'error': {'message': 'Rate limit reached for model `llama3-70b-8192` in organization `org_01jteba7n9ehjbkb6dypw1vck0` service tier `on_demand` on tokens per day (TPD): Limit 500000, Used 500040, Requested 1145. Please try again in 3m24.9364s. Need more tokens? Upgrade to Dev Tier today at https://console.groq.com/settings/billing', 'type': 'tokens', 'code': 'rate_limit_exceeded'}}\n",
      "\n",
      "🔍 Processing row 1446 | Ticker: WLK, Year: 2025\n",
      "🔹 1 chunk(s) generated\n",
      "🧠 Invoking LLM on chunk 1/1...\n",
      "❌ Error at row 1446 (WLK): Error code: 429 - {'error': {'message': 'Rate limit reached for model `llama3-70b-8192` in organization `org_01jteba7n9ehjbkb6dypw1vck0` service tier `on_demand` on tokens per day (TPD): Limit 500000, Used 500040, Requested 1145. Please try again in 3m24.825399999s. Need more tokens? Upgrade to Dev Tier today at https://console.groq.com/settings/billing', 'type': 'tokens', 'code': 'rate_limit_exceeded'}}\n",
      "\n",
      "🔍 Processing row 1447 | Ticker: WLY, Year: 2025\n",
      "🔹 1 chunk(s) generated\n",
      "🧠 Invoking LLM on chunk 1/1...\n"
     ]
    },
    {
     "name": "stderr",
     "output_type": "stream",
     "text": [
      " 97%|█████████▋| 939/970 [1:34:08<00:09,  3.27it/s]"
     ]
    },
    {
     "name": "stdout",
     "output_type": "stream",
     "text": [
      "❌ Error at row 1447 (WLY): Error code: 429 - {'error': {'message': 'Rate limit reached for model `llama3-70b-8192` in organization `org_01jteba7n9ehjbkb6dypw1vck0` service tier `on_demand` on tokens per day (TPD): Limit 500000, Used 500039, Requested 1145. Please try again in 3m24.7274s. Need more tokens? Upgrade to Dev Tier today at https://console.groq.com/settings/billing', 'type': 'tokens', 'code': 'rate_limit_exceeded'}}\n",
      "\n",
      "🔍 Processing row 1448 | Ticker: WM, Year: 2025\n",
      "🔹 1 chunk(s) generated\n",
      "🧠 Invoking LLM on chunk 1/1...\n",
      "❌ Error at row 1448 (WM): Error code: 429 - {'error': {'message': 'Rate limit reached for model `llama3-70b-8192` in organization `org_01jteba7n9ehjbkb6dypw1vck0` service tier `on_demand` on tokens per day (TPD): Limit 500000, Used 500038, Requested 1145. Please try again in 3m24.5364s. Need more tokens? Upgrade to Dev Tier today at https://console.groq.com/settings/billing', 'type': 'tokens', 'code': 'rate_limit_exceeded'}}\n",
      "\n",
      "🔍 Processing row 1449 | Ticker: WMB, Year: 2025\n"
     ]
    },
    {
     "name": "stderr",
     "output_type": "stream",
     "text": [
      " 97%|█████████▋| 940/970 [1:34:09<00:08,  3.39it/s]"
     ]
    },
    {
     "name": "stdout",
     "output_type": "stream",
     "text": [
      "🔹 1 chunk(s) generated\n",
      "🧠 Invoking LLM on chunk 1/1...\n",
      "❌ Error at row 1449 (WMB): Error code: 429 - {'error': {'message': 'Rate limit reached for model `llama3-70b-8192` in organization `org_01jteba7n9ehjbkb6dypw1vck0` service tier `on_demand` on tokens per day (TPD): Limit 500000, Used 500037, Requested 1145. Please try again in 3m24.2874s. Need more tokens? Upgrade to Dev Tier today at https://console.groq.com/settings/billing', 'type': 'tokens', 'code': 'rate_limit_exceeded'}}\n",
      "\n",
      "🔍 Processing row 1450 | Ticker: WMG, Year: 2024\n",
      "🔹 1 chunk(s) generated\n",
      "🧠 Invoking LLM on chunk 1/1...\n",
      "❌ Error at row 1450 (WMG): Error code: 429 - {'error': {'message': 'Rate limit reached for model `llama3-70b-8192` in organization `org_01jteba7n9ehjbkb6dypw1vck0` service tier `on_demand` on tokens per day (TPD): Limit 500000, Used 500036, Requested 1145. Please try again in 3m24.1894s. Need more tokens? Upgrade to Dev Tier today at https://console.groq.com/settings/billing', 'type': 'tokens', 'code': 'rate_limit_exceeded'}}\n",
      "\n",
      "🔍 Processing row 1451 | Ticker: WMS, Year: 2025\n",
      "🔹 1 chunk(s) generated\n",
      "🧠 Invoking LLM on chunk 1/1...\n"
     ]
    },
    {
     "name": "stderr",
     "output_type": "stream",
     "text": [
      " 97%|█████████▋| 942/970 [1:34:09<00:06,  4.55it/s]"
     ]
    },
    {
     "name": "stdout",
     "output_type": "stream",
     "text": [
      "❌ Error at row 1451 (WMS): Error code: 429 - {'error': {'message': 'Rate limit reached for model `llama3-70b-8192` in organization `org_01jteba7n9ehjbkb6dypw1vck0` service tier `on_demand` on tokens per day (TPD): Limit 500000, Used 500036, Requested 1145. Please try again in 3m24.1154s. Need more tokens? Upgrade to Dev Tier today at https://console.groq.com/settings/billing', 'type': 'tokens', 'code': 'rate_limit_exceeded'}}\n",
      "\n",
      "🔍 Processing row 1452 | Ticker: WMT, Year: 2025\n",
      "🔹 1 chunk(s) generated\n",
      "🧠 Invoking LLM on chunk 1/1...\n",
      "❌ Error at row 1452 (WMT): Error code: 429 - {'error': {'message': 'Rate limit reached for model `llama3-70b-8192` in organization `org_01jteba7n9ehjbkb6dypw1vck0` service tier `on_demand` on tokens per day (TPD): Limit 500000, Used 500035, Requested 1145. Please try again in 3m24.0444s. Need more tokens? Upgrade to Dev Tier today at https://console.groq.com/settings/billing', 'type': 'tokens', 'code': 'rate_limit_exceeded'}}\n",
      "\n",
      "🔍 Processing row 1454 | Ticker: WPC, Year: 2025\n"
     ]
    },
    {
     "name": "stderr",
     "output_type": "stream",
     "text": [
      " 97%|█████████▋| 944/970 [1:34:09<00:05,  4.49it/s]"
     ]
    },
    {
     "name": "stdout",
     "output_type": "stream",
     "text": [
      "🔹 1 chunk(s) generated\n",
      "🧠 Invoking LLM on chunk 1/1...\n",
      "❌ Error at row 1454 (WPC): Error code: 429 - {'error': {'message': 'Rate limit reached for model `llama3-70b-8192` in organization `org_01jteba7n9ehjbkb6dypw1vck0` service tier `on_demand` on tokens per day (TPD): Limit 500000, Used 500033, Requested 1145. Please try again in 3m23.6564s. Need more tokens? Upgrade to Dev Tier today at https://console.groq.com/settings/billing', 'type': 'tokens', 'code': 'rate_limit_exceeded'}}\n",
      "\n",
      "🔍 Processing row 1455 | Ticker: WRB, Year: 2025\n",
      "🔹 1 chunk(s) generated\n",
      "🧠 Invoking LLM on chunk 1/1...\n",
      "❌ Error at row 1455 (WRB): Error code: 429 - {'error': {'message': 'Rate limit reached for model `llama3-70b-8192` in organization `org_01jteba7n9ehjbkb6dypw1vck0` service tier `on_demand` on tokens per day (TPD): Limit 500000, Used 500033, Requested 1145. Please try again in 3m23.5874s. Need more tokens? Upgrade to Dev Tier today at https://console.groq.com/settings/billing', 'type': 'tokens', 'code': 'rate_limit_exceeded'}}\n",
      "\n",
      "🔍 Processing row 1456 | Ticker: WRLD, Year: 2025\n",
      "🔹 1 chunk(s) generated\n",
      "🧠 Invoking LLM on chunk 1/1...\n"
     ]
    },
    {
     "name": "stderr",
     "output_type": "stream",
     "text": [
      " 98%|█████████▊| 947/970 [1:34:10<00:04,  5.60it/s]"
     ]
    },
    {
     "name": "stdout",
     "output_type": "stream",
     "text": [
      "❌ Error at row 1456 (WRLD): Error code: 429 - {'error': {'message': 'Rate limit reached for model `llama3-70b-8192` in organization `org_01jteba7n9ehjbkb6dypw1vck0` service tier `on_demand` on tokens per day (TPD): Limit 500000, Used 500032, Requested 1145. Please try again in 3m23.5204s. Need more tokens? Upgrade to Dev Tier today at https://console.groq.com/settings/billing', 'type': 'tokens', 'code': 'rate_limit_exceeded'}}\n",
      "\n",
      "🔍 Processing row 1459 | Ticker: WSFS, Year: 2025\n",
      "🔹 1 chunk(s) generated\n",
      "🧠 Invoking LLM on chunk 1/1...\n",
      "❌ Error at row 1459 (WSFS): Error code: 429 - {'error': {'message': 'Rate limit reached for model `llama3-70b-8192` in organization `org_01jteba7n9ehjbkb6dypw1vck0` service tier `on_demand` on tokens per day (TPD): Limit 500000, Used 500031, Requested 1145. Please try again in 3m23.2994s. Need more tokens? Upgrade to Dev Tier today at https://console.groq.com/settings/billing', 'type': 'tokens', 'code': 'rate_limit_exceeded'}}\n"
     ]
    },
    {
     "name": "stderr",
     "output_type": "stream",
     "text": [
      " 98%|█████████▊| 949/970 [1:34:10<00:02,  7.03it/s]"
     ]
    },
    {
     "name": "stdout",
     "output_type": "stream",
     "text": [
      "\n",
      "🔍 Processing row 1460 | Ticker: WSM, Year: 2025\n",
      "🔹 1 chunk(s) generated\n",
      "🧠 Invoking LLM on chunk 1/1...\n",
      "❌ Error at row 1460 (WSM): Error code: 429 - {'error': {'message': 'Rate limit reached for model `llama3-70b-8192` in organization `org_01jteba7n9ehjbkb6dypw1vck0` service tier `on_demand` on tokens per day (TPD): Limit 500000, Used 500031, Requested 1145. Please try again in 3m23.2254s. Need more tokens? Upgrade to Dev Tier today at https://console.groq.com/settings/billing', 'type': 'tokens', 'code': 'rate_limit_exceeded'}}\n",
      "\n",
      "🔍 Processing row 1463 | Ticker: WST, Year: 2025\n",
      "🔹 1 chunk(s) generated\n",
      "🧠 Invoking LLM on chunk 1/1...\n",
      "❌ Error at row 1463 (WST): Error code: 429 - {'error': {'message': 'Rate limit reached for model `llama3-70b-8192` in organization `org_01jteba7n9ehjbkb6dypw1vck0` service tier `on_demand` on tokens per day (TPD): Limit 500000, Used 500030, Requested 1145. Please try again in 3m23.159399999s. Need more tokens? Upgrade to Dev Tier today at https://console.groq.com/settings/billing', 'type': 'tokens', 'code': 'rate_limit_exceeded'}}\n",
      "\n",
      "🔍 Processing row 1464 | Ticker: WT, Year: 2025\n",
      "🔹 1 chunk(s) generated\n",
      "🧠 Invoking LLM on chunk 1/1...\n"
     ]
    },
    {
     "name": "stderr",
     "output_type": "stream",
     "text": [
      " 98%|█████████▊| 950/970 [1:34:54<03:01,  9.05s/it]"
     ]
    },
    {
     "name": "stdout",
     "output_type": "stream",
     "text": [
      "✅ Completed row 1464 | Risk Score: 3, Narrative: Legal & Regulatory\n",
      "\n",
      "🔍 Processing row 1465 | Ticker: WTFC, Year: 2025\n"
     ]
    },
    {
     "name": "stderr",
     "output_type": "stream",
     "text": [
      " 98%|█████████▊| 951/970 [1:34:55<02:15,  7.15s/it]"
     ]
    },
    {
     "name": "stdout",
     "output_type": "stream",
     "text": [
      "🔹 1 chunk(s) generated\n",
      "🧠 Invoking LLM on chunk 1/1...\n",
      "❌ Error at row 1465 (WTFC): Error code: 429 - {'error': {'message': 'Rate limit reached for model `llama3-70b-8192` in organization `org_01jteba7n9ehjbkb6dypw1vck0` service tier `on_demand` on tokens per day (TPD): Limit 500000, Used 500046, Requested 1145. Please try again in 3m25.955s. Need more tokens? Upgrade to Dev Tier today at https://console.groq.com/settings/billing', 'type': 'tokens', 'code': 'rate_limit_exceeded'}}\n",
      "\n",
      "🔍 Processing row 1468 | Ticker: WTW, Year: 2025\n",
      "🔹 1 chunk(s) generated\n",
      "🧠 Invoking LLM on chunk 1/1...\n",
      "❌ Error at row 1468 (WTW): Error code: 429 - {'error': {'message': 'Rate limit reached for model `llama3-70b-8192` in organization `org_01jteba7n9ehjbkb6dypw1vck0` service tier `on_demand` on tokens per day (TPD): Limit 500000, Used 500046, Requested 1145. Please try again in 3m25.869999999s. Need more tokens? Upgrade to Dev Tier today at https://console.groq.com/settings/billing', 'type': 'tokens', 'code': 'rate_limit_exceeded'}}\n",
      "\n",
      "🔍 Processing row 1469 | Ticker: WU, Year: 2025\n",
      "🔹 1 chunk(s) generated\n",
      "🧠 Invoking LLM on chunk 1/1...\n"
     ]
    },
    {
     "name": "stderr",
     "output_type": "stream",
     "text": [
      " 98%|█████████▊| 953/970 [1:34:55<01:14,  4.41s/it]"
     ]
    },
    {
     "name": "stdout",
     "output_type": "stream",
     "text": [
      "❌ Error at row 1469 (WU): Error code: 429 - {'error': {'message': 'Rate limit reached for model `llama3-70b-8192` in organization `org_01jteba7n9ehjbkb6dypw1vck0` service tier `on_demand` on tokens per day (TPD): Limit 500000, Used 500045, Requested 1145. Please try again in 3m25.793999999s. Need more tokens? Upgrade to Dev Tier today at https://console.groq.com/settings/billing', 'type': 'tokens', 'code': 'rate_limit_exceeded'}}\n",
      "\n",
      "🔍 Processing row 1471 | Ticker: WWW, Year: 2025\n",
      "🔹 1 chunk(s) generated\n",
      "🧠 Invoking LLM on chunk 1/1...\n",
      "❌ Error at row 1471 (WWW): Error code: 429 - {'error': {'message': 'Rate limit reached for model `llama3-70b-8192` in organization `org_01jteba7n9ehjbkb6dypw1vck0` service tier `on_demand` on tokens per day (TPD): Limit 500000, Used 500045, Requested 1145. Please try again in 3m25.708s. Need more tokens? Upgrade to Dev Tier today at https://console.groq.com/settings/billing', 'type': 'tokens', 'code': 'rate_limit_exceeded'}}\n",
      "\n",
      "🔍 Processing row 1472 | Ticker: WY, Year: 2025\n",
      "🔹 1 chunk(s) generated\n",
      "🧠 Invoking LLM on chunk 1/1...\n"
     ]
    },
    {
     "name": "stderr",
     "output_type": "stream",
     "text": [
      " 99%|█████████▊| 956/970 [1:34:55<00:32,  2.31s/it]"
     ]
    },
    {
     "name": "stdout",
     "output_type": "stream",
     "text": [
      "❌ Error at row 1472 (WY): Error code: 429 - {'error': {'message': 'Rate limit reached for model `llama3-70b-8192` in organization `org_01jteba7n9ehjbkb6dypw1vck0` service tier `on_demand` on tokens per day (TPD): Limit 500000, Used 500044, Requested 1145. Please try again in 3m25.572999999s. Need more tokens? Upgrade to Dev Tier today at https://console.groq.com/settings/billing', 'type': 'tokens', 'code': 'rate_limit_exceeded'}}\n",
      "\n",
      "🔍 Processing row 1473 | Ticker: WYNN, Year: 2025\n",
      "🔹 1 chunk(s) generated\n",
      "🧠 Invoking LLM on chunk 1/1...\n",
      "❌ Error at row 1473 (WYNN): Error code: 429 - {'error': {'message': 'Rate limit reached for model `llama3-70b-8192` in organization `org_01jteba7n9ehjbkb6dypw1vck0` service tier `on_demand` on tokens per day (TPD): Limit 500000, Used 500043, Requested 1145. Please try again in 3m25.457s. Need more tokens? Upgrade to Dev Tier today at https://console.groq.com/settings/billing', 'type': 'tokens', 'code': 'rate_limit_exceeded'}}\n",
      "\n",
      "🔍 Processing row 1475 | Ticker: XHR, Year: 2025\n",
      "🔹 1 chunk(s) generated\n",
      "🧠 Invoking LLM on chunk 1/1...\n",
      "❌ Error at row 1475 (XHR): Error code: 429 - {'error': {'message': 'Rate limit reached for model `llama3-70b-8192` in organization `org_01jteba7n9ehjbkb6dypw1vck0` service tier `on_demand` on tokens per day (TPD): Limit 500000, Used 500043, Requested 1145. Please try again in 3m25.375s. Need more tokens? Upgrade to Dev Tier today at https://console.groq.com/settings/billing', 'type': 'tokens', 'code': 'rate_limit_exceeded'}}\n",
      "\n",
      "🔍 Processing row 1476 | Ticker: XNCR, Year: 2025\n",
      "🔹 1 chunk(s) generated\n",
      "🧠 Invoking LLM on chunk 1/1...\n"
     ]
    },
    {
     "name": "stderr",
     "output_type": "stream",
     "text": [
      " 99%|█████████▉| 960/970 [1:34:56<00:10,  1.00s/it]"
     ]
    },
    {
     "name": "stdout",
     "output_type": "stream",
     "text": [
      "❌ Error at row 1476 (XNCR): Error code: 429 - {'error': {'message': 'Rate limit reached for model `llama3-70b-8192` in organization `org_01jteba7n9ehjbkb6dypw1vck0` service tier `on_demand` on tokens per day (TPD): Limit 500000, Used 500043, Requested 1145. Please try again in 3m25.291s. Need more tokens? Upgrade to Dev Tier today at https://console.groq.com/settings/billing', 'type': 'tokens', 'code': 'rate_limit_exceeded'}}\n",
      "\n",
      "🔍 Processing row 1477 | Ticker: XOM, Year: 2025\n",
      "🔹 1 chunk(s) generated\n",
      "🧠 Invoking LLM on chunk 1/1...\n",
      "❌ Error at row 1477 (XOM): Error code: 429 - {'error': {'message': 'Rate limit reached for model `llama3-70b-8192` in organization `org_01jteba7n9ehjbkb6dypw1vck0` service tier `on_demand` on tokens per day (TPD): Limit 500000, Used 500042, Requested 1145. Please try again in 3m25.215s. Need more tokens? Upgrade to Dev Tier today at https://console.groq.com/settings/billing', 'type': 'tokens', 'code': 'rate_limit_exceeded'}}\n",
      "\n",
      "🔍 Processing row 1478 | Ticker: XPEL, Year: 2025\n",
      "🔹 1 chunk(s) generated\n",
      "🧠 Invoking LLM on chunk 1/1...\n",
      "❌ Error at row 1478 (XPEL): Error code: 429 - {'error': {'message': 'Rate limit reached for model `llama3-70b-8192` in organization `org_01jteba7n9ehjbkb6dypw1vck0` service tier `on_demand` on tokens per day (TPD): Limit 500000, Used 500042, Requested 1145. Please try again in 3m25.14s. Need more tokens? Upgrade to Dev Tier today at https://console.groq.com/settings/billing', 'type': 'tokens', 'code': 'rate_limit_exceeded'}}\n",
      "\n",
      "🔍 Processing row 1480 | Ticker: XRAY, Year: 2025\n",
      "🔹 1 chunk(s) generated\n",
      "🧠 Invoking LLM on chunk 1/1...\n"
     ]
    },
    {
     "name": "stderr",
     "output_type": "stream",
     "text": [
      " 99%|█████████▉| 962/970 [1:34:56<00:05,  1.43it/s]"
     ]
    },
    {
     "name": "stdout",
     "output_type": "stream",
     "text": [
      "❌ Error at row 1480 (XRAY): Error code: 429 - {'error': {'message': 'Rate limit reached for model `llama3-70b-8192` in organization `org_01jteba7n9ehjbkb6dypw1vck0` service tier `on_demand` on tokens per day (TPD): Limit 500000, Used 500041, Requested 1145. Please try again in 3m25.057999999s. Need more tokens? Upgrade to Dev Tier today at https://console.groq.com/settings/billing', 'type': 'tokens', 'code': 'rate_limit_exceeded'}}\n",
      "\n",
      "🔍 Processing row 1481 | Ticker: XRX, Year: 2025\n",
      "🔹 1 chunk(s) generated\n",
      "🧠 Invoking LLM on chunk 1/1...\n",
      "❌ Error at row 1481 (XRX): Error code: 429 - {'error': {'message': 'Rate limit reached for model `llama3-70b-8192` in organization `org_01jteba7n9ehjbkb6dypw1vck0` service tier `on_demand` on tokens per day (TPD): Limit 500000, Used 500041, Requested 1145. Please try again in 3m24.983999999s. Need more tokens? Upgrade to Dev Tier today at https://console.groq.com/settings/billing', 'type': 'tokens', 'code': 'rate_limit_exceeded'}}\n",
      "\n",
      "🔍 Processing row 1482 | Ticker: XYL, Year: 2025\n",
      "🔹 1 chunk(s) generated\n",
      "🧠 Invoking LLM on chunk 1/1...\n"
     ]
    },
    {
     "name": "stderr",
     "output_type": "stream",
     "text": [
      " 99%|█████████▉| 965/970 [1:34:57<00:02,  2.01it/s]"
     ]
    },
    {
     "name": "stdout",
     "output_type": "stream",
     "text": [
      "❌ Error at row 1482 (XYL): Error code: 429 - {'error': {'message': 'Rate limit reached for model `llama3-70b-8192` in organization `org_01jteba7n9ehjbkb6dypw1vck0` service tier `on_demand` on tokens per day (TPD): Limit 500000, Used 500037, Requested 1145. Please try again in 3m24.379s. Need more tokens? Upgrade to Dev Tier today at https://console.groq.com/settings/billing', 'type': 'tokens', 'code': 'rate_limit_exceeded'}}\n",
      "\n",
      "🔍 Processing row 1483 | Ticker: YELP, Year: 2025\n",
      "🔹 1 chunk(s) generated\n",
      "🧠 Invoking LLM on chunk 1/1...\n",
      "❌ Error at row 1483 (YELP): Error code: 429 - {'error': {'message': 'Rate limit reached for model `llama3-70b-8192` in organization `org_01jteba7n9ehjbkb6dypw1vck0` service tier `on_demand` on tokens per day (TPD): Limit 500000, Used 500037, Requested 1145. Please try again in 3m24.290999999s. Need more tokens? Upgrade to Dev Tier today at https://console.groq.com/settings/billing', 'type': 'tokens', 'code': 'rate_limit_exceeded'}}\n",
      "\n",
      "🔍 Processing row 1484 | Ticker: YETI, Year: 2025\n",
      "🔹 1 chunk(s) generated\n",
      "🧠 Invoking LLM on chunk 1/1...\n",
      "❌ Error at row 1484 (YETI): Error code: 429 - {'error': {'message': 'Rate limit reached for model `llama3-70b-8192` in organization `org_01jteba7n9ehjbkb6dypw1vck0` service tier `on_demand` on tokens per day (TPD): Limit 500000, Used 500036, Requested 1145. Please try again in 3m24.201s. Need more tokens? Upgrade to Dev Tier today at https://console.groq.com/settings/billing', 'type': 'tokens', 'code': 'rate_limit_exceeded'}}\n"
     ]
    },
    {
     "name": "stderr",
     "output_type": "stream",
     "text": [
      "100%|█████████▉| 967/970 [1:34:57<00:01,  2.83it/s]"
     ]
    },
    {
     "name": "stdout",
     "output_type": "stream",
     "text": [
      "\n",
      "🔍 Processing row 1485 | Ticker: YOU, Year: 2025\n",
      "🔹 1 chunk(s) generated\n",
      "🧠 Invoking LLM on chunk 1/1...\n",
      "❌ Error at row 1485 (YOU): Error code: 429 - {'error': {'message': 'Rate limit reached for model `llama3-70b-8192` in organization `org_01jteba7n9ehjbkb6dypw1vck0` service tier `on_demand` on tokens per day (TPD): Limit 500000, Used 500036, Requested 1145. Please try again in 3m24.103s. Need more tokens? Upgrade to Dev Tier today at https://console.groq.com/settings/billing', 'type': 'tokens', 'code': 'rate_limit_exceeded'}}\n",
      "\n",
      "🔍 Processing row 1487 | Ticker: ZBH, Year: 2025\n",
      "🔹 1 chunk(s) generated\n",
      "🧠 Invoking LLM on chunk 1/1...\n",
      "❌ Error at row 1487 (ZBH): Error code: 429 - {'error': {'message': 'Rate limit reached for model `llama3-70b-8192` in organization `org_01jteba7n9ehjbkb6dypw1vck0` service tier `on_demand` on tokens per day (TPD): Limit 500000, Used 500035, Requested 1145. Please try again in 3m24.022s. Need more tokens? Upgrade to Dev Tier today at https://console.groq.com/settings/billing', 'type': 'tokens', 'code': 'rate_limit_exceeded'}}\n",
      "\n",
      "🔍 Processing row 1490 | Ticker: ZION, Year: 2025\n",
      "🔹 1 chunk(s) generated\n",
      "🧠 Invoking LLM on chunk 1/1...\n"
     ]
    },
    {
     "name": "stderr",
     "output_type": "stream",
     "text": [
      "100%|█████████▉| 969/970 [1:34:57<00:00,  3.85it/s]"
     ]
    },
    {
     "name": "stdout",
     "output_type": "stream",
     "text": [
      "❌ Error at row 1490 (ZION): Error code: 429 - {'error': {'message': 'Rate limit reached for model `llama3-70b-8192` in organization `org_01jteba7n9ehjbkb6dypw1vck0` service tier `on_demand` on tokens per day (TPD): Limit 500000, Used 500035, Requested 1145. Please try again in 3m23.950999999s. Need more tokens? Upgrade to Dev Tier today at https://console.groq.com/settings/billing', 'type': 'tokens', 'code': 'rate_limit_exceeded'}}\n",
      "\n",
      "🔍 Processing row 1491 | Ticker: ZTS, Year: 2025\n",
      "🔹 1 chunk(s) generated\n",
      "🧠 Invoking LLM on chunk 1/1...\n",
      "❌ Error at row 1491 (ZTS): Error code: 429 - {'error': {'message': 'Rate limit reached for model `llama3-70b-8192` in organization `org_01jteba7n9ehjbkb6dypw1vck0` service tier `on_demand` on tokens per day (TPD): Limit 500000, Used 500034, Requested 1145. Please try again in 3m23.878s. Need more tokens? Upgrade to Dev Tier today at https://console.groq.com/settings/billing', 'type': 'tokens', 'code': 'rate_limit_exceeded'}}\n",
      "\n",
      "🔍 Processing row 1492 | Ticker: ZWS, Year: 2025\n",
      "🔹 1 chunk(s) generated\n",
      "🧠 Invoking LLM on chunk 1/1...\n"
     ]
    },
    {
     "name": "stderr",
     "output_type": "stream",
     "text": [
      "100%|██████████| 970/970 [1:34:57<00:00,  5.87s/it]"
     ]
    },
    {
     "name": "stdout",
     "output_type": "stream",
     "text": [
      "❌ Error at row 1492 (ZWS): Error code: 429 - {'error': {'message': 'Rate limit reached for model `llama3-70b-8192` in organization `org_01jteba7n9ehjbkb6dypw1vck0` service tier `on_demand` on tokens per day (TPD): Limit 500000, Used 500033, Requested 1145. Please try again in 3m23.648s. Need more tokens? Upgrade to Dev Tier today at https://console.groq.com/settings/billing', 'type': 'tokens', 'code': 'rate_limit_exceeded'}}\n"
     ]
    },
    {
     "name": "stderr",
     "output_type": "stream",
     "text": [
      "\n"
     ]
    }
   ],
   "source": [
    "#here we are filtering out rows and keeping values where either 1A or 7 or both items are present\n",
    "#to put togeher this logic, we use OR (|)\n",
    "\n",
    "df_filtered = df[\n",
    "    (df['item_1a_text'].notnull() & df['item_1a_text'].str.strip().ne(\"\")) |\n",
    "    (df['item_7_text'].notnull() & df['item_7_text'].str.strip().ne(\"\"))\n",
    "]\n",
    "\n",
    "print(f\"✅ Total rows with valid Item 1A or 7: {len(df_filtered)}\")\n",
    "\n",
    "#we now convert it into a subset\n",
    "df_subset = df_filtered\n",
    "\n",
    "\n",
    "#initializing our output\n",
    "outputs = []\n",
    "\n",
    "# we now loop through each value in our subset\n",
    "for idx, row in tqdm(df_subset.iterrows(), total=len(df_subset)):\n",
    "    try:\n",
    "        ticker = row.get(\"ticker\", \"N/A\")\n",
    "        year = row.get(\"year\", \"N/A\")\n",
    "        item_1a = (row.get(\"item_1a_text\") or \"\").strip()\n",
    "        item_7 = (row.get(\"item_7_text\") or \"\").strip()\n",
    "\n",
    "        #here we do a redundancy check and raise an error if we find any rows with both items missing\n",
    "        if not item_1a and not item_7:\n",
    "            raise ValueError(\"Both Item 1A and 7 are empty\")\n",
    "\n",
    "        print(f\"\\n🔍 Processing row {idx} | Ticker: {ticker}, Year: {year}\")\n",
    "\n",
    "        # here we use our chunks function that we defined above and join both items\n",
    "        chunks = chunk_text(item_1a, item_7)\n",
    "        print(f\"🔹 {len(chunks)} chunk(s) generated\")\n",
    "\n",
    "        responses = []\n",
    "\n",
    "        #now we feed our chunks to LLM and use the prompt we created above\n",
    "        for i, chunk in enumerate(chunks):\n",
    "            prompt = prompt_template.format(\n",
    "                narratives=narrative_list,\n",
    "                content=chunk\n",
    "            )\n",
    "\n",
    "            print(f\"🧠 Invoking LLM on chunk {i+1}/{len(chunks)}...\")\n",
    "            response = llm.predict(prompt)\n",
    "\n",
    "            #if we dont receive a response, we return an error\n",
    "            if not response.strip():\n",
    "                raise ValueError(\"LLM returned empty response\")\n",
    "\n",
    "            #we now parse the json we received from our response above and add errors below\n",
    "            try:\n",
    "                parsed = extract_json_from_response(response)\n",
    "            except json.JSONDecodeError:\n",
    "                print(f\"❌ JSON parsing failed for chunk {i+1}: {response}\")\n",
    "                raise\n",
    "            except ValueError as ve:\n",
    "                print(f\"❌ ValueError in chunk {i+1}: {ve}\")\n",
    "                raise\n",
    "\n",
    "            #if our response does not include both values in json, we raise an error indicating the LLM has provided incorrect response\n",
    "            if not all(k in parsed for k in (\"narrative_category\", \"risk_score\")):\n",
    "                raise ValueError(f\"Missing keys in parsed response: {parsed}\")\n",
    "\n",
    "            responses.append(parsed)\n",
    "\n",
    "        #due to limitations in API calls to our LLM, we use one chunk per row\n",
    "        r = responses[0]\n",
    "        outputs.append({\n",
    "            \"ticker\": ticker,\n",
    "            \"year\": year,\n",
    "            \"item1a\": item_1a,\n",
    "            \"item7\": item_7,\n",
    "            \"narrative\": r[\"narrative_category\"],\n",
    "            \"risk_score\": r[\"risk_score\"]\n",
    "        })\n",
    "\n",
    "        print(f\"✅ Completed row {idx} | Risk Score: {r['risk_score']}, Narrative: {r['narrative_category']}\")\n",
    "\n",
    "    except Exception as e:\n",
    "        print(f\"❌ Error at row {idx} ({row.get('ticker', 'N/A')}): {e}\")"
   ]
  },
  {
   "cell_type": "code",
   "execution_count": 11,
   "id": "05937ecf-c30d-4e9d-8bb0-2585e4b4be7b",
   "metadata": {},
   "outputs": [
    {
     "name": "stdout",
     "output_type": "stream",
     "text": [
      "✅ Saved results to risk_matrix.parquet\n"
     ]
    }
   ],
   "source": [
    "# ✅ Step 5: Save to risk_matrix.parquet\n",
    "df_output = pd.DataFrame(outputs)\n",
    "df_output.to_parquet(\"risk_matrix.parquet\", index=False)\n",
    "print(\"✅ Saved results to risk_matrix.parquet\")"
   ]
  },
  {
   "cell_type": "code",
   "execution_count": 23,
   "id": "e8d07548-d09f-477c-ab8f-8b90a93254c8",
   "metadata": {},
   "outputs": [
    {
     "data": {
      "text/plain": [
       "ticker        516\n",
       "year          516\n",
       "item1a        516\n",
       "item7         516\n",
       "narrative     516\n",
       "risk_score    516\n",
       "dtype: int64"
      ]
     },
     "execution_count": 23,
     "metadata": {},
     "output_type": "execute_result"
    }
   ],
   "source": [
    "df_output.count()"
   ]
  },
  {
   "cell_type": "code",
   "execution_count": null,
   "id": "7bd07932-b1cb-4ea1-8cec-5deb9e42a253",
   "metadata": {},
   "outputs": [],
   "source": [
    "# Our model stopped generating responses at row 606 as we ran out of tokens\n",
    "# Out of 606 rows passed to the model, we successfully generated outputs for 516 filings.\n",
    "# We also invoked the LLM on one combined chunk per row to reduce token usage and avoid multi-chunk overhead.\n",
    "# Some rows failed due to internal service errors from the Groq API\n",
    "# The final results were saved in 'risk_matrix.parquet', containing 516 rows of structured risk annotations.\n",
    "# We chose Parquet format because it is more efficient than CSV — it loads faster and consumes less disk space.\n",
    "# Due to financial constraints we used free API,\n",
    "# however, the drawbacks include limited tokens, which forced us to use one chunk per row, and also halted our generation mid-way\n",
    "# drawbacks of this could include inaccurate risk assignment, limited datasets\n",
    "# this lesson will be stored and used during future improvement strategies"
   ]
  }
 ],
 "metadata": {
  "kernelspec": {
   "display_name": "Python 3 (ipykernel)",
   "language": "python",
   "name": "python3"
  },
  "language_info": {
   "codemirror_mode": {
    "name": "ipython",
    "version": 3
   },
   "file_extension": ".py",
   "mimetype": "text/x-python",
   "name": "python",
   "nbconvert_exporter": "python",
   "pygments_lexer": "ipython3",
   "version": "3.12.7"
  }
 },
 "nbformat": 4,
 "nbformat_minor": 5
}
