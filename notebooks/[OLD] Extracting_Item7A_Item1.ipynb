{
 "cells": [
  {
   "cell_type": "code",
   "execution_count": 1,
   "id": "315da30b-58cf-453f-9ae0-5d2d24133383",
   "metadata": {},
   "outputs": [
    {
     "name": "stderr",
     "output_type": "stream",
     "text": [
      "100%|██████████| 1493/1493 [03:17<00:00,  7.55it/s]\n"
     ]
    },
    {
     "name": "stdout",
     "output_type": "stream",
     "text": [
      "✅ Extraction complete. Saved to 10K_extracted_sections.csv\n"
     ]
    }
   ],
   "source": [
    "import pandas as pd\n",
    "import re\n",
    "import os\n",
    "from tqdm import tqdm\n",
    "\n",
    "# Load selected file paths\n",
    "df = pd.read_csv(\"selected_10K_paths.csv\")\n",
    "\n",
    "# Helper: extract a section from text using regex\n",
    "def extract_section(text, item_start, item_end_candidates):\n",
    "    try:\n",
    "        # Normalize text to uppercase for matching\n",
    "        text_upper = text.upper()\n",
    "\n",
    "        start_match = re.search(item_start, text_upper)\n",
    "        if not start_match:\n",
    "            return \"\"\n",
    "\n",
    "        start_index = start_match.end()\n",
    "\n",
    "        # Try to find the nearest end match\n",
    "        end_index = len(text)\n",
    "        for item_end in item_end_candidates:\n",
    "            end_match = re.search(item_end, text_upper[start_index:])\n",
    "            if end_match:\n",
    "                end_index = start_index + end_match.start()\n",
    "                break\n",
    "\n",
    "        return text[start_index:end_index].strip()\n",
    "\n",
    "    except Exception as e:\n",
    "        return \"\"\n",
    "\n",
    "# Storage\n",
    "records = []\n",
    "\n",
    "# Loop over each filing\n",
    "for _, row in tqdm(df.iterrows(), total=len(df)):\n",
    "    ticker = row['ticker']\n",
    "    year = row['year']\n",
    "    file_path = row['file_path']\n",
    "\n",
    "    if not os.path.exists(file_path):\n",
    "        continue\n",
    "\n",
    "    try:\n",
    "        with open(file_path, 'r', encoding='utf-8', errors='ignore') as f:\n",
    "            full_text = f.read()\n",
    "\n",
    "        # Extract Item 1A\n",
    "        item_1a_text = extract_section(\n",
    "            full_text,\n",
    "            r\"ITEM\\s+1A[\\.\\: ]+RISK\\s+FACTORS\",\n",
    "            [r\"ITEM\\s+1B\", r\"ITEM\\s+2\", r\"ITEM\\s+3\"]\n",
    "        )\n",
    "\n",
    "        # Extract Item 7\n",
    "        item_7_text = extract_section(\n",
    "            full_text,\n",
    "            r\"ITEM\\s+7[\\.\\: ]+MANAGEMENT['’]S\\s+DISCUSSION.*?\",\n",
    "            [r\"ITEM\\s+7A\", r\"ITEM\\s+8\", r\"ITEM\\s+9\"]\n",
    "        )\n",
    "\n",
    "        records.append({\n",
    "            \"ticker\": ticker,\n",
    "            \"year\": year,\n",
    "            \"file_path\": file_path,\n",
    "            \"item_1a_text\": item_1a_text,\n",
    "            \"item_7_text\": item_7_text\n",
    "        })\n",
    "\n",
    "    except Exception as e:\n",
    "        print(f\"Error reading {file_path}: {e}\")\n",
    "\n",
    "# Save to CSV\n",
    "out_df = pd.DataFrame(records)\n",
    "out_df.to_csv(\"10K_extracted_sections.csv\", index=False)\n",
    "print(\"✅ Extraction complete. Saved to 10K_extracted_sections.csv\")"
   ]
  }
 ],
 "metadata": {
  "kernelspec": {
   "display_name": "Python 3 (ipykernel)",
   "language": "python",
   "name": "python3"
  },
  "language_info": {
   "codemirror_mode": {
    "name": "ipython",
    "version": 3
   },
   "file_extension": ".py",
   "mimetype": "text/x-python",
   "name": "python",
   "nbconvert_exporter": "python",
   "pygments_lexer": "ipython3",
   "version": "3.12.7"
  }
 },
 "nbformat": 4,
 "nbformat_minor": 5
}
