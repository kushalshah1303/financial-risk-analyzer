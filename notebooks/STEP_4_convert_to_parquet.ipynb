{
 "cells": [
  {
   "cell_type": "code",
   "execution_count": 1,
   "id": "367cf40b-3425-42fa-aa68-1747e42400fd",
   "metadata": {},
   "outputs": [
    {
     "name": "stdout",
     "output_type": "stream",
     "text": [
      "✅ Converted to Parquet.\n"
     ]
    }
   ],
   "source": [
    "import pandas as pd\n",
    "\n",
    "df = pd.read_csv(\"10K_extracted_sections.csv\")\n",
    "df.to_parquet(\"10K_extracted_sections.parquet\", index=False)\n",
    "print(\"✅ Converted to Parquet.\")\n"
   ]
  },
  {
   "cell_type": "code",
   "execution_count": 1,
   "id": "f9907042-5a24-43ae-87fd-c3c09c0d2f53",
   "metadata": {},
   "outputs": [],
   "source": [
    "#this file is pretty straight forward, we are converting our results (csv file) to parquet\n",
    "#parquet compresses the file without losing data\n",
    "#since our output was very high, we now have smaller file size, improving loading and processing time.\n",
    "\n",
    "#drawbacks of using csv - when we used csv, our computers started crashing due to the high processing power for the file"
   ]
  },
  {
   "cell_type": "code",
   "execution_count": null,
   "id": "1779f6fd-3321-4c2f-b9fa-4f440adfffac",
   "metadata": {},
   "outputs": [],
   "source": []
  }
 ],
 "metadata": {
  "kernelspec": {
   "display_name": "Python 3 (ipykernel)",
   "language": "python",
   "name": "python3"
  },
  "language_info": {
   "codemirror_mode": {
    "name": "ipython",
    "version": 3
   },
   "file_extension": ".py",
   "mimetype": "text/x-python",
   "name": "python",
   "nbconvert_exporter": "python",
   "pygments_lexer": "ipython3",
   "version": "3.12.7"
  }
 },
 "nbformat": 4,
 "nbformat_minor": 5
}
