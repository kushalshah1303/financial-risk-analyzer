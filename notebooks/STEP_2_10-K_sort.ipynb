{
 "cells": [
  {
   "cell_type": "code",
   "execution_count": 2,
   "id": "a84f961f-a540-4da8-b275-aee5f36021fe",
   "metadata": {},
   "outputs": [
    {
     "name": "stdout",
     "output_type": "stream",
     "text": [
      "Saved selected 10-K file paths to selected_10K_paths.csv\n"
     ]
    }
   ],
   "source": [
    "# Required libraries for file system operations, regular expressions, and data manipulation\n",
    "import os\n",
    "import re\n",
    "import pandas as pd\n",
    "\n",
    "# location where the 10-Ks are stored\n",
    "ROOT_DIR = r\"C:\\Users\\kusha\\SEP769 - Deep Learning Project\\sec-edgar-filings\"\n",
    "year_pattern = re.compile(r'-(\\d{2})-')  # extracting years since each ticker has multiple 10-Ks\n",
    "\n",
    "# Initializing our list to collect details for the most recent 10-K filing for each ticker\n",
    "selected_records = []\n",
    "\n",
    "# Iterating over each ticker folder inside the SEC filings directory\n",
    "for ticker in os.listdir(ROOT_DIR):\n",
    "    ticker_dir = os.path.join(ROOT_DIR, ticker, \"10-K\")\n",
    "    \n",
    "    # Skipping tickers that don’t have any 10-K filings\n",
    "    if not os.path.exists(ticker_dir):\n",
    "        continue\n",
    "\n",
    "    # Getting the list of available 10-K folders for every ticker\n",
    "    filings = os.listdir(ticker_dir)\n",
    "    filing_years = []\n",
    "\n",
    "    # extracting filing year from each folder using regex\n",
    "    for f in filings:\n",
    "        match = year_pattern.search(f)\n",
    "        if match:\n",
    "            year = int(match.group(1))\n",
    "\n",
    "            # Normalizing the year to 4-digit format: assuming years <50 are 2000s, others are 1900s (since our current format is YY)\n",
    "            full_year = 2000 + year if year < 50 else 1900 + year\n",
    "            filing_years.append((full_year, f))\n",
    "\n",
    "    # Sorting the filings by year (most recent first)\n",
    "    filing_years.sort(reverse=True)\n",
    "    \n",
    "    # Selecting only the most recent filing (top entry)\n",
    "    selected = filing_years[:1]\n",
    "\n",
    "    # Construct the full file path for the selected 10-K's 'full-submission.txt' file\n",
    "    for year, folder in selected:\n",
    "        full_path = os.path.join(ticker_dir, folder, \"full-submission.txt\")\n",
    "        selected_records.append({\n",
    "            \"ticker\": ticker,\n",
    "            \"year\": year,\n",
    "            \"accession_folder\": folder,\n",
    "            \"file_path\": full_path\n",
    "        })\n",
    "\n",
    "# Convert the collected records to a pandas DataFrame for easier downstream processing\n",
    "df = pd.DataFrame(selected_records)\n",
    "\n",
    "# Save the resulting DataFrame to a CSV file for later use (e.g., during extraction or model input)\n",
    "df.to_csv(\"selected_10K_paths.csv\", index=False)\n",
    "print(\"Saved selected 10-K file paths to selected_10K_paths.csv\")"
   ]
  },
  {
   "cell_type": "code",
   "execution_count": null,
   "id": "01341261-7d82-47d1-a427-2726bc3bc422",
   "metadata": {},
   "outputs": [],
   "source": [
    "#summary\n",
    "#this file gathers the paths for each ticker and stores it in a csv file\n",
    "#the reason for running this file is to get 1 10-K per company\n",
    "#we also ensure that we are getting the latest filing, hence, adding code to select the top result\n",
    "#we will now use this csv file to extract our 10-K data"
   ]
  }
 ],
 "metadata": {
  "kernelspec": {
   "display_name": "Python 3 (ipykernel)",
   "language": "python",
   "name": "python3"
  },
  "language_info": {
   "codemirror_mode": {
    "name": "ipython",
    "version": 3
   },
   "file_extension": ".py",
   "mimetype": "text/x-python",
   "name": "python",
   "nbconvert_exporter": "python",
   "pygments_lexer": "ipython3",
   "version": "3.12.7"
  }
 },
 "nbformat": 4,
 "nbformat_minor": 5
}
