{
 "cells": [
  {
   "cell_type": "code",
   "execution_count": 1,
   "id": "2eec57c3-311f-4059-a935-c19604c8cb88",
   "metadata": {
    "scrolled": true
   },
   "outputs": [
    {
     "name": "stdout",
     "output_type": "stream",
     "text": [
      "Collecting sec-edgar-downloaderNote: you may need to restart the kernel to use updated packages.\n",
      "\n",
      "  Downloading sec_edgar_downloader-5.0.3-py3-none-any.whl.metadata (11 kB)\n",
      "Requirement already satisfied: requests in c:\\users\\kusha\\anaconda3\\lib\\site-packages (from sec-edgar-downloader) (2.32.2)\n",
      "Collecting pyrate-limiter>=3.6.0 (from sec-edgar-downloader)\n",
      "  Downloading pyrate_limiter-3.7.1-py3-none-any.whl.metadata (25 kB)\n",
      "Requirement already satisfied: charset-normalizer<4,>=2 in c:\\users\\kusha\\anaconda3\\lib\\site-packages (from requests->sec-edgar-downloader) (2.0.4)\n",
      "Requirement already satisfied: idna<4,>=2.5 in c:\\users\\kusha\\anaconda3\\lib\\site-packages (from requests->sec-edgar-downloader) (3.7)\n",
      "Requirement already satisfied: urllib3<3,>=1.21.1 in c:\\users\\kusha\\anaconda3\\lib\\site-packages (from requests->sec-edgar-downloader) (2.2.2)\n",
      "Requirement already satisfied: certifi>=2017.4.17 in c:\\users\\kusha\\anaconda3\\lib\\site-packages (from requests->sec-edgar-downloader) (2025.1.31)\n",
      "Downloading sec_edgar_downloader-5.0.3-py3-none-any.whl (14 kB)\n",
      "Downloading pyrate_limiter-3.7.1-py3-none-any.whl (28 kB)\n",
      "Installing collected packages: pyrate-limiter, sec-edgar-downloader\n",
      "Successfully installed pyrate-limiter-3.7.1 sec-edgar-downloader-5.0.3\n"
     ]
    }
   ],
   "source": [
    "#installing sec edgar using pip - we will collect our 10-Ks from here\n",
    "pip install sec-edgar-downloader"
   ]
  },
  {
   "cell_type": "code",
   "execution_count": 7,
   "id": "e3b6dd03-2b3b-4c5f-87fe-1a106ea84826",
   "metadata": {},
   "outputs": [
    {
     "name": "stderr",
     "output_type": "stream",
     "text": [
      "C:\\Users\\kusha\\AppData\\Local\\Temp\\ipykernel_42308\\1910406881.py:15: FutureWarning: Passing literal html to 'read_html' is deprecated and will be removed in a future version. To read from a literal string, wrap it in a 'StringIO' object.\n",
      "  df = pd.read_html(str(table))[0]\n",
      "C:\\Users\\kusha\\AppData\\Local\\Temp\\ipykernel_42308\\1910406881.py:15: FutureWarning: Passing literal html to 'read_html' is deprecated and will be removed in a future version. To read from a literal string, wrap it in a 'StringIO' object.\n",
      "  df = pd.read_html(str(table))[0]\n",
      "C:\\Users\\kusha\\AppData\\Local\\Temp\\ipykernel_42308\\1910406881.py:15: FutureWarning: Passing literal html to 'read_html' is deprecated and will be removed in a future version. To read from a literal string, wrap it in a 'StringIO' object.\n",
      "  df = pd.read_html(str(table))[0]\n"
     ]
    },
    {
     "name": "stdout",
     "output_type": "stream",
     "text": [
      "Total unique tickers: 1505\n"
     ]
    },
    {
     "name": "stderr",
     "output_type": "stream",
     "text": [
      " 14%|█▍        | 212/1505 [46:16<3:57:55, 11.04s/it] "
     ]
    },
    {
     "name": "stdout",
     "output_type": "stream",
     "text": [
      "❌ BSIG error: Ticker 'BSIG' is invalid and cannot be mapped to a CIK. Please enter a valid ticker or CIK.\n"
     ]
    },
    {
     "name": "stderr",
     "output_type": "stream",
     "text": [
      " 24%|██▎       | 354/1505 [1:13:27<3:47:33, 11.86s/it]"
     ]
    },
    {
     "name": "stdout",
     "output_type": "stream",
     "text": [
      "❌ CSWI error: Ticker 'CSWI' is invalid and cannot be mapped to a CIK. Please enter a valid ticker or CIK.\n"
     ]
    },
    {
     "name": "stderr",
     "output_type": "stream",
     "text": [
      " 28%|██▊       | 424/1505 [1:26:08<3:32:52, 11.82s/it]"
     ]
    },
    {
     "name": "stdout",
     "output_type": "stream",
     "text": [
      "❌ DRQ error: Ticker 'DRQ' is invalid and cannot be mapped to a CIK. Please enter a valid ticker or CIK.\n"
     ]
    },
    {
     "name": "stderr",
     "output_type": "stream",
     "text": [
      " 49%|████▉     | 739/1505 [2:30:10<2:07:25,  9.98s/it]"
     ]
    },
    {
     "name": "stdout",
     "output_type": "stream",
     "text": [
      "❌ JBT error: Ticker 'JBT' is invalid and cannot be mapped to a CIK. Please enter a valid ticker or CIK.\n"
     ]
    },
    {
     "name": "stderr",
     "output_type": "stream",
     "text": [
      " 80%|████████  | 1205/1505 [4:01:45<1:04:56, 12.99s/it]"
     ]
    },
    {
     "name": "stdout",
     "output_type": "stream",
     "text": [
      "❌ SGH error: Ticker 'SGH' is invalid and cannot be mapped to a CIK. Please enter a valid ticker or CIK.\n"
     ]
    },
    {
     "name": "stderr",
     "output_type": "stream",
     "text": [
      " 81%|████████  | 1218/1505 [4:04:56<1:22:04, 17.16s/it]"
     ]
    },
    {
     "name": "stdout",
     "output_type": "stream",
     "text": [
      "❌ SJW error: Ticker 'SJW' is invalid and cannot be mapped to a CIK. Please enter a valid ticker or CIK.\n"
     ]
    },
    {
     "name": "stderr",
     "output_type": "stream",
     "text": [
      " 91%|█████████ | 1363/1505 [4:33:49<25:28, 10.76s/it]  "
     ]
    },
    {
     "name": "stdout",
     "output_type": "stream",
     "text": [
      "❌ UCBI error: Ticker 'UCBI' is invalid and cannot be mapped to a CIK. Please enter a valid ticker or CIK.\n"
     ]
    },
    {
     "name": "stderr",
     "output_type": "stream",
     "text": [
      "100%|██████████| 1505/1505 [5:01:45<00:00, 12.03s/it]\n"
     ]
    }
   ],
   "source": [
    "# installing necessary libraries, including downloader from sec edgar, allowing us to store our 10-Ks on our local computer.\n",
    "#using beautiful soup to parse HTML\n",
    "\n",
    "import os\n",
    "import time\n",
    "import pandas as pd\n",
    "import requests\n",
    "from bs4 import BeautifulSoup\n",
    "from sec_edgar_downloader import Downloader\n",
    "from tqdm import tqdm\n",
    "\n",
    "# Creating a function that takes in a Wikipedia URL and extracts the stock tickers listed in the table.\n",
    "# S&P pages use a class=\"wikitable\", so we find the table and then convert it to a DataFrame.\n",
    "# We also replace '.' with '-' because EDGAR uses dash format.\n",
    "\n",
    "def fetch_sp_tickers(wiki_url):\n",
    "    resp = requests.get(wiki_url)\n",
    "    soup = BeautifulSoup(resp.text, \"html.parser\")\n",
    "    table = soup.find('table', {'class': 'wikitable'})\n",
    "    df = pd.read_html(str(table))[0]\n",
    "    return df['Symbol'].str.replace('.', '-', regex=False).tolist()\n",
    "\n",
    "# obtaining the list of 1500 S&P companies from wikipedia\n",
    "wiki_urls = [\n",
    "    \"https://en.wikipedia.org/wiki/List_of_S&P_500_companies\",\n",
    "    \"https://en.wikipedia.org/wiki/List_of_S&P_400_companies\",\n",
    "    \"https://en.wikipedia.org/wiki/List_of_S&P_600_companies\"\n",
    "]\n",
    "\n",
    "#initializing empty list to store the tickers\n",
    "tickers = []\n",
    "\n",
    "#running a loop to gather all our tickers\n",
    "for url in wiki_urls:\n",
    "    tickers += fetch_sp_tickers(url)\n",
    "tickers = sorted(set(tickers))\n",
    "print(f\"Total unique tickers: {len(tickers)}\")  #expecting around 1500 based on our URLs\n",
    "\n",
    "#Downloading the 10-Ks by feeding our tickers\n",
    "#using our email since sec-edgar requires one\n",
    "\n",
    "dl = Downloader(\"sec-edgar-filings\", \"shahk83@mcmaster.ca\")\n",
    "for ticker in tqdm(tickers):\n",
    "    out_dir = os.path.join(\"sec-edgar-filings\", ticker, \"10-K\")\n",
    "    if os.path.exists(out_dir) and os.listdir(out_dir):\n",
    "        continue  # skip if already downloaded\n",
    "    try:\n",
    "        dl.get(\"10-K\", ticker)\n",
    "    except Exception as e:\n",
    "        print(f\"❌ {ticker} error: {e}\")\n",
    "    time.sleep(0.5)  # using this since there is a rate limit for sec edgar (10/s)\n"
   ]
  },
  {
   "cell_type": "code",
   "execution_count": null,
   "id": "9d1e99a9-a856-4e48-a516-ca4f2fb45f96",
   "metadata": {},
   "outputs": [],
   "source": [
    "# our output shows that we gathered a total of 1505 tickers from sec-edgar using our list\n",
    "# some of tickers gave us an error and could not be obtained.\n",
    "#running this code took us 5 hours"
   ]
  }
 ],
 "metadata": {
  "kernelspec": {
   "display_name": "Python 3 (ipykernel)",
   "language": "python",
   "name": "python3"
  },
  "language_info": {
   "codemirror_mode": {
    "name": "ipython",
    "version": 3
   },
   "file_extension": ".py",
   "mimetype": "text/x-python",
   "name": "python",
   "nbconvert_exporter": "python",
   "pygments_lexer": "ipython3",
   "version": "3.12.7"
  }
 },
 "nbformat": 4,
 "nbformat_minor": 5
}
